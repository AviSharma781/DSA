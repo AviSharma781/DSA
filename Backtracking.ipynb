{
 "cells": [
  {
   "cell_type": "code",
   "execution_count": 1,
   "id": "74bb6852",
   "metadata": {},
   "outputs": [],
   "source": [
    "import pandas as pd\n",
    "import numpy as np"
   ]
  },
  {
   "cell_type": "markdown",
   "id": "2429b75f",
   "metadata": {},
   "source": [
    "#### "
   ]
  },
  {
   "cell_type": "markdown",
   "id": "4ca10546",
   "metadata": {},
   "source": [
    "#### "
   ]
  },
  {
   "cell_type": "markdown",
   "id": "ca83dd9f",
   "metadata": {},
   "source": [
    "#### "
   ]
  },
  {
   "cell_type": "markdown",
   "id": "8f79f651",
   "metadata": {},
   "source": [
    "#### "
   ]
  },
  {
   "cell_type": "markdown",
   "id": "fda7f619",
   "metadata": {},
   "source": [
    "Backtracking is an optimization that involves abandoning a \"path\" once it is determined that the path cannot lead to a solution. The idea is similar to binary search trees - if you're looking for a value x, and the root node has a value greater than x, then you know you can ignore the entire right subtree. Because the number of nodes in each subtree is exponential relative to the depth, backtracking can save huge amounts of computation. "
   ]
  },
  {
   "cell_type": "markdown",
   "id": "7ca06bb9",
   "metadata": {},
   "source": [
    "Abandoning a path is also sometimes called \"pruning\".\n",
    "To summarize the difference between exhaustive search and backtracking:\n",
    "In an exhaustive search, we generate all possibilities and then check them for solutions. In backtracking, we prune paths that cannot lead to a solution, generating far fewer possibilities.\n"
   ]
  },
  {
   "cell_type": "markdown",
   "id": "baa64229",
   "metadata": {},
   "source": [
    "Backtracking is a great tool whenever a problem wants you to find all of something, or there isn't a clear way to find a solution without checking all logical possibilities. On LeetCode, a strong hint that you should use backtracking is if the input constraints are very small (n <= ~15), as backtracking algorithms usually have exponential time complexities.\n",
    "\n",
    "Unfortunately in an interview, you will not usually be told the constraints, and even if you try to clarify with the interviewer, they will give a vague answer or just tell you to do your best. This is why it's important to build a good intuition for recognizing when to use a certain algorithm."
   ]
  },
  {
   "cell_type": "markdown",
   "id": "2cffdb23",
   "metadata": {},
   "source": [
    "Backtracking is almost always implemented with recursion - it really doesn't make sense to do it iteratively. In most backtracking problems, you will be building something, either directly (like modifying an array) or indirectly (using variables to represent some state). Here is some pseudocode for a general backtracking format:"
   ]
  },
  {
   "cell_type": "code",
   "execution_count": 5,
   "id": "5673d507",
   "metadata": {},
   "outputs": [],
   "source": [
    "#  let curr represent the thing you are building\n",
    "#  it could be an array or a combination of variables\n",
    "\n",
    "# function backtrack(curr) {\n",
    "#     if (base case) {\n",
    "#         Increment or add to answer\n",
    "#         return\n",
    "#     }\n",
    "\n",
    "#     for (iterate over input) {\n",
    "#         Modify curr\n",
    "#         backtrack(curr)\n",
    "#         Undo whatever modification was done to curr\n",
    "#     }\n",
    "# }"
   ]
  },
  {
   "cell_type": "markdown",
   "id": "2c216a29",
   "metadata": {},
   "source": [
    "#### Generations"
   ]
  },
  {
   "cell_type": "code",
   "execution_count": 7,
   "id": "97e1c606",
   "metadata": {},
   "outputs": [],
   "source": [
    "# One common type of problem that can be solved with backtracking are problems that ask \n",
    "# you to generate all of something."
   ]
  },
  {
   "cell_type": "markdown",
   "id": "df971444",
   "metadata": {},
   "source": [
    "##### Permutations"
   ]
  },
  {
   "cell_type": "code",
   "execution_count": null,
   "id": "d757708f",
   "metadata": {},
   "outputs": [],
   "source": [
    "# Example 1: 46. Permutations\n",
    "# Given an array nums of distinct integers, return all the possible permutations in any order.\n",
    "# For example, given nums = [1, 2, 3], return [[1,2,3],[1,3,2],[2,1,3],[2,3,1],[3,1,2],[3,2,1]].\n"
   ]
  },
  {
   "cell_type": "code",
   "execution_count": 24,
   "id": "2756069d",
   "metadata": {},
   "outputs": [
    {
     "data": {
      "text/plain": [
       "([(1, 2, 3), (1, 3, 2), (2, 1, 3), (2, 3, 1), (3, 1, 2), (3, 2, 1)], 6)"
      ]
     },
     "execution_count": 24,
     "metadata": {},
     "output_type": "execute_result"
    }
   ],
   "source": [
    "from itertools import permutations\n",
    "list(itertools.permutations([1,2,3])), len(list(itertools.permutations([1,2,3])))"
   ]
  },
  {
   "cell_type": "markdown",
   "id": "a8e08454",
   "metadata": {},
   "source": [
    "To build all permutations, we need all elements at the first index, and for each of those elements, we need all other elements at the second index, and so on. Therefore, we should loop over the entire input on each call to backtrack. Because a permutation cannot have duplicates, we should check if a number is already in curr before adding it to curr. Each call to backtrack is like a visit to a node in the tree of possibilities."
   ]
  },
  {
   "cell_type": "code",
   "execution_count": 74,
   "id": "d7ed69bd",
   "metadata": {},
   "outputs": [],
   "source": [
    "nums = [1, 2, 3]\n",
    "class Solution:\n",
    "    \n",
    "    def permute(self, nums):\n",
    "        \n",
    "        def backtrack(curr):\n",
    "            if len(curr) == len(nums):\n",
    "                ans.append(curr[:])\n",
    "                return\n",
    "        \n",
    "            for num in nums:\n",
    "\n",
    "                if num not in curr:\n",
    "                    curr.append(num)\n",
    "                    backtrack(curr)\n",
    "                    curr.pop()\n",
    "#                     print(curr, num)\n",
    "\n",
    "        \n",
    "    \n",
    "            \n",
    "        ans = []\n",
    "        backtrack([])\n",
    "        return ans"
   ]
  },
  {
   "cell_type": "code",
   "execution_count": 75,
   "id": "c866e299",
   "metadata": {},
   "outputs": [
    {
     "data": {
      "text/plain": [
       "[[1, 2, 3], [1, 3, 2], [2, 1, 3], [2, 3, 1], [3, 1, 2], [3, 2, 1]]"
      ]
     },
     "execution_count": 75,
     "metadata": {},
     "output_type": "execute_result"
    }
   ],
   "source": [
    "Solution().permute(nums)"
   ]
  },
  {
   "cell_type": "code",
   "execution_count": 65,
   "id": "1c9cddbe",
   "metadata": {},
   "outputs": [],
   "source": [
    "# [1],call([1]),[1,2], call([1,2]), [1,2,3], call([1,2,3]), return([1,2,3]), goes to call([1,2]), curr becomes[1], \n",
    "# call([1,3]) as num is now 3 in this call, return([1,3,2]), goes to call([1]), [], call([2]),\n",
    "# [2,1], call([2,1]), [2,1,3], call([2,1,3]), return([2,1,3]), goes to call([2,1]), curr becomes [2], call([2,3]) as num is now 2 but \n",
    "# 2 is already there so num becomes 3 and call([2,3]), [2,3,1], return([2,3,1]), goes to call([2]), [], call([3]) and so on.\n",
    "\n"
   ]
  },
  {
   "cell_type": "markdown",
   "id": "41d9eabd",
   "metadata": {},
   "source": [
    "##### Subset"
   ]
  },
  {
   "cell_type": "code",
   "execution_count": 62,
   "id": "1006e54a",
   "metadata": {},
   "outputs": [],
   "source": [
    "# Example 2: 78. Subsets\n",
    "# Given an integer array nums of unique elements, return all subsets in any order without duplicates.\n",
    "# For example, given nums = [1, 2, 3], return [[],[1],[2],[1,2],[3],[1,3],[2,3],[1,2,3]]\n",
    "\n",
    "# list(itertools.product([1, 2, 3]))\n",
    "\n",
    "\n",
    "# In the solution:\n",
    "# This is a very common method of avoiding duplicates in backtracking problems - \n",
    "# having an integer argument that represents a starting point for iteration at each function call."
   ]
  },
  {
   "cell_type": "code",
   "execution_count": null,
   "id": "7401b421",
   "metadata": {},
   "outputs": [],
   "source": [
    "#Think about the base case here: "
   ]
  },
  {
   "cell_type": "code",
   "execution_count": 82,
   "id": "4f34fe9f",
   "metadata": {},
   "outputs": [],
   "source": [
    "nums = [1, 2, 3]\n",
    "\n",
    "class Solution:\n",
    "    def subsets(self, nums) :\n",
    "        def backtrack(curr, i):\n",
    "            if i > len(nums):\n",
    "                return\n",
    "\n",
    "            ans.append(curr[:])\n",
    "            for j in range(i, len(nums)):\n",
    "                curr.append(nums[j])\n",
    "                backtrack(curr, j + 1)\n",
    "                curr.pop()\n",
    "\n",
    "        ans = []\n",
    "        backtrack([], 0)\n",
    "        return ans"
   ]
  },
  {
   "cell_type": "code",
   "execution_count": 83,
   "id": "7126c921",
   "metadata": {},
   "outputs": [
    {
     "data": {
      "text/plain": [
       "[[], [1], [1, 2], [1, 2, 3], [1, 3], [2], [2, 3], [3]]"
      ]
     },
     "execution_count": 83,
     "metadata": {},
     "output_type": "execute_result"
    }
   ],
   "source": [
    "Solution().subsets(nums)"
   ]
  },
  {
   "cell_type": "code",
   "execution_count": null,
   "id": "33e724a7",
   "metadata": {},
   "outputs": [],
   "source": [
    "ans = [[]],[1], call([1],1) , [[],[1]],[1,2], call([1,2],2), [[],[1],[1,2]],[1,2,3],call([1,2,3], 3), "
   ]
  },
  {
   "cell_type": "code",
   "execution_count": null,
   "id": "55e0687f",
   "metadata": {},
   "outputs": [],
   "source": []
  },
  {
   "cell_type": "code",
   "execution_count": null,
   "id": "2cce699b",
   "metadata": {},
   "outputs": [],
   "source": []
  },
  {
   "cell_type": "markdown",
   "id": "459cd164",
   "metadata": {},
   "source": [
    "##### Combinations"
   ]
  },
  {
   "cell_type": "code",
   "execution_count": 84,
   "id": "264e652a",
   "metadata": {},
   "outputs": [],
   "source": [
    "# Example 3: 77. Combinations\n",
    "# Given two integers n and k, return all combinations of k numbers out of the range [1, n] in any order.\n",
    "# For example, given n = 4, k = 2, return [[2,4],[3,4],[2,3],[1,2],[1,3],[1,4]].\n"
   ]
  },
  {
   "cell_type": "code",
   "execution_count": null,
   "id": "e24e5e25",
   "metadata": {},
   "outputs": [],
   "source": []
  }
 ],
 "metadata": {
  "kernelspec": {
   "display_name": "Python 3 (ipykernel)",
   "language": "python",
   "name": "python3"
  },
  "language_info": {
   "codemirror_mode": {
    "name": "ipython",
    "version": 3
   },
   "file_extension": ".py",
   "mimetype": "text/x-python",
   "name": "python",
   "nbconvert_exporter": "python",
   "pygments_lexer": "ipython3",
   "version": "3.9.12"
  },
  "toc": {
   "base_numbering": 1,
   "nav_menu": {},
   "number_sections": true,
   "sideBar": true,
   "skip_h1_title": false,
   "title_cell": "Table of Contents",
   "title_sidebar": "Contents",
   "toc_cell": false,
   "toc_position": {},
   "toc_section_display": true,
   "toc_window_display": false
  },
  "varInspector": {
   "cols": {
    "lenName": 16,
    "lenType": 16,
    "lenVar": 40
   },
   "kernels_config": {
    "python": {
     "delete_cmd_postfix": "",
     "delete_cmd_prefix": "del ",
     "library": "var_list.py",
     "varRefreshCmd": "print(var_dic_list())"
    },
    "r": {
     "delete_cmd_postfix": ") ",
     "delete_cmd_prefix": "rm(",
     "library": "var_list.r",
     "varRefreshCmd": "cat(var_dic_list()) "
    }
   },
   "types_to_exclude": [
    "module",
    "function",
    "builtin_function_or_method",
    "instance",
    "_Feature"
   ],
   "window_display": false
  }
 },
 "nbformat": 4,
 "nbformat_minor": 5
}
