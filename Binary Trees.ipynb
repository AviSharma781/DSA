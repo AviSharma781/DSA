{
 "cells": [
  {
   "cell_type": "code",
   "execution_count": 1,
   "id": "6246f9cd",
   "metadata": {},
   "outputs": [],
   "source": [
    "import pandas as pd\n",
    "import numpy as np"
   ]
  },
  {
   "cell_type": "markdown",
   "id": "818f7b13",
   "metadata": {},
   "source": [
    "#### Intro"
   ]
  },
  {
   "cell_type": "markdown",
   "id": "ce4db3b2",
   "metadata": {},
   "source": [
    "Even though a tree is a type of graph, trees and graphs are considered different topics when it comes to algorithm problems. Because graphs are the more advanced/difficult topic, we will start by looking at trees.\n",
    "\n",
    "The nodes of a graph are also called vertices, and the pointers that connect them are called edges. In graphical representations, nodes/vertices are usually represented with circles and the edges are lines/arrows that connect the circles (we saw this in the linked lists chapter)."
   ]
  },
  {
   "cell_type": "markdown",
   "id": "756ecf7a",
   "metadata": {},
   "source": [
    "In a linked list, a node's pointer pointed to the next node. In a tree, a node has pointers to its children. If a node A is pointing to a node B, then B is a child of A, and A is the parent of B. The root is the only node that has no parent. Note that in a tree, a node cannot have more than one parent.\n",
    "\n",
    "So what makes a binary tree \"binary\"? In a binary tree, all nodes have a maximum of two children. These children are referred to as the left child and the right child. Note that there isn't really a difference between a child being on the left or the right, it's just the convention used to refer to the children and convenient for graphical representations.\n",
    "\n",
    "To summarize, a binary tree is a collection of nodes. Every node has between 0 to 2 children, and every node except the root has exactly one parent."
   ]
  },
  {
   "cell_type": "markdown",
   "id": "145d7420",
   "metadata": {},
   "source": [
    "Just like with a linked list, binary trees are implemented using objects of a custom class. This is the typical class definition that will be provided to you in algorithm problems:"
   ]
  },
  {
   "cell_type": "code",
   "execution_count": 25,
   "id": "c2b9c082",
   "metadata": {},
   "outputs": [],
   "source": [
    "class TreeNode:\n",
    "    def __init__(self, val, left, right):\n",
    "        self.val = val\n",
    "        self.left = left\n",
    "        self.right = right"
   ]
  },
  {
   "cell_type": "markdown",
   "id": "51c660c0",
   "metadata": {},
   "source": [
    "In binary tree problems, you will be given a reference to the root of a binary tree as the input. You can access the root's left subtree with root.left and the root's right subtree with root.right. Like with linked lists, each node will also carry a value val as data. In a linked list, the tail (last node) has its next pointer as null. In a binary tree, if a node does not have a left child, then node.left will be null, and vice-versa with the right child. Remember that if both children are null, then the node is a leaf."
   ]
  },
  {
   "cell_type": "code",
   "execution_count": null,
   "id": "b5614556",
   "metadata": {},
   "outputs": [],
   "source": [
    "#traverse a linked list\n",
    "def get_sum(head):\n",
    "    ans = 0\n",
    "    while head:\n",
    "        ans += head.val\n",
    "        head = head.next\n",
    "    \n",
    "    return ans"
   ]
  },
  {
   "cell_type": "markdown",
   "id": "3ca368e4",
   "metadata": {},
   "source": [
    "For each node, there is a moment in the code execution where the head variable is referencing the node. We traverse by using the .next attribute."
   ]
  },
  {
   "cell_type": "markdown",
   "id": "5c130022",
   "metadata": {},
   "source": [
    "Traversing a binary tree follows the same idea. We start at the root and traverse by using the child pointers .left and .right. When traversing linked lists, we usually do it iteratively. With binary trees, we usually do it recursively."
   ]
  },
  {
   "cell_type": "markdown",
   "id": "6de721c8",
   "metadata": {},
   "source": [
    "#### Depth First Search (DFS) Traversal"
   ]
  },
  {
   "cell_type": "markdown",
   "id": "e34f7e01",
   "metadata": {},
   "source": [
    "In a DFS, we prioritize depth by traversing as far down the tree as possible in one direction (until reaching a leaf node) before considering the other direction. For example, let's say we choose left as our priority direction. We move exclusively with node.left until the left subtree has been fully explored. Then, we explore the right subtree."
   ]
  },
  {
   "cell_type": "markdown",
   "id": "7336a97f",
   "metadata": {},
   "source": [
    "DFS chooses a branch and goes as far down as possible. Once it fully explores the branch, it backtracks until it finds another unexplored branch."
   ]
  },
  {
   "cell_type": "markdown",
   "id": "3854bcb5",
   "metadata": {},
   "source": [
    "Because we need to backtrack up the tree after reaching the end of a branch, DFS is typically implemented using recursion, although it is also sometimes done iteratively using a stack. Here is a simple example of recursive DFS to visit every node:"
   ]
  },
  {
   "cell_type": "markdown",
   "id": "7152bce6",
   "metadata": {},
   "source": [
    "Each call to dfs(node) is visiting that node. As you can see in the code, we visit the left child before visiting the right child."
   ]
  },
  {
   "cell_type": "code",
   "execution_count": 27,
   "id": "e8ce28f7",
   "metadata": {},
   "outputs": [],
   "source": [
    "################################################ See Video ################################################################## \n",
    "\n",
    "# Each call to dfs(node) is visiting that node. \n",
    "# As you can see in the code, we visit the left child before visiting the right child.\n",
    "\n",
    "\n",
    "def dfs(node):\n",
    "    if node == None:\n",
    "        return\n",
    "\n",
    "    dfs(node.left)\n",
    "    dfs(node.right)\n",
    "    return"
   ]
  },
  {
   "cell_type": "markdown",
   "id": "70df3ddc",
   "metadata": {},
   "source": [
    "\n",
    "\n",
    "    The name of each traversal is describing when the current node's logic is performed.\n",
    "\n",
    "    Pre -> before children\n",
    "\n",
    "    In -> in the middle of children\n",
    "\n",
    "    Post -> after children\n"
   ]
  },
  {
   "cell_type": "code",
   "execution_count": 28,
   "id": "65e46601",
   "metadata": {},
   "outputs": [
    {
     "name": "stdout",
     "output_type": "stream",
     "text": [
      "1\n",
      "2\n"
     ]
    }
   ],
   "source": [
    "#Bulding a binary tree\n",
    "class TreeNode:\n",
    "    def __init__(self, val):\n",
    "        self.val = val\n",
    "        self.left = None\n",
    "        self.right = None\n",
    "\n",
    "\"\"\"\n",
    "The following code builds a tree that looks like:\n",
    "    0\n",
    "  /   \\\n",
    " 1     2\n",
    "\"\"\"\n",
    "\n",
    "root = TreeNode(0)\n",
    "one = TreeNode(1)\n",
    "two = TreeNode(2)\n",
    "\n",
    "root.left = one\n",
    "root.right = two\n",
    "\n",
    "print(root.left.val)\n",
    "print(root.right.val)"
   ]
  },
  {
   "cell_type": "markdown",
   "id": "178c143f",
   "metadata": {},
   "source": [
    "##### Traverse a tree, maximum depth"
   ]
  },
  {
   "cell_type": "code",
   "execution_count": 1,
   "id": "5f1b7c21",
   "metadata": {},
   "outputs": [
    {
     "name": "stdout",
     "output_type": "stream",
     "text": [
      "1\n",
      "2\n"
     ]
    }
   ],
   "source": [
    "#Understand that root, one, two, three, four, five, six are objects of the Class TreeNode\n",
    "class TreeNode:\n",
    "    def __init__(self, val=0, left=None, right=None):\n",
    "        self.val = val\n",
    "        self.left = left\n",
    "        self.right = right\n",
    "\n",
    "root = TreeNode(0)\n",
    "one = TreeNode(1)\n",
    "two = TreeNode(2)\n",
    "three = TreeNode(3)\n",
    "four = TreeNode(4)\n",
    "five = TreeNode(5)\n",
    "six = TreeNode(6)\n",
    "\n",
    "root.left = one\n",
    "root.right = two\n",
    "\n",
    "one.left = three\n",
    "one.right = four\n",
    "\n",
    "two.right = five\n",
    "\n",
    "five.right = six\n",
    "\n",
    "print(root.left.val)\n",
    "print(root.right.val)\n"
   ]
  },
  {
   "cell_type": "code",
   "execution_count": 2,
   "id": "41b1145e",
   "metadata": {},
   "outputs": [
    {
     "data": {
      "text/plain": [
       "3"
      ]
     },
     "execution_count": 2,
     "metadata": {},
     "output_type": "execute_result"
    }
   ],
   "source": [
    "root.left.left.val"
   ]
  },
  {
   "cell_type": "code",
   "execution_count": 90,
   "id": "fe1eaaf7",
   "metadata": {},
   "outputs": [
    {
     "name": "stdout",
     "output_type": "stream",
     "text": [
      "0\n",
      "1\n",
      "3\n",
      "4\n",
      "2\n",
      "5\n",
      "6\n"
     ]
    }
   ],
   "source": [
    "# Different Tree traversals techniques\n",
    "def preorder_dfs(node):\n",
    "    if not node:\n",
    "        return\n",
    "\n",
    "    print(node.val)\n",
    "    preorder_dfs(node.left)\n",
    "    preorder_dfs(node.right)\n",
    "    return\n",
    "preorder_dfs(root)"
   ]
  },
  {
   "cell_type": "code",
   "execution_count": 91,
   "id": "ae3329ee",
   "metadata": {},
   "outputs": [
    {
     "name": "stdout",
     "output_type": "stream",
     "text": [
      "3\n",
      "1\n",
      "4\n",
      "0\n",
      "2\n",
      "5\n",
      "6\n"
     ]
    }
   ],
   "source": [
    "def inorder_dfs(node):\n",
    "    if not node:\n",
    "        return\n",
    "\n",
    "    inorder_dfs(node.left)\n",
    "    print(node.val)\n",
    "    inorder_dfs(node.right)\n",
    "    return\n",
    "inorder_dfs(root)"
   ]
  },
  {
   "cell_type": "code",
   "execution_count": 92,
   "id": "becf41cd",
   "metadata": {},
   "outputs": [
    {
     "name": "stdout",
     "output_type": "stream",
     "text": [
      "3\n",
      "4\n",
      "1\n",
      "6\n",
      "5\n",
      "2\n",
      "0\n"
     ]
    }
   ],
   "source": [
    "def postorder_dfs(node):\n",
    "    if not node:\n",
    "        return\n",
    "\n",
    "    postorder_dfs(node.left)\n",
    "    postorder_dfs(node.right)\n",
    "    print(node.val)\n",
    "    return\n",
    "postorder_dfs(root)"
   ]
  },
  {
   "cell_type": "code",
   "execution_count": null,
   "id": "1403519f",
   "metadata": {},
   "outputs": [],
   "source": []
  },
  {
   "cell_type": "code",
   "execution_count": 106,
   "id": "c0672f42",
   "metadata": {},
   "outputs": [],
   "source": [
    "###################################### Watch Video ####################################################\n",
    "# Example 1: 104. Maximum Depth of Binary Tree\n",
    "# Given the root of a binary tree, find the length of the longest path from the root to a leaf."
   ]
  },
  {
   "cell_type": "code",
   "execution_count": 21,
   "id": "6b1e96b4",
   "metadata": {},
   "outputs": [],
   "source": [
    "# Definition for a binary tree node.\n",
    "class TreeNode:\n",
    "    def __init__(self, val=0, left=None, right=None):\n",
    "        self.val = val\n",
    "        self.left = left\n",
    "        self.right = right\n",
    "    \n",
    "def maxDepth(root) -> int:\n",
    "        if not root:\n",
    "            return 0\n",
    "        \n",
    "        left = maxDepth(root.left)\n",
    "        right = maxDepth(root.right)\n",
    "        return max(left, right) + 1"
   ]
  },
  {
   "cell_type": "code",
   "execution_count": 22,
   "id": "bf8ff773",
   "metadata": {},
   "outputs": [
    {
     "data": {
      "text/plain": [
       "4"
      ]
     },
     "execution_count": 22,
     "metadata": {},
     "output_type": "execute_result"
    }
   ],
   "source": [
    "maxDepth(root)"
   ]
  },
  {
   "cell_type": "markdown",
   "id": "728b111a",
   "metadata": {},
   "source": [
    "##### Path Sum"
   ]
  },
  {
   "cell_type": "code",
   "execution_count": null,
   "id": "d7031e35",
   "metadata": {},
   "outputs": [],
   "source": [
    "# Example 2: 112. Path Sum\n",
    "\n",
    "# Given the root of a binary tree and an integer targetSum, \n",
    "# return true if there exists a path from the root to a leaf such that the sum of the nodes on the path is equal to targetSum, \n",
    "# and return false otherwise.\n"
   ]
  },
  {
   "cell_type": "code",
   "execution_count": null,
   "id": "da61f198",
   "metadata": {},
   "outputs": [],
   "source": []
  },
  {
   "cell_type": "code",
   "execution_count": 23,
   "id": "94b3cb63",
   "metadata": {},
   "outputs": [],
   "source": [
    "k = 5\n",
    "sum1 = 0\n",
    "def targetSum(root) -> int:\n",
    "        if not root:\n",
    "            return root.val\n",
    "        \n",
    "        left = targetSum(root.left)\n",
    "        right = targetSum(root.right)\n",
    "        \n",
    "        return (left+right)"
   ]
  },
  {
   "cell_type": "code",
   "execution_count": 24,
   "id": "715a847f",
   "metadata": {},
   "outputs": [
    {
     "ename": "AttributeError",
     "evalue": "'NoneType' object has no attribute 'val'",
     "output_type": "error",
     "traceback": [
      "\u001b[1;31m---------------------------------------------------------------------------\u001b[0m",
      "\u001b[1;31mAttributeError\u001b[0m                            Traceback (most recent call last)",
      "Input \u001b[1;32mIn [24]\u001b[0m, in \u001b[0;36m<cell line: 1>\u001b[1;34m()\u001b[0m\n\u001b[1;32m----> 1\u001b[0m \u001b[43mtargetSum\u001b[49m\u001b[43m(\u001b[49m\u001b[43mroot\u001b[49m\u001b[43m)\u001b[49m\n",
      "Input \u001b[1;32mIn [23]\u001b[0m, in \u001b[0;36mtargetSum\u001b[1;34m(root)\u001b[0m\n\u001b[0;32m      4\u001b[0m \u001b[38;5;28;01mif\u001b[39;00m \u001b[38;5;129;01mnot\u001b[39;00m root:\n\u001b[0;32m      5\u001b[0m     \u001b[38;5;28;01mreturn\u001b[39;00m root\u001b[38;5;241m.\u001b[39mval\n\u001b[1;32m----> 7\u001b[0m left \u001b[38;5;241m=\u001b[39m \u001b[43mtargetSum\u001b[49m\u001b[43m(\u001b[49m\u001b[43mroot\u001b[49m\u001b[38;5;241;43m.\u001b[39;49m\u001b[43mleft\u001b[49m\u001b[43m)\u001b[49m\n\u001b[0;32m      8\u001b[0m right \u001b[38;5;241m=\u001b[39m targetSum(root\u001b[38;5;241m.\u001b[39mright)\n\u001b[0;32m     10\u001b[0m \u001b[38;5;28;01mreturn\u001b[39;00m (left\u001b[38;5;241m+\u001b[39mright)\n",
      "Input \u001b[1;32mIn [23]\u001b[0m, in \u001b[0;36mtargetSum\u001b[1;34m(root)\u001b[0m\n\u001b[0;32m      4\u001b[0m \u001b[38;5;28;01mif\u001b[39;00m \u001b[38;5;129;01mnot\u001b[39;00m root:\n\u001b[0;32m      5\u001b[0m     \u001b[38;5;28;01mreturn\u001b[39;00m root\u001b[38;5;241m.\u001b[39mval\n\u001b[1;32m----> 7\u001b[0m left \u001b[38;5;241m=\u001b[39m \u001b[43mtargetSum\u001b[49m\u001b[43m(\u001b[49m\u001b[43mroot\u001b[49m\u001b[38;5;241;43m.\u001b[39;49m\u001b[43mleft\u001b[49m\u001b[43m)\u001b[49m\n\u001b[0;32m      8\u001b[0m right \u001b[38;5;241m=\u001b[39m targetSum(root\u001b[38;5;241m.\u001b[39mright)\n\u001b[0;32m     10\u001b[0m \u001b[38;5;28;01mreturn\u001b[39;00m (left\u001b[38;5;241m+\u001b[39mright)\n",
      "Input \u001b[1;32mIn [23]\u001b[0m, in \u001b[0;36mtargetSum\u001b[1;34m(root)\u001b[0m\n\u001b[0;32m      4\u001b[0m \u001b[38;5;28;01mif\u001b[39;00m \u001b[38;5;129;01mnot\u001b[39;00m root:\n\u001b[0;32m      5\u001b[0m     \u001b[38;5;28;01mreturn\u001b[39;00m root\u001b[38;5;241m.\u001b[39mval\n\u001b[1;32m----> 7\u001b[0m left \u001b[38;5;241m=\u001b[39m \u001b[43mtargetSum\u001b[49m\u001b[43m(\u001b[49m\u001b[43mroot\u001b[49m\u001b[38;5;241;43m.\u001b[39;49m\u001b[43mleft\u001b[49m\u001b[43m)\u001b[49m\n\u001b[0;32m      8\u001b[0m right \u001b[38;5;241m=\u001b[39m targetSum(root\u001b[38;5;241m.\u001b[39mright)\n\u001b[0;32m     10\u001b[0m \u001b[38;5;28;01mreturn\u001b[39;00m (left\u001b[38;5;241m+\u001b[39mright)\n",
      "Input \u001b[1;32mIn [23]\u001b[0m, in \u001b[0;36mtargetSum\u001b[1;34m(root)\u001b[0m\n\u001b[0;32m      3\u001b[0m \u001b[38;5;28;01mdef\u001b[39;00m \u001b[38;5;21mtargetSum\u001b[39m(root) \u001b[38;5;241m-\u001b[39m\u001b[38;5;241m>\u001b[39m \u001b[38;5;28mint\u001b[39m:\n\u001b[0;32m      4\u001b[0m         \u001b[38;5;28;01mif\u001b[39;00m \u001b[38;5;129;01mnot\u001b[39;00m root:\n\u001b[1;32m----> 5\u001b[0m             \u001b[38;5;28;01mreturn\u001b[39;00m \u001b[43mroot\u001b[49m\u001b[38;5;241;43m.\u001b[39;49m\u001b[43mval\u001b[49m\n\u001b[0;32m      7\u001b[0m         left \u001b[38;5;241m=\u001b[39m targetSum(root\u001b[38;5;241m.\u001b[39mleft)\n\u001b[0;32m      8\u001b[0m         right \u001b[38;5;241m=\u001b[39m targetSum(root\u001b[38;5;241m.\u001b[39mright)\n",
      "\u001b[1;31mAttributeError\u001b[0m: 'NoneType' object has no attribute 'val'"
     ]
    }
   ],
   "source": [
    "targetSum(root)"
   ]
  },
  {
   "cell_type": "markdown",
   "id": "dea115be",
   "metadata": {},
   "source": [
    "##### Tree Visualize"
   ]
  },
  {
   "cell_type": "code",
   "execution_count": 82,
   "id": "2d63aab2",
   "metadata": {},
   "outputs": [
    {
     "name": "stdout",
     "output_type": "stream",
     "text": [
      "                              \n",
      "      1               2       \n",
      "  3       4               5   \n",
      "                            6 \n"
     ]
    }
   ],
   "source": [
    "class Treenode:\n",
    "    def __init__(self, data):\n",
    "        self.data = data\n",
    "        self.left = None\n",
    "        self.right = None\n",
    "\n",
    "\n",
    "class Tree:\n",
    "    def __init__(self):\n",
    "        self.root = None\n",
    " \n",
    " \n",
    "def height(root):\n",
    "    if root is None:\n",
    "        return 0\n",
    "    return max(height(root.left), height(root.right))+1\n",
    "\n",
    "\n",
    "def getcol(h):\n",
    "    if h == 1:\n",
    "        return 1\n",
    "    return getcol(h-1) + getcol(h-1) + 1\n",
    "\n",
    "\n",
    "def printTree(M, root, col, row, height):\n",
    "    if root is None:\n",
    "        return\n",
    "    M[row][col] = root.data\n",
    "    printTree(M, root.left, col-pow(2, height-2), row+1, height-1)\n",
    "    printTree(M, root.right, col+pow(2, height-2), row+1, height-1)\n",
    "\n",
    "\n",
    "def TreePrinter():\n",
    "    h = height(myTree.root)\n",
    "    col = getcol(h)\n",
    "    M = [[0 for _ in range(col)] for __ in range(h)]\n",
    "    printTree(M, myTree.root, col//2, 0, h)\n",
    "    for i in M:\n",
    "        for j in i:\n",
    "            if j == 0:\n",
    "                print(\" \", end=\" \")\n",
    "            else:\n",
    "                print(j, end=\" \")\n",
    "        print(\"\")\n",
    " \n",
    " \n",
    "myTree = Tree()\n",
    "myTree.root = Treenode(0)\n",
    "myTree.root.left = Treenode(1)\n",
    "myTree.root.right = Treenode(2)\n",
    "myTree.root.left.left = Treenode(3)\n",
    "myTree.root.left.right = Treenode(4)\n",
    "\n",
    "myTree.root.right.right = Treenode(5)\n",
    "myTree.root.right.right.right = Treenode(6)\n",
    "TreePrinter()"
   ]
  }
 ],
 "metadata": {
  "kernelspec": {
   "display_name": "Python 3 (ipykernel)",
   "language": "python",
   "name": "python3"
  },
  "language_info": {
   "codemirror_mode": {
    "name": "ipython",
    "version": 3
   },
   "file_extension": ".py",
   "mimetype": "text/x-python",
   "name": "python",
   "nbconvert_exporter": "python",
   "pygments_lexer": "ipython3",
   "version": "3.9.12"
  },
  "toc": {
   "base_numbering": 1,
   "nav_menu": {},
   "number_sections": true,
   "sideBar": true,
   "skip_h1_title": false,
   "title_cell": "Table of Contents",
   "title_sidebar": "Contents",
   "toc_cell": false,
   "toc_position": {},
   "toc_section_display": true,
   "toc_window_display": false
  },
  "varInspector": {
   "cols": {
    "lenName": 16,
    "lenType": 16,
    "lenVar": 40
   },
   "kernels_config": {
    "python": {
     "delete_cmd_postfix": "",
     "delete_cmd_prefix": "del ",
     "library": "var_list.py",
     "varRefreshCmd": "print(var_dic_list())"
    },
    "r": {
     "delete_cmd_postfix": ") ",
     "delete_cmd_prefix": "rm(",
     "library": "var_list.r",
     "varRefreshCmd": "cat(var_dic_list()) "
    }
   },
   "types_to_exclude": [
    "module",
    "function",
    "builtin_function_or_method",
    "instance",
    "_Feature"
   ],
   "window_display": false
  }
 },
 "nbformat": 4,
 "nbformat_minor": 5
}
