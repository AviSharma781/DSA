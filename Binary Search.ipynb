{
 "cells": [
  {
   "cell_type": "code",
   "execution_count": 2,
   "id": "93bb8a38",
   "metadata": {},
   "outputs": [],
   "source": [
    "import pandas as pd  \n",
    "import numpy as np "
   ]
  },
  {
   "cell_type": "markdown",
   "id": "6ae0a40f",
   "metadata": {},
   "source": [
    "#### "
   ]
  },
  {
   "cell_type": "markdown",
   "id": "67aa561e",
   "metadata": {},
   "source": [
    "#### "
   ]
  },
  {
   "cell_type": "markdown",
   "id": "b4e140d7",
   "metadata": {},
   "source": [
    "#### "
   ]
  },
  {
   "cell_type": "markdown",
   "id": "9aaf1f4b",
   "metadata": {},
   "source": [
    "#### "
   ]
  },
  {
   "cell_type": "markdown",
   "id": "962b39fd",
   "metadata": {},
   "source": [
    "### Intro 1: On Array"
   ]
  },
  {
   "cell_type": "code",
   "execution_count": 3,
   "id": "f61ed005",
   "metadata": {},
   "outputs": [],
   "source": [
    "# Binary search is a search algorithm that runs in O(log⁡n) in the worst case, where n is the size of the search space. \n",
    "# For binary search to work, your search space usually needs to be sorted. \n",
    "\n",
    "# If you have a sorted array arr and an element x, then in O(logn) time and O(1) space, binary search can:\n",
    "\n",
    "# Find the index of x if it is in arr\n",
    "# Find the first or the last index in which x can be inserted to maintain being sorted otherwise\n",
    "\n",
    "# Here's the idea behind binary search:\n",
    "\n",
    "# Let's say that there is a sorted integer array arr, and you know that the number x is in it, but you don't know at what index.\n",
    "# You want to find the position of x. Start by checking the element in the middle of arr. \n",
    "# If this element is too small, then we know every element in the left half will also be too small, since the array is sorted.\n",
    "# Similarly, if the element is too large, then every element in the right half will also be too large.\n",
    "\n",
    "# We can discard the half that can't contain x, and then repeat the process on the other half. \n",
    "# We continue this process of cutting the array in half until we find x.\n",
    "\n",
    "\n",
    "# This is how binary search is implemented:\n",
    "\n",
    "# Declare left = 0 and right = arr.length - 1. These variables represent the inclusive bounds of the current search space at any\n",
    "# given time. Initially, we consider the entire array.\n",
    "# While left <= right:\n",
    "# Calculate the middle of the current search space, mid = (left + right) // 2 (floor division)\n",
    "# Check arr[mid]. There are 3 possibilities:\n",
    "# If arr[mid] = x, then the element has been found, return.\n",
    "# If arr[mid] > x, then halve the search space by doing right = mid - 1.\n",
    "# If arr[mid] < x, then halve the search space by doing left = mid + 1.\n",
    "# If you get to this point without arr[mid] = x, then the search was unsuccessful. \n",
    "# The left pointer will be at the index where x would need to be inserted to maintain arr being sorted.\n",
    "\n",
    "# Because the search space is halved at every iteration, binary search's worst-case time complexity is O(log⁡n).\n",
    "# This makes it an extremely powerful algorithm as logarithmic time is very fast compared to linear time.\n"
   ]
  },
  {
   "cell_type": "code",
   "execution_count": null,
   "id": "2bccd529",
   "metadata": {},
   "outputs": [],
   "source": [
    "# [1,2,8,10,12]"
   ]
  },
  {
   "cell_type": "code",
   "execution_count": 2,
   "id": "d7a227a8",
   "metadata": {},
   "outputs": [],
   "source": [
    "def binary_search(arr, target):\n",
    "    left = 0\n",
    "    right = len(arr)\n",
    "    \n",
    "    while left <= right:\n",
    "        mid = (left + right) // 2\n",
    "        num = nums[mid]\n",
    "\n",
    "        if num == target:\n",
    "            return mid\n",
    "\n",
    "        if num > target:\n",
    "            right = mid - 1\n",
    "        else:\n",
    "            left = mid + 1"
   ]
  },
  {
   "cell_type": "code",
   "execution_count": 4,
   "id": "855c1230",
   "metadata": {},
   "outputs": [],
   "source": [
    "# [1,2,8,10,10,12]\n",
    "# Duplicate elements (returns left most index if element searched is repeated)\n",
    "\n",
    "# If your input has duplicates, you can modify the binary search template to find either the first or \n",
    "# the last position of a given element."
   ]
  },
  {
   "cell_type": "code",
   "execution_count": 3,
   "id": "d3e7d06e",
   "metadata": {},
   "outputs": [],
   "source": [
    "def binary_search(arr, target):\n",
    "    left = 0\n",
    "    right = len(arr)\n",
    "    while left < right:\n",
    "        mid = (left + right) // 2 #(floor division)\n",
    "        if arr[mid] >= target:\n",
    "            right = mid\n",
    "        else:\n",
    "            left = mid + 1\n",
    "\n",
    "    return left"
   ]
  },
  {
   "cell_type": "code",
   "execution_count": 5,
   "id": "8a7f57e1",
   "metadata": {},
   "outputs": [],
   "source": [
    "# [1,2,8,10,10,12]\n",
    "# The following template will find the right-most insertion point \n",
    "# (the index of the right-most element plus one):\n"
   ]
  },
  {
   "cell_type": "code",
   "execution_count": null,
   "id": "977d8bec",
   "metadata": {},
   "outputs": [],
   "source": [
    "def binary_search(arr, target):\n",
    "    left = 0\n",
    "    right = len(arr)\n",
    "    while left < right:\n",
    "        mid = (left + right) // 2\n",
    "        if arr[mid] > target:\n",
    "            right = mid\n",
    "        else:\n",
    "            left = mid + 1\n",
    "\n",
    "    return left"
   ]
  },
  {
   "cell_type": "code",
   "execution_count": null,
   "id": "e47c74f2",
   "metadata": {},
   "outputs": [],
   "source": []
  },
  {
   "cell_type": "code",
   "execution_count": 6,
   "id": "3ace0d20",
   "metadata": {},
   "outputs": [],
   "source": [
    "# Regarding both of the above templates, if the element you are searching for does not exist, then left \n",
    "# will be at the index \n",
    "# where the element should be inserted to maintain sorted order (just like in a normal binary search)."
   ]
  },
  {
   "cell_type": "code",
   "execution_count": null,
   "id": "102de29f",
   "metadata": {},
   "outputs": [],
   "source": [
    "#### Binary Search for Greedy Problems: if finding minimum"
   ]
  },
  {
   "cell_type": "code",
   "execution_count": null,
   "id": "affc9c59",
   "metadata": {},
   "outputs": [],
   "source": [
    "def fn(arr):\n",
    "    def check(x):\n",
    "        # this function is implemented depending on the problem\n",
    "        return BOOLEAN\n",
    "\n",
    "    left = MINIMUM_POSSIBLE_ANSWER\n",
    "    right = MAXIMUM_POSSIBLE_ANSWER\n",
    "    while left <= right:\n",
    "        mid = (left + right) // 2\n",
    "        if check(mid):\n",
    "            right = mid - 1\n",
    "        else:\n",
    "            left = mid + 1\n",
    "    \n",
    "    return left"
   ]
  },
  {
   "cell_type": "code",
   "execution_count": 1,
   "id": "3b45a8f1",
   "metadata": {},
   "outputs": [],
   "source": [
    "#### Binary Search for Greedy Problems: if finding maximum"
   ]
  },
  {
   "cell_type": "code",
   "execution_count": null,
   "id": "989d0e0e",
   "metadata": {},
   "outputs": [],
   "source": [
    "def fn(arr):\n",
    "    def check(x):\n",
    "        # this function is implemented depending on the problem\n",
    "        return BOOLEAN\n",
    "\n",
    "    left = MINIMUM_POSSIBLE_ANSWER\n",
    "    right = MAXIMUM_POSSIBLE_ANSWER\n",
    "    while left <= right:\n",
    "        mid = (left + right) // 2\n",
    "        if check(mid):\n",
    "            left = mid + 1\n",
    "        else:\n",
    "            right = mid - 1\n",
    "    \n",
    "    return right"
   ]
  },
  {
   "cell_type": "code",
   "execution_count": null,
   "id": "1e09f090",
   "metadata": {},
   "outputs": [],
   "source": []
  },
  {
   "cell_type": "markdown",
   "id": "6eb35417",
   "metadata": {},
   "source": [
    "#### Interview Tip"
   ]
  },
  {
   "cell_type": "code",
   "execution_count": 9,
   "id": "cb7411c2",
   "metadata": {},
   "outputs": [],
   "source": [
    "# A note on implementing binary search:\n",
    "\n",
    "# Many people get confused when implementing binary search: how should you initialize the right bound?\n",
    "# Do you run while left < right or left <= right? \n",
    "# Do you update with mid + 1 or mid? What about mid - 1 or mid?\n",
    "\n",
    "# Our advice: check out the templates provided in the \"Interviews and tools\" chapter. \n",
    "# When solving problems, don't ponder on the implementation details and simply copy-paste the templates. \n",
    "# For interviews, you can either commit the templates to memory or have them open in another tab \n",
    "# or a piece of paper during the interview.\n"
   ]
  },
  {
   "cell_type": "markdown",
   "id": "19415511",
   "metadata": {},
   "source": [
    "#### Example 1: 704. Binary Search\n"
   ]
  },
  {
   "cell_type": "code",
   "execution_count": 10,
   "id": "d51d4e6c",
   "metadata": {},
   "outputs": [],
   "source": [
    "# You are given an array of integers nums which is sorted in ascending order, \n",
    "# and an integer target. If target exists in nums, return its index. Otherwise, return -1.\n"
   ]
  },
  {
   "cell_type": "code",
   "execution_count": 11,
   "id": "016bdc70",
   "metadata": {},
   "outputs": [],
   "source": [
    "def search(nums, target):\n",
    "        left = 0\n",
    "        right = len(nums) - 1\n",
    "        \n",
    "        while left <= right:\n",
    "            mid = (left + right) // 2\n",
    "            num = nums[mid]\n",
    "            \n",
    "            if num == target:\n",
    "                return mid\n",
    "            \n",
    "            if num > target:\n",
    "                right = mid - 1\n",
    "            else:\n",
    "                left = mid + 1\n",
    "        \n",
    "        return -1"
   ]
  },
  {
   "cell_type": "markdown",
   "id": "22a43409",
   "metadata": {},
   "source": [
    "#### Example 2: 74. Search a 2D Matrix"
   ]
  },
  {
   "cell_type": "code",
   "execution_count": 12,
   "id": "caaf52fc",
   "metadata": {},
   "outputs": [],
   "source": [
    "# Write an efficient algorithm that searches for a value target in an m x n integer matrix matrix.\n",
    "# Integers in each row are sorted from left to right. \n",
    "# The first integer of each row is greater than the last integer of the previous row."
   ]
  },
  {
   "cell_type": "code",
   "execution_count": 6,
   "id": "74f4cd53",
   "metadata": {},
   "outputs": [],
   "source": [
    "#we can flatten the 2d array and then search too\n",
    "# matrix = [[1,3,5,7],[10,11,16,20],[23,30,34,60]]\n",
    "# target = 3\n",
    "# nums = [i for k in range(len(matrix)) for i in matrix[k]]\n",
    "# nums"
   ]
  },
  {
   "cell_type": "code",
   "execution_count": 14,
   "id": "d2e366eb",
   "metadata": {},
   "outputs": [],
   "source": [
    "def searchMatrix(matrix, target) -> bool: \n",
    "        m, n = len(matrix), len(matrix[0]) #row, columns\n",
    "        left, right = 0, m * n - 1 \n",
    "        \n",
    "        while left <= right: \n",
    "            mid = (left + right) // 2 #floor division \n",
    "            row = mid // n #floor division \n",
    "            col = mid % n \n",
    "            num = matrix[row][col] \n",
    "            \n",
    "            if num == target: \n",
    "                return True \n",
    "            \n",
    "            if num < target: \n",
    "                left = mid + 1 \n",
    "            else: \n",
    "                right = mid - 1 \n",
    "        \n",
    "        return False "
   ]
  },
  {
   "cell_type": "markdown",
   "id": "e030c844",
   "metadata": {},
   "source": [
    "#### Example 3: 2300. Successful Pairs of Spells and Potions"
   ]
  },
  {
   "cell_type": "code",
   "execution_count": 1,
   "id": "065e4554",
   "metadata": {},
   "outputs": [],
   "source": [
    "# You are given two positive integer arrays spells and potions, where spells[i] represents the \n",
    "# strength of the ith spell and potions[j] represents the strength of the jth potion. \n",
    "# You are also given an integer success.\n",
    "# A spell and potion pair is considered successful if \n",
    "# the product of their strengths is at least success. \n",
    "# For each spell, find how many potions it can pair with to be successful. \n",
    "# Return an integer array where the ith element is the answer for the ith spell."
   ]
  },
  {
   "cell_type": "code",
   "execution_count": null,
   "id": "2a805133",
   "metadata": {},
   "outputs": [],
   "source": [
    "# Example 1:\n",
    "\n",
    "# Input: spells = [5,1,3], potions = [1,2,3,4,5], success = 7\n",
    "# Output: [4,0,3]\n",
    "# Explanation:\n",
    "# - 0th spell: 5 * [1,2,3,4,5] = [5,10,15,20,25]. 4 pairs are successful.\n",
    "# - 1st spell: 1 * [1,2,3,4,5] = [1,2,3,4,5]. 0 pairs are successful.\n",
    "# - 2nd spell: 3 * [1,2,3,4,5] = [3,6,9,12,15]. 3 pairs are successful.\n",
    "# Thus, [4,0,3] is returned.\n",
    "\n",
    "# Example 2:\n",
    "\n",
    "# Input: spells = [3,1,2], potions = [8,5,8], success = 16\n",
    "# Output: [2,0,2]\n",
    "# Explanation:\n",
    "# - 0th spell: 3 * [8,5,8] = [24,15,24]. 2 pairs are successful.\n",
    "# - 1st spell: 1 * [8,5,8] = [8,5,8]. 0 pairs are successful. \n",
    "# - 2nd spell: 2 * [8,5,8] = [16,10,16]. 2 pairs are successful. \n",
    "# Thus, [2,0,2] is returned.\n",
    "\n"
   ]
  },
  {
   "cell_type": "code",
   "execution_count": 13,
   "id": "7bdb3593",
   "metadata": {},
   "outputs": [
    {
     "data": {
      "text/plain": [
       "[2, 0, 2]"
      ]
     },
     "execution_count": 13,
     "metadata": {},
     "output_type": "execute_result"
    }
   ],
   "source": [
    "# Time Limit Exceeded\n",
    "\n",
    "# spells = [5,1,3]\n",
    "# potions = [1,2,3,4,5]\n",
    "# success = 7\n",
    "\n",
    "spells = [3,1,2]\n",
    "potions = [8,5,8]\n",
    "success = 16\n",
    "\n",
    "#if duplicates exist, we need left most index\n",
    "def binary_search(arr, target):\n",
    "    left = 0\n",
    "    right = len(arr)\n",
    "    while left < right:\n",
    "        mid = (left + right) // 2 #(floor division)\n",
    "        if arr[mid] >= target:\n",
    "            right = mid\n",
    "        else:\n",
    "            left = mid + 1\n",
    "\n",
    "    return left\n",
    "\n",
    "ans = []\n",
    "potions = sorted(potions)\n",
    "\n",
    "for j in spells:\n",
    "    #this is an extra step, instead we can have success as success/ spell\n",
    "    potions_temp = [j*i for i in potions]\n",
    "    #here len of potions need not be calculated multiple times\n",
    "    ans.append(len(potions_temp) - binary_search(potions_temp,success))\n",
    "    \n",
    "ans"
   ]
  },
  {
   "cell_type": "code",
   "execution_count": 14,
   "id": "9452af4b",
   "metadata": {},
   "outputs": [
    {
     "data": {
      "text/plain": [
       "[2, 0, 2]"
      ]
     },
     "execution_count": 14,
     "metadata": {},
     "output_type": "execute_result"
    }
   ],
   "source": [
    "spells = [3,1,2]\n",
    "potions = [8,5,8]\n",
    "success = 16\n",
    "\n",
    "#if duplicates exist, we need left most index\n",
    "def binary_search(arr, target):\n",
    "    left = 0\n",
    "    right = len(arr)\n",
    "    while left < right:\n",
    "        mid = (left + right) // 2 #(floor division)\n",
    "        if arr[mid] >= target:\n",
    "            right = mid\n",
    "        else:\n",
    "            left = mid + 1\n",
    "\n",
    "    return left\n",
    "\n",
    "ans = []\n",
    "potions = sorted(potions)\n",
    "\n",
    "m = len(potions)\n",
    "for j in spells:   \n",
    "    ans.append(m - binary_search(potions,success/j))\n",
    "    \n",
    "ans"
   ]
  },
  {
   "cell_type": "markdown",
   "id": "6214c764",
   "metadata": {},
   "source": [
    "#### Search Insert Position"
   ]
  },
  {
   "cell_type": "code",
   "execution_count": 15,
   "id": "3f40be94",
   "metadata": {},
   "outputs": [],
   "source": [
    "# Given a sorted array of distinct integers and a target value, return the index if the target is found.\n",
    "# If not, return the index where it would be if it were inserted in order.\n",
    "\n",
    "# You must write an algorithm with O(log n) runtime complexity."
   ]
  },
  {
   "cell_type": "code",
   "execution_count": 16,
   "id": "8388967c",
   "metadata": {},
   "outputs": [],
   "source": [
    "def searchInsert(nums, target) -> int:\n",
    "        left = 0\n",
    "        right = len(nums) - 1\n",
    "        while left <= right:\n",
    "            mid = (left + right) // 2 #(floor division)\n",
    "            if nums[mid] == target:\n",
    "                \n",
    "                return(mid)\n",
    "            if nums[mid] > target:\n",
    "                right = mid - 1\n",
    "            else:\n",
    "                left = mid + 1\n",
    "        \n",
    "        return(left)"
   ]
  },
  {
   "cell_type": "markdown",
   "id": "e36b3fba",
   "metadata": {},
   "source": [
    "#### Longest Subsequence With Limited Sum"
   ]
  },
  {
   "cell_type": "code",
   "execution_count": 17,
   "id": "3d84b980",
   "metadata": {},
   "outputs": [],
   "source": [
    "# You are given an integer array nums of length n, and an integer array queries of length m.\n",
    "# Return an array answer of length m where answer[i] is the maximum size of a subsequence \n",
    "# that you can take from nums such that the sum of its elements is less than or equal to queries[i].\n",
    "\n",
    "# A subsequence is an array that can be derived from another array by deleting some or no elements \n",
    "# without changing the order of the remaining elements."
   ]
  },
  {
   "cell_type": "code",
   "execution_count": null,
   "id": "4d0bc1da",
   "metadata": {},
   "outputs": [],
   "source": [
    "# Input: nums = [4,5,2,1], queries = [3,10,21]\n",
    "# Output: [2,3,4]\n",
    "# Explanation: We answer the queries as follows:\n",
    "# - The subsequence [2,1] has a sum less than or equal to 3. It can be proven that 2 is the maximum size of such a subsequence, so answer[0] = 2.\n",
    "# - The subsequence [4,5,1] has a sum less than or equal to 10. It can be proven that 3 is the maximum size of such a subsequence, so answer[1] = 3.\n",
    "# - The subsequence [4,5,2,1] has a sum less than or equal to 21. It can be proven that 4 is the maximum size of such a subsequence, so answer[2] = 4."
   ]
  },
  {
   "cell_type": "code",
   "execution_count": null,
   "id": "5e2225e6",
   "metadata": {},
   "outputs": [],
   "source": [
    "# Input: nums = [2,3,4,5], queries = [1]\n",
    "# Output: [0]\n",
    "# Explanation: The empty subsequence is the only subsequence that has a sum less than or equal to 1, \n",
    "# so answer[0] = 0."
   ]
  },
  {
   "cell_type": "code",
   "execution_count": 9,
   "id": "b5eada36",
   "metadata": {},
   "outputs": [
    {
     "data": {
      "text/plain": [
       "[2, 3, 4]"
      ]
     },
     "execution_count": 9,
     "metadata": {},
     "output_type": "execute_result"
    }
   ],
   "source": [
    "#we can go ahead and sort nums to get to an answer here ,as we are looking for subsequence length not subarray\n",
    "\n",
    "nums = [4,5,2,1]\n",
    "queries = [3,10,21]\n",
    "\n",
    "summ_=0\n",
    "prefix_sum = []\n",
    "for i in sorted(nums):\n",
    "    summ_ +=i\n",
    "    prefix_sum.append(summ_)\n",
    "# prefix_sum\n",
    "\n",
    "#now just insert the query element in prefix_sum and find its position\n",
    "\n",
    "def binary_search(arr, target):\n",
    "    left = 0\n",
    "    right = len(arr)\n",
    "    while left < right:\n",
    "        mid = (left + right) // 2\n",
    "        if arr[mid] > target:\n",
    "            right = mid\n",
    "        else:\n",
    "            left = mid + 1\n",
    "\n",
    "    return left\n",
    "ans = []\n",
    "for i in queries:\n",
    "    ans.append(binary_search(prefix_sum, i))\n",
    "\n",
    "ans\n",
    "\n",
    "\n"
   ]
  },
  {
   "cell_type": "markdown",
   "id": "052a3d55",
   "metadata": {},
   "source": [
    "### Intro 2: On Solution Spaces"
   ]
  },
  {
   "cell_type": "code",
   "execution_count": 2,
   "id": "12979ae1",
   "metadata": {},
   "outputs": [],
   "source": [
    "#Key Idea: Doing Binary search on a solution space\n",
    "\n",
    "# There is a more creative way to use binary search - on a solution space/answer. \n",
    "# A very common type of problem is \"what is the max/min that something can be done\". \n",
    "# Binary search can be used if the following criteria are met:\n",
    "\n",
    "# You can quickly (in O(n) or better) verify if the task is possible for a given number x.\n",
    "# If the task is possible for a number x, and you are looking for:\n",
    "#         A maximum, then it is also possible for all numbers less than x.\n",
    "#         A minimum, then it is also possible for all numbers greater than x.\n",
    "# If the task is not possible for a number x, and you are looking for:\n",
    "#         A maximum, then it is also impossible for all numbers greater than x.\n",
    "#         A minimum, then it is also impossible for all numbers less than x.\n",
    "\n",
    "# The 2nd and 3rd requirements imply that there are two \"zones\". \n",
    "# One where it is possible and one where it is impossible. The zones have no breaks, no overlap, \n",
    "# and are separated by a threshold."
   ]
  },
  {
   "cell_type": "code",
   "execution_count": null,
   "id": "216ddc04",
   "metadata": {},
   "outputs": [],
   "source": [
    "# When a problem wants you to find the min/max, it wants you to find the threshold where the task transitions\n",
    "# from impossible to possible.\n",
    "\n",
    "# First, we establish the possible solution space by identifying the minimum possible answer and \n",
    "# the maximum possible answer.\n",
    "\n",
    "# Next, we binary search on this solution space. For each mid, we perform a check to see if the task is \n",
    "# possible. Depending on the result, we halve the search space. Eventually, we will find the threshold.\n",
    "\n",
    "# We can write a function check that takes an integer and checks if the task is possible for that integer.\n",
    "# In most cases, the algorithm we use in this function will be a greedy one. \n",
    "# Let's take a look at some examples.\n"
   ]
  },
  {
   "cell_type": "markdown",
   "id": "561c75d0",
   "metadata": {},
   "source": [
    "All problems we will be looking at in this article asked for a minimum. In all solutions, we return left.\n",
    "\n",
    "If a problem is instead asking for a maximum, then left will not actually be the correct answer at the end. Instead, we should return right.\n",
    "\n",
    "    Why does left point to the answer when looking for a minimum, but right points to the answer when looking for a maximum?\n",
    "\n",
    "Let's say we're looking for a minimum and the answer is x. After doing check(x), we set right = x - 1 because check(x) will return true, and we move the right bound to look for a better answer. As you can see, the correct answer is actually outside of our search space now. That means every future iteration of check is going to fail, which means we will continuously increase left until eventually we try check(x - 1). This will fail and set left = (x - 1) + 1 = x. Our while loop terminates because left > right, and left is at the answer.\n",
    "\n",
    "If we are instead looking for a maximum, after performing check(x), we set left = x + 1. Again, the correct answer is outside of the search space and all future checks will fail. Eventually, we try check(x + 1), fail, and set right = (x + 1) - 1 = x. The loop terminates because right < left, and right is pointing at the answer."
   ]
  },
  {
   "cell_type": "code",
   "execution_count": null,
   "id": "1e78f933",
   "metadata": {},
   "outputs": [],
   "source": [
    "#if looking for a minimum value\n",
    "def fn(arr):\n",
    "    def check(x):\n",
    "        # this function is implemented depending on the problem\n",
    "        return BOOLEAN\n",
    "\n",
    "    left = MINIMUM_POSSIBLE_ANSWER\n",
    "    right = MAXIMUM_POSSIBLE_ANSWER\n",
    "    while left <= right:\n",
    "        mid = (left + right) // 2\n",
    "        if check(mid):\n",
    "            right = mid - 1\n",
    "        else:\n",
    "            left = mid + 1\n",
    "    \n",
    "    return left"
   ]
  },
  {
   "cell_type": "code",
   "execution_count": null,
   "id": "35751954",
   "metadata": {},
   "outputs": [],
   "source": [
    "#if looking for a maximum value\n",
    "def fn(arr):\n",
    "    def check(x):\n",
    "        # this function is implemented depending on the problem\n",
    "        return BOOLEAN\n",
    "\n",
    "    left = MINIMUM_POSSIBLE_ANSWER\n",
    "    right = MAXIMUM_POSSIBLE_ANSWER\n",
    "    while left <= right:\n",
    "        mid = (left + right) // 2\n",
    "        if check(mid):\n",
    "            left = mid + 1\n",
    "        else:\n",
    "            right = mid - 1\n",
    "    \n",
    "    return right"
   ]
  },
  {
   "cell_type": "code",
   "execution_count": null,
   "id": "db80aed9",
   "metadata": {},
   "outputs": [],
   "source": []
  },
  {
   "cell_type": "code",
   "execution_count": null,
   "id": "7f13bb3d",
   "metadata": {},
   "outputs": [],
   "source": []
  },
  {
   "cell_type": "markdown",
   "id": "0f2df854",
   "metadata": {},
   "source": [
    "#### Example 1: 875. Koko Eating Bananas"
   ]
  },
  {
   "cell_type": "code",
   "execution_count": 20,
   "id": "a5b195e7",
   "metadata": {},
   "outputs": [],
   "source": [
    "# Koko loves to eat bananas. There are n piles of bananas, the ith pile has piles[i] bananas. \n",
    "# Koko can decide her bananas-per-hour eating speed of k. Each hour, she chooses a pile and eats k bananas \n",
    "# from that pile. If the pile has less than k bananas, she eats all of them and will not eat any more bananas \n",
    "# during the hour. Return the minimum integer k such that she can eat all the bananas within h hours.\n"
   ]
  },
  {
   "cell_type": "code",
   "execution_count": 3,
   "id": "ed232ba5",
   "metadata": {},
   "outputs": [],
   "source": [
    "# piles = [3,6,7,11]\n",
    "# hours = 8\n",
    "\n",
    "#Can she do it with an eating speed of 3?\n",
    "# what if it is 4?\n",
    "# max cut off should be max pile size, anything above will have no incremental value\n",
    "# min cut off is 1\n",
    "# so possible range for k = list(range(1,12,1))"
   ]
  },
  {
   "cell_type": "code",
   "execution_count": 7,
   "id": "ef695ab4",
   "metadata": {},
   "outputs": [],
   "source": [
    "#remeber spell and portions product above a success\n",
    "#same case here, take math.ceil(pile[i]/k) and sum should be less than hours, this is your check function\n",
    "# ex: k=3 piles_ = [1,2,3,4] (taking ceiling division of list piles), if sum(piles_)< sucess, \n",
    "# all speed > 3 will be fine. We need to search in values less than 3 so a binary search application\n",
    "\n",
    "\n"
   ]
  },
  {
   "cell_type": "code",
   "execution_count": 36,
   "id": "ffeab79c",
   "metadata": {},
   "outputs": [
    {
     "name": "stdout",
     "output_type": "stream",
     "text": [
      "24\n",
      "28\n"
     ]
    },
    {
     "data": {
      "text/plain": [
       "28"
      ]
     },
     "execution_count": 36,
     "metadata": {},
     "output_type": "execute_result"
    }
   ],
   "source": [
    "# piles = [3,6,7,11]\n",
    "# hours = 8\n",
    "\n",
    "piles =[30,11,23,4,20]\n",
    "hours = 6\n",
    "#this step will create memory problems if any of pile size is too large\n",
    "k = list(range(1,max(piles)+1,1))\n",
    "\n",
    "left = 0\n",
    "right = len(k)\n",
    "while left < right:\n",
    "    mid = (left + right) // 2 #(floor division)\n",
    "    piles_ = sum([math.ceil(i/k[mid]) for i in piles])\n",
    "    if(piles_ ==hours): print(k[mid])\n",
    "    \n",
    "    if piles_ < hours:\n",
    "        right = mid -1\n",
    "    else:\n",
    "        left = mid + 1\n",
    "\n",
    "left\n",
    "\n",
    "\n"
   ]
  },
  {
   "cell_type": "code",
   "execution_count": 42,
   "id": "8e62148f",
   "metadata": {},
   "outputs": [
    {
     "data": {
      "text/plain": [
       "23"
      ]
     },
     "execution_count": 42,
     "metadata": {},
     "output_type": "execute_result"
    }
   ],
   "source": [
    "from math import ceil\n",
    "piles =[30,11,23,4,20]\n",
    "h = 6\n",
    "\n",
    "def minEatingSpeed(piles, h) -> int:\n",
    "        def check(k):\n",
    "            hours = 0\n",
    "            for bananas in piles:\n",
    "                hours += ceil(bananas / k)\n",
    "            \n",
    "            return hours <= h\n",
    "        \n",
    "        left = 1\n",
    "        right = max(piles)\n",
    "        while left <= right:\n",
    "            mid = (left + right) // 2\n",
    "            if check(mid):\n",
    "                right = mid - 1\n",
    "            else:\n",
    "                left = mid + 1\n",
    "\n",
    "        return left\n",
    "    \n",
    "minEatingSpeed(piles, h)"
   ]
  },
  {
   "cell_type": "markdown",
   "id": "5ba84184",
   "metadata": {},
   "source": [
    "#### Example 2: 1631. (Graph: DFS required ) Path With Minimum Effort"
   ]
  },
  {
   "cell_type": "code",
   "execution_count": 24,
   "id": "2d3e83b5",
   "metadata": {},
   "outputs": [],
   "source": [
    "#Soltion shows Dijkstra's Algorithm to solve this as well: check here\n",
    "# https://leetcode.com/problems/path-with-minimum-effort/solutions/4049557/97-67-optimal-dijkstra-with-heap/\n",
    "\n",
    "# Alternative Thought process is Solution spaces and binary search\n",
    "\n",
    "# https://leetcode.com/problems/path-with-minimum-effort/description/\n",
    "\n",
    "# You are a hiker preparing for an upcoming hike.\n",
    "# You are given heights, a 2D array of size rows x columns, where heights[row][col] represents the height\n",
    "# of cell (row, col). You are situated in the top-left cell, (0, 0), and you hope to travel to the bottom-right\n",
    "# cell, (rows-1, columns-1) (i.e., 0-indexed). You can move up, down, left, or right, and \n",
    "# you wish to find a route that requires the minimum effort.\n",
    "# A route's effort is the maximum absolute difference in heights between two consecutive cells of the route.\n",
    "\n",
    "# Return the minimum effort required to travel from the top-left cell to the bottom-right cell.\n",
    "\n",
    "# EX:1\n",
    "# Input: heights = [[1,2,2],\n",
    "#                   [3,8,2],\n",
    "#                  [5,3,5]]\n",
    "\n",
    "# Output: 2\n",
    "# Explanation: The route of [1,3,5,3,5] has a maximum absolute difference of 2 in consecutive cells.\n",
    "# This is better than the route of [1,2,2,2,5], where the maximum absolute difference is 3.\n",
    "\n",
    "# EX:2\n",
    "# Input: heights = [[1,2,3],\n",
    "#                   [3,8,4],\n",
    "#                   [5,3,5]]\n",
    "# Output: 1\n",
    "# Explanation: The route of [1,2,3,4,5] has a maximum absolute difference of 1 in consecutive cells,\n",
    "# which is better than route [1,3,5,3,5].\n",
    "\n",
    "# EX:3\n",
    "# Input: heights = [[1,2,1,1,1],\n",
    "#                   [1,2,1,2,1],\n",
    "#                   [1,2,1,2,1],\n",
    "#                   [1,2,1,2,1],\n",
    "#                   [1,1,1,2,1]]\n",
    "# Output: 0, for route along all 1s\n",
    "# Explanation: This route does not require any effort.\n",
    "\n"
   ]
  },
  {
   "cell_type": "code",
   "execution_count": 67,
   "id": "013c88fd",
   "metadata": {},
   "outputs": [],
   "source": [
    "# If you cannot make the journey with effort, then it's impossible to do it with any number less than effort.\n",
    "# If you can do it, then it's possible to do it with all numbers greater than effort.\n",
    "\n",
    "# Given an integer effort, how can we check if a path exists? We can do a simple DFS, \n",
    "# starting from (0, 0), with edges being in the 4 directions and only traversable if the \n",
    "# difference between the current node and the next one is less than or equal to effort.\n",
    "\n",
    "# For our binary search, what should the bounds start at? The minimum possible effort is 0 - there could exist\n",
    "# a path where all the numbers are the same. The maximum possible effort is the largest number in the input \n",
    "# since the input doesn't have negative numbers.\n",
    "\n",
    "\n"
   ]
  },
  {
   "cell_type": "code",
   "execution_count": 25,
   "id": "81000aa4",
   "metadata": {},
   "outputs": [],
   "source": [
    "def minimumEffortPath(heights) -> int:\n",
    "        def valid(row, col):\n",
    "            return 0 <= row < m and 0 <= col < n\n",
    "        \n",
    "        def check(effort):\n",
    "            directions = [(0, 1), (1, 0), (0, -1), (-1, 0)]\n",
    "            seen = {(0, 0)}\n",
    "            stack = [(0, 0)]\n",
    "            \n",
    "            while stack:\n",
    "                row, col = stack.pop()\n",
    "                if (row, col) == (m - 1, n - 1):\n",
    "                    return True\n",
    "                \n",
    "                for dx, dy in directions:\n",
    "                    next_row, next_col = row + dy, col + dx\n",
    "                    if valid(next_row, next_col) and (next_row, next_col) not in seen:\n",
    "                        if abs(heights[next_row][next_col] - heights[row][col]) <= effort:\n",
    "                            seen.add((next_row, next_col))\n",
    "                            stack.append((next_row, next_col))\n",
    "            \n",
    "            return False\n",
    "        \n",
    "        m = len(heights)\n",
    "        n = len(heights[0])\n",
    "        left = 0\n",
    "        right = max(max(row) for row in heights)\n",
    "        while left <= right:\n",
    "            mid = (left + right) // 2\n",
    "            if check(mid):\n",
    "                right = mid - 1\n",
    "            else:\n",
    "                left = mid + 1\n",
    "        \n",
    "        return left"
   ]
  },
  {
   "cell_type": "code",
   "execution_count": 26,
   "id": "80754783",
   "metadata": {},
   "outputs": [
    {
     "data": {
      "text/plain": [
       "0"
      ]
     },
     "execution_count": 26,
     "metadata": {},
     "output_type": "execute_result"
    }
   ],
   "source": [
    "heights = [[1,2,1,1,1],\n",
    "           [1,2,1,2,1],\n",
    "            [1,2,1,2,1],\n",
    "            [1,2,1,2,1],\n",
    "            [1,1,1,2,1]]\n",
    "\n",
    "minimumEffortPath(heights)"
   ]
  },
  {
   "cell_type": "markdown",
   "id": "f054b36d",
   "metadata": {},
   "source": [
    "#### Example 3: 1870. Minimum Speed to Arrive on Time"
   ]
  },
  {
   "cell_type": "code",
   "execution_count": 1,
   "id": "75d1996c",
   "metadata": {},
   "outputs": [],
   "source": [
    "# You are given a float hour, representing the amount of time you have to reach the office. \n",
    "# To commute to the office, you must take n trains in sequential order. \n",
    "# You are also given an integer array dist, where dist[i] describes the distance of the ith train ride. \n",
    "# Each train can only depart at an integer hour, so you may need to wait in between each train ride.\n",
    "\n",
    "# For example, if the 1st train ride takes 1.5 hours, you must wait for an additional 0.5 hours before you can\n",
    "# depart on the 2nd train ride at the 2-hour mark. \n",
    "# Return the minimum positive integer speed that all the trains must travel at for you to reach the office on\n",
    "# time, or -1 if it is impossible to be on time. The answer will not exceed 10^7.\n",
    "\n",
    "\n",
    "\n",
    "# The minimum possible speed is 1, and the maximum is 10^7 as given in the problem description.\n",
    "# The fact that the problem is giving us this information is actually a hint towards using binary search,\n",
    "# but it brings up a good question - what do you do when you cannot ascertain a maximum possible answer \n",
    "# from what is given in the input? You can use an arbitrarily large number for right, like 10^10.\n",
    "# Logarithms are so fast that it will hardly make a difference.\n",
    "\n"
   ]
  },
  {
   "cell_type": "code",
   "execution_count": null,
   "id": "c0fe776a",
   "metadata": {},
   "outputs": [],
   "source": [
    "#Think of Solution Spaces logic first\n",
    "# Example 1:\n",
    "\n",
    "# Input: dist = [1,3,2], hour = 6\n",
    "# Output: 1\n",
    "# Explanation: At speed 1:\n",
    "# - The first train ride takes 1/1 = 1 hour.\n",
    "# - Since we are already at an integer hour, we depart immediately at the 1 hour mark. The second train takes 3/1 = 3 hours.\n",
    "# - Since we are already at an integer hour, we depart immediately at the 4 hour mark. The third train takes 2/1 = 2 hours.\n",
    "# - You will arrive at exactly the 6 hour mark.\n",
    "\n",
    "\n",
    "# Example 2:\n",
    "\n",
    "# Input: dist = [1,3,2], hour = 2.7\n",
    "# Output: 3\n",
    "# Explanation: At speed 3:\n",
    "# - The first train ride takes 1/3 = 0.33333 hours.\n",
    "# - Since we are not at an integer hour, we wait until the 1 hour mark to depart. The second train ride takes 3/3 = 1 hour.\n",
    "# - Since we are already at an integer hour, we depart immediately at the 2 hour mark. The third train takes 2/3 = 0.66667 hours.\n",
    "# - You will arrive at the 2.66667 hour mark.\n",
    "\n",
    "# Example 3:\n",
    "\n",
    "# Input: dist = [1,3,2], hour = 1.9\n",
    "# Output: -1\n",
    "# Explanation: It is impossible because the earliest the third train can depart is at the 2 hour mark.\n",
    "\n",
    "\n",
    "\n"
   ]
  },
  {
   "cell_type": "code",
   "execution_count": 29,
   "id": "34e74253",
   "metadata": {},
   "outputs": [
    {
     "data": {
      "text/plain": [
       "2"
      ]
     },
     "execution_count": 29,
     "metadata": {},
     "output_type": "execute_result"
    }
   ],
   "source": [
    "dist = [1,3,2]\n",
    "hour = 2.7\n",
    "\n",
    "#max speed constraint 10000000\n",
    "\n",
    "k  = list(range(1, 10000000))\n",
    "\n",
    "def search(nums, hours, dist):\n",
    "    left = 0\n",
    "    right = len(nums) - 1\n",
    "    if(ceil(hours)<len(dist)): return(-1)\n",
    "\n",
    "    while left <= right:\n",
    "        mid = (left + right) // 2\n",
    "        num = nums[mid]\n",
    "        \n",
    "#         last travel time shouldn't be ceiled\n",
    "\n",
    "        time_ = sum([ceil(j/num) for j in dist[:-1]])+(dist[-1]/num) \n",
    "\n",
    "        if (hours == time_):\n",
    "            return num\n",
    "\n",
    "        if time_ < hours:\n",
    "            right = mid - 1\n",
    "        else:\n",
    "            left = mid + 1\n",
    "\n",
    "    return left\n",
    "\n",
    "search(k,hour, dist)\n",
    "\n",
    "\n",
    "\n"
   ]
  },
  {
   "cell_type": "code",
   "execution_count": 30,
   "id": "2c0dd0ba",
   "metadata": {},
   "outputs": [
    {
     "data": {
      "text/plain": [
       "3"
      ]
     },
     "execution_count": 30,
     "metadata": {},
     "output_type": "execute_result"
    }
   ],
   "source": [
    "dist = [1,3,2]\n",
    "hour = 2.7\n",
    "def minSpeedOnTime(dist, hour) -> int:\n",
    "    if len(dist) > ceil(hour):\n",
    "        return -1\n",
    "\n",
    "    def check(k):\n",
    "        t = 0\n",
    "        for d in dist:\n",
    "            t = ceil(t)\n",
    "            t += d / k\n",
    "\n",
    "        return t <= hour\n",
    "\n",
    "    left = 1\n",
    "    right = 10 ** 7\n",
    "    while left <= right:\n",
    "        mid = (left + right) // 2\n",
    "        if check(mid):\n",
    "            right = mid - 1\n",
    "        else:\n",
    "            left = mid + 1\n",
    "\n",
    "    return left\n",
    "\n",
    "minSpeedOnTime(dist, hour)"
   ]
  },
  {
   "cell_type": "markdown",
   "id": "66db19bc",
   "metadata": {},
   "source": [
    "### A note on implementation "
   ]
  },
  {
   "cell_type": "code",
   "execution_count": 31,
   "id": "9e83a449",
   "metadata": {},
   "outputs": [],
   "source": [
    "# A note on implementation\n",
    "\n",
    "# All 3 examples we looked at in this article asked for a minimum. In all solutions, we return left.\n",
    "\n",
    "# If a problem is instead asking for a maximum, then left will not actually be the correct answer at the end.\n",
    "# Instead, we should return right."
   ]
  },
  {
   "cell_type": "code",
   "execution_count": 32,
   "id": "e6632366",
   "metadata": {},
   "outputs": [],
   "source": [
    "# Why does left point to the answer when looking for a minimum, but right points to the answer \n",
    "# when looking for a maximum?\n",
    "\n",
    "\n",
    "# Let's say we're looking for a minimum and the answer is x. After doing check(x), we set right = x - 1 \n",
    "# because check(x) will return true, and we move the right bound to look for a better answer. \n",
    "# As you can see, the correct answer is actually outside of our search space now. \n",
    "# That means every future iteration of check is going to fail, which means we will continuously increase left\n",
    "# until eventually we try check(x - 1). This will fail and set left = (x - 1) + 1 = x. \n",
    "# Our while loop terminates because left > right, and left is at the answer.\n",
    "\n",
    "# If we are instead looking for a maximum, after performing check(x), we set left = x + 1. \n",
    "# Again, the correct answer is outside of the search space and all future checks will fail. \n",
    "# Eventually, we try check(x + 1), fail, and set right = (x + 1) - 1 = x. \n",
    "# The loop terminates because right < left, and right is pointing at the answer.\n"
   ]
  },
  {
   "cell_type": "markdown",
   "id": "b9f05637",
   "metadata": {},
   "source": [
    "### Find the Smallest Divisor Given a Threshold\n"
   ]
  },
  {
   "cell_type": "code",
   "execution_count": 33,
   "id": "7825bd81",
   "metadata": {},
   "outputs": [],
   "source": [
    "# Given an array of integers nums and an integer threshold, we will choose a positive integer divisor, \n",
    "# divide all the array by it, and sum the division's result. \n",
    "# Find the smallest divisor such that the result mentioned above is less than or equal to threshold.\n",
    "\n",
    "# Each result of the division is rounded to the nearest integer greater than or equal to that element. \n",
    "# (For example: 7/3 = 3 and 10/2 = 5).\n",
    "\n",
    "# The test cases are generated so that there will be an answer."
   ]
  },
  {
   "cell_type": "code",
   "execution_count": 34,
   "id": "873d5153",
   "metadata": {},
   "outputs": [],
   "source": [
    "# Example 1:\n",
    "# Input: nums = [1,2,5,9], threshold = 6\n",
    "# Output: 5\n",
    "# Explanation: We can get a sum to 17 (1+2+5+9) if the divisor is 1. \n",
    "# If the divisor is 4 we can get a sum of 7 (1+1+2+3) and if the divisor is 5 the sum will be 5 (1+1+1+2). "
   ]
  },
  {
   "cell_type": "code",
   "execution_count": 35,
   "id": "d0019487",
   "metadata": {},
   "outputs": [],
   "source": [
    "# Example 2\n",
    "# Input: nums = [44,22,33,11,1], threshold = 5\n",
    "# Output: 44"
   ]
  },
  {
   "cell_type": "code",
   "execution_count": 11,
   "id": "79eb488e",
   "metadata": {},
   "outputs": [
    {
     "data": {
      "text/plain": [
       "5"
      ]
     },
     "execution_count": 11,
     "metadata": {},
     "output_type": "execute_result"
    }
   ],
   "source": [
    "from math import ceil\n",
    "# solution_space \n",
    "solution_space = list(range(1, max(nums)))\n",
    "\n",
    "nums = [1,2,5,9]\n",
    "threshold = 6\n",
    "\n",
    "def check(k):\n",
    "    sum_ = 0\n",
    "    for i in nums:\n",
    "        sum_ += ceil(i/k)\n",
    "    \n",
    "    return(sum_<=threshold)\n",
    "\n",
    "left = 1\n",
    "right = max(nums)\n",
    "while left <= right:\n",
    "    mid = (left + right) // 2\n",
    "    if check(mid):\n",
    "        right = mid - 1\n",
    "    else:\n",
    "        left = mid + 1\n",
    "\n",
    "left\n",
    "    \n",
    "    "
   ]
  },
  {
   "cell_type": "markdown",
   "id": "9ded41d4",
   "metadata": {},
   "source": [
    "### (Hard) Divide Chocolate, note: Consequitive"
   ]
  },
  {
   "cell_type": "code",
   "execution_count": 12,
   "id": "0aa06089",
   "metadata": {},
   "outputs": [],
   "source": [
    "#<<<<<<<<<<<<<<<<<<<<< Similar to Split Array Large Sum >>>>>>>>>>>>>>>>>>>>>>>>\n",
    "\n",
    "# You have one chocolate bar that consists of some chunks. \n",
    "# Each chunk has its own sweetness given by the array sweetness.\n",
    "\n",
    "# You want to share the chocolate with your k friends so you start cutting the chocolate bar into k + 1 pieces\n",
    "# using k cuts, each piece consists of some consecutive chunks.\n",
    "\n",
    "# Being generous, you will eat the piece with the minimum total sweetness and give the other pieces \n",
    "# to your friends.\n",
    "\n",
    "# Find the maximum total sweetness of the piece you can get by cutting the chocolate bar optimally.\n",
    "\n",
    "\n",
    "\n",
    "# In the Split array problem we have : \n",
    "# Given an integer array nums and an integer k, split nums into k non-empty subarrays such that \n",
    "# the largest sum of any subarray is minimized.\n",
    "\n",
    "# In the chocolate problem --> we need to maximize the smallest sum (in other words minimze the largest sum)\n",
    "\n",
    "\n",
    "#think how in the 2 questions range of possible solutions differ"
   ]
  },
  {
   "cell_type": "code",
   "execution_count": 17,
   "id": "e8ebf3b7",
   "metadata": {},
   "outputs": [],
   "source": [
    "#Think about logic to be used"
   ]
  },
  {
   "cell_type": "code",
   "execution_count": 14,
   "id": "2229b853",
   "metadata": {},
   "outputs": [],
   "source": [
    "# Example 1\n",
    "# Input: sweetness = [1,2,3,4,5,6,7,8,9], k = 5\n",
    "# Output: 6\n",
    "# Explanation: You can divide the chocolate to [1,2,3], [4,5], [6], [7], [8], [9]\n",
    "\n",
    "# Example 2:\n",
    "# Input: sweetness = [5,6,7,8,9,1,2,3,4], k = 8\n",
    "# Output: 1\n",
    "# Explanation: There is only one way to cut the bar into 9 pieces.\n",
    "    \n",
    "# Example 3:\n",
    "# Input: sweetness = [1,2,2,1,2,2,1,2,2], k = 2\n",
    "# Output: 5\n",
    "# Explanation: You can divide the chocolate to [1,2,2], [1,2,2], [1,2,2]\n"
   ]
  },
  {
   "cell_type": "code",
   "execution_count": 35,
   "id": "86bdbbe4",
   "metadata": {},
   "outputs": [],
   "source": [
    "sweetness = [1,2,3,4,5,6,7,8,9]\n",
    "k = 5"
   ]
  },
  {
   "cell_type": "code",
   "execution_count": 84,
   "id": "37311440",
   "metadata": {},
   "outputs": [],
   "source": [
    "class Solution:\n",
    "     def maximizeSweetness(self, sweetness, k) -> int:\n",
    "        sweetness.sort()\n",
    "        def min_subarrays_required(max_sum_allowed: int) -> int:\n",
    "            current_sum = 0\n",
    "            splits_required = 0\n",
    "            split_pieces = []\n",
    "            current_piece = []\n",
    "            for element in sweetness:\n",
    "                \n",
    "                # Add element only if the sum doesn't exceed max_sum_allowed\n",
    "                if current_sum + element <= max_sum_allowed:\n",
    "                    current_sum += element\n",
    "                    current_piece.append(element)\n",
    "                else:\n",
    "                    # If the element addition makes sum more than max_sum_allowed\n",
    "                    # Increment the splits required and reset sum\n",
    "                    current_sum = element\n",
    "                    split_pieces.append(current_piece)\n",
    "                    current_piece = [element]\n",
    "                    splits_required += 1\n",
    "\n",
    "            # Return the number of subarrays, which is the number of splits + 1\n",
    "            return (splits_required+1, split_pieces)\n",
    "        \n",
    "        # Define the left and right boundary of binary search\n",
    "        left = min(sweetness)\n",
    "        right = sum(sweetness)\n",
    "        \n",
    "        while  left <= right:\n",
    "            # Find the mid value\n",
    "            max_sum_allowed = (left + right) // 2\n",
    "            \n",
    "            # Find the minimum splits. If splits_required is less than\n",
    "            # or equal to m move towards left i.e., smaller values\n",
    "            sum_, pieces = min_subarrays_required(max_sum_allowed)\n",
    "            \n",
    "            if  sum_ <= (k+1):\n",
    "                right = max_sum_allowed - 1\n",
    "                \n",
    "            else:\n",
    "                # Move towards right if splits_required is more than m\n",
    "                left = max_sum_allowed + 1\n",
    "                minimum_largest_split_sum = max_sum_allowed\n",
    "                print(pieces)\n",
    "                maximum_total_sweetness = min([sum(i) for i in pieces])\n",
    "        \n",
    "        #return minimum_largest_split_sum\n",
    "        return maximum_total_sweetness, pieces"
   ]
  },
  {
   "cell_type": "code",
   "execution_count": 87,
   "id": "cb24785d",
   "metadata": {},
   "outputs": [
    {
     "name": "stdout",
     "output_type": "stream",
     "text": [
      "[[1, 1], [1], [2], [2], [2], [2], [2]]\n",
      "[[1, 1, 1], [2], [2], [2], [2], [2]]\n",
      "2 [[1, 1, 1], [2], [2], [2], [2], [2]]\n"
     ]
    }
   ],
   "source": [
    "sweetness = [1, 2, 3, 4, 5, 6, 7, 8, 9]\n",
    "k = 5\n",
    "# sweetness = [5,6,7,8,9,1,2,3,4]\n",
    "# k = 8\n",
    "sweetness = [1,2,2,1,2,2,1,2,2]\n",
    "k = 2\n",
    "\n",
    "max_, piece = Solution().maximizeSweetness(sweetness, k)\n",
    "print(max_, piece)"
   ]
  },
  {
   "cell_type": "code",
   "execution_count": 104,
   "id": "01dfc870",
   "metadata": {},
   "outputs": [],
   "source": [
    "#Still not gave the right ans\n",
    "class Solution:\n",
    "     def maximizeSweetness(self, sweetness, k) -> int:\n",
    "        sweetness.sort()\n",
    "        def min_subarrays_required(max_sum_allowed: int) -> int:\n",
    "            current_sum = 0\n",
    "            splits_required = 0\n",
    "            split_pieces = []\n",
    "            current_piece = []\n",
    "            for element in sweetness:\n",
    "                current_sum += element\n",
    "                # If the element addition makes sum more than max_sum_allowed\n",
    "                # Increment the splits required and reset sum\n",
    "                if current_sum >= max_sum_allowed:\n",
    "                    current_piece.append(element)\n",
    "                    split_pieces.append(current_piece)\n",
    "                    current_piece = []\n",
    "                    splits_required += 1\n",
    "                    \n",
    "                else:\n",
    "                    # Add element only if the sum doesn't exceed max_sum_allowed\n",
    "                    \n",
    "                    \n",
    "                    current_piece.append(element)\n",
    "\n",
    "            # Return the number of subarrays with sum greater than max sum allowed\n",
    "            return (splits_required, split_pieces)\n",
    "        \n",
    "        # Define the left and right boundary of binary search\n",
    "        left = min(sweetness)\n",
    "        right = sum(sweetness)\n",
    "        \n",
    "        while  left <= right:\n",
    "            # Find the mid value\n",
    "            max_sum_allowed = (left + right) // 2\n",
    "            \n",
    "            # Find the minimum splits. If splits_required is less than\n",
    "            # or equal to m move towards left i.e., smaller values\n",
    "            sum_, pieces = min_subarrays_required(max_sum_allowed)\n",
    "            \n",
    "            if  sum_ >= (k+1):\n",
    "                left = max_sum_allowed + 1\n",
    "                sum_, pieces = min_subarrays_required(left)\n",
    "                \n",
    "            else:\n",
    "                # Move towards right if splits_required is more than m\n",
    "                right = max_sum_allowed - 1\n",
    "                sum_, pieces = min_subarrays_required(right)\n",
    "#                 minimum_largest_split_sum = max_sum_allowed\n",
    "#                 print(pieces)\n",
    "#                 maximum_total_sweetness = min([sum(i) for i in pieces])\n",
    "        \n",
    "        #return minimum_largest_split_sum\n",
    "        return right, pieces"
   ]
  },
  {
   "cell_type": "code",
   "execution_count": 113,
   "id": "fbacca89",
   "metadata": {},
   "outputs": [
    {
     "name": "stdout",
     "output_type": "stream",
     "text": [
      "11 [[1, 1, 1, 2, 2, 2, 2, 2], [2]] 2\n"
     ]
    }
   ],
   "source": [
    "sweetness = [1, 2, 3, 4, 5, 6, 7, 8, 9]\n",
    "k = 5\n",
    "sweetness = [5,6,7,8,9,1,2,3,4] #This case gives the wrong ans\n",
    "k = 8\n",
    "sweetness = [1,2,2,1,2,2,1,2,2]\n",
    "k = 2\n",
    "\n",
    "max_, piece = Solution().maximizeSweetness(sweetness, k)\n",
    "print(max_, piece, min([sum(i) for i in piece]))"
   ]
  },
  {
   "cell_type": "code",
   "execution_count": null,
   "id": "c66b3883",
   "metadata": {},
   "outputs": [],
   "source": []
  },
  {
   "cell_type": "code",
   "execution_count": null,
   "id": "5706b3e3",
   "metadata": {},
   "outputs": [],
   "source": []
  },
  {
   "cell_type": "code",
   "execution_count": 79,
   "id": "11823927",
   "metadata": {},
   "outputs": [],
   "source": [
    "#Here possible valid values for minimum sum of subrray (X) = \n",
    "# max_value---> (sum of all elements)/number of people as this means we are attempting equal split\n",
    "# min_value---> minimum element in the array\n",
    "\n",
    "\n",
    "class Solution:\n",
    "    def maximizeSweetness(self, sweetness, k) -> int:\n",
    "        # Initialize the left and right boundaries.\n",
    "        # left = 1 and right = (total sweetness) / (number of people).\n",
    "        number_of_people = k + 1\n",
    "        left = min(sweetness)\n",
    "        right = sum(sweetness) // number_of_people\n",
    "        #right = sum(sweetness) \n",
    "        \n",
    "        while left <= right:\n",
    "            # Get the middle index between left and right boundary indexes.\n",
    "            # cur_sweetness stands for the total sweetness for the current person.\n",
    "            # people_with_chocolate stands for the number of people that have \n",
    "            # a piece of chocolate of sweetness greater than or equal to mid.  \n",
    "            mid = (left + right) // 2\n",
    "            cur_sweetness = 0\n",
    "            people_with_chocolate = 0\n",
    "            \n",
    "            # Start assigning chunks to the current person.\n",
    "            for s in sweetness:\n",
    "                cur_sweetness += s\n",
    "                \n",
    "                # If the total sweetness is no less than mid, this means we can break off\n",
    "                # the current piece and move on to assigning chunks to the next person.\n",
    "                if cur_sweetness >= mid:\n",
    "                    people_with_chocolate += 1\n",
    "                    cur_sweetness = 0\n",
    "\n",
    "            if people_with_chocolate >= k + 1:  #if there are more splits possibe for a given mid, \n",
    "                                                #we will increase the chunk sizes so left goes to mid \n",
    "                left = mid + 1\n",
    "            else:\n",
    "                right = mid - 1\n",
    "                \n",
    "        return right  #maximum sum possible on splitting sweetness among k+1 friends "
   ]
  },
  {
   "cell_type": "code",
   "execution_count": 80,
   "id": "6d54835f",
   "metadata": {},
   "outputs": [
    {
     "data": {
      "text/plain": [
       "5"
      ]
     },
     "execution_count": 80,
     "metadata": {},
     "output_type": "execute_result"
    }
   ],
   "source": [
    "sweetness = [1,2,2,1,2,2,1,2,2]\n",
    "k = 2\n",
    "Solution().maximizeSweetness(sweetness, k)"
   ]
  },
  {
   "cell_type": "markdown",
   "id": "c48f5757",
   "metadata": {},
   "source": [
    "### 1011. Capacity to ship packages within D days"
   ]
  },
  {
   "cell_type": "markdown",
   "id": "7a5fbfea",
   "metadata": {},
   "source": [
    "A conveyor belt has packages that must be shipped from one port to another within days days.\n",
    "\n",
    "The ith package on the conveyor belt has a weight of weights[i]. Each day, we load the ship with packages on the conveyor belt (in the order given by weights). We may not load more weight than the maximum weight capacity of the ship.\n",
    "\n",
    "Return the least weight capacity of the ship that will result in all the packages on the conveyor belt being shipped within days days."
   ]
  },
  {
   "cell_type": "code",
   "execution_count": null,
   "id": "47ff13e8",
   "metadata": {},
   "outputs": [],
   "source": [
    "#https://leetcode.com/problems/capacity-to-ship-packages-within-d-days/submissions/1450554890/\n",
    "# Example 1:\n",
    "\n",
    "# Input: weights = [1,2,3,4,5,6,7,8,9,10], days = 5\n",
    "# Output: 15\n",
    "# Explanation: A ship capacity of 15 is the minimum to ship all the packages in 5 days like this:\n",
    "# 1st day: 1, 2, 3, 4, 5\n",
    "# 2nd day: 6, 7\n",
    "# 3rd day: 8\n",
    "# 4th day: 9\n",
    "# 5th day: 10\n",
    "\n",
    "# Note that the cargo must be shipped in the order given, so using a ship of capacity 14 and splitting the packages into parts like (2, 3, 4, 5), (1, 6, 7), (8), (9), (10) is not allowed.\n",
    "\n",
    "# Example 2:\n",
    "\n",
    "# Input: weights = [3,2,2,4,1,4], days = 3\n",
    "# Output: 6\n",
    "# Explanation: A ship capacity of 6 is the minimum to ship all the packages in 3 days like this:\n",
    "# 1st day: 3, 2\n",
    "# 2nd day: 2, 4\n",
    "# 3rd day: 1, 4\n",
    "\n",
    "# Example 3:\n",
    "\n",
    "# Input: weights = [1,2,3,1,1], days = 4\n",
    "# Output: 3\n",
    "# Explanation:\n",
    "# 1st day: 1\n",
    "# 2nd day: 2\n",
    "# 3rd day: 3\n",
    "# 4th day: 1, 1\n"
   ]
  },
  {
   "cell_type": "code",
   "execution_count": 9,
   "id": "886d7a53",
   "metadata": {},
   "outputs": [],
   "source": [
    "from typing import List\n",
    "class Solution:\n",
    "    def shipWithinDays(self, weights: List[int], days: int) -> int:\n",
    "        capacity_range = list(range(max(weights), sum(weights) + 1))\n",
    "\n",
    "        def check(k):\n",
    "            days_to_load, start = 1, 0\n",
    "\n",
    "            for i in range(1, len(weights)):\n",
    "                if sum(weights[start : i + 1]) > k:\n",
    "                    days_to_load += 1\n",
    "                    start = i\n",
    "\n",
    "            return days_to_load\n",
    "\n",
    "        left = 0\n",
    "        right = len(capacity_range)\n",
    "        ans = []\n",
    "        while left < right:\n",
    "\n",
    "            mid = (left + right) // 2\n",
    "            days_to_load = check(capacity_range[mid])\n",
    "\n",
    "            if days_to_load == days:\n",
    "                #return capacity_range[mid]\n",
    "                ans.append(capacity_range[mid])\n",
    "                left = mid-2\n",
    "                right = mid\n",
    "                continue\n",
    "            \n",
    "            if days_to_load < days:\n",
    "                right = mid - 1\n",
    "            else:\n",
    "                left = mid + 1\n",
    "        if len(ans)==0:\n",
    "            return capacity_range[left]\n",
    "        else: return min(ans)"
   ]
  },
  {
   "cell_type": "code",
   "execution_count": 17,
   "id": "1a6b686f",
   "metadata": {},
   "outputs": [
    {
     "data": {
      "text/plain": [
       "[163]"
      ]
     },
     "execution_count": 17,
     "metadata": {},
     "output_type": "execute_result"
    }
   ],
   "source": [
    "Solution().shipWithinDays([10,50,100,100,50,100,100,100], 5)"
   ]
  },
  {
   "cell_type": "code",
   "execution_count": 32,
   "id": "19ed04fc",
   "metadata": {},
   "outputs": [
    {
     "name": "stdout",
     "output_type": "stream",
     "text": [
      "0 511\n",
      "0 254\n",
      "0 126\n",
      "[163] 63 61 63\n",
      "61 63\n",
      "[163, 162] 62 60 62\n",
      "60 62\n",
      "[163, 162, 161] 61 59 61\n",
      "59 61\n",
      "[163, 162, 161, 160] 60 58 60\n",
      "58 60\n"
     ]
    }
   ],
   "source": [
    "left = 0\n",
    "right = len(capacity_range)\n",
    "ans = []\n",
    "days = 5\n",
    "while left < right:\n",
    "    print(left, right)\n",
    "    mid = (left + right) // 2\n",
    "    days_to_load = check(capacity_range[mid])\n",
    "\n",
    "    if days_to_load == days:\n",
    "        #return capacity_range[mid]\n",
    "        ans.append(capacity_range[mid])\n",
    "        \n",
    "        left = mid-2\n",
    "        right = mid\n",
    "        print(ans, mid, left, right)\n",
    "        continue\n",
    "\n",
    "    if days_to_load < days:\n",
    "        right = mid - 1\n",
    "    else:\n",
    "        left = mid + 1\n",
    "        "
   ]
  },
  {
   "cell_type": "code",
   "execution_count": 31,
   "id": "c39a8d04",
   "metadata": {},
   "outputs": [
    {
     "data": {
      "text/plain": [
       "6"
      ]
     },
     "execution_count": 31,
     "metadata": {},
     "output_type": "execute_result"
    }
   ],
   "source": [
    "check(capacity_range[59])"
   ]
  },
  {
   "cell_type": "code",
   "execution_count": 30,
   "id": "6d465503",
   "metadata": {},
   "outputs": [
    {
     "data": {
      "text/plain": [
       "6"
      ]
     },
     "execution_count": 30,
     "metadata": {},
     "output_type": "execute_result"
    }
   ],
   "source": [
    "weights = [10,50,100,100,50,100,100,100]\n",
    "capacity_range = list(range(max(weights), sum(weights) + 1))\n",
    "\n",
    "def check(k):\n",
    "    days_to_load, start = 1, 0\n",
    "\n",
    "    for i in range(1, len(weights)):\n",
    "        if sum(weights[start : i + 1]) > k:\n",
    "            days_to_load += 1\n",
    "            start = i\n",
    "\n",
    "    return days_to_load\n",
    "check(159)"
   ]
  },
  {
   "cell_type": "code",
   "execution_count": 14,
   "id": "3569a634",
   "metadata": {},
   "outputs": [
    {
     "data": {
      "text/plain": [
       "63"
      ]
     },
     "execution_count": 14,
     "metadata": {},
     "output_type": "execute_result"
    }
   ],
   "source": [
    "capacity_range.index(163)"
   ]
  },
  {
   "cell_type": "code",
   "execution_count": 15,
   "id": "85326fb7",
   "metadata": {},
   "outputs": [
    {
     "data": {
      "text/plain": [
       "(161, 163)"
      ]
     },
     "execution_count": 15,
     "metadata": {},
     "output_type": "execute_result"
    }
   ],
   "source": [
    "capacity_range[61], capacity_range[63]"
   ]
  },
  {
   "cell_type": "code",
   "execution_count": 16,
   "id": "def57208",
   "metadata": {},
   "outputs": [
    {
     "data": {
      "text/plain": [
       "5"
      ]
     },
     "execution_count": 16,
     "metadata": {},
     "output_type": "execute_result"
    }
   ],
   "source": [
    "check(162)"
   ]
  },
  {
   "cell_type": "markdown",
   "id": "8842d6b9",
   "metadata": {},
   "source": [
    "### (Hard) Split Array Large Sum, note : Subarray"
   ]
  },
  {
   "cell_type": "code",
   "execution_count": 76,
   "id": "47857b4b",
   "metadata": {},
   "outputs": [],
   "source": [
    "# Given an integer array nums and an integer k, split nums into k non-empty subarrays such that \n",
    "# the largest sum of any subarray is minimized. \n",
    "\n",
    "# (maximizing largest sum is easy as it just requires sorting,\n",
    "# giving first k-1 elements to subarrays and keeping the remainder of array for largest subarray )\n",
    "\n",
    "# Return the minimized largest sum of the split. \n",
    "\n",
    "# A subarray is a contiguous part of the array."
   ]
  },
  {
   "cell_type": "code",
   "execution_count": 16,
   "id": "0a4a852c",
   "metadata": {},
   "outputs": [],
   "source": [
    "# Example 1:\n",
    "\n",
    "# Input: nums = [7,2,5,10,8], k = 2\n",
    "# Output: 18\n",
    "# Explanation: There are four ways to split nums into two subarrays.\n",
    "# The best way is to split it into [7,2,5] and [10,8], where the largest sum among \n",
    "# the two subarrays is only 18.\n",
    "\n",
    "\n",
    "# Example 2:\n",
    "\n",
    "# Input: nums = [1,2,3,4,5], k = 2\n",
    "# Output: 9\n",
    "# Explanation: There are four ways to split nums into two subarrays.\n",
    "# The best way is to split it into [1,2,3] and [4,5], where the largest sum among \n",
    "# the two subarrays is only 9.\n",
    "\n"
   ]
  },
  {
   "cell_type": "code",
   "execution_count": null,
   "id": "4e0a3f80",
   "metadata": {},
   "outputs": [],
   "source": []
  },
  {
   "cell_type": "markdown",
   "id": "3b1fed36",
   "metadata": {},
   "source": [
    "Approach 3: Binary Search\n",
    "\n",
    "Intuition\n",
    "\n",
    "This approach is quite different from the previous approaches. The characteristics of this problem are a good fit for the dynamic programming solution hence, it's easy to overlook the idea of using binary search. This problem satisfies the property that we can guess the answer (the minimum largest sum subarray value) and check if that value was too high or too low, thus narrowing our search space. It requires a different perspective to think of this approach, but after realizing that this problem is a candidate for a binary search solution, it becomes easier to implement than the previous approaches.\n",
    "\n",
    "The goal of this problem is to find the minimum largest subarray sum with m subarrays. Instead of finding the answer directly, what if we try to guess the answer (say X), and check whether this particular value could be the largest subarray sum with m subarrays. If this is possible, we can check all values for X≥0, and the first value that satisfies the condition will be the answer. Thus, by repeatedly solving the following problem, we can find the minimum largest subarray sum needed to split nums into m subarrays:"
   ]
  },
  {
   "cell_type": "code",
   "execution_count": null,
   "id": "b0081ab2",
   "metadata": {},
   "outputs": [],
   "source": [
    "#<<<<<<<<<<<<<<<<<<< Intiution >>>>>>>>>>>>>>>>>>>\n",
    "#Given an array of n integers and a value X, determine the minimum number of subarrays the array \n",
    "#needs to be \n",
    "#divided into such that no subarray sum is greater than X.\n",
    "#Determine minimum X such that number of subarrays are a specified number"
   ]
  },
  {
   "cell_type": "markdown",
   "id": "5c654c01",
   "metadata": {},
   "source": [
    "If the minimum number of subarrays required is less than or equal to m then the value X could be the largest subarray sum.\n",
    "\n",
    "The solution to this newly defined problem is as follows\n",
    "\n",
    "    First, make sure X is greater than or equal to the maximum element in the array. Otherwise, no solution would be possible because we cannot divide an element.\n",
    "    Start from 0th index and keep adding elements to sum only if adding the element does not make sum greater than X.\n",
    "    If adding the current element would make the sum greater than X then we have to split the subarray here. So we will increment the number of splits required (splitsRequired) and set sum to the value of current element (signifying that the current subarray only contains the current element).\n",
    "    Once we traversed the whole array, return splitsRequired + 1. This is the minimum number of subarrays required.\n",
    "\n",
    "Now the problem with the current solution is that the value of X can be as large as the sum of integers in the given array. Hence, checking for all values of X is not feasible.\n",
    "\n",
    "The key observation here is that if we are able to split the array into m or fewer subarrays for a value X then we will also be able to do it for any value greater than X. This is because the number of subarrays would be even less in case of any value greater than X. Similarly, if it's not possible for a value X it will not be possible to have m or fewer splits for any value less than X."
   ]
  },
  {
   "cell_type": "code",
   "execution_count": 34,
   "id": "9224fcb0",
   "metadata": {},
   "outputs": [],
   "source": [
    "#Therefore, instead of searching linearly for X, we can do a binary search! \n",
    "#If we can split the array into m or fewer subarrays all with a sum that is less than or equal to X \n",
    "#then we will try a smaller value for X otherwise we will try a larger value for X. \n",
    "#Each time we will select X so that we reduce the size of the search space by half."
   ]
  },
  {
   "cell_type": "markdown",
   "id": "3744a9a7",
   "metadata": {},
   "source": [
    "Algorithm\n",
    "\n",
    "    Store the sum of elements in nums in the variable sum and the maximum element of the array in maxElement.\n",
    "\n",
    "    Initialize the boundary for binary search. The minimum value for the largest subarray sum is maxElement and the maximum value is equal to sum. Hence assign left and right to maxElement and sum respectively.\n",
    "\n",
    "    Then while the left is not greater than right:\n",
    "\n",
    "    a. Find the mid-value in range [left, right], this is equal to the maximum subarray sum allowed. Store it in maxSumAllowed.\n",
    "\n",
    "    b. Find the minimum number of subarrays required to have the largest subarray sum equal to maxSumAllowed.\n",
    "        If the number of subarrays is less than or equal to m then assign maxSumAllowed as the answer minimumLargestSplitSum and decrease the value of our right boundary.\n",
    "        If the number of subarrays is more than m this can't be the answer hence, increase the value of our left boundary.\n",
    "\n",
    "    Return minimumLargestSplitSum.\n"
   ]
  },
  {
   "cell_type": "code",
   "execution_count": 71,
   "id": "338af971",
   "metadata": {},
   "outputs": [],
   "source": [
    "#Here possible valid values for maximum sum of subrray (X) = max_value---> sum of all elements\n",
    "#min_value---> maximum element in the array\n",
    "\n",
    "\n",
    "# splits required stands count of splits where each split has sum less than max_sum_allowed  \n",
    "  \n",
    "\n",
    "class Solution:\n",
    "    def splitArray(self, nums: List[int], m: int) -> int:\n",
    "        \n",
    "        def min_subarrays_required(max_sum_allowed: int) -> int:\n",
    "            current_sum = 0\n",
    "            splits_required = 0\n",
    "            \n",
    "            for element in nums:\n",
    "                # Add element only if the sum doesn't exceed max_sum_allowed\n",
    "                if current_sum + element <= max_sum_allowed:\n",
    "                    current_sum += element\n",
    "                else:\n",
    "                    # If the element addition makes sum more than max_sum_allowed\n",
    "                    # Increment the splits required and reset sum\n",
    "                    current_sum = element\n",
    "                    splits_required += 1\n",
    "\n",
    "            # Return the number of subarrays, which is the number of splits + 1\n",
    "            return splits_required + 1\n",
    "        \n",
    "        # Define the left and right boundary of binary search\n",
    "        left = max(nums)\n",
    "        right = sum(nums)\n",
    "        while left <= right:\n",
    "            # Find the mid value\n",
    "            max_sum_allowed = (left + right) // 2\n",
    "            \n",
    "            # Find the minimum splits. If splits_required is less than\n",
    "            # or equal to m move towards left i.e., smaller values\n",
    "            if min_subarrays_required(max_sum_allowed) <= m:\n",
    "                right = max_sum_allowed - 1\n",
    "                minimum_largest_split_sum = max_sum_allowed\n",
    "            else:\n",
    "                # Move towards right if splits_required is more than m\n",
    "                left = max_sum_allowed + 1\n",
    "        \n",
    "        return minimum_largest_split_sum"
   ]
  },
  {
   "cell_type": "code",
   "execution_count": 2,
   "id": "d3548ae6",
   "metadata": {},
   "outputs": [],
   "source": [
    "#DP Solution Top Down\n",
    "from typing import List\n",
    "class Solution:\n",
    "    def splitArray(self, nums: List[int], m: int) -> int:\n",
    "        n = len(nums)\n",
    "        \n",
    "        # Create a prefix sum array of nums.\n",
    "        prefix_sum = [0] + list(itertools.accumulate(nums))\n",
    "        \n",
    "        @functools.lru_cache(None)\n",
    "        def get_min_largest_split_sum(curr_index: int, subarray_count: int):\n",
    "            # Base Case: If there is only one subarray left, then all of the remaining numbers\n",
    "            # must go in the current subarray. So return the sum of the remaining numbers.\n",
    "            if subarray_count == 1:\n",
    "                return prefix_sum[n] - prefix_sum[curr_index]\n",
    "        \n",
    "            # Otherwise, use the recurrence relation to determine the minimum largest subarray sum\n",
    "            # between curr_index and the end of the array with subarray_count subarrays remaining.\n",
    "            minimum_largest_split_sum = prefix_sum[n]\n",
    "            for i in range(curr_index, n - subarray_count + 1):\n",
    "                # Store the sum of the first subarray.\n",
    "                first_split_sum = prefix_sum[i + 1] - prefix_sum[curr_index]\n",
    "\n",
    "                # Find the maximum subarray sum for the current first split.\n",
    "                largest_split_sum = max(first_split_sum, \n",
    "                                        get_min_largest_split_sum(i + 1, subarray_count - 1))\n",
    "\n",
    "                # Find the minimum among all possible combinations.\n",
    "                minimum_largest_split_sum = min(minimum_largest_split_sum, largest_split_sum)\n",
    "\n",
    "                if first_split_sum >= minimum_largest_split_sum:\n",
    "                    break\n",
    "            \n",
    "            return minimum_largest_split_sum\n",
    "        \n",
    "        return get_min_largest_split_sum(0, m)"
   ]
  },
  {
   "cell_type": "markdown",
   "id": "8ae5b688",
   "metadata": {},
   "source": [
    "### 2070 Most Beautiful item "
   ]
  },
  {
   "cell_type": "code",
   "execution_count": null,
   "id": "2e5b415d",
   "metadata": {},
   "outputs": [],
   "source": [
    "\n",
    "# You are given a 2D integer array items where items[i] = [pricei, beautyi] denotes the price and beauty \n",
    "# of an item respectively.\n",
    "\n",
    "# You are also given a 0-indexed integer array queries. For each queries[j], you want to determine \n",
    "# the maximum beauty of an item \n",
    "# whose price is less than or equal to queries[j]. If no such item exists, \n",
    "# then the answer to this query is 0.\n",
    "\n",
    "# Return an array answer of the same length as queries where answer[j] is the answer to the jth query.\n",
    "\n",
    " \n",
    "\n",
    "# Example 1:\n",
    "\n",
    "# Input: items = [[1,2],[3,2],[2,4],[5,6],[3,5]], queries = [1,2,3,4,5,6]\n",
    "# Output: [2,4,5,5,6,6]\n",
    "# Explanation:\n",
    "# - For queries[0]=1, [1,2] is the only item which has price <= 1. Hence, the answer for this query is 2.\n",
    "# - For queries[1]=2, the items which can be considered are [1,2] and [2,4]. \n",
    "#   The maximum beauty among them is 4.\n",
    "# - For queries[2]=3 and queries[3]=4, the items which can be considered are [1,2], [3,2], [2,4], and [3,5].\n",
    "#   The maximum beauty among them is 5.\n",
    "# - For queries[4]=5 and queries[5]=6, all items can be considered.\n",
    "#   Hence, the answer for them is the maximum beauty of all items, i.e., 6.\n",
    "\n",
    "# Example 2:\n",
    "\n",
    "# Input: items = [[1,2],[1,2],[1,3],[1,4]], queries = [1]\n",
    "# Output: [4]\n",
    "# Explanation: \n",
    "# The price of every item is equal to 1, so we choose the item with the maximum beauty 4. \n",
    "# Note that multiple items can have the same price and/or beauty.  \n",
    "\n",
    "# Example 3:\n",
    "\n",
    "# Input: items = [[10,1000]], queries = [5]\n",
    "# Output: [0]\n",
    "# Explanation:\n",
    "# No item has a price less than or equal to 5, so no item can be chosen.\n",
    "# Hence, the answer to the query is 0.\n"
   ]
  },
  {
   "cell_type": "code",
   "execution_count": null,
   "id": "cbf69229",
   "metadata": {},
   "outputs": [],
   "source": [
    "#TLE\n",
    "import heapq\n",
    "class Solution:\n",
    "    def maximumBeauty(self, items: List[List[int]], queries: List[int]) -> List[int]:\n",
    "        heap = []\n",
    "        ans = []\n",
    "        for item in items:\n",
    "            \n",
    "            heapq.heappush(heap, (item[0], item[1]))\n",
    "        for _ in range(len(heap)):\n",
    "            ans.append(heapq.heappop(heap))\n",
    "        prices = [i[0] for i in ans ]\n",
    "        beauty = [i[1] for i in ans] \n",
    "\n",
    "        def binary_search(target):\n",
    "            left = 0\n",
    "            right = len(prices)\n",
    "            while left < right:\n",
    "                mid = (left + right) // 2\n",
    "                if prices[mid] > target:\n",
    "                    right = mid\n",
    "                else:\n",
    "                    left = mid + 1\n",
    "\n",
    "            return left\n",
    "        \n",
    "        final_ans = []\n",
    "        for i in queries:\n",
    "            index1 = binary_search(i)\n",
    "            try:\n",
    "                final_ans.append(max(beauty[:index1]))\n",
    "            except:\n",
    "                final_ans.append(0)\n",
    "        \n",
    "        return final_ans"
   ]
  },
  {
   "cell_type": "code",
   "execution_count": null,
   "id": "5f88d4b2",
   "metadata": {},
   "outputs": [],
   "source": [
    "#TLE , without Heaps\n",
    "\n",
    "class Solution:\n",
    "    def maximumBeauty(self, items: List[List[int]], queries: List[int]) -> List[int]:\n",
    "        # heap = []\n",
    "        # ans = []\n",
    "        # for item in items:\n",
    "            \n",
    "        #     heapq.heappush(heap, (item[0], item[1]))\n",
    "        # for _ in range(len(heap)):\n",
    "        #     ans.append(heapq.heappop(heap))\n",
    "        items.sort()\n",
    "        prices = [i[0] for i in items ]\n",
    "        beauty = [i[1] for i in items] \n",
    "\n",
    "        def binary_search(target): #intead of this use bisect.bisect_left()\n",
    "            left = 0\n",
    "            right = len(prices)\n",
    "            while left < right:\n",
    "                mid = (left + right) // 2\n",
    "                if prices[mid] > target:\n",
    "                    right = mid\n",
    "                else:\n",
    "                    left = mid + 1\n",
    "\n",
    "            return left\n",
    "        \n",
    "        final_ans = []\n",
    "        for i in queries:\n",
    "            index1 = binary_search(i)\n",
    "            try:\n",
    "                final_ans.append(max(beauty[:index1]))\n",
    "            except:\n",
    "                final_ans.append(0)\n",
    "        \n",
    "        return final_ans"
   ]
  },
  {
   "cell_type": "code",
   "execution_count": 114,
   "id": "53c2f49e",
   "metadata": {},
   "outputs": [],
   "source": [
    "# https://www.youtube.com/watch?v=P9wifJRXmbQ\n",
    "# Better Solution"
   ]
  },
  {
   "cell_type": "code",
   "execution_count": null,
   "id": "70eed413",
   "metadata": {},
   "outputs": [],
   "source": [
    "class Solution:\n",
    "    def maximumBeauty(self, items: List[List[int]], queries: List[int]) -> List[int]:\n",
    "        items.sort(key = lambda item: (item[0], -item[1]))\n",
    "        \n",
    "        #max beauty so far\n",
    "        best = 0\n",
    "        pitems = []\n",
    "        for p, b in items:\n",
    "            best = max(b, best)\n",
    "            pitems.append((p, best))\n",
    "            \n",
    "            \n",
    "        ans = []\n",
    "        for q in queries:\n",
    "            index = bisect.bisect_left(pitems, (q+1, 1))\n",
    "            \n",
    "            if index-1 >= 0:\n",
    "                ans.append(pitems[index-1][1])\n",
    "            else:\n",
    "                ans.append(0)\n",
    "        return ans"
   ]
  },
  {
   "cell_type": "markdown",
   "id": "c1438261",
   "metadata": {},
   "source": [
    "### 2517 Maximum Tastiness of Candy Basket"
   ]
  },
  {
   "cell_type": "code",
   "execution_count": null,
   "id": "2f1b52fa",
   "metadata": {},
   "outputs": [],
   "source": [
    "# You are given an array of positive integers price where price[i] denotes the price of the ith candy\n",
    "# and a positive integer k.\n",
    "# The store sells baskets of k distinct candies. \n",
    "# The tastiness of a candy basket is the smallest absolute difference of the prices of any two candies\n",
    "# in the basket.\n",
    "\n",
    "# Return the maximum tastiness of a candy basket.\n",
    "\n",
    " \n",
    "\n",
    "# Example 1:\n",
    "\n",
    "# Input: price = [13,5,1,8,21,2], k = 3\n",
    "# Output: 8\n",
    "# Explanation: Choose the candies with the prices [13,5,21].\n",
    "# The tastiness of the candy basket is: min(|13 - 5|, |13 - 21|, |5 - 21|) = min(8, 8, 16) = 8.\n",
    "# It can be proven that 8 is the maximum tastiness that can be achieved.\n",
    "\n",
    "# Example 2:\n",
    "\n",
    "# Input: price = [1,3,1], k = 2\n",
    "# Output: 2\n",
    "# Explanation: Choose the candies with the prices [1,3].\n",
    "# The tastiness of the candy basket is: min(|1 - 3|) = min(2) = 2.\n",
    "# It can be proven that 2 is the maximum tastiness that can be achieved.\n",
    "\n",
    "# Example 3:\n",
    "\n",
    "# Input: price = [7,7,7,7], k = 2\n",
    "# Output: 0\n",
    "# Explanation: Choosing any two distinct candies from the candies we have will result in a tastiness of 0.\n"
   ]
  },
  {
   "cell_type": "code",
   "execution_count": 15,
   "id": "13d6ef67",
   "metadata": {},
   "outputs": [
    {
     "data": {
      "text/plain": [
       "[1, 3, 3, 5, 8]"
      ]
     },
     "execution_count": 15,
     "metadata": {},
     "output_type": "execute_result"
    }
   ],
   "source": [
    "#Find if you can have a subset of 3 with atleast elements having absolute difference as x\n",
    "\n",
    "nums = [1, 2, 5, 8, 13, 21]\n",
    "#take 1 if 1+x = 2 or more is present, it is [1, 2]\n",
    "diff_lst = [nums[i+1]-nums[i] for i in range(len(nums)-1)]\n",
    "diff_lst"
   ]
  },
  {
   "cell_type": "code",
   "execution_count": null,
   "id": "d5f59057",
   "metadata": {},
   "outputs": [],
   "source": [
    "# Claim: if you are selecting 3 elements then the min difference in any selected triplet = 8, because 8\n",
    "# is the max difference between two consecutive element and third element can't be in between these 2\n",
    "# as these 2 with diff = 8 are consecutive\n",
    "# Reason to reject above : but thats not true as we can choose not to select one of these  2 (or both) \n",
    "# and can have 3 elements with min \n",
    "# distance between them as less than 8 for ex- we can take (1, 2, 5) and min distance is 1 here "
   ]
  },
  {
   "cell_type": "code",
   "execution_count": null,
   "id": "d256971a",
   "metadata": {},
   "outputs": [],
   "source": [
    "# Here I cant have anything less than or equal to 1+3+3+5+8=20 (same as max - min) as difference \n",
    "# between 2 selected elements, so thats my solution range\n"
   ]
  },
  {
   "cell_type": "code",
   "execution_count": 16,
   "id": "fe8b9e1a",
   "metadata": {},
   "outputs": [
    {
     "data": {
      "text/plain": [
       "[15, 26, 34, 42, 56, 69, 83, 116, 150]"
      ]
     },
     "execution_count": 16,
     "metadata": {},
     "output_type": "execute_result"
    }
   ],
   "source": [
    "sorted([34,116,83,15,150,56,69,42,26])"
   ]
  },
  {
   "cell_type": "code",
   "execution_count": 18,
   "id": "7479ec90",
   "metadata": {},
   "outputs": [
    {
     "data": {
      "text/plain": [
       "[11, 8, 8, 14, 13, 14, 33, 34]"
      ]
     },
     "execution_count": 18,
     "metadata": {},
     "output_type": "execute_result"
    }
   ],
   "source": [
    "nums = [15, 26, 34, 42, 56, 69, 83, 116, 150]\n",
    "diff_lst = [nums[i+1]-nums[i] for i in range(len(nums)-1)]\n",
    "diff_lst"
   ]
  },
  {
   "cell_type": "code",
   "execution_count": 25,
   "id": "805527ad",
   "metadata": {},
   "outputs": [],
   "source": [
    "#Try to imagine below on the number line"
   ]
  },
  {
   "cell_type": "code",
   "execution_count": 24,
   "id": "d9e83c99",
   "metadata": {},
   "outputs": [
    {
     "data": {
      "text/plain": [
       "9"
      ]
     },
     "execution_count": 24,
     "metadata": {},
     "output_type": "execute_result"
    }
   ],
   "source": [
    "# diff_lst = [11, 8, 8, 14, 13, 14, 33, 34]\n",
    "# min sum of any 2 pairs in diff_list: 8+8=16 (two smallest elements in diff_list) \n",
    "# corresponding to 15-26 and 34-42\n",
    "# how many pairs we can make with sum greater than equal to 16? definetly more than 6\n",
    "# what about x = 17?\n",
    "# (11, 8),(8, 14),(13, 14), (33),(34) this is exactly 6\n",
    "# what about x =18?\n",
    "# (11, 8),(8, 14),(13, 14), (33),(34) this is exactly 6\n",
    "# what about x =19?\n",
    "# (11, 8),(8, 14),(13, 14), (33),(34) this is exactly 6\n",
    "# what about x =20?\n",
    "# (11,8,8),(14, 13), (14, 33),(34) this is exactly 5\n",
    "\n",
    "\n",
    "#so this is just a split marking question on diff_list where we break subarray if its \n",
    "#sum is greater than x\n",
    "\n",
    "x = 20\n",
    "x = 5\n",
    "curr_sum = 0\n",
    "split = 1\n",
    "for num in diff_lst:\n",
    "    curr_sum += num\n",
    "    if curr_sum >=x:\n",
    "        split += 1\n",
    "        curr_sum = 0\n",
    "split\n",
    "        \n",
    "        \n",
    "    \n"
   ]
  },
  {
   "cell_type": "markdown",
   "id": "93c35ba5",
   "metadata": {},
   "source": [
    "Intiution: \n",
    "\n",
    "Using Binary Search to find threshold of Solution Space.\n",
    "\n",
    "\n",
    "\n",
    "Approach:\n",
    "\n",
    "Step 1: Sort the price and find the distance between consequitive elemnts. \n",
    "Imagine this on a number line, sorting the price list and finding difference shows exact distance to the immediately next existing element in price list.\n",
    "\n",
    "Step 2: We try to find how much far can the selected elements can be spread out such that maintaing that distance we are still able to select k elements.  We set up binary search framework for this. Iteratively we search in the solution space for maximum distance x for which we are able to select k elemnts speard out on the number line."
   ]
  },
  {
   "cell_type": "code",
   "execution_count": null,
   "id": "a0b0ab0d",
   "metadata": {},
   "outputs": [],
   "source": [
    "class Solution:\n",
    "    def maximumTastiness(self, price: List[int], k: int) -> int:\n",
    "        price.sort()\n",
    "        dist_lst = [price[i+1]-price[i] for i in range(len(price)-1)]\n",
    "        \n",
    "        def check(x):\n",
    "            \n",
    "            distance = 0\n",
    "            selections = 1 #starting from first element with distance set as 0 from itself\n",
    "            for dist in dist_lst:\n",
    "                distance += dist\n",
    "                if distance >=x:\n",
    "                    selections += 1\n",
    "                    distance = 0 #we are at a new element\n",
    "            return selections  \n",
    "        \n",
    "        left = 0\n",
    "        right = price[-1]\n",
    "\n",
    "        while left <= right:\n",
    "            mid= (left+right)//2\n",
    "\n",
    "            if check(mid) >= k:\n",
    "                left = mid +1\n",
    "            else:\n",
    "                right = mid-1\n",
    "        \n",
    "        return right"
   ]
  },
  {
   "cell_type": "markdown",
   "id": "4c09bff8",
   "metadata": {},
   "source": [
    "### 53 Maximum Subarray "
   ]
  },
  {
   "cell_type": "code",
   "execution_count": 1,
   "id": "bb2a1b13",
   "metadata": {},
   "outputs": [],
   "source": [
    "# Given an integer array nums, find the\n",
    "# subarray\n",
    "# with the largest sum, and return its sum.\n",
    "\n",
    " \n",
    "\n",
    "# Example 1:\n",
    "\n",
    "# Input: nums = [-2,1,-3,4,-1,2,1,-5,4]\n",
    "# Output: 6\n",
    "# Explanation: The subarray [4,-1,2,1] has the largest sum 6.\n",
    "\n",
    "# Example 2:\n",
    "\n",
    "# Input: nums = [1]\n",
    "# Output: 1\n",
    "# Explanation: The subarray [1] has the largest sum 1.\n",
    "\n",
    "# Example 3:\n",
    "\n",
    "# Input: nums = [5,4,-1,7,8]\n",
    "# Output: 23\n",
    "# Explanation: The subarray [5,4,-1,7,8] has the largest sum 23.\n"
   ]
  },
  {
   "cell_type": "code",
   "execution_count": 3,
   "id": "cad68ea7",
   "metadata": {},
   "outputs": [],
   "source": [
    "# Got TLE\n",
    "\n",
    "from typing import List\n",
    "class Solution:\n",
    "    def maxSubArray(self, nums: List[int]) -> int:\n",
    "        #using binary search here\n",
    "        \n",
    "        if len(nums)==1:\n",
    "            return nums[0]\n",
    "\n",
    "        positive_sum =  0\n",
    "        \n",
    "        for i in nums:\n",
    "            if i>=0: positive_sum+=i\n",
    "        \n",
    "        negative_sum = sum(nums) - positive_sum \n",
    "        \n",
    "        \n",
    "        def check(k):\n",
    "            counts = defaultdict(int)\n",
    "            counts[0] = 1\n",
    "            ans = curr = 0\n",
    "\n",
    "            for num in nums:\n",
    "                curr += num              \n",
    "                \n",
    "                \n",
    "                ans += counts[curr - k]\n",
    "                \n",
    "                counts[curr] += 1\n",
    "                if ans>0: return True\n",
    "        \n",
    "            return False         \n",
    "        \n",
    "        \n",
    "        left = negative_sum\n",
    "        right = positive_sum\n",
    "\n",
    "        # while left <= right:\n",
    "        #     mid = (left+right) //2\n",
    "            \n",
    "            \n",
    "        #     if check(mid):\n",
    "        #         left = mid+1\n",
    "        #     else:\n",
    "        #         right = mid-1\n",
    "        \n",
    "        # return right\n",
    "        max_ans = left\n",
    "        \n",
    "        for i in range(right, left-1, -1):\n",
    "            if check(i):\n",
    "                max_ans = i\n",
    "                break\n",
    "        \n",
    "        return max_ans"
   ]
  },
  {
   "cell_type": "code",
   "execution_count": 4,
   "id": "b799c628",
   "metadata": {},
   "outputs": [],
   "source": [
    "#Actually this can be solved using 2 pointer or sliding window"
   ]
  },
  {
   "cell_type": "code",
   "execution_count": null,
   "id": "5937f8b2",
   "metadata": {},
   "outputs": [],
   "source": [
    "#Solution 1\n",
    "\n",
    "class Solution:\n",
    "    def maxSubArray(self, nums: List[int]) -> int:\n",
    "        maxSum = nums[0]\n",
    "        curSum = 0\n",
    "\n",
    "        for n in nums:\n",
    "            curSum = max(curSum, 0)\n",
    "            curSum += n\n",
    "            maxSum = max(maxSum, curSum)\n",
    "        return maxSum"
   ]
  },
  {
   "cell_type": "code",
   "execution_count": 6,
   "id": "1d188cfe",
   "metadata": {},
   "outputs": [],
   "source": [
    "#Solution 2: Even better Solution O(n)\n",
    "class Solution:\n",
    "    def maxSubArray(self, nums: List[int]) -> int:\n",
    "        maxSum = nums[0]\n",
    "        curSum = 0\n",
    "        maxL, maxR = 0, 0\n",
    "        L = 0\n",
    "\n",
    "        for R in range(len(nums)):\n",
    "            if curSum < 0:\n",
    "                curSum = 0\n",
    "                L = R\n",
    "\n",
    "            curSum += nums[R]\n",
    "            if curSum > maxSum:\n",
    "                maxSum = curSum\n",
    "                maxL, maxR = L, R \n",
    "        \n",
    "        return sum(nums[maxL:maxR+1])"
   ]
  },
  {
   "cell_type": "markdown",
   "id": "4878f795",
   "metadata": {},
   "source": [
    "### Most Profit Assigning Work"
   ]
  },
  {
   "cell_type": "code",
   "execution_count": null,
   "id": "d6c99272",
   "metadata": {},
   "outputs": [],
   "source": [
    "# https://leetcode.com/problems/most-profit-assigning-work/description/"
   ]
  },
  {
   "cell_type": "markdown",
   "id": "8868b867",
   "metadata": {},
   "source": [
    "You have n jobs and m workers. You are given three arrays: difficulty, profit, and worker where:\n",
    "\n",
    "    difficulty[i] and profit[i] are the difficulty and the profit of the ith job, and\n",
    "    worker[j] is the ability of jth worker (i.e., the jth worker can only complete a job with difficulty at most worker[j]).\n",
    "\n",
    "Every worker can be assigned at most one job, but one job can be completed multiple times.\n",
    "\n",
    "    For example, if three workers attempt the same job that pays $1, then the total profit will be $3. If a worker cannot complete any job, their profit is $0.\n",
    "\n",
    "Return the maximum profit we can achieve after assigning the workers to the jobs."
   ]
  },
  {
   "cell_type": "code",
   "execution_count": 1,
   "id": "0ca6c2cc",
   "metadata": {},
   "outputs": [],
   "source": [
    "# Example 1:\n",
    "\n",
    "# Input: difficulty = [2,4,6,8,10], profit = [10,20,30,40,50], worker = [4,5,6,7]\n",
    "# Output: 100\n",
    "# Explanation: Workers are assigned jobs of difficulty [4,4,6,6] and they get a profit of [20,20,30,30] separately.\n",
    "\n",
    "# Example 2:\n",
    "\n",
    "# Input: difficulty = [85,47,57], profit = [24,66,99], worker = [40,25,25]\n",
    "# Output: 0\n"
   ]
  },
  {
   "cell_type": "code",
   "execution_count": 71,
   "id": "f15b5c0c",
   "metadata": {},
   "outputs": [],
   "source": [
    "from collections import defaultdict\n",
    "def binary_search(arr, target):\n",
    "    left = 0\n",
    "    right = len(arr)\n",
    "    while left < right:\n",
    "        mid = (left + right) // 2\n",
    "        if arr[mid] > target:\n",
    "            right = mid\n",
    "        else:\n",
    "            left = mid + 1\n",
    "\n",
    "    return left"
   ]
  },
  {
   "cell_type": "code",
   "execution_count": 74,
   "id": "7756ebce",
   "metadata": {},
   "outputs": [
    {
     "ename": "TypeError",
     "evalue": "'int' object is not subscriptable",
     "output_type": "error",
     "traceback": [
      "\u001b[1;31m---------------------------------------------------------------------------\u001b[0m",
      "\u001b[1;31mTypeError\u001b[0m                                 Traceback (most recent call last)",
      "Input \u001b[1;32mIn [74]\u001b[0m, in \u001b[0;36m<cell line: 42>\u001b[1;34m()\u001b[0m\n\u001b[0;32m     25\u001b[0m         \u001b[38;5;28;01mreturn\u001b[39;00m ans\n\u001b[0;32m     27\u001b[0m \u001b[38;5;66;03m# difficulty = [2,4,6,8,10]\u001b[39;00m\n\u001b[0;32m     28\u001b[0m \u001b[38;5;66;03m# profit = [10,20,30,40,50]\u001b[39;00m\n\u001b[0;32m     29\u001b[0m \u001b[38;5;66;03m# worker = [4,5,6,7]  \u001b[39;00m\n\u001b[1;32m   (...)\u001b[0m\n\u001b[0;32m     38\u001b[0m \n\u001b[0;32m     39\u001b[0m \u001b[38;5;66;03m# worker =     [61,33,68,38,63,45,1,10,53,23,66,70,14,51,94,18,28,78,100,16]\u001b[39;00m\n\u001b[1;32m---> 42\u001b[0m \u001b[43mSolution\u001b[49m\u001b[43m(\u001b[49m\u001b[43m)\u001b[49m\u001b[38;5;241;43m.\u001b[39;49m\u001b[43mmaxProfitAssignment\u001b[49m\u001b[43m(\u001b[49m\u001b[43mdifficulty\u001b[49m\u001b[43m,\u001b[49m\u001b[43m \u001b[49m\u001b[43mprofit\u001b[49m\u001b[43m,\u001b[49m\u001b[43m \u001b[49m\u001b[43mworker\u001b[49m\u001b[43m)\u001b[49m\n",
      "Input \u001b[1;32mIn [74]\u001b[0m, in \u001b[0;36mSolution.maxProfitAssignment\u001b[1;34m(self, difficulty, profit, worker)\u001b[0m\n\u001b[0;32m      7\u001b[0m diff_hash \u001b[38;5;241m=\u001b[39m defaultdict(\u001b[38;5;28mlist\u001b[39m)\n\u001b[0;32m      9\u001b[0m \u001b[38;5;28;01mfor\u001b[39;00m i \u001b[38;5;129;01min\u001b[39;00m \u001b[38;5;28mrange\u001b[39m(\u001b[38;5;28mlen\u001b[39m(difficulty)):\n\u001b[1;32m---> 10\u001b[0m     diff_hash[difficulty[i]]\u001b[38;5;241m.\u001b[39mappend(\u001b[43mprofit\u001b[49m\u001b[43m[\u001b[49m\u001b[43mi\u001b[49m\u001b[43m]\u001b[49m) \u001b[38;5;66;03m#found a test case with multiple profit for same difficulty\u001b[39;00m\n\u001b[0;32m     12\u001b[0m ans \u001b[38;5;241m=\u001b[39m \u001b[38;5;241m0\u001b[39m\n\u001b[0;32m     14\u001b[0m \u001b[38;5;28;01mfor\u001b[39;00m j \u001b[38;5;129;01min\u001b[39;00m worker:\n",
      "\u001b[1;31mTypeError\u001b[0m: 'int' object is not subscriptable"
     ]
    }
   ],
   "source": [
    "#got TLE\n",
    "from collections import defaultdict\n",
    "from typing import List\n",
    "\n",
    "class Solution:\n",
    "    def maxProfitAssignment(self, difficulty: List[int], profit: List[int], worker: List[int]) -> int:\n",
    "        diff_hash = defaultdict(list)\n",
    "\n",
    "        for i in range(len(difficulty)):\n",
    "            diff_hash[difficulty[i]].append(profit[i]) #found a test case with multiple profit for same difficulty\n",
    "\n",
    "        ans = 0\n",
    "\n",
    "        for j in worker:\n",
    "            profit = 0\n",
    "            \n",
    "            for i in range(j+1):\n",
    "                try:\n",
    "                    profit = max(profit, max(diff_hash[i]))\n",
    "                except:\n",
    "                    continue\n",
    "                \n",
    "            ans +=profit\n",
    "        \n",
    "        return ans\n",
    "\n",
    "# difficulty = [2,4,6,8,10]\n",
    "# profit = [10,20,30,40,50]\n",
    "# worker = [4,5,6,7]  \n",
    "\n",
    "# difficulty = [85,47,57]\n",
    "# profit = [24,66,99]\n",
    "# worker = [40,25,25]\n",
    "\n",
    "\n",
    "# difficulty = [66, 1,28,73,53,35,45,60,100,44,59,94,27,88,7 ,18,83,18,72,63]\n",
    "# profit =     [66,20,84,81,56,40,37,82,53 ,45,43,96,67,27,12,54,98,19,47,77]\n",
    "\n",
    "# worker =     [61,33,68,38,63,45,1,10,53,23,66,70,14,51,94,18,28,78,100,16]\n",
    "\n",
    "\n",
    "Solution().maxProfitAssignment(difficulty, profit, worker)   \n",
    "\n"
   ]
  },
  {
   "cell_type": "code",
   "execution_count": 78,
   "id": "50a34bf2",
   "metadata": {},
   "outputs": [],
   "source": [
    "difficulty = [66, 1,28,73,53,35,45,60,100,44,59,94,27,88,7 ,18,83,18,72,63]\n",
    "profit =     [66,20,84,81,56,40,37,82,53 ,45,43,96,67,27,12,54,98,19,47,77]\n",
    "\n",
    "worker =     [61,33,68,38,63,45,1,10,53,23,66,70,14,51,94,18,28,78,100,16]"
   ]
  },
  {
   "cell_type": "code",
   "execution_count": 79,
   "id": "29f66f8a",
   "metadata": {},
   "outputs": [
    {
     "data": {
      "text/plain": [
       "defaultdict(int,\n",
       "            {1: 20,\n",
       "             7: 20,\n",
       "             18: 54,\n",
       "             27: 67,\n",
       "             28: 84,\n",
       "             35: 84,\n",
       "             44: 84,\n",
       "             45: 84,\n",
       "             53: 84,\n",
       "             59: 84,\n",
       "             60: 84,\n",
       "             63: 84,\n",
       "             66: 84,\n",
       "             72: 84,\n",
       "             73: 84,\n",
       "             83: 98,\n",
       "             88: 98,\n",
       "             94: 98,\n",
       "             100: 98})"
      ]
     },
     "execution_count": 79,
     "metadata": {},
     "output_type": "execute_result"
    }
   ],
   "source": [
    "diff_hash = defaultdict(list)\n",
    "for i in range(len(difficulty)):\n",
    "    diff_hash[difficulty[i]].append(profit[i])\n",
    "\n",
    "difficulty1= sorted(difficulty)\n",
    "profit1 = []\n",
    "\n",
    "for i in difficulty1:\n",
    "    profit1.append(diff_hash[i])\n",
    "\n",
    "diff_hash1 =  defaultdict(int)\n",
    "diff_hash1[difficulty1[0]] = (max(profit1[0]))\n",
    "\n",
    "for i in range(1, len(difficulty1)):\n",
    "    diff_hash1[difficulty1[i]] = max(profit1[i][0] , diff_hash1[difficulty1[i-1]])\n",
    "    \n",
    "diff_hash1"
   ]
  },
  {
   "cell_type": "code",
   "execution_count": 80,
   "id": "616f1d53",
   "metadata": {},
   "outputs": [
    {
     "data": {
      "text/plain": [
       "1392"
      ]
     },
     "execution_count": 80,
     "metadata": {},
     "output_type": "execute_result"
    }
   ],
   "source": [
    "ans = 0\n",
    "\n",
    "for j in worker:\n",
    "    pos = binary_search(difficulty1, j)-1\n",
    "    if pos<0:\n",
    "        continue\n",
    "    else:\n",
    "        ans +=diff_hash1[difficulty1[pos]]\n",
    "    \n",
    "    \n",
    "\n",
    "    \n",
    "ans"
   ]
  },
  {
   "cell_type": "code",
   "execution_count": 81,
   "id": "4c58740e",
   "metadata": {},
   "outputs": [],
   "source": [
    "class Solution:\n",
    "    def maxProfitAssignment(\n",
    "        self, difficulty: List[int], profit: List[int], worker: List[int]\n",
    "    ) -> int:\n",
    "        job_profile = [(0, 0)]\n",
    "        for i in range(len(difficulty)):\n",
    "            job_profile.append((difficulty[i], profit[i]))\n",
    "        # Sort by difficulty values in increasing order.\n",
    "\n",
    "        job_profile.sort()\n",
    "        for i in range(len(job_profile) - 1):\n",
    "            job_profile[i + 1] = (\n",
    "                job_profile[i + 1][0],\n",
    "                max(job_profile[i][1], job_profile[i + 1][1]),\n",
    "            )\n",
    "        net_profit = 0\n",
    "        for i in range(len(worker)):\n",
    "            ability = worker[i]\n",
    "\n",
    "            # Find the job with just smaller or equal difficulty than ability.\n",
    "\n",
    "            l, r = 0, len(job_profile) - 1\n",
    "            job_profit = 0\n",
    "            while l <= r:\n",
    "                mid = (l + r) // 2\n",
    "                if job_profile[mid][0] <= ability:\n",
    "                    job_profit = max(job_profit, job_profile[mid][1])\n",
    "                    l = mid + 1\n",
    "                else:\n",
    "                    r = mid - 1\n",
    "            # Increment profit of current worker to total profit.\n",
    "\n",
    "            net_profit += job_profit\n",
    "        return net_profit"
   ]
  },
  {
   "cell_type": "markdown",
   "id": "0aebe007",
   "metadata": {},
   "source": [
    "### 455 Assign Cookies"
   ]
  },
  {
   "cell_type": "markdown",
   "id": "a4cf78e4",
   "metadata": {},
   "source": [
    "Assume you are an awesome parent and want to give your children some cookies. But, you should give each child at most one cookie.\n",
    "\n",
    "Each child i has a greed factor g[i], which is the minimum size of a cookie that the child will be content with; and each cookie j has a size s[j]. If s[j] >= g[i], we can assign the cookie j to the child i, and the child i will be content. Your goal is to maximize the number of your content children and output the maximum number."
   ]
  },
  {
   "cell_type": "code",
   "execution_count": 2,
   "id": "0a56b562",
   "metadata": {},
   "outputs": [],
   "source": [
    "# Example 1:\n",
    "\n",
    "# Input: g = [1,2,3], s = [1,1]\n",
    "# Output: 1\n",
    "# Explanation: You have 3 children and 2 cookies. The greed factors of 3 children are 1, 2, 3. \n",
    "# And even though you have 2 cookies, since their size is both 1, you could only make the child whose greed factor is 1 content.\n",
    "# You need to output 1.\n",
    "\n",
    "# Example 2:\n",
    "\n",
    "# Input: g = [1,2], s = [1,2,3]\n",
    "# Output: 2\n",
    "# Explanation: You have 2 children and 3 cookies. The greed factors of 2 children are 1, 2. \n",
    "# You have 3 cookies and their sizes are big enough to gratify all of the children, \n",
    "# You need to output 2.\n"
   ]
  },
  {
   "cell_type": "code",
   "execution_count": 1,
   "id": "04028640",
   "metadata": {},
   "outputs": [],
   "source": [
    "from typing import List\n",
    "class Solution:\n",
    "    def findContentChildren(self, g: List[int], s: List[int]) -> int:\n",
    "        g.sort()\n",
    "        s.sort()\n",
    "\n",
    "        def binary_search(arr, target):\n",
    "            left = 0\n",
    "            right = len(arr)\n",
    "            while left < right:\n",
    "                mid = (left + right) // 2\n",
    "                if arr[mid] > target:\n",
    "                    right = mid\n",
    "                else:\n",
    "                    left = mid + 1\n",
    "\n",
    "            return left\n",
    "        \n",
    "        ans = 0\n",
    "        for sweet in s:\n",
    "            pos = binary_search(g, sweet)\n",
    "            if pos > 0:\n",
    "                ans+=1\n",
    "                g.remove(g[pos-1])\n",
    "        \n",
    "        return ans"
   ]
  },
  {
   "cell_type": "markdown",
   "id": "45b945ce",
   "metadata": {},
   "source": [
    "### maximum-matching-of-players-with-trainers"
   ]
  },
  {
   "cell_type": "markdown",
   "id": "3172a757",
   "metadata": {},
   "source": [
    "You are given a 0-indexed integer array players, where players[i] represents the ability of the ith player. You are also given a 0-indexed integer array trainers, where trainers[j] represents the training capacity of the jth trainer.\n",
    "\n",
    "The ith player can match with the jth trainer if the player's ability is less than or equal to the trainer's training capacity. Additionally, the ith player can be matched with at most one trainer, and the jth trainer can be matched with at most one player.\n",
    "\n",
    "Return the maximum number of matchings between players and trainers that satisfy these conditions"
   ]
  },
  {
   "cell_type": "code",
   "execution_count": 4,
   "id": "d783636b",
   "metadata": {},
   "outputs": [],
   "source": [
    "# Example 1:\n",
    "\n",
    "# Input: players = [4,7,9], trainers = [8,2,5,8]\n",
    "# Output: 2\n",
    "# Explanation:\n",
    "# One of the ways we can form two matchings is as follows:\n",
    "# - players[0] can be matched with trainers[0] since 4 <= 8.\n",
    "# - players[1] can be matched with trainers[3] since 7 <= 8.\n",
    "# It can be proven that 2 is the maximum number of matchings that can be formed.\n",
    "\n",
    "# Example 2:\n",
    "\n",
    "# Input: players = [1,1,1], trainers = [10]\n",
    "# Output: 1\n",
    "# Explanation:\n",
    "# The trainer can be matched with any of the 3 players.\n",
    "# Each player can only be matched with one trainer, so the maximum answer is 1.\n"
   ]
  },
  {
   "cell_type": "code",
   "execution_count": 5,
   "id": "d30d93ae",
   "metadata": {},
   "outputs": [],
   "source": [
    "class Solution:\n",
    "    def matchPlayersAndTrainers(self, players: List[int], trainers: List[int]) -> int:\n",
    "        players.sort()\n",
    "        trainers.sort()\n",
    "\n",
    "        def binary_search(arr, target):\n",
    "            left = 0\n",
    "            right = len(arr)\n",
    "            while left < right:\n",
    "                mid = (left + right) // 2\n",
    "                if arr[mid] > target:\n",
    "                    right = mid\n",
    "                else:\n",
    "                    left = mid + 1\n",
    "\n",
    "            return left\n",
    "        \n",
    "        ans = 0\n",
    "        for trainer in trainers:\n",
    "            pos = binary_search( players, trainer)\n",
    "            if pos > 0:\n",
    "                ans+=1\n",
    "                players.remove(players[pos-1])\n",
    "        \n",
    "        return ans"
   ]
  },
  {
   "cell_type": "markdown",
   "id": "c99bdc70",
   "metadata": {},
   "source": [
    "### Find Peak Element"
   ]
  },
  {
   "cell_type": "markdown",
   "id": "00d10c80",
   "metadata": {},
   "source": [
    "A peak element is an element that is strictly greater than its neighbors.\n",
    "\n",
    "Given a 0-indexed integer array nums, find a peak element, and return its index. If the array contains multiple peaks, return the index to any of the peaks.\n",
    "\n",
    "You may imagine that nums[-1] = nums[n] = -∞. In other words, an element is always considered to be strictly greater than a neighbor that is outside the array.\n",
    "\n",
    "You must write an algorithm that runs in O(log n) time.\n",
    "\n",
    " \n",
    "\n",
    "Example 1:\n",
    "\n",
    "Input: nums = [1,2,3,1]\n",
    "Output: 2\n",
    "Explanation: 3 is a peak element and your function should return the index number 2.\n",
    "\n",
    "Example 2:\n",
    "\n",
    "Input: nums = [1,2,1,3,5,6,4]\n",
    "Output: 5\n",
    "Explanation: Your function can return either index number 1 where the peak element is 2, or index number 5 where the peak element is 6."
   ]
  },
  {
   "cell_type": "code",
   "execution_count": null,
   "id": "236d0963",
   "metadata": {},
   "outputs": [],
   "source": [
    "class Solution:\n",
    "    def findPeakElement(self, nums: List[int]) -> int:\n",
    "        left = 0\n",
    "        right = len(nums) - 1\n",
    "\n",
    "        while left < right:\n",
    "            mid = (left + right) // 2\n",
    "            if nums[mid] > nums[mid + 1]:\n",
    "                right = mid\n",
    "            else:\n",
    "                left = mid + 1\n",
    "\n",
    "        return left"
   ]
  },
  {
   "cell_type": "code",
   "execution_count": null,
   "id": "2639d403",
   "metadata": {},
   "outputs": [],
   "source": []
  },
  {
   "cell_type": "markdown",
   "id": "f9c502e2",
   "metadata": {},
   "source": [
    "### Random Pick with Weight"
   ]
  },
  {
   "cell_type": "markdown",
   "id": "b6603aa9",
   "metadata": {},
   "source": [
    "You are given a 0-indexed array of positive integers w where w[i] describes the weight of the ith index.\n",
    "\n",
    "You need to implement the function pickIndex(), which randomly picks an index in the range [0, w.length - 1] (inclusive) and returns it. The probability of picking an index i is w[i] / sum(w).\n",
    "\n",
    "    For example, if w = [1, 3], the probability of picking index 0 is 1 / (1 + 3) = 0.25 (i.e., 25%), and the probability of picking index 1 is 3 / (1 + 3) = 0.75 (i.e., 75%).\n"
   ]
  },
  {
   "cell_type": "code",
   "execution_count": 1,
   "id": "cab28be1",
   "metadata": {},
   "outputs": [],
   "source": [
    "# Example 1:\n",
    "\n",
    "# Input\n",
    "# [\"Solution\",\"pickIndex\"]\n",
    "# [[[1]],[]]\n",
    "# Output\n",
    "# [null,0]\n",
    "\n",
    "# Explanation\n",
    "# Solution solution = new Solution([1]);\n",
    "# solution.pickIndex(); // return 0. The only option is to return 0 since there is only one element in w.\n",
    "\n",
    "# Example 2:\n",
    "\n",
    "# Input\n",
    "# [\"Solution\",\"pickIndex\",\"pickIndex\",\"pickIndex\",\"pickIndex\",\"pickIndex\"]\n",
    "# [[[1,3]],[],[],[],[],[]]\n",
    "# Output\n",
    "# [null,1,1,1,1,0]\n",
    "\n",
    "# Explanation\n",
    "# Solution solution = new Solution([1, 3]);\n",
    "# solution.pickIndex(); // return 1. It is returning the second element (index = 1) that has a probability of 3/4.\n",
    "# solution.pickIndex(); // return 1\n",
    "# solution.pickIndex(); // return 1\n",
    "# solution.pickIndex(); // return 1\n",
    "# solution.pickIndex(); // return 0. It is returning the first element (index = 0) that has a probability of 1/4.\n",
    "\n",
    "# Since this is a randomization problem, multiple answers are allowed.\n",
    "# All of the following outputs can be considered correct:\n",
    "# [null,1,1,1,1,0]\n",
    "# [null,1,1,1,1,1]\n",
    "# [null,1,1,1,0,0]\n",
    "# [null,1,1,1,0,1]\n",
    "# [null,1,0,1,0,0]\n",
    "# ......\n",
    "# and so on."
   ]
  },
  {
   "cell_type": "code",
   "execution_count": 4,
   "id": "febf2598",
   "metadata": {},
   "outputs": [],
   "source": [
    "import bisect\n",
    "import numpy as np\n",
    "class Solution:\n",
    "\n",
    "    def __init__(self, w: List[int]):\n",
    "        \n",
    "        self.cdf = np.cumsum(w/np.sum(w))\n",
    "\n",
    "\n",
    "    def pickIndex(self) -> int:\n",
    "        x = np.random.rand()\n",
    "        return bisect.bisect_left(self.cdf, x)"
   ]
  },
  {
   "cell_type": "code",
   "execution_count": null,
   "id": "08c011bf",
   "metadata": {},
   "outputs": [],
   "source": []
  },
  {
   "cell_type": "code",
   "execution_count": null,
   "id": "d15f508c",
   "metadata": {},
   "outputs": [],
   "source": []
  },
  {
   "cell_type": "code",
   "execution_count": null,
   "id": "10e93a87",
   "metadata": {},
   "outputs": [],
   "source": []
  },
  {
   "cell_type": "code",
   "execution_count": 3,
   "id": "217fb6b8",
   "metadata": {},
   "outputs": [],
   "source": [
    "from typing import List\n",
    "class Solution:\n",
    "\n",
    "    def __init__(self, w: List[int]):\n",
    "        self.prefix_sum = []\n",
    "        total = 0\n",
    "\n",
    "        for weight in w:\n",
    "            total +=weight\n",
    "            self.prefix_sum.append(total)\n",
    "        \n",
    "        self.total = total\n",
    "\n",
    "    def pickIndex(self) -> int:\n",
    "        target = random.uniform(0, self.total)\n",
    "\n",
    "        left = 0\n",
    "        right = len(self.prefix_sum)\n",
    "\n",
    "        while left < right:\n",
    "            mid = (left + right) // 2\n",
    "            if self.prefix_sum[mid] > target:\n",
    "                right = mid\n",
    "            else:\n",
    "                left = mid + 1\n",
    "\n",
    "        return left"
   ]
  },
  {
   "cell_type": "markdown",
   "id": "1eeb0cc1",
   "metadata": {},
   "source": [
    "### Sum of Square Numbers"
   ]
  },
  {
   "cell_type": "markdown",
   "id": "b5cdf442",
   "metadata": {},
   "source": [
    "Given a non-negative integer c, decide whether there're two integers a and b such that a2 + b2 = c.\n",
    "\n",
    " \n",
    "\n",
    "Example 1:\n",
    "\n",
    "Input: c = 5\n",
    "Output: true\n",
    "Explanation: 1 * 1 + 2 * 2 = 5\n",
    "\n",
    "Example 2:\n",
    "\n",
    "Input: c = 3\n",
    "Output: false\n"
   ]
  },
  {
   "cell_type": "code",
   "execution_count": null,
   "id": "ceb2ab22",
   "metadata": {},
   "outputs": [],
   "source": [
    "# This failed for 10^7 = 3000^2 + 1000^2\n",
    "class Solution:\n",
    "    def judgeSquareSum(self, c: int) -> bool:\n",
    "        def sqrt(x):\n",
    "            if ((x==0)|(x==1)):\n",
    "                return x\n",
    "            left = 0\n",
    "            right = x\n",
    "\n",
    "            while left <= right:\n",
    "                mid = (left + right) // 2\n",
    "                \n",
    "                if mid**2 == x:\n",
    "                    return mid\n",
    "\n",
    "                elif mid**2 > x:\n",
    "                    right = mid-1\n",
    "                else:\n",
    "                    left = mid+1\n",
    "            \n",
    "            return right\n",
    "        \n",
    "        left = 0 \n",
    "        right = c + 1\n",
    "        while left <= right:\n",
    "            mid = (left + right)//2\n",
    "            \n",
    "            if c - mid**2 < 0:\n",
    "                right = mid-1\n",
    "                left = 0\n",
    "            else:\n",
    "            \n",
    "                b = sqrt(c - mid**2)\n",
    "                sum_ = b**2 + mid**2\n",
    "                if sum_== c:\n",
    "                    return True\n",
    "                elif sum_ > c:\n",
    "                    right  = mid-1\n",
    "                else:\n",
    "                    left = mid + 1\n",
    "\n",
    "        return False"
   ]
  },
  {
   "cell_type": "code",
   "execution_count": 1,
   "id": "762bbdea",
   "metadata": {},
   "outputs": [],
   "source": [
    "def sqrt(x):\n",
    "    if ((x==0)|(x==1)):\n",
    "        return x\n",
    "    left = 0\n",
    "    right = x\n",
    "\n",
    "    while left <= right:\n",
    "        mid = (left + right) // 2\n",
    "\n",
    "        if mid**2 == x:\n",
    "            return mid\n",
    "\n",
    "        elif mid**2 > x:\n",
    "            right = mid-1\n",
    "        else:\n",
    "            left = mid+1\n",
    "\n",
    "    return right\n",
    "\n",
    "# sqrt(1000000) #gives 1000\n",
    "# sqrt(9000000) #gives 3000"
   ]
  },
  {
   "cell_type": "code",
   "execution_count": 4,
   "id": "2404750f",
   "metadata": {},
   "outputs": [
    {
     "name": "stdout",
     "output_type": "stream",
     "text": [
      "5000000\n",
      "2499999\n",
      "1249999\n",
      "624999\n",
      "312499\n",
      "156249\n",
      "78124\n",
      "39061\n",
      "19530\n",
      "9764\n",
      "4881\n",
      "2440\n",
      "3660\n",
      "1829\n",
      "2744\n",
      "3202\n",
      "1600\n",
      "2401\n",
      "2801\n",
      "3001\n",
      "3101\n",
      "3151\n",
      "3176\n",
      "1587\n",
      "2381\n",
      "2778\n",
      "2977\n",
      "3076\n",
      "3126\n",
      "3151\n",
      "3163\n",
      "1581\n",
      "2372\n",
      "2767\n",
      "2965\n",
      "3064\n",
      "3113\n",
      "3138\n",
      "3150\n",
      "3156\n",
      "3159\n",
      "3161\n",
      "3162\n"
     ]
    }
   ],
   "source": [
    "left = 0 \n",
    "right =c = 10000000 \n",
    "while left <= right:\n",
    "    \n",
    "    mid = (left + right)//2\n",
    "    \n",
    "    print(mid)\n",
    "    \n",
    "    if c - mid**2 < 0:\n",
    "        right = mid-1\n",
    "        left = 0\n",
    "    else: \n",
    "        b = sqrt(c - mid**2)\n",
    "        sum_ = b**2 + mid**2\n",
    "#     if sum_== c:\n",
    "        \n",
    "        if sum_ > c:\n",
    "            right  = mid-1\n",
    "        else:\n",
    "            left = mid + 1\n",
    "\n"
   ]
  },
  {
   "cell_type": "code",
   "execution_count": null,
   "id": "11cee164",
   "metadata": {},
   "outputs": [],
   "source": [
    "class Solution(object):\n",
    "    def judgeSquareSum(self, c):\n",
    "        def binary_search(s, e, n):\n",
    "            if s > e:\n",
    "                return False\n",
    "            mid = s + (e - s) // 2\n",
    "            if mid * mid == n:\n",
    "                return True\n",
    "            elif mid * mid > n:\n",
    "                return binary_search(s, mid - 1, n)\n",
    "            else:\n",
    "                return binary_search(mid + 1, e, n)\n",
    "\n",
    "        for a in range(\n",
    "            int(c**0.5) + 1\n",
    "        ):  # equivalent to `for (long a = 0; a * a <= c; a++)` in Java\n",
    "            b = c - a * a\n",
    "            if binary_search(0, b, b):\n",
    "                return True\n",
    "        return False"
   ]
  },
  {
   "cell_type": "markdown",
   "id": "089f2a0d",
   "metadata": {},
   "source": [
    "### Minimum Time to Complete Trips"
   ]
  },
  {
   "cell_type": "markdown",
   "id": "c7351fff",
   "metadata": {},
   "source": [
    "You are given an array time where time[i] denotes the time taken by the ith bus to complete one trip.\n",
    "\n",
    "Each bus can make multiple trips successively; that is, the next trip can start immediately \n",
    "after completing the current trip. Also, each bus operates independently; that is, the trips of one bus\n",
    "do not influence the trips of any other bus.\n",
    "\n",
    "You are also given an integer totalTrips, which denotes the number of trips all buses should make in \n",
    "total. Return the minimum time required for all buses to complete at least totalTrips trips.\n",
    "\n",
    " \n",
    "\n",
    "Example 1:\n",
    "\n",
    "Input: time = [1,2,3], totalTrips = 5\n",
    "Output: 3\n",
    "Explanation:\n",
    "- At time t = 1, the number of trips completed by each bus are [1,0,0]. \n",
    "  The total number of trips completed is 1 + 0 + 0 = 1.\n",
    "- At time t = 2, the number of trips completed by each bus are [2,1,0]. \n",
    "  The total number of trips completed is 2 + 1 + 0 = 3.\n",
    "- At time t = 3, the number of trips completed by each bus are [3,1,1]. \n",
    "  The total number of trips completed is 3 + 1 + 1 = 5.\n",
    "So the minimum time needed for all buses to complete at least 5 trips is 3.\n",
    "\n",
    "Example 2:\n",
    "\n",
    "Input: time = [2], totalTrips = 1\n",
    "Output: 2\n",
    "Explanation:\n",
    "There is only one bus, and it will complete its first trip at t = 2.\n",
    "So the minimum time needed to complete 1 trip is 2.\n"
   ]
  },
  {
   "cell_type": "code",
   "execution_count": 7,
   "id": "475e69be",
   "metadata": {},
   "outputs": [],
   "source": [
    "from typing import List\n",
    "class Solution:\n",
    "    def minimumTime(self, time: List[int], totalTrips: int) -> int:\n",
    "        \n",
    "        def binarysearch(x):\n",
    "            sum_ = 0\n",
    "            for i in time:\n",
    "                sum_ += x//i\n",
    "            return sum_\n",
    "        \n",
    "        left = 0\n",
    "        right = max(time)*totalTrips\n",
    "\n",
    "        while left <= right:\n",
    "            mid = (left + right)//2\n",
    "            z = binarysearch(mid)\n",
    "            \n",
    "            if z >= totalTrips:\n",
    "                right = mid - 1\n",
    "            else:\n",
    "                left = mid + 1\n",
    "        return left\n"
   ]
  },
  {
   "cell_type": "code",
   "execution_count": 8,
   "id": "ff5fbecf",
   "metadata": {},
   "outputs": [
    {
     "data": {
      "text/plain": [
       "3"
      ]
     },
     "execution_count": 8,
     "metadata": {},
     "output_type": "execute_result"
    }
   ],
   "source": [
    "Solution().minimumTime([1, 2, 3], 5)"
   ]
  },
  {
   "cell_type": "code",
   "execution_count": null,
   "id": "a86a823c",
   "metadata": {},
   "outputs": [],
   "source": []
  },
  {
   "cell_type": "markdown",
   "id": "f9caf692",
   "metadata": {},
   "source": [
    "### Maximum Candies Allocated to k children"
   ]
  },
  {
   "cell_type": "markdown",
   "id": "ef032865",
   "metadata": {},
   "source": [
    "You are given a 0-indexed integer array candies. Each element in the array denotes a pile of candies\n",
    "of size candies[i]. You can divide each pile into any number of sub piles, but you cannot \n",
    "merge two piles together.\n",
    "\n",
    "You are also given an integer k. You should allocate piles of candies to k children such that each \n",
    "child gets the same number of candies. Each child can take at most one pile of candies and \n",
    "some piles of candies may go unused.\n",
    "\n",
    "Return the maximum number of candies each child can get.\n",
    "\n",
    " \n",
    "\n",
    "Example 1:\n",
    "\n",
    "Input: candies = [5,8,6], k = 3\n",
    "Output: 5\n",
    "Explanation: We can divide candies[1] into 2 piles of size 5 and 3, and candies[2] into 2 piles of \n",
    "size 5 and 1. We now have five piles of candies of sizes 5, 5, 3, 5, and 1. \n",
    "We can allocate the 3 piles of size 5 to 3 children. It can be proven that each child cannot \n",
    "receive more than 5 candies.\n",
    "\n",
    "Example 2:\n",
    "\n",
    "Input: candies = [2,5], k = 11\n",
    "Output: 0\n",
    "Explanation: There are 11 children but only 7 candies in total, so it is impossible to ensure each child\n",
    "receives at least one candy. Thus, each child gets no candy and the answer is 0.\n"
   ]
  },
  {
   "cell_type": "code",
   "execution_count": 22,
   "id": "70d6eefb",
   "metadata": {},
   "outputs": [
    {
     "name": "stdout",
     "output_type": "stream",
     "text": [
      "2 7\n",
      "3 4\n",
      "4 3\n"
     ]
    },
    {
     "data": {
      "text/plain": [
       "3"
      ]
     },
     "execution_count": 22,
     "metadata": {},
     "output_type": "execute_result"
    }
   ],
   "source": [
    "candies, k = [4, 7, 5], 4\n",
    "candies1 = []\n",
    "min_ = min(sum(candies)//k,min(candies))\n",
    "for i in candies:\n",
    "    if i<=min_: candies1.append(i)\n",
    "    else:\n",
    "        while i>0 :\n",
    "            candies1.append(min(min_,i))\n",
    "            i -=min_\n",
    "\n",
    "def binarysearch(x):\n",
    "    count = 0\n",
    "    for i in candies1:        \n",
    "        while i>=x:                       \n",
    "            count+=1\n",
    "            i-=x\n",
    "    print(x, count)\n",
    "    return count>=k\n",
    "candies1        \n",
    "left = 0\n",
    "right = max(candies1)\n",
    "while left<=right:\n",
    "    mid = (right + left)//2\n",
    "    if binarysearch(mid):\n",
    "        left = mid+1\n",
    "    else:\n",
    "        right = mid -1\n",
    "right"
   ]
  },
  {
   "cell_type": "code",
   "execution_count": 20,
   "id": "1002b36a",
   "metadata": {},
   "outputs": [
    {
     "data": {
      "text/plain": [
       "[4, 4, 3, 4, 1]"
      ]
     },
     "execution_count": 20,
     "metadata": {},
     "output_type": "execute_result"
    }
   ],
   "source": [
    "candies1"
   ]
  },
  {
   "cell_type": "markdown",
   "id": "9fbff551",
   "metadata": {},
   "source": [
    "There are n points on a road you are driving your taxi on. The n points on the road are labeled from 1 to n in the direction you are going, and you want to drive from point 1 to point n to make money by picking up passengers. You cannot change the direction of the taxi.\n",
    "\n",
    "The passengers are represented by a 0-indexed 2D integer array rides, where rides[i] = [starti, endi, tipi] denotes the ith passenger requesting a ride from point starti to point endi who is willing to give a tipi dollar tip.\n",
    "\n",
    "For each passenger i you pick up, you earn endi - starti + tipi dollars. You may only drive at most one passenger at a time.\n",
    "\n",
    "Given n and rides, return the maximum number of dollars you can earn by picking up the passengers optimally.\n",
    "\n",
    "Note: You may drop off a passenger and pick up a different passenger at the same point.\n",
    "\n",
    " \n",
    "\n",
    "Example 1:\n",
    "\n",
    "Input: n = 5, rides = [[2,5,4],[1,5,1]]\n",
    "Output: 7\n",
    "Explanation: We can pick up passenger 0 to earn 5 - 2 + 4 = 7 dollars.\n",
    "\n",
    "Example 2:\n",
    "\n",
    "Input: n = 20, rides = [[1,6,1],[3,10,2],[10,12,3],[11,12,2],[12,15,2],[13,18,1]]\n",
    "Output: 20\n",
    "Explanation: We will pick up the following passengers:\n",
    "- Drive passenger 1 from point 3 to point 10 for a profit of 10 - 3 + 2 = 9 dollars.\n",
    "- Drive passenger 2 from point 10 to point 12 for a profit of 12 - 10 + 3 = 5 dollars.\n",
    "- Drive passenger 5 from point 13 to point 18 for a profit of 18 - 13 + 1 = 6 dollars.\n",
    "We earn 9 + 5 + 6 = 20 dollars in total."
   ]
  },
  {
   "cell_type": "code",
   "execution_count": 31,
   "id": "76b32fc5",
   "metadata": {},
   "outputs": [
    {
     "name": "stdout",
     "output_type": "stream",
     "text": [
      "5 [1, 5, 5]\n",
      "7 [2, 5, 7]\n"
     ]
    }
   ],
   "source": [
    "# rides = [[1,6,1],[3,10,2],[10,12,3],[11,12,2],[12,15,2],[13,18,1]]\n",
    "rides =[[1, 5, 1], [2, 5, 4]]\n",
    "left = earn = 0\n",
    "right = 5\n",
    "current = [left, right, earn]\n",
    "for i in rides:\n",
    "    tip = 0\n",
    "    if current[0] < i[0] < current[1]:\n",
    "        tip =  i[1] - i[0] + i[2]\n",
    "        if tip > current[2]:\n",
    "            earn += (tip -current[2])\n",
    "            current = [i[0], i[1], tip]\n",
    "            print(earn, current)\n",
    "\n",
    "    else:\n",
    "        current = [i[0], i[1], i[1] - i[0] + i[2]]\n",
    "        earn += (i[1] - i[0] + i[2])\n",
    "        print(earn, current)"
   ]
  },
  {
   "cell_type": "code",
   "execution_count": 35,
   "id": "1d0541f8",
   "metadata": {},
   "outputs": [
    {
     "data": {
      "text/plain": [
       "[[2, 3, 6],\n",
       " [2, 3, 1],\n",
       " [6, 7, 9],\n",
       " [2, 9, 2],\n",
       " [4, 9, 7],\n",
       " [5, 9, 7],\n",
       " [8, 9, 8],\n",
       " [8, 9, 1],\n",
       " [7, 10, 10],\n",
       " [9, 10, 6]]"
      ]
     },
     "execution_count": 35,
     "metadata": {},
     "output_type": "execute_result"
    }
   ],
   "source": [
    "rides = [[2,3,6],[8,9,8],[5,9,7],[8,9,1],[2,9,2],[9,10,6],[7,10,10],[6,7,9],[4,9,7],[2,3,1]]\n",
    "rides = sorted(rides, key=lambda x: (x[1], x[0]))\n",
    "rides"
   ]
  },
  {
   "cell_type": "code",
   "execution_count": 33,
   "id": "3ae54934",
   "metadata": {},
   "outputs": [
    {
     "data": {
      "text/plain": [
       "[[1, 5, 1], [2, 5, 4]]"
      ]
     },
     "execution_count": 33,
     "metadata": {},
     "output_type": "execute_result"
    }
   ],
   "source": [
    "rides"
   ]
  },
  {
   "cell_type": "code",
   "execution_count": null,
   "id": "c5224ecb",
   "metadata": {},
   "outputs": [],
   "source": []
  },
  {
   "cell_type": "markdown",
   "id": "a5c4380e",
   "metadata": {},
   "source": [
    "### Practice"
   ]
  },
  {
   "cell_type": "code",
   "execution_count": null,
   "id": "2a90a0eb",
   "metadata": {},
   "outputs": [],
   "source": [
    "# You are given two positive integer arrays spells and potions, where spells[i] represents the \n",
    "# strength of the ith spell and potions[j] represents the strength of the jth potion. \n",
    "# You are also given an integer success.\n",
    "# A spell and potion pair is considered successful if \n",
    "# the product of their strengths is at least success. \n",
    "# For each spell, find how many potions it can pair with to be successful. \n",
    "# Return an integer array where the ith element is the answer for the ith spell."
   ]
  },
  {
   "cell_type": "code",
   "execution_count": null,
   "id": "78c04e80",
   "metadata": {},
   "outputs": [],
   "source": [
    "# Example 1:\n",
    "\n",
    "# Input: spells = [5,1,3], potions = [1,2,3,4,5], success = 7\n",
    "# Output: [4,0,3]\n",
    "# Explanation:\n",
    "# - 0th spell: 5 * [1,2,3,4,5] = [5,10,15,20,25]. 4 pairs are successful.\n",
    "# - 1st spell: 1 * [1,2,3,4,5] = [1,2,3,4,5]. 0 pairs are successful.\n",
    "# - 2nd spell: 3 * [1,2,3,4,5] = [3,6,9,12,15]. 3 pairs are successful.\n",
    "# Thus, [4,0,3] is returned."
   ]
  },
  {
   "cell_type": "code",
   "execution_count": null,
   "id": "0cf1bcef",
   "metadata": {},
   "outputs": [],
   "source": [
    "# You are given an integer array nums of length n, and an integer array queries of length m.\n",
    "# Return an array answer of length m where answer[i] is the maximum size of a subsequence \n",
    "# that you can take from nums such that the sum of its elements is less than or equal to queries[i].\n",
    "\n",
    "# A subsequence is an array that can be derived from another array by deleting some or no elements \n",
    "# without changing the order of the remaining elements."
   ]
  },
  {
   "cell_type": "code",
   "execution_count": null,
   "id": "8f433d67",
   "metadata": {},
   "outputs": [],
   "source": [
    "# Input: nums = [4,5,2,1], queries = [3,10,21]\n",
    "# Output: [2,3,4]\n",
    "# Explanation: We answer the queries as follows:\n",
    "# - The subsequence [2,1] has a sum less than or equal to 3. It can be proven that 2 is the maximum size of such a subsequence, so answer[0] = 2.\n",
    "# - The subsequence [4,5,1] has a sum less than or equal to 10. It can be proven that 3 is the maximum size of such a subsequence, so answer[1] = 3.\n",
    "# - The subsequence [4,5,2,1] has a sum less than or equal to 21. It can be proven that 4 is the maximum size of such a subsequence, so answer[2] = 4."
   ]
  },
  {
   "cell_type": "code",
   "execution_count": null,
   "id": "2c9c22d9",
   "metadata": {},
   "outputs": [],
   "source": [
    "# Koko loves to eat bananas. There are n piles of bananas, the ith pile has piles[i] bananas. \n",
    "# Koko can decide her bananas-per-hour eating speed of k. Each hour, she chooses a pile and eats k bananas \n",
    "# from that pile. If the pile has less than k bananas, she eats all of them and will not eat any more bananas \n",
    "# during the hour. Return the minimum integer k such that she can eat all the bananas within h hours."
   ]
  },
  {
   "cell_type": "code",
   "execution_count": null,
   "id": "77a5700e",
   "metadata": {},
   "outputs": [],
   "source": [
    "# piles = [3,6,7,11]\n",
    "# hours = 8\n",
    "\n",
    "#Can she do it with an eating speed of 3?\n",
    "# what if it is 4?\n",
    "# max cut off should be max pile size, anything above will have no incremental value\n",
    "# min cut off is 1\n",
    "# so possible range for k = list(range(1,12,1))"
   ]
  },
  {
   "cell_type": "code",
   "execution_count": null,
   "id": "ec15153b",
   "metadata": {},
   "outputs": [],
   "source": [
    "# Write an efficient algorithm that searches for a value target in an m x n integer matrix.\n",
    "# Integers in each row are sorted from left to right. \n",
    "# The first integer of each row is greater than the last integer of the previous row.\n",
    "# Given an integer target, return true if target is in matrix or false otherwise."
   ]
  },
  {
   "cell_type": "code",
   "execution_count": null,
   "id": "ae2e2822",
   "metadata": {},
   "outputs": [],
   "source": [
    "# You are given a float hour, representing the amount of time you have to reach the office. \n",
    "# To commute to the office, you must take n trains in sequential order. \n",
    "# You are also given an integer array dist, where dist[i] describes the distance of the ith train ride. \n",
    "# Each train can only depart at an integer hour, so you may need to wait in between each train ride.\n",
    "\n",
    "# For example, if the 1st train ride takes 1.5 hours, you must wait for an additional 0.5 hours before you can\n",
    "# depart on the 2nd train ride at the 2-hour mark. \n",
    "# Return the minimum positive integer speed that all the trains must travel at for you to reach the office on\n",
    "# time, or -1 if it is impossible to be on time. The answer will not exceed 10^7.\n",
    "\n",
    "\n",
    "\n",
    "# The minimum possible speed is 1, and the maximum is 10^7 as given in the problem description.\n",
    "# The fact that the problem is giving us this information is actually a hint towards using binary search,\n",
    "# but it brings up a good question - what do you do when you cannot ascertain a maximum possible answer \n",
    "# from what is given in the input? You can use an arbitrarily large number for right, like 10^10.\n",
    "# Logarithms are so fast that it will hardly make a difference.\n",
    "\n",
    "\n",
    "# Example 2:\n",
    "\n",
    "# Input: dist = [1,3,2], hour = 2.7\n",
    "# Output: 3\n",
    "# Explanation: At speed 3:\n",
    "# - The first train ride takes 1/3 = 0.33333 hours.\n",
    "# - Since we are not at an integer hour, we wait until the 1 hour mark to depart. The second train ride takes 3/3 = 1 hour.\n",
    "# - Since we are already at an integer hour, we depart immediately at the 2 hour mark. The third train takes 2/3 = 0.66667 hours.\n",
    "# - You will arrive at the 2.66667 hour mark."
   ]
  },
  {
   "cell_type": "code",
   "execution_count": 2,
   "id": "87522e6e",
   "metadata": {},
   "outputs": [],
   "source": [
    "# Example 1:\n",
    "# Input: nums = [1,2,5,9], threshold = 6\n",
    "# Output: 5\n",
    "# Explanation: We can get a sum to 17 (1+2+5+9) if the divisor is 1. \n",
    "# If the divisor is 4 we can get a sum of 7 (1+1+2+3) and if the divisor is 5 the sum will be 5 (1+1+1+2). "
   ]
  },
  {
   "cell_type": "code",
   "execution_count": 4,
   "id": "d61c88e7",
   "metadata": {},
   "outputs": [
    {
     "data": {
      "text/plain": [
       "5"
      ]
     },
     "execution_count": 4,
     "metadata": {},
     "output_type": "execute_result"
    }
   ],
   "source": [
    "from math import ceil\n",
    "\n",
    "def check(divisor, threshold, nums):\n",
    "    \n",
    "    sum_ = 0\n",
    "    for i in nums:\n",
    "        sum_ += ceil(i/divisor)\n",
    "    \n",
    "    \n",
    "    return sum_ <= threshold\n",
    "    \n",
    "nums = [1,2,5,9]\n",
    "threshold = 6\n",
    "\n",
    "left  = 1\n",
    "right = max(nums)\n",
    "\n",
    "#dont do this mistake of searching entire solution space , use binary search\n",
    "# for i in range(1,max(nums)):  #solution_space\n",
    "\n",
    "while left <= right:\n",
    "    mid = (left + right) // 2\n",
    "    \n",
    "\n",
    "    if check(mid,threshold, nums):\n",
    "        right = mid - 1        \n",
    "    else:\n",
    "        left = mid + 1\n",
    "\n",
    "left    "
   ]
  },
  {
   "cell_type": "code",
   "execution_count": 14,
   "id": "08a64b86",
   "metadata": {},
   "outputs": [
    {
     "name": "stdout",
     "output_type": "stream",
     "text": [
      "Yes\n"
     ]
    }
   ],
   "source": [
    "from itertools import combinations\n",
    "#Given any array and target: return True if any subset of the array adds upto target else return False\n",
    "nums = [2,3,4]\n",
    "target = 6\n",
    "final_lst = []\n",
    "# final_lst = list(combinations(nums, 1)) +list(combinations(nums, 2)) + list(combinations(nums, 3))\n",
    "for i in range(1, len(nums)+1):\n",
    "    final_lst+= list(combinations(nums, i))\n",
    "    \n",
    "for i in range(len(final_lst)):\n",
    "    if sum(final_lst[i])== target:\n",
    "        print('Yes')\n",
    "    \n",
    "\n",
    "\n"
   ]
  },
  {
   "cell_type": "code",
   "execution_count": null,
   "id": "1734b23c",
   "metadata": {},
   "outputs": [],
   "source": []
  }
 ],
 "metadata": {
  "kernelspec": {
   "display_name": "Python 3 (ipykernel)",
   "language": "python",
   "name": "python3"
  },
  "language_info": {
   "codemirror_mode": {
    "name": "ipython",
    "version": 3
   },
   "file_extension": ".py",
   "mimetype": "text/x-python",
   "name": "python",
   "nbconvert_exporter": "python",
   "pygments_lexer": "ipython3",
   "version": "3.9.12"
  },
  "toc": {
   "base_numbering": 1,
   "nav_menu": {},
   "number_sections": true,
   "sideBar": true,
   "skip_h1_title": false,
   "title_cell": "Table of Contents",
   "title_sidebar": "Contents",
   "toc_cell": false,
   "toc_position": {
    "height": "455.517px",
    "left": "41px",
    "top": "110.233px",
    "width": "286px"
   },
   "toc_section_display": false,
   "toc_window_display": true
  },
  "varInspector": {
   "cols": {
    "lenName": 16,
    "lenType": 16,
    "lenVar": 40
   },
   "kernels_config": {
    "python": {
     "delete_cmd_postfix": "",
     "delete_cmd_prefix": "del ",
     "library": "var_list.py",
     "varRefreshCmd": "print(var_dic_list())"
    },
    "r": {
     "delete_cmd_postfix": ") ",
     "delete_cmd_prefix": "rm(",
     "library": "var_list.r",
     "varRefreshCmd": "cat(var_dic_list()) "
    }
   },
   "types_to_exclude": [
    "module",
    "function",
    "builtin_function_or_method",
    "instance",
    "_Feature"
   ],
   "window_display": false
  }
 },
 "nbformat": 4,
 "nbformat_minor": 5
}
