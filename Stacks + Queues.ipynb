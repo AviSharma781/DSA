{
 "cells": [
  {
   "cell_type": "code",
   "execution_count": 1,
   "id": "fc55b294",
   "metadata": {},
   "outputs": [],
   "source": [
    "import pandas as pd\n",
    "import numpy as np"
   ]
  },
  {
   "cell_type": "markdown",
   "id": "c55501f1",
   "metadata": {},
   "source": [
    "#### 1"
   ]
  },
  {
   "cell_type": "markdown",
   "id": "b34a9789",
   "metadata": {},
   "source": [
    "#### 2"
   ]
  },
  {
   "cell_type": "markdown",
   "id": "0d2ec11d",
   "metadata": {},
   "source": [
    "#### 3"
   ]
  },
  {
   "cell_type": "markdown",
   "id": "3451f43d",
   "metadata": {},
   "source": [
    "#### 4"
   ]
  },
  {
   "cell_type": "markdown",
   "id": "c7420dd6",
   "metadata": {},
   "source": [
    "#### Intro Stack"
   ]
  },
  {
   "cell_type": "code",
   "execution_count": 2,
   "id": "8d5fb224",
   "metadata": {},
   "outputs": [
    {
     "data": {
      "text/plain": [
       "1"
      ]
     },
     "execution_count": 2,
     "metadata": {},
     "output_type": "execute_result"
    }
   ],
   "source": [
    "#Remeber LIFO\n",
    "# Declaration: we will just use a list\n",
    "stack = []\n",
    "\n",
    "# Pushing elements:\n",
    "stack.append(1)\n",
    "stack.append(2)\n",
    "stack.append(3)\n",
    "\n",
    "# Popping elements:\n",
    "stack.pop() # 3\n",
    "stack.pop() # 2\n",
    "\n",
    "# Check if empty\n",
    "not stack # False\n",
    "\n",
    "# Check element at top\n",
    "stack[-1] # 1\n",
    "\n",
    "# Get size\n",
    "len(stack) # 1"
   ]
  },
  {
   "cell_type": "markdown",
   "id": "f6a1e198",
   "metadata": {},
   "source": [
    "While a stack followed a LIFO pattern, a queue follows FIFO (first in first out). In a stack, elements are added and removed from the same side. In a queue, elements are added and removed from opposite sides. Like with a stack, there are multiple ways to implement a queue, but the important thing that defines it is the abstract interface of adding and removing from opposite sides.\n",
    "There is also a data structure called a deque, short for double-ended queue, and pronounced \"deck\". In a deque, you can add or delete elements from both ends. A normal queue designates adding to one end and deleting to another end."
   ]
  },
  {
   "cell_type": "markdown",
   "id": "07325651",
   "metadata": {},
   "source": [
    "#### Intro Queue"
   ]
  },
  {
   "cell_type": "code",
   "execution_count": 3,
   "id": "a7f1c9dd",
   "metadata": {},
   "outputs": [
    {
     "data": {
      "text/plain": [
       "3"
      ]
     },
     "execution_count": 3,
     "metadata": {},
     "output_type": "execute_result"
    }
   ],
   "source": [
    "# Declaration: we will use deque from the collections module\n",
    "import collections\n",
    "queue = collections.deque()\n",
    "\n",
    "# If you want to initialize it with some initial values:\n",
    "queue = collections.deque([1, 2, 3])\n",
    "\n",
    "# Enqueueing/adding elements:\n",
    "queue.append(4)\n",
    "queue.append(5)\n",
    "\n",
    "# Dequeuing/removing elements:\n",
    "queue.popleft() # 1\n",
    "queue.popleft() # 2\n",
    "\n",
    "# Check element at front of queue (next element to be removed)\n",
    "queue[0] # 3\n",
    "\n",
    "# Get size\n",
    "len(queue) # 3"
   ]
  },
  {
   "cell_type": "code",
   "execution_count": 5,
   "id": "5856d563",
   "metadata": {},
   "outputs": [
    {
     "name": "stdout",
     "output_type": "stream",
     "text": [
      "1\n",
      "2\n",
      "3\n",
      "Queue is empty!\n"
     ]
    }
   ],
   "source": [
    "from collections import deque\n",
    "\n",
    "queue = deque()\n",
    "\n",
    "queue.append(1)\n",
    "queue.append(2)\n",
    "queue.append(3)\n",
    "\n",
    "while queue:\n",
    "    print(queue.popleft())\n",
    "    \n",
    "if not queue:\n",
    "    print(\"Queue is empty!\")"
   ]
  },
  {
   "cell_type": "code",
   "execution_count": 14,
   "id": "8357d942",
   "metadata": {},
   "outputs": [
    {
     "data": {
      "text/plain": [
       "deque([1, 2, 3])"
      ]
     },
     "execution_count": 14,
     "metadata": {},
     "output_type": "execute_result"
    }
   ],
   "source": [
    "queue = deque()\n",
    "\n",
    "queue.append(1)\n",
    "queue.append(2)\n",
    "queue.append(3)\n",
    "queue"
   ]
  },
  {
   "cell_type": "code",
   "execution_count": 17,
   "id": "39fcdeae",
   "metadata": {},
   "outputs": [],
   "source": [
    "ans = 0\n",
    "for i in range(len(queue)):\n",
    "    ans += queue[i]"
   ]
  },
  {
   "cell_type": "code",
   "execution_count": 18,
   "id": "37e1caae",
   "metadata": {},
   "outputs": [
    {
     "data": {
      "text/plain": [
       "6"
      ]
     },
     "execution_count": 18,
     "metadata": {},
     "output_type": "execute_result"
    }
   ],
   "source": [
    "ans"
   ]
  },
  {
   "cell_type": "code",
   "execution_count": 12,
   "id": "734f0e05",
   "metadata": {},
   "outputs": [
    {
     "data": {
      "text/plain": [
       "deque([2, 3])"
      ]
     },
     "execution_count": 12,
     "metadata": {},
     "output_type": "execute_result"
    }
   ],
   "source": [
    "queue.popleft()\n",
    "queue"
   ]
  },
  {
   "cell_type": "code",
   "execution_count": 13,
   "id": "87ab1561",
   "metadata": {},
   "outputs": [
    {
     "data": {
      "text/plain": [
       "deque([2])"
      ]
     },
     "execution_count": 13,
     "metadata": {},
     "output_type": "execute_result"
    }
   ],
   "source": [
    "queue.pop()\n",
    "queue"
   ]
  },
  {
   "cell_type": "markdown",
   "id": "b7384909",
   "metadata": {},
   "source": [
    "#### Valid Parentheses"
   ]
  },
  {
   "cell_type": "code",
   "execution_count": null,
   "id": "6cb706dc",
   "metadata": {},
   "outputs": [],
   "source": [
    "# Given a string s containing just the characters '(', ')', '{', '}', '[' and ']', \n",
    "# determine if the input string is valid. \n",
    "# The string is valid if all open brackets are closed by the same type of closing bracket \n",
    "# in the correct order, and each closing bracket closes exactly one open bracket.\n",
    "\n",
    "# For example, s = \"({})\" and s = \"(){}[]\" are valid, but s = \"(]\" and s = \"({)}\" are not valid.\n"
   ]
  },
  {
   "cell_type": "markdown",
   "id": "852cdbb4",
   "metadata": {},
   "source": [
    "The order is last in, first out (LIFO) - the last opening bracket we saw is the first one we should close, which is perfect functionality for a stack to provide.\n",
    "\n",
    "As we iterate over the string, if we see an opening bracket, we should put it on the stack. If we see a closing bracket, we can check the most recent unclosed opening bracket by popping it from the top of the stack. If it matches, then continue, if it doesn't, or there is no opening bracket on the stack at all (this would occur in a case like \"{}]\"), then we know the string is invalid. In the end, there should be no unmatched open brackets (like in the case of \"(){\"), so the stack should be empty for the string to be valid.\n",
    "\n",
    "How can we associate the opening and closing brackets together? We can use a hash map to map each opening bracket to its closing bracket. Then, when we see a closing bracket, we can use the top of the stack as a key and check if the value is equal to the current character."
   ]
  },
  {
   "cell_type": "code",
   "execution_count": null,
   "id": "9553dc11",
   "metadata": {},
   "outputs": [],
   "source": [
    "def isValid(self, s: str) -> bool:\n",
    "        stack = []\n",
    "        #given an opening bracket what is corresponding closing bracket\n",
    "        matching = {\"(\": \")\", \"[\": \"]\", \"{\": \"}\"}\n",
    "        \n",
    "        for c in s:\n",
    "            if c in matching: # if c is an opening bracket\n",
    "                stack.append(c)\n",
    "            else:\n",
    "                if not stack:\n",
    "                    return False\n",
    "                \n",
    "                previous_opening = stack.pop()\n",
    "                if matching[previous_opening] != c:\n",
    "                    return False\n",
    "        \n",
    "        #if stack is not empty then there is some open brackets which are not closed , hence remain in stack\n",
    "        return not stack"
   ]
  },
  {
   "cell_type": "code",
   "execution_count": null,
   "id": "42ad10d7",
   "metadata": {},
   "outputs": [],
   "source": []
  },
  {
   "cell_type": "markdown",
   "id": "ee0df07e",
   "metadata": {},
   "source": [
    "#### Remove All Adjacent Duplicates In String"
   ]
  },
  {
   "cell_type": "code",
   "execution_count": 2,
   "id": "fc1a56a7",
   "metadata": {},
   "outputs": [],
   "source": [
    "# Example 2: 1047. Remove All Adjacent Duplicates In String\n",
    "\n",
    "# You are given a string s. Continuously remove duplicates (two of the same character beside each other)\n",
    "# until you can't anymore. Return the final string after this.\n",
    "\n",
    "# For example, given s = \"abbaca\", you can first remove the \"bb\" to get \"aaca\". \n",
    "# Next, you can remove the \"aa\" to get \"ca\". This is the final answer.\n"
   ]
  },
  {
   "cell_type": "code",
   "execution_count": 11,
   "id": "5aab516e",
   "metadata": {},
   "outputs": [
    {
     "data": {
      "text/plain": [
       "'ca'"
      ]
     },
     "execution_count": 11,
     "metadata": {},
     "output_type": "execute_result"
    }
   ],
   "source": [
    "#Identify LIFO hint here or pop-append theme:\n",
    "def removeDuplicates(s: str) -> str:\n",
    "        stack = []\n",
    "        \n",
    "        for c in s:\n",
    "            if not stack:\n",
    "                stack.append(c)\n",
    "            \n",
    "            else: \n",
    "                if c == stack[-1]:\n",
    "                    stack.pop()\n",
    "                else:\n",
    "                    stack.append(c)\n",
    "\n",
    "        return ''.join(stack)\n",
    "\n",
    "s = \"abbaca\"\n",
    "removeDuplicates(s)"
   ]
  },
  {
   "cell_type": "markdown",
   "id": "e268ecd2",
   "metadata": {},
   "source": [
    "#### Backspace String Compare"
   ]
  },
  {
   "cell_type": "code",
   "execution_count": 12,
   "id": "a76b912f",
   "metadata": {},
   "outputs": [],
   "source": [
    "# Example 3: 844. Backspace String Compare\n",
    "\n",
    "# Given two strings s and t, return true if they are equal when both are typed into empty text editors.\n",
    "# '#' means a backspace character.\n",
    "\n",
    "# For example, given s = \"ab#c\" and t = \"ad#c\", return true. \n",
    "# Because of the backspace, the strings are both equal to \"ac\".\n"
   ]
  },
  {
   "cell_type": "code",
   "execution_count": 40,
   "id": "c6456de1",
   "metadata": {},
   "outputs": [
    {
     "data": {
      "text/plain": [
       "False"
      ]
     },
     "execution_count": 40,
     "metadata": {},
     "output_type": "execute_result"
    }
   ],
   "source": [
    "#Identify LIFO hint here or pop-append theme:\n",
    "\n",
    "s , t = \"ab#c\" , \"ad#d\"\n",
    "\n",
    "stack_s, stack_t = [], []\n",
    "\n",
    "for c1, c2 in zip(s, t):\n",
    "    \n",
    "    \n",
    "        \n",
    "#     stack_s.append(c1)\n",
    "#     stack_t.append(c2)\n",
    "    \n",
    "    if (c1=='#'and c2!='#'):        \n",
    "        stack_s.pop()\n",
    "        stack_t.append(c2)\n",
    "        \n",
    "    \n",
    "    if (c1!='#'and c2=='#'):       \n",
    "        stack_t.pop()\n",
    "        stack_s.append(c1)\n",
    "    \n",
    "    if (c1=='#'and c2=='#'):\n",
    "        stack_s.pop()\n",
    "        stack_t.pop()\n",
    "    \n",
    "    else:\n",
    "        stack_s.append(c1)\n",
    "        stack_t.append(c2)\n",
    "    \n",
    "        \n",
    "''.join(stack_s) == ''.join(stack_t) \n"
   ]
  },
  {
   "cell_type": "code",
   "execution_count": 41,
   "id": "b118c174",
   "metadata": {},
   "outputs": [
    {
     "data": {
      "text/plain": [
       "('ac', 'ad')"
      ]
     },
     "execution_count": 41,
     "metadata": {},
     "output_type": "execute_result"
    }
   ],
   "source": [
    "''.join(stack_s), ''.join(stack_t) "
   ]
  },
  {
   "cell_type": "code",
   "execution_count": 25,
   "id": "deb7830f",
   "metadata": {},
   "outputs": [
    {
     "data": {
      "text/plain": [
       "[]"
      ]
     },
     "execution_count": 25,
     "metadata": {},
     "output_type": "execute_result"
    }
   ],
   "source": [
    "stack_s"
   ]
  },
  {
   "cell_type": "code",
   "execution_count": null,
   "id": "085ef90d",
   "metadata": {},
   "outputs": [],
   "source": [
    "def backspaceCompare(self, s: str, t: str) -> bool:\n",
    "        def build(s):\n",
    "            stack = []\n",
    "            for c in s:\n",
    "                if c != \"#\":\n",
    "                    stack.append(c)\n",
    "                elif stack:\n",
    "                    stack.pop()\n",
    "\n",
    "            return \"\".join(stack)\n",
    "\n",
    "        return build(s) == build(t)"
   ]
  },
  {
   "cell_type": "markdown",
   "id": "72cebd3a",
   "metadata": {},
   "source": [
    "#### Make The String Great"
   ]
  },
  {
   "cell_type": "code",
   "execution_count": 42,
   "id": "f48c649b",
   "metadata": {},
   "outputs": [],
   "source": [
    "# Given a string s of lower and upper case English letters.\n",
    "\n",
    "# A good string is a string which doesn't have two adjacent characters s[i] and s[i + 1] where:\n",
    "\n",
    "#     0 <= i <= s.length - 2\n",
    "#     s[i] is a lower-case letter and s[i + 1] is the same letter but in upper-case or vice-versa.\n",
    "\n",
    "# To make the string good, you can choose two adjacent characters that make the string bad \n",
    "# and remove them. You can keep doing this until the string becomes good.\n",
    "\n",
    "# Return the string after making it good. The answer is guaranteed to be unique under the given constraints.\n",
    "\n",
    "# Notice that an empty string is also good."
   ]
  },
  {
   "cell_type": "code",
   "execution_count": 44,
   "id": "cbfef5d9",
   "metadata": {},
   "outputs": [
    {
     "data": {
      "text/plain": [
       "'a'"
      ]
     },
     "execution_count": 44,
     "metadata": {},
     "output_type": "execute_result"
    }
   ],
   "source": [
    "'a'.lower()"
   ]
  },
  {
   "cell_type": "code",
   "execution_count": null,
   "id": "c6eacf7d",
   "metadata": {},
   "outputs": [],
   "source": [
    "# Input: s = \"leEeetcode\"\n",
    "# Output: \"leetcode\"\n",
    "# Explanation: In the first step, either you choose i = 1 or i = 2, \n",
    "# both will result \"leEeetcode\" to be reduced to \"leetcode\"."
   ]
  },
  {
   "cell_type": "code",
   "execution_count": 10,
   "id": "74527895",
   "metadata": {},
   "outputs": [
    {
     "data": {
      "text/plain": [
       "''"
      ]
     },
     "execution_count": 10,
     "metadata": {},
     "output_type": "execute_result"
    }
   ],
   "source": [
    "#see the pattern of append and pop/ LIFO\n",
    "s = \"leEeetcode\"\n",
    "s = \"abBAcC\"\n",
    "def makeGood(s) -> str:\n",
    "        stack = []\n",
    "\n",
    "        for c in s:\n",
    "\n",
    "            if not stack:\n",
    "                stack.append(c)\n",
    "\n",
    "\n",
    "            elif ((stack[-1].lower() == c)|(stack[-1].upper() == c))&(stack[-1] != c):\n",
    "                stack.pop()        \n",
    "\n",
    "            else:\n",
    "                stack.append(c)    \n",
    "\n",
    "        return ''.join(stack)\n",
    "\n",
    "makeGood(s)"
   ]
  },
  {
   "cell_type": "code",
   "execution_count": null,
   "id": "a2ec480a",
   "metadata": {},
   "outputs": [],
   "source": []
  },
  {
   "cell_type": "markdown",
   "id": "675b9399",
   "metadata": {},
   "source": [
    "#### Simplify Path"
   ]
  },
  {
   "cell_type": "code",
   "execution_count": 79,
   "id": "86be62b4",
   "metadata": {},
   "outputs": [],
   "source": [
    "# Given an absolute path for a Unix-style file system, which begins with a slash '/', \n",
    "# transform this path into its simplified canonical path.\n",
    "\n",
    "# In Unix-style file system context, a single period '.' \n",
    "# signifies the current directory, a double period \"..\" \n",
    "# denotes moving up one directory level, and multiple slashes such as \"//\" are interpreted \n",
    "# as a single slash. \n",
    "# In this problem, treat sequences of periods not covered by the previous rules \n",
    "# (like \"...\") as valid names for files or directories.\n",
    "\n",
    "# The simplified canonical path should adhere to the following rules:\n",
    "\n",
    "#     It must start with a single slash '/'.\n",
    "#     Directories within the path should be separated by only one slash '/'.\n",
    "#     It should not end with a slash '/', unless it's the root directory.\n",
    "#     It should exclude any single or double periods used to denote current or parent directories.\n",
    "\n",
    "# Return the new path."
   ]
  },
  {
   "cell_type": "code",
   "execution_count": null,
   "id": "f25d7bd1",
   "metadata": {},
   "outputs": [],
   "source": [
    "# Example 1:\n",
    "# Input: path = \"/home/\"\n",
    "# Output: \"/home\"\n",
    "\n",
    "# Explanation:The trailing slash should be removed.\n",
    "\n",
    "\n",
    "# Example 2:\n",
    "# Input: path = \"/home//foo/\"\n",
    "# Output: \"/home/foo\"\n",
    "\n",
    "# Explanation:Multiple consecutive slashes are replaced by a single one.\n",
    "\n",
    "\n",
    "# Example 3:\n",
    "# Input: path = \"/home/user/Documents/../Pictures\"\n",
    "# Output: \"/home/user/Pictures\"\n",
    "\n",
    "# Explanation: A double period \"..\" refers to the directory up a level.\n",
    "\n",
    "\n",
    "# Example 4:\n",
    "# Input: path = \"/../\"\n",
    "# Output: \"/\"\n",
    "\n",
    "# Explanation:Going one level up from the root directory is not possible.\n",
    "\n",
    "\n",
    "# Example 5:\n",
    "# Input: path = \"/.../a/../b/c/../d/./\"\n",
    "# Output: \"/.../b/d\"\n",
    "\n",
    "# Explanation: \"...\" is a valid name for a directory in this problem.\n",
    "\n"
   ]
  },
  {
   "cell_type": "code",
   "execution_count": null,
   "id": "d0530894",
   "metadata": {},
   "outputs": [],
   "source": [
    "#identify pop and append theme here: pop is based on .. or // or stack[-1] being /"
   ]
  },
  {
   "cell_type": "code",
   "execution_count": null,
   "id": "9f55de98",
   "metadata": {},
   "outputs": [],
   "source": [
    "def simplifyPath(self, path: str) -> str:\n",
    "\n",
    "        # Initialize a stack\n",
    "        stack = []\n",
    "\n",
    "        # Split the input string on \"/\" as the delimiter\n",
    "        # and process each portion one by one\n",
    "        for portion in path.split(\"/\"):\n",
    "\n",
    "            # If the current component is a \"..\", then\n",
    "            # we pop an entry from the stack if it's non-empty\n",
    "            if portion == \"..\":\n",
    "                if stack:\n",
    "                    stack.pop()\n",
    "            elif portion == \".\" or not portion:\n",
    "                # A no-op for a \".\" or an empty string\n",
    "                continue\n",
    "            else:\n",
    "                # Finally, a legitimate directory name, so we add it\n",
    "                # to our stack\n",
    "                stack.append(portion)\n",
    "\n",
    "        # Stich together all the directory names together\n",
    "        final_str = \"/\" + \"/\".join(stack)\n",
    "        return final_str"
   ]
  },
  {
   "cell_type": "code",
   "execution_count": null,
   "id": "192e4716",
   "metadata": {},
   "outputs": [],
   "source": []
  },
  {
   "cell_type": "markdown",
   "id": "98993f6e",
   "metadata": {},
   "source": [
    "#### Monotonic"
   ]
  },
  {
   "cell_type": "code",
   "execution_count": null,
   "id": "b27132be",
   "metadata": {},
   "outputs": [],
   "source": []
  }
 ],
 "metadata": {
  "kernelspec": {
   "display_name": "Python 3 (ipykernel)",
   "language": "python",
   "name": "python3"
  },
  "language_info": {
   "codemirror_mode": {
    "name": "ipython",
    "version": 3
   },
   "file_extension": ".py",
   "mimetype": "text/x-python",
   "name": "python",
   "nbconvert_exporter": "python",
   "pygments_lexer": "ipython3",
   "version": "3.9.12"
  },
  "toc": {
   "base_numbering": 1,
   "nav_menu": {},
   "number_sections": true,
   "sideBar": true,
   "skip_h1_title": false,
   "title_cell": "Table of Contents",
   "title_sidebar": "Contents",
   "toc_cell": false,
   "toc_position": {},
   "toc_section_display": true,
   "toc_window_display": true
  },
  "varInspector": {
   "cols": {
    "lenName": 16,
    "lenType": 16,
    "lenVar": 40
   },
   "kernels_config": {
    "python": {
     "delete_cmd_postfix": "",
     "delete_cmd_prefix": "del ",
     "library": "var_list.py",
     "varRefreshCmd": "print(var_dic_list())"
    },
    "r": {
     "delete_cmd_postfix": ") ",
     "delete_cmd_prefix": "rm(",
     "library": "var_list.r",
     "varRefreshCmd": "cat(var_dic_list()) "
    }
   },
   "types_to_exclude": [
    "module",
    "function",
    "builtin_function_or_method",
    "instance",
    "_Feature"
   ],
   "window_display": false
  }
 },
 "nbformat": 4,
 "nbformat_minor": 5
}
