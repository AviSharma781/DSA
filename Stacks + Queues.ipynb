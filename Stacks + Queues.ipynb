{
 "cells": [
  {
   "cell_type": "code",
   "execution_count": 1,
   "id": "fc55b294",
   "metadata": {},
   "outputs": [],
   "source": [
    "import pandas as pd\n",
    "import numpy as np"
   ]
  },
  {
   "cell_type": "code",
   "execution_count": 2,
   "id": "8d5fb224",
   "metadata": {},
   "outputs": [
    {
     "data": {
      "text/plain": [
       "1"
      ]
     },
     "execution_count": 2,
     "metadata": {},
     "output_type": "execute_result"
    }
   ],
   "source": [
    "#Remeber LIFO\n",
    "# Declaration: we will just use a list\n",
    "stack = []\n",
    "\n",
    "# Pushing elements:\n",
    "stack.append(1)\n",
    "stack.append(2)\n",
    "stack.append(3)\n",
    "\n",
    "# Popping elements:\n",
    "stack.pop() # 3\n",
    "stack.pop() # 2\n",
    "\n",
    "# Check if empty\n",
    "not stack # False\n",
    "\n",
    "# Check element at top\n",
    "stack[-1] # 1\n",
    "\n",
    "# Get size\n",
    "len(stack) # 1"
   ]
  },
  {
   "cell_type": "markdown",
   "id": "f6a1e198",
   "metadata": {},
   "source": [
    "While a stack followed a LIFO pattern, a queue follows FIFO (first in first out). In a stack, elements are added and removed from the same side. In a queue, elements are added and removed from opposite sides. Like with a stack, there are multiple ways to implement a queue, but the important thing that defines it is the abstract interface of adding and removing from opposite sides.\n",
    "There is also a data structure called a deque, short for double-ended queue, and pronounced \"deck\". In a deque, you can add or delete elements from both ends. A normal queue designates adding to one end and deleting to another end."
   ]
  },
  {
   "cell_type": "code",
   "execution_count": 3,
   "id": "a7f1c9dd",
   "metadata": {},
   "outputs": [
    {
     "data": {
      "text/plain": [
       "3"
      ]
     },
     "execution_count": 3,
     "metadata": {},
     "output_type": "execute_result"
    }
   ],
   "source": [
    "# Declaration: we will use deque from the collections module\n",
    "import collections\n",
    "queue = collections.deque()\n",
    "\n",
    "# If you want to initialize it with some initial values:\n",
    "queue = collections.deque([1, 2, 3])\n",
    "\n",
    "# Enqueueing/adding elements:\n",
    "queue.append(4)\n",
    "queue.append(5)\n",
    "\n",
    "# Dequeuing/removing elements:\n",
    "queue.popleft() # 1\n",
    "queue.popleft() # 2\n",
    "\n",
    "# Check element at front of queue (next element to be removed)\n",
    "queue[0] # 3\n",
    "\n",
    "# Get size\n",
    "len(queue) # 3"
   ]
  },
  {
   "cell_type": "code",
   "execution_count": 5,
   "id": "5856d563",
   "metadata": {},
   "outputs": [
    {
     "name": "stdout",
     "output_type": "stream",
     "text": [
      "1\n",
      "2\n",
      "3\n",
      "Queue is empty!\n"
     ]
    }
   ],
   "source": [
    "from collections import deque\n",
    "\n",
    "queue = deque()\n",
    "\n",
    "queue.append(1)\n",
    "queue.append(2)\n",
    "queue.append(3)\n",
    "\n",
    "while queue:\n",
    "    print(queue.popleft())\n",
    "    \n",
    "if not queue:\n",
    "    print(\"Queue is empty!\")"
   ]
  },
  {
   "cell_type": "code",
   "execution_count": 14,
   "id": "8357d942",
   "metadata": {},
   "outputs": [
    {
     "data": {
      "text/plain": [
       "deque([1, 2, 3])"
      ]
     },
     "execution_count": 14,
     "metadata": {},
     "output_type": "execute_result"
    }
   ],
   "source": [
    "queue = deque()\n",
    "\n",
    "queue.append(1)\n",
    "queue.append(2)\n",
    "queue.append(3)\n",
    "queue"
   ]
  },
  {
   "cell_type": "code",
   "execution_count": 17,
   "id": "39fcdeae",
   "metadata": {},
   "outputs": [],
   "source": [
    "ans = 0\n",
    "for i in range(len(queue)):\n",
    "    ans += queue[i]"
   ]
  },
  {
   "cell_type": "code",
   "execution_count": 18,
   "id": "37e1caae",
   "metadata": {},
   "outputs": [
    {
     "data": {
      "text/plain": [
       "6"
      ]
     },
     "execution_count": 18,
     "metadata": {},
     "output_type": "execute_result"
    }
   ],
   "source": [
    "ans"
   ]
  },
  {
   "cell_type": "code",
   "execution_count": 12,
   "id": "734f0e05",
   "metadata": {},
   "outputs": [
    {
     "data": {
      "text/plain": [
       "deque([2, 3])"
      ]
     },
     "execution_count": 12,
     "metadata": {},
     "output_type": "execute_result"
    }
   ],
   "source": [
    "queue.popleft()\n",
    "queue"
   ]
  },
  {
   "cell_type": "code",
   "execution_count": 13,
   "id": "87ab1561",
   "metadata": {},
   "outputs": [
    {
     "data": {
      "text/plain": [
       "deque([2])"
      ]
     },
     "execution_count": 13,
     "metadata": {},
     "output_type": "execute_result"
    }
   ],
   "source": [
    "queue.pop()\n",
    "queue"
   ]
  },
  {
   "cell_type": "code",
   "execution_count": null,
   "id": "1181cd13",
   "metadata": {},
   "outputs": [],
   "source": []
  }
 ],
 "metadata": {
  "kernelspec": {
   "display_name": "Python 3 (ipykernel)",
   "language": "python",
   "name": "python3"
  },
  "language_info": {
   "codemirror_mode": {
    "name": "ipython",
    "version": 3
   },
   "file_extension": ".py",
   "mimetype": "text/x-python",
   "name": "python",
   "nbconvert_exporter": "python",
   "pygments_lexer": "ipython3",
   "version": "3.9.12"
  },
  "toc": {
   "base_numbering": 1,
   "nav_menu": {},
   "number_sections": true,
   "sideBar": true,
   "skip_h1_title": false,
   "title_cell": "Table of Contents",
   "title_sidebar": "Contents",
   "toc_cell": false,
   "toc_position": {},
   "toc_section_display": true,
   "toc_window_display": false
  },
  "varInspector": {
   "cols": {
    "lenName": 16,
    "lenType": 16,
    "lenVar": 40
   },
   "kernels_config": {
    "python": {
     "delete_cmd_postfix": "",
     "delete_cmd_prefix": "del ",
     "library": "var_list.py",
     "varRefreshCmd": "print(var_dic_list())"
    },
    "r": {
     "delete_cmd_postfix": ") ",
     "delete_cmd_prefix": "rm(",
     "library": "var_list.r",
     "varRefreshCmd": "cat(var_dic_list()) "
    }
   },
   "types_to_exclude": [
    "module",
    "function",
    "builtin_function_or_method",
    "instance",
    "_Feature"
   ],
   "window_display": false
  }
 },
 "nbformat": 4,
 "nbformat_minor": 5
}
