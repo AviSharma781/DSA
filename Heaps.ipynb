{
 "cells": [
  {
   "cell_type": "code",
   "execution_count": null,
   "id": "aa7c773a",
   "metadata": {},
   "outputs": [],
   "source": [
    "# A heap is a great option whenever you need to find the maximum or minimum of something repeatedly."
   ]
  },
  {
   "cell_type": "code",
   "execution_count": 1,
   "id": "339a0c67",
   "metadata": {},
   "outputs": [],
   "source": [
    "import pandas as pd\n",
    "import numpy as np"
   ]
  },
  {
   "cell_type": "markdown",
   "id": "0b576226",
   "metadata": {},
   "source": [
    "#### 1"
   ]
  },
  {
   "cell_type": "markdown",
   "id": "b55327ae",
   "metadata": {},
   "source": [
    "#### 2"
   ]
  },
  {
   "cell_type": "markdown",
   "id": "4350aade",
   "metadata": {},
   "source": [
    "#### 3"
   ]
  },
  {
   "cell_type": "markdown",
   "id": "6c93ade8",
   "metadata": {},
   "source": [
    "#### 4"
   ]
  },
  {
   "cell_type": "markdown",
   "id": "5612b238",
   "metadata": {},
   "source": [
    "#### Intro"
   ]
  },
  {
   "cell_type": "code",
   "execution_count": 2,
   "id": "59af6c76",
   "metadata": {},
   "outputs": [],
   "source": [
    "# A heap is a data structure that is an implementation of the priority queue.\n",
    "\n",
    "# Note that a priority queue is an abstract data structure. A heap is one of many ways to implement a priority queue. \n",
    "# However, people often use the two terms interchangeably. In this course, we will use the term \"heap\".\n",
    "\n",
    "# A heap is a container that stores elements, and supports the following operations:\n",
    "\n",
    "# Add an element in O(log⁡n)\n",
    "# Remove the minimum element in O(log⁡n)\n",
    "# Find the minimum element in O(1)\n"
   ]
  },
  {
   "cell_type": "code",
   "execution_count": null,
   "id": "3b3ad8d3",
   "metadata": {},
   "outputs": [],
   "source": [
    "# A heap can also find the max elements instead of the min elements. \n",
    "# If a heap is configured to find/remove the min element, it's called a min heap. \n",
    "# If it's configured to find/remove the max element, it's called a max heap."
   ]
  },
  {
   "cell_type": "code",
   "execution_count": 3,
   "id": "9894df3d",
   "metadata": {},
   "outputs": [],
   "source": [
    "# The ability to find the max/min element in constant time, \n",
    "# while only needing logarithmic time to maintain this ability through changes makes a heap an extremely powerful data structure."
   ]
  },
  {
   "cell_type": "markdown",
   "id": "51176370",
   "metadata": {},
   "source": [
    "There are multiple ways to implement a heap, although the most popular way is called a binary heap using an array. In the trees and graphs chapter, we saw that binary trees are typically implemented with a Node object.\n",
    "\n",
    "A binary heap implements a binary tree, but with only an array. The idea is that each element in the array is a node in the tree. The smallest element in the tree is the root, and the following property is maintained at every node: if A is the parent of B, then A.val <= B.val. Notice that this property directly implies that the root is the smallest element."
   ]
  },
  {
   "cell_type": "markdown",
   "id": "a8482269",
   "metadata": {},
   "source": [
    "The parent-child relationships are done using math with the indices. The first element at index 0 is the root, then the elements at indices 1 and 2 are the root's children, the elements at indices 3 and 4 are the children of the element at index 1 and the elements at indices 5 and 6 are the children of the element at index 2, and so on. If a node is at index i, then its children are at indices 2i + 1 and 2i + 2. When elements are added or removed, operations are done to maintain the aforementioned property of parent.val <= child.val. The number of operations needed scales logarithmically with the number of elements in the heap, and the process is known as \"bubbling up\"."
   ]
  },
  {
   "cell_type": "code",
   "execution_count": 2,
   "id": "cfd6f0fa",
   "metadata": {},
   "outputs": [
    {
     "data": {
      "text/plain": [
       "[2, 43, 13, 634, 120]"
      ]
     },
     "execution_count": 2,
     "metadata": {},
     "output_type": "execute_result"
    }
   ],
   "source": [
    "# In Python, we will use the heapq module\n",
    "# Note: heapq only implements min heaps\n",
    "from heapq import *\n",
    "\n",
    "# Declaration: heapq does not give you a heap data structure.\n",
    "# You just use a normal list, and heapq provides you with\n",
    "# methods that can be used on this list to perform heap operations\n",
    "heap = []\n",
    "\n",
    "# Add to heap\n",
    "heappush(heap, 1)\n",
    "heappush(heap, 2)\n",
    "heappush(heap, 3)\n",
    "\n",
    "# Check minimum element\n",
    "heap[0] # 1\n",
    "\n",
    "# Pop minimum element\n",
    "heappop(heap) # 1\n",
    "\n",
    "# Get size\n",
    "len(heap) # 2\n",
    "\n",
    "# Bonus: convert a list to a heap in linear time\n",
    "nums = [43, 2, 13, 634, 120]\n",
    "heapify(nums)\n",
    "nums"
   ]
  },
  {
   "cell_type": "markdown",
   "id": "463a1d76",
   "metadata": {},
   "source": [
    "#### Last Stone Weight"
   ]
  },
  {
   "cell_type": "code",
   "execution_count": 5,
   "id": "573fe254",
   "metadata": {},
   "outputs": [],
   "source": [
    "# You are given an array of integers stones where stones[i] is the weight of the ith stone. \n",
    "# On each turn, we choose the heaviest two stones and smash them together. \n",
    "# Suppose the heaviest two stones have weights x and y with x <= y. If x == y, then both stones are destroyed. \n",
    "# If x != y, then x is destroyed and y loses x weight.\n",
    "# Return the weight of the last remaining stone, or 0 if there are no stones left.\n"
   ]
  },
  {
   "cell_type": "markdown",
   "id": "74c49b86",
   "metadata": {},
   "source": [
    "In this problem, we need to repeatedly find the 2 maximum elements. Let's convert stones into a max heap, so that we can pop the two maximum elements in O(log⁡n), perform the smash and then re-add to the heap (if the stones aren't both destroyed) in O(log⁡n). We can continue the process until there are one or zero stones left."
   ]
  },
  {
   "cell_type": "code",
   "execution_count": null,
   "id": "9201878b",
   "metadata": {},
   "outputs": [],
   "source": [
    "import heapq\n",
    "\n",
    "class Solution:\n",
    "    def lastStoneWeight(self, stones: List[int]) -> int:\n",
    "        stones = [-stone for stone in stones]\n",
    "        heapq.heapify(stones) # turns an array into a heap in linear time\n",
    "        while len(stones) > 1:\n",
    "            first = abs(heapq.heappop(stones))\n",
    "            second = abs(heapq.heappop(stones))\n",
    "            if first != second:\n",
    "                heapq.heappush(stones, -abs(first - second))\n",
    "\n",
    "        return -stones[0] if stones else 0"
   ]
  },
  {
   "cell_type": "markdown",
   "id": "d2455171",
   "metadata": {},
   "source": [
    "#### Minimum Operations to Halve Array Sum"
   ]
  },
  {
   "cell_type": "code",
   "execution_count": 6,
   "id": "9f1bbc44",
   "metadata": {},
   "outputs": [],
   "source": [
    "# You are given an array nums of positive integers. In one operation, you can choose any number from nums and \n",
    "# reduce it to exactly half the number.\n",
    "# Return the minimum number of operations to reduce the sum of nums by at least half."
   ]
  },
  {
   "cell_type": "markdown",
   "id": "05398c48",
   "metadata": {},
   "source": [
    "What is the best way to choose numbers to halve? We want to minimize the steps, so we want to maximize the amount we reduce nums by at each step. This means at any given moment, we should choose the largest element. To track the largest element at any given time, let's convert the input into a max heap. At each step, we pop the maximum x off, remove x / 2 from the sum, and then push x / 2 back onto the heap."
   ]
  },
  {
   "cell_type": "code",
   "execution_count": null,
   "id": "e2161b1d",
   "metadata": {},
   "outputs": [],
   "source": [
    "import heapq\n",
    "\n",
    "class Solution:\n",
    "    def halveArray(self, nums: List[int]) -> int:\n",
    "        target = sum(nums) / 2\n",
    "        heap = [-num for num in nums]\n",
    "        heapq.heapify(heap)\n",
    "        \n",
    "        ans = 0\n",
    "        while target > 0:\n",
    "            ans += 1\n",
    "            x = heapq.heappop(heap)\n",
    "            #becoz in python we have min heap so we multiply each num by -1, so to decrease target we can just add negated x.\n",
    "            target += x / 2\n",
    "            heapq.heappush(heap, x / 2)\n",
    "        \n",
    "        return ans"
   ]
  },
  {
   "cell_type": "markdown",
   "id": "f2c89aa0",
   "metadata": {},
   "source": [
    "#### Find Median from Data Stream"
   ]
  },
  {
   "cell_type": "markdown",
   "id": "67a96218",
   "metadata": {},
   "source": [
    "Using multiple heaps is uncommon and the problems that require it are generally on the harder side. If a problem involves finding a median, it's a good thing to think about. The example we're about to look at involves medians and 480. Sliding Window Median can also be solved with two heaps, although we won't be including it as a practice problem as it is very difficult (you can still try it after if you want though).\n",
    "\n",
    "480. Sliding Window Median"
   ]
  },
  {
   "cell_type": "markdown",
   "id": "a425a1d1",
   "metadata": {},
   "source": [
    "The median is the middle value in an ordered integer list. If the size of the list is even, the median is the average of the two middle values. Implement the MedianFinder class:\n",
    "\n",
    "MedianFinder() initializes the MedianFinder object.\n",
    "\n",
    "void addNum(int num) adds the integer num to the data structure.\n",
    "\n",
    "double findMedian() returns the median of all elements so far."
   ]
  },
  {
   "cell_type": "code",
   "execution_count": null,
   "id": "eddbcf51",
   "metadata": {},
   "outputs": [],
   "source": []
  },
  {
   "cell_type": "code",
   "execution_count": null,
   "id": "77c0f3ea",
   "metadata": {},
   "outputs": [],
   "source": []
  },
  {
   "cell_type": "markdown",
   "id": "9643c38a",
   "metadata": {},
   "source": [
    "#### Remove Stones to Minimize the Total"
   ]
  },
  {
   "cell_type": "code",
   "execution_count": null,
   "id": "f7f1ea62",
   "metadata": {},
   "outputs": [],
   "source": [
    "# You are given a 0-indexed integer array piles, where piles[i] represents the number of stones in the ith pile, \n",
    "# and an integer k. You should apply the following operation exactly k times:\n",
    "# Choose any piles[i] and remove floor(piles[i] / 2) stones from it.\n",
    "\n",
    "# Notice that you can apply the operation on the same pile more than once.\n",
    "# Return the minimum possible total number of stones remaining after applying the k operations.\n",
    "\n",
    "# floor(x) is the greatest integer that is smaller than or equal to x (i.e., rounds x down)."
   ]
  },
  {
   "cell_type": "code",
   "execution_count": null,
   "id": "192d0e9f",
   "metadata": {},
   "outputs": [],
   "source": [
    "#think how can you use heap for finding maximum/minimum repeately ?\n",
    "#here minimum can be acheived if you remove stones from max pile repeatedly so use heap\n",
    "\n",
    "\n"
   ]
  },
  {
   "cell_type": "code",
   "execution_count": null,
   "id": "3489e7ce",
   "metadata": {},
   "outputs": [],
   "source": [
    "import heapq\n",
    "def halve(piles, k):\n",
    "    heap = [-i for i in piles]\n",
    "    heapq.heapify(piles)\n",
    "    \n",
    "    while k>0:\n",
    "        k -=1\n",
    "        x = heapq.heappop(heap)\n",
    "        \n",
    "        #becoz in python we have min heap so we multiply eah num by -1, \n",
    "        #so to decrease target we can just add negated x.        \n",
    "        \n",
    "        heapq.heappush(heap, -floor(-x / 2))\n",
    "    \n",
    "    heap = [-i for i in heap]\n",
    "    try :\n",
    "        return sum(heap)\n",
    "    except:\n",
    "        return 0\n",
    "\n",
    "\n",
    "   \n",
    "    "
   ]
  },
  {
   "cell_type": "code",
   "execution_count": 14,
   "id": "d4a40716",
   "metadata": {},
   "outputs": [
    {
     "data": {
      "text/plain": [
       "0"
      ]
     },
     "execution_count": 14,
     "metadata": {},
     "output_type": "execute_result"
    }
   ],
   "source": [
    "class Solution:\n",
    "    def minStoneSum(self, piles: List[int], k: int) -> int:\n",
    "        heap = [-num for num in piles]\n",
    "        heapq.heapify(heap)\n",
    "        \n",
    "        for _ in range(k):\n",
    "            curr = -heapq.heappop(heap)\n",
    "            remove = curr // 2\n",
    "            heapq.heappush(heap, -(curr - remove))\n",
    "        \n",
    "        return -sum(heap)\n",
    "        "
   ]
  },
  {
   "cell_type": "markdown",
   "id": "d813456b",
   "metadata": {},
   "source": [
    "#### Minimum Cost to Connect Sticks"
   ]
  },
  {
   "cell_type": "code",
   "execution_count": 7,
   "id": "1c6aade6",
   "metadata": {},
   "outputs": [],
   "source": [
    "# You have some number of sticks with positive integer lengths. \n",
    "# These lengths are given as an array sticks, where sticks[i] is the length of the ith stick.\n",
    "\n",
    "# You can connect any two sticks of lengths x and y into one stick by paying a cost of x + y. \n",
    "# You must connect all the sticks until there is only one stick remaining.\n",
    "\n",
    "# Return the minimum cost of connecting all the given sticks into one stick in this way."
   ]
  },
  {
   "cell_type": "code",
   "execution_count": 15,
   "id": "d7f9d9d9",
   "metadata": {},
   "outputs": [],
   "source": [
    "# Input: sticks = [2,4,3]\n",
    "# Output: 14\n",
    "# Explanation: You start with sticks = [2,4,3].\n",
    "# 1. Combine sticks 2 and 3 for a cost of 2 + 3 = 5. Now you have sticks = [5,4].\n",
    "# 2. Combine sticks 5 and 4 for a cost of 5 + 4 = 9. Now you have sticks = [9].\n",
    "# There is only one stick left, so you are done. The total cost is 5 + 9 = 14."
   ]
  },
  {
   "cell_type": "code",
   "execution_count": 36,
   "id": "5e070cc0",
   "metadata": {},
   "outputs": [
    {
     "data": {
      "text/plain": [
       "30"
      ]
     },
     "execution_count": 36,
     "metadata": {},
     "output_type": "execute_result"
    }
   ],
   "source": [
    "def cost_stick(sticks):\n",
    "    \n",
    "    heapq.heapify(sticks)\n",
    "    cost = 0\n",
    "    \n",
    "    while len(sticks)>1:\n",
    "        \n",
    "            \n",
    "        stick1 = heapq.heappop(sticks)\n",
    "        stick2 = heapq.heappop(sticks)\n",
    "\n",
    "        cost += (stick1 + stick2)\n",
    "        \n",
    "        \n",
    "        \n",
    "        heapq.heappush(sticks,(stick1 + stick2) )\n",
    "        \n",
    "\n",
    "    return cost\n",
    "\n",
    "cost_stick([1,8,3,5])       "
   ]
  },
  {
   "cell_type": "markdown",
   "id": "be06fa9c",
   "metadata": {},
   "source": [
    "#### Top K Frequent Elements"
   ]
  },
  {
   "cell_type": "code",
   "execution_count": 37,
   "id": "059ddeb9",
   "metadata": {},
   "outputs": [],
   "source": [
    "# Given an integer array nums and an integer k, return the k most frequent elements. \n",
    "# It is guaranteed that the answer is unique."
   ]
  },
  {
   "cell_type": "code",
   "execution_count": 46,
   "id": "8347b034",
   "metadata": {},
   "outputs": [
    {
     "name": "stdout",
     "output_type": "stream",
     "text": [
      "1\n",
      "2\n"
     ]
    }
   ],
   "source": [
    "#without heaps solution\n",
    "from collections import defaultdict\n",
    "\n",
    "nums = [1,1,1,2,2,3]\n",
    "k = 2\n",
    "\n",
    "x = defaultdict(int)\n",
    "for i in nums:\n",
    "    x[i] +=1\n",
    "\n",
    "x = dict(sorted(x.items(), key=lambda item: item[1], reverse=True))\n",
    "\n",
    "for a, b in x.items():    \n",
    "    \n",
    "    if k>0: print(a)\n",
    "    k -=1"
   ]
  },
  {
   "cell_type": "code",
   "execution_count": null,
   "id": "754d672d",
   "metadata": {},
   "outputs": [],
   "source": [
    "from collections import Counter\n",
    "import heapq\n",
    "\n",
    "class Solution:\n",
    "    def topKFrequent(self, nums: List[int], k: int) -> List[int]:\n",
    "        counts = Counter(nums)\n",
    "        heap = []\n",
    "        \n",
    "        for key, val in counts.items():\n",
    "            #we are storing freq, key in this order becoz min heap operates on left element\n",
    "            heapq.heappush(heap, (val, key))\n",
    "            if len(heap) > k:\n",
    "                heapq.heappop(heap)\n",
    "        \n",
    "        return [pair[1] for pair in heap]"
   ]
  },
  {
   "cell_type": "markdown",
   "id": "35c2c874",
   "metadata": {},
   "source": [
    "#### Find K Closest Elements"
   ]
  },
  {
   "cell_type": "code",
   "execution_count": 47,
   "id": "c7d72a41",
   "metadata": {},
   "outputs": [],
   "source": [
    "# Given a sorted integer array arr, two integers k and x, return the k closest integers to x. \n",
    "# The answer should also be sorted in ascending order. If there are ties, take the smaller elements."
   ]
  },
  {
   "cell_type": "code",
   "execution_count": null,
   "id": "67a8bf1c",
   "metadata": {},
   "outputs": [],
   "source": [
    "import heapq\n",
    "\n",
    "class Solution:\n",
    "    def findClosestElements(self, arr: List[int], k: int, x: int) -> List[int]:\n",
    "        heap = []\n",
    "        \n",
    "        for num in arr:\n",
    "            distance = abs(x - num)\n",
    "            heapq.heappush(heap, (-distance, -num))\n",
    "            if len(heap) > k:\n",
    "                heapq.heappop(heap)\n",
    "        \n",
    "        return sorted([-pair[1] for pair in heap])"
   ]
  },
  {
   "cell_type": "markdown",
   "id": "d1b5468b",
   "metadata": {},
   "source": [
    "#### Kth Largest Element in an Array"
   ]
  },
  {
   "cell_type": "code",
   "execution_count": 48,
   "id": "5e0fe7de",
   "metadata": {},
   "outputs": [],
   "source": [
    "# Given an integer array nums and an integer k, return the kth largest element in the array.\n",
    "# Note that it is the kth largest element in the sorted order, not the kth distinct element.\n",
    "\n",
    "# Can you solve it without sorting?"
   ]
  },
  {
   "cell_type": "code",
   "execution_count": null,
   "id": "74f957d3",
   "metadata": {},
   "outputs": [],
   "source": [
    "def klargest(nums, k):\n",
    "    \n",
    "    heapq.heapify(nums)\n",
    "    \n",
    "    for _ in range(len(nums)-k):\n",
    "        heapq.heappop(nums)\n",
    "    \n",
    "    return nums[0]\n",
    "        \n",
    "        \n",
    "        "
   ]
  },
  {
   "cell_type": "code",
   "execution_count": 58,
   "id": "98e971fa",
   "metadata": {},
   "outputs": [
    {
     "data": {
      "text/plain": [
       "[4, 5, 16]"
      ]
     },
     "execution_count": 58,
     "metadata": {},
     "output_type": "execute_result"
    }
   ],
   "source": [
    "nums , k = [2,1,5,4,16,0], 3\n",
    "heapq.heapify(nums)\n",
    "    \n",
    "for _ in range(len(nums)-k):\n",
    "    heapq.heappop(nums)\n",
    "#see how as per heap's property --> parent node is less than the children\n",
    "nums"
   ]
  },
  {
   "cell_type": "markdown",
   "id": "f22f772d",
   "metadata": {},
   "source": [
    "#### K Closest Points to Origin"
   ]
  },
  {
   "cell_type": "markdown",
   "id": "1319a634",
   "metadata": {},
   "source": [
    "Given an array of points where points[i] = [xi, yi] represents a point on the X-Y plane and an integer k, return the k closest points to the origin (0, 0).\n",
    "\n",
    "The distance between two points on the X-Y plane is the Euclidean distance (i.e., √(x1 - x2)2 + (y1 - y2)2).\n",
    "\n",
    "You may return the answer in any order. The answer is guaranteed to be unique (except for the order that it is in)."
   ]
  },
  {
   "cell_type": "code",
   "execution_count": null,
   "id": "b9f66bfa",
   "metadata": {},
   "outputs": [],
   "source": [
    "def kclosest(points, k):\n",
    "    heap = []\n",
    "    \n",
    "    origin = np.array([0,0])\n",
    "    \n",
    "    for point in points:\n",
    "        temp = np.array(point) - origin\n",
    "        distance = np.sqrt(np.dot(temp.T, temp))\n",
    "        \n",
    "        heapq.heappush(heap, (-distance, point))\n",
    "        \n",
    "        if len(heap) > k:\n",
    "            heapq.heappop(heap)\n",
    "\n",
    "    return [pair[1] for pair in heap]"
   ]
  },
  {
   "cell_type": "code",
   "execution_count": 4,
   "id": "292bcd1b",
   "metadata": {},
   "outputs": [
    {
     "data": {
      "text/plain": [
       "(array([1, 1]), array([1, 1]))"
      ]
     },
     "execution_count": 4,
     "metadata": {},
     "output_type": "execute_result"
    }
   ],
   "source": [
    "t1, t2 = np.array([0,0]), np.array([1,1])\n",
    "temp = t2-t1\n",
    "# temp.T, temp\n",
    "np.sqrt(np.dot(temp.T, temp))"
   ]
  },
  {
   "cell_type": "markdown",
   "id": "9ca5ac11",
   "metadata": {},
   "source": [
    "#### Kth Largest Element in a Stream"
   ]
  },
  {
   "cell_type": "code",
   "execution_count": null,
   "id": "d442e5f5",
   "metadata": {},
   "outputs": [],
   "source": []
  },
  {
   "cell_type": "code",
   "execution_count": null,
   "id": "f310e0b0",
   "metadata": {},
   "outputs": [],
   "source": []
  },
  {
   "cell_type": "markdown",
   "id": "737835ab",
   "metadata": {},
   "source": [
    "#### Total Cost to hire K workers"
   ]
  },
  {
   "cell_type": "code",
   "execution_count": null,
   "id": "02d210ef",
   "metadata": {},
   "outputs": [],
   "source": [
    "You are given a 0-indexed integer array costs where costs[i] is the cost of hiring the ith worker.\n",
    "\n",
    "You are also given two integers k and candidates. We want to hire exactly k workers \n",
    "according to the following rules:\n",
    "\n",
    "You will run k sessions and hire exactly one worker in each session.\n",
    "In each hiring session, choose the worker with the lowest cost \n",
    "from either the first candidates workers or the last candidates workers. \n",
    "Break the tie by the smallest index.\n",
    "For example, if costs = [3,2,7,7,1,2] and candidates = 2, then in the first hiring session, \n",
    "we will choose the 4th worker because they have the lowest cost [3,2,7,7,1,2].\n",
    "In the second hiring session, we will choose 1st worker because they have \n",
    "the same lowest cost as 4th worker but they have the smallest index [3,2,7,7,2]. \n",
    "Please note that the indexing may be changed in the process.\n",
    "If there are fewer than candidates workers remaining, \n",
    "choose the worker with the lowest cost among them. Break the tie by the smallest index.\n",
    "A worker can only be chosen once.\n",
    "\n",
    "Return the total cost to hire exactly k workers."
   ]
  },
  {
   "cell_type": "code",
   "execution_count": 5,
   "id": "282e671e",
   "metadata": {},
   "outputs": [],
   "source": [
    "# Example 1:\n",
    "\n",
    "# Input: costs = [17,12,10,2,7,2,11,20,8], k = 3, candidates = 4\n",
    "# Output: 11\n",
    "# Explanation: We hire 3 workers in total. The total cost is initially 0.\n",
    "# - In the first hiring round we choose the worker from [17,12,10,2,7,2,11,20,8]. The lowest cost is 2, and we break the tie by the smallest index, which is 3. The total cost = 0 + 2 = 2.\n",
    "# - In the second hiring round we choose the worker from [17,12,10,7,2,11,20,8]. The lowest cost is 2 (index 4). The total cost = 2 + 2 = 4.\n",
    "# - In the third hiring round we choose the worker from [17,12,10,7,11,20,8]. The lowest cost is 7 (index 3). The total cost = 4 + 7 = 11. Notice that the worker with index 3 was common in the first and last four workers.\n",
    "# The total hiring cost is 11.\n",
    "\n",
    "\n"
   ]
  },
  {
   "cell_type": "code",
   "execution_count": null,
   "id": "ce5918c5",
   "metadata": {},
   "outputs": [],
   "source": [
    "# Example 2:\n",
    "\n",
    "# Input: costs = [1,2,4,1], k = 3, candidates = 3\n",
    "# Output: 4\n",
    "# Explanation: We hire 3 workers in total. The total cost is initially 0.\n",
    "# - In the first hiring round we choose the worker from [1,2,4,1]. The lowest cost is 1, and we break the tie by the smallest index, which is 0. The total cost = 0 + 1 = 1. Notice that workers with index 1 and 2 are common in the first and last 3 workers.\n",
    "# - In the second hiring round we choose the worker from [2,4,1]. The lowest cost is 1 (index 2). The total cost = 1 + 1 = 2.\n",
    "# - In the third hiring round there are less than three candidates. We choose the worker from the remaining workers [2,4]. The lowest cost is 2 (index 0). The total cost = 2 + 2 = 4.\n",
    "# The total hiring cost is 4.\n"
   ]
  },
  {
   "cell_type": "code",
   "execution_count": null,
   "id": "9ad04766",
   "metadata": {},
   "outputs": [],
   "source": [
    "import heapq\n",
    "def totalCost(costs, k, candidates) -> int:\n",
    "    heapq.heapify(costs)\n",
    "    \n",
    "    for _ in range(k):\n",
    "        \n",
    "    \n",
    "    \n",
    "    \n",
    "    "
   ]
  },
  {
   "cell_type": "markdown",
   "id": "b2779969",
   "metadata": {},
   "source": [
    "#### Meeting Rooms"
   ]
  },
  {
   "cell_type": "code",
   "execution_count": 13,
   "id": "5a981961",
   "metadata": {},
   "outputs": [],
   "source": [
    "# https://interviewing.io/questions/meeting-rooms\n",
    "\n",
    "# https://medium.com/nerd-for-tech/meeting-room-amazon-interview-problem-72609de8d776"
   ]
  },
  {
   "cell_type": "code",
   "execution_count": 1,
   "id": "b44453ec",
   "metadata": {},
   "outputs": [],
   "source": [
    "# Given a list of meetings, represented as tuples with a start and an end time, \n",
    "# determine the minimum number of rooms required to schedule all the meetings.\n",
    "\n",
    "\n",
    "# Input: meetings = [[5, 10], [2, 3]] Output: 1\n",
    "# Input: meetings = [[1, 3], [5, 7], [4, 6], [7, 9], [9, 10]] Output: 2\n",
    "# Input: meetings = [[9,10],[4,9],[5,17]]  Output: 2"
   ]
  },
  {
   "cell_type": "markdown",
   "id": "d1d2254a",
   "metadata": {},
   "source": [
    "##### without heaps"
   ]
  },
  {
   "cell_type": "code",
   "execution_count": 26,
   "id": "a6db4e60",
   "metadata": {},
   "outputs": [
    {
     "data": {
      "text/plain": [
       "1"
      ]
     },
     "execution_count": 26,
     "metadata": {},
     "output_type": "execute_result"
    }
   ],
   "source": [
    "from collections import defaultdict\n",
    "hash_meet = defaultdict(list)\n",
    "\n",
    "meetings = [[1, 3], [5, 7], [4, 6], [7, 9], [9, 10]]\n",
    "meetings = [[5, 10], [2, 3]]\n",
    "for i in meetings:\n",
    "    hash_meet[i[0]].append(i[1]) \n",
    "\n",
    "x = dict(hash_meet)\n",
    "x = dict(sorted(x.items(), key=lambda item: item[0], reverse=False))\n",
    "\n",
    "ans = 0\n",
    "count = 0\n",
    "for i, j in x.items():\n",
    "    \n",
    "    if count==0:\n",
    "        \n",
    "        ans+=1\n",
    "    \n",
    "    else:\n",
    "        for x in prev_end:\n",
    "            if x > i:\n",
    "                ans +=1\n",
    "            else:\n",
    "                continue\n",
    "    prev_end = j \n",
    "    count +=1\n",
    "ans"
   ]
  },
  {
   "cell_type": "markdown",
   "id": "e81594ea",
   "metadata": {},
   "source": [
    "##### with heaps"
   ]
  },
  {
   "cell_type": "code",
   "execution_count": 28,
   "id": "6a0aa485",
   "metadata": {},
   "outputs": [
    {
     "data": {
      "text/plain": [
       "[[1, 3], [4, 6], [5, 7], [7, 9], [9, 10]]"
      ]
     },
     "execution_count": 28,
     "metadata": {},
     "output_type": "execute_result"
    }
   ],
   "source": [
    "meetings = [[1, 3], [5, 7], [4, 6], [7, 9], [9, 10]]\n",
    " # sort meetings in ascending order by start time\n",
    "\n",
    "meetings.sort(key = lambda x: x[0])\n",
    "\n",
    "#create two min heaps one on start time and one on end time, \n",
    "#do x1 = heapq.heappop(start_heap) and x2 = heapq.heappop(end_heap), if x2<x1: rooms +=1\n",
    "#continue above until len(start_heap)> 0\n",
    "\n",
    "[1,4,5,7,9]\n",
    "[3,6,7,9,10]\n"
   ]
  },
  {
   "cell_type": "code",
   "execution_count": 33,
   "id": "b62a7848",
   "metadata": {},
   "outputs": [],
   "source": [
    "import heapq\n",
    "class Solution:\n",
    "    def minMeetingRooms(self, meetings) -> int:\n",
    "        if not meetings: return 0      \n",
    "\n",
    "        # sort meetings in ascending order by start time\n",
    "        meetings.sort(key = lambda x: x[0])        \n",
    "\n",
    "        # initialize heap and add the first meeting's end\n",
    "        rooms = []\n",
    "        \n",
    "        #push first end time        \n",
    "        heapq.heappush(rooms, meetings[0][1])    \n",
    "\n",
    "        for [start, end] in meetings[1:]:\n",
    "\n",
    "        # top of the heap is the meeting that will end soonest\n",
    "        # we can remove it if it ends before the next meeting starts\n",
    "\n",
    "            if rooms[0] <= start:\n",
    "                heapq.heappop(rooms)               \n",
    "            \n",
    "            heapq.heappush(rooms, end)\n",
    "            print(rooms)\n",
    "        \n",
    "\n",
    "        # the size of the heap at the end is the minimum rooms required\n",
    "        return len(rooms)"
   ]
  },
  {
   "cell_type": "code",
   "execution_count": 34,
   "id": "6e5ba480",
   "metadata": {},
   "outputs": [
    {
     "name": "stdout",
     "output_type": "stream",
     "text": [
      "[6]\n",
      "[6, 7]\n",
      "[7, 9]\n",
      "[9, 10]\n"
     ]
    },
    {
     "data": {
      "text/plain": [
       "2"
      ]
     },
     "execution_count": 34,
     "metadata": {},
     "output_type": "execute_result"
    }
   ],
   "source": [
    "Solution().minMeetingRooms(meetings)"
   ]
  },
  {
   "cell_type": "code",
   "execution_count": null,
   "id": "e35ad1b0",
   "metadata": {},
   "outputs": [],
   "source": []
  }
 ],
 "metadata": {
  "kernelspec": {
   "display_name": "Python 3 (ipykernel)",
   "language": "python",
   "name": "python3"
  },
  "language_info": {
   "codemirror_mode": {
    "name": "ipython",
    "version": 3
   },
   "file_extension": ".py",
   "mimetype": "text/x-python",
   "name": "python",
   "nbconvert_exporter": "python",
   "pygments_lexer": "ipython3",
   "version": "3.9.12"
  },
  "toc": {
   "base_numbering": 1,
   "nav_menu": {},
   "number_sections": true,
   "sideBar": true,
   "skip_h1_title": false,
   "title_cell": "Table of Contents",
   "title_sidebar": "Contents",
   "toc_cell": false,
   "toc_position": {},
   "toc_section_display": true,
   "toc_window_display": true
  },
  "varInspector": {
   "cols": {
    "lenName": 16,
    "lenType": 16,
    "lenVar": 40
   },
   "kernels_config": {
    "python": {
     "delete_cmd_postfix": "",
     "delete_cmd_prefix": "del ",
     "library": "var_list.py",
     "varRefreshCmd": "print(var_dic_list())"
    },
    "r": {
     "delete_cmd_postfix": ") ",
     "delete_cmd_prefix": "rm(",
     "library": "var_list.r",
     "varRefreshCmd": "cat(var_dic_list()) "
    }
   },
   "types_to_exclude": [
    "module",
    "function",
    "builtin_function_or_method",
    "instance",
    "_Feature"
   ],
   "window_display": false
  }
 },
 "nbformat": 4,
 "nbformat_minor": 5
}
