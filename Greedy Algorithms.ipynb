{
 "cells": [
  {
   "cell_type": "code",
   "execution_count": 1,
   "id": "64de64c2",
   "metadata": {},
   "outputs": [],
   "source": [
    "import pandas as pd\n",
    "import numpy as np"
   ]
  },
  {
   "cell_type": "code",
   "execution_count": 2,
   "id": "c77cc077",
   "metadata": {},
   "outputs": [],
   "source": [
    "# A greedy algorithm is any algorithm that makes the locally optimal decision at every step."
   ]
  },
  {
   "cell_type": "code",
   "execution_count": 3,
   "id": "fdcefc50",
   "metadata": {},
   "outputs": [],
   "source": [
    "# Example 1: 2126. Destroying Asteroids\n",
    "# You are given an integer array asteroids and an integer mass representing the mass of a planet.\n",
    "# The planet will collide with the asteroids one by one - you can choose the order. \n",
    "# If the mass of the planet is less than the mass of an asteroid, the planet is destroyed. \n",
    "# Otherwise, the planet gains the mass of the asteroid. Can you destroy all the asteroids?\n",
    "# Return true if all asteroids can be destroyed. Otherwise, return false.\n"
   ]
  },
  {
   "cell_type": "code",
   "execution_count": 6,
   "id": "a8067642",
   "metadata": {},
   "outputs": [],
   "source": [
    "mass = 10\n",
    "asteroids = [3,9,19,5,21]\n",
    "# One way to order the asteroids is [9,19,5,3,21]:\n",
    "\n",
    "asteroids.sort()\n",
    "for asteroid in asteroids:\n",
    "    if asteroid > mass:\n",
    "        break\n",
    "    mass += asteroid"
   ]
  },
  {
   "cell_type": "code",
   "execution_count": 7,
   "id": "937acd40",
   "metadata": {},
   "outputs": [
    {
     "data": {
      "text/plain": [
       "[3, 5, 9, 19, 21]"
      ]
     },
     "execution_count": 7,
     "metadata": {},
     "output_type": "execute_result"
    }
   ],
   "source": [
    "asteroids"
   ]
  },
  {
   "cell_type": "code",
   "execution_count": 5,
   "id": "518b2ea0",
   "metadata": {},
   "outputs": [],
   "source": [
    "\n",
    "# Example 2: 2294. Partition Array Such That Maximum Difference Is K\n",
    "# Given an integer array nums and an integer k, split nums into subsequences, \n",
    "# where each subsequences' maximum and minimum element is within k of each other. \n",
    "# What is the minimum number of subsequences needed?\n",
    "\n",
    "# For example, given nums = [3, 6, 1, 2, 5] and k = 2, the answer is 2. The subsequences are [3, 1, 2] and [6, 5].\n",
    "\n",
    "# why not [1,2] ?????????????????????????? Because [1,2] are already part of the first group [3,1,2].\n",
    "\n",
    "\n",
    "\n",
    "\n",
    "# We talked about subsequences briefly in the arrays and strings chapter, but as a reminder, \n",
    "# a subsequence is a group of elements from the array that keep their order. \n",
    "# They're like subarrays, but the elements don't need to be adjacent.\n",
    "# In this problem, for each subsequence, we only care about the maximum and minimum value. \n",
    "# The actual order of the elements in the subsequence doesn't matter. \n",
    "# Without the order requirement, subsequence is the same as subset. \n"
   ]
  },
  {
   "cell_type": "code",
   "execution_count": 80,
   "id": "278f5591",
   "metadata": {},
   "outputs": [
    {
     "name": "stdout",
     "output_type": "stream",
     "text": [
      "[1, 2, 3, 5, 6]\n",
      "[1, 3]\n",
      "[2, 5, 6]\n",
      "[2, 6]\n",
      "[5]\n",
      "[5]\n"
     ]
    },
    {
     "data": {
      "text/plain": [
       "3"
      ]
     },
     "execution_count": 80,
     "metadata": {},
     "output_type": "execute_result"
    }
   ],
   "source": [
    "#Ugly Solution, incorrect solution\n",
    "\n",
    "#Time Limit exceeded for this splution\n",
    "\n",
    "nums = [3, 6, 1, 2, 5] \n",
    "# nums = [2,2,4,5]\n",
    "# nums = [0,1,2,3]\n",
    "nums.sort()\n",
    "k = 2\n",
    "# k = 0\n",
    "d = 0\n",
    "while(len(nums)>0):\n",
    "    print(nums)\n",
    "    solve = []\n",
    "    for i in nums:\n",
    "        start =  nums[0]\n",
    "        if(i<= start+k):\n",
    "#             solve.append(start)\n",
    "            solve.append(i)\n",
    "            nums.remove(i)\n",
    "    \n",
    "    print(solve)\n",
    "    d +=1    \n",
    "     \n",
    "d\n"
   ]
  },
  {
   "cell_type": "code",
   "execution_count": 84,
   "id": "3da67370",
   "metadata": {},
   "outputs": [
    {
     "data": {
      "text/plain": [
       "2"
      ]
     },
     "execution_count": 84,
     "metadata": {},
     "output_type": "execute_result"
    }
   ],
   "source": [
    "# elegant solution \n",
    "\n",
    "nums = [3, 6, 1, 2, 5] \n",
    "k = 2\n",
    "\n",
    "def partitionArray(nums, k) -> int:\n",
    "        nums.sort()\n",
    "        ans = 1\n",
    "        x = nums[0]\n",
    "        \n",
    "        for i in range(1, len(nums)):\n",
    "            if nums[i] - x > k:\n",
    "                x = nums[i]\n",
    "                ans += 1\n",
    "        \n",
    "        return ans\n",
    "\n",
    "partitionArray(nums, k)"
   ]
  },
  {
   "cell_type": "code",
   "execution_count": 85,
   "id": "354b410b",
   "metadata": {},
   "outputs": [],
   "source": [
    "# HARD Problem\n",
    "# Example 3: 502. IPO\n",
    "\n",
    "# LeetCode would like to work on some projects to increase its capital before IPO. \n",
    "# You are given n projects where the ith project has a profit of profits[i] and a minimum capital of capital[i] is needed \n",
    "# to start it. Initially, you have w capital. \n",
    "# When you finish a project, the profit will be added to your total capital. \n",
    "# Return the max capital possible if you are allowed to do up to k projects.\n",
    "\n",
    "\n",
    "# Input: k = 2, w = 0, profits = [1,2,3], capital = [0,1,1]\n",
    "# Output: 4"
   ]
  },
  {
   "cell_type": "code",
   "execution_count": null,
   "id": "391c4839",
   "metadata": {},
   "outputs": [],
   "source": []
  }
 ],
 "metadata": {
  "kernelspec": {
   "display_name": "Python 3 (ipykernel)",
   "language": "python",
   "name": "python3"
  },
  "language_info": {
   "codemirror_mode": {
    "name": "ipython",
    "version": 3
   },
   "file_extension": ".py",
   "mimetype": "text/x-python",
   "name": "python",
   "nbconvert_exporter": "python",
   "pygments_lexer": "ipython3",
   "version": "3.9.12"
  },
  "toc": {
   "base_numbering": 1,
   "nav_menu": {},
   "number_sections": true,
   "sideBar": true,
   "skip_h1_title": false,
   "title_cell": "Table of Contents",
   "title_sidebar": "Contents",
   "toc_cell": false,
   "toc_position": {},
   "toc_section_display": true,
   "toc_window_display": false
  },
  "varInspector": {
   "cols": {
    "lenName": 16,
    "lenType": 16,
    "lenVar": 40
   },
   "kernels_config": {
    "python": {
     "delete_cmd_postfix": "",
     "delete_cmd_prefix": "del ",
     "library": "var_list.py",
     "varRefreshCmd": "print(var_dic_list())"
    },
    "r": {
     "delete_cmd_postfix": ") ",
     "delete_cmd_prefix": "rm(",
     "library": "var_list.r",
     "varRefreshCmd": "cat(var_dic_list()) "
    }
   },
   "types_to_exclude": [
    "module",
    "function",
    "builtin_function_or_method",
    "instance",
    "_Feature"
   ],
   "window_display": false
  }
 },
 "nbformat": 4,
 "nbformat_minor": 5
}
