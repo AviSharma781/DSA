{
 "cells": [
  {
   "cell_type": "code",
   "execution_count": 2,
   "id": "64de64c2",
   "metadata": {},
   "outputs": [],
   "source": [
    "import pandas as pd\n",
    "import numpy as np"
   ]
  },
  {
   "cell_type": "code",
   "execution_count": 2,
   "id": "c77cc077",
   "metadata": {},
   "outputs": [],
   "source": []
  },
  {
   "cell_type": "markdown",
   "id": "e85a8075",
   "metadata": {},
   "source": [
    "#### 1"
   ]
  },
  {
   "cell_type": "markdown",
   "id": "0ee7f027",
   "metadata": {},
   "source": [
    "#### 2"
   ]
  },
  {
   "cell_type": "markdown",
   "id": "3127293f",
   "metadata": {},
   "source": [
    "#### 3"
   ]
  },
  {
   "cell_type": "markdown",
   "id": "e4ba1f74",
   "metadata": {},
   "source": [
    "#### 4"
   ]
  },
  {
   "cell_type": "code",
   "execution_count": 3,
   "id": "2ea71617",
   "metadata": {},
   "outputs": [],
   "source": [
    "# A greedy algorithm is any algorithm that makes the locally optimal decision at every step."
   ]
  },
  {
   "cell_type": "markdown",
   "id": "f5b5f132",
   "metadata": {},
   "source": [
    "#### Asteroid Problem"
   ]
  },
  {
   "cell_type": "code",
   "execution_count": 3,
   "id": "fdcefc50",
   "metadata": {},
   "outputs": [],
   "source": [
    "# Example 1: 2126. Destroying Asteroids\n",
    "# You are given an integer array asteroids and an integer mass representing the mass of a planet.\n",
    "# The planet will collide with the asteroids one by one - you can choose the order. \n",
    "# If the mass of the planet is less than the mass of an asteroid, the planet is destroyed. \n",
    "# Otherwise, the planet gains the mass of the asteroid. Can you destroy all the asteroids?\n",
    "# Return true if all asteroids can be destroyed. Otherwise, return false.\n"
   ]
  },
  {
   "cell_type": "code",
   "execution_count": 6,
   "id": "a8067642",
   "metadata": {},
   "outputs": [],
   "source": [
    "mass = 10\n",
    "asteroids = [3,9,19,5,21]\n",
    "# One way to order the asteroids is [9,19,5,3,21]:\n",
    "\n",
    "asteroids.sort()\n",
    "for asteroid in asteroids:\n",
    "    if asteroid > mass:\n",
    "        break\n",
    "    mass += asteroid"
   ]
  },
  {
   "cell_type": "code",
   "execution_count": 7,
   "id": "937acd40",
   "metadata": {},
   "outputs": [
    {
     "data": {
      "text/plain": [
       "[3, 5, 9, 19, 21]"
      ]
     },
     "execution_count": 7,
     "metadata": {},
     "output_type": "execute_result"
    }
   ],
   "source": [
    "asteroids"
   ]
  },
  {
   "cell_type": "markdown",
   "id": "0f6c4c09",
   "metadata": {},
   "source": [
    "#### Partition Array"
   ]
  },
  {
   "cell_type": "code",
   "execution_count": 5,
   "id": "518b2ea0",
   "metadata": {},
   "outputs": [],
   "source": [
    "\n",
    "# Example 2: 2294. Partition Array Such That Maximum Difference Is K\n",
    "# Given an integer array nums and an integer k, split nums into subsequences, \n",
    "# where each subsequences' maximum and minimum element is within k of each other. \n",
    "# What is the minimum number of subsequences needed?\n",
    "\n",
    "# For example, given nums = [3, 6, 1, 2, 5] and k = 2, the answer is 2. The subsequences are [3, 1, 2] and [6, 5].\n",
    "\n",
    "# why not [1,2] ?????????????????????????? Because [1,2] are already part of the first group [3,1,2].\n",
    "\n",
    "\n",
    "\n",
    "\n",
    "# We talked about subsequences briefly in the arrays and strings chapter, but as a reminder, \n",
    "# a subsequence is a group of elements from the array that keep their order. \n",
    "# They're like subarrays, but the elements don't need to be adjacent.\n",
    "# In this problem, for each subsequence, we only care about the maximum and minimum value. \n",
    "# The actual order of the elements in the subsequence doesn't matter. \n",
    "# Without the order requirement, subsequence is the same as subset. \n"
   ]
  },
  {
   "cell_type": "code",
   "execution_count": 80,
   "id": "278f5591",
   "metadata": {},
   "outputs": [
    {
     "name": "stdout",
     "output_type": "stream",
     "text": [
      "[1, 2, 3, 5, 6]\n",
      "[1, 3]\n",
      "[2, 5, 6]\n",
      "[2, 6]\n",
      "[5]\n",
      "[5]\n"
     ]
    },
    {
     "data": {
      "text/plain": [
       "3"
      ]
     },
     "execution_count": 80,
     "metadata": {},
     "output_type": "execute_result"
    }
   ],
   "source": [
    "#Ugly Solution, incorrect solution\n",
    "\n",
    "#Time Limit exceeded for this splution\n",
    "\n",
    "nums = [3, 6, 1, 2, 5] \n",
    "# nums = [2,2,4,5]\n",
    "# nums = [0,1,2,3]\n",
    "nums.sort()\n",
    "k = 2\n",
    "# k = 0\n",
    "d = 0\n",
    "while(len(nums)>0):\n",
    "    print(nums)\n",
    "    solve = []\n",
    "    for i in nums:\n",
    "        start =  nums[0]\n",
    "        if(i<= start+k):\n",
    "#             solve.append(start)\n",
    "            solve.append(i)\n",
    "            nums.remove(i)\n",
    "    \n",
    "    print(solve)\n",
    "    d +=1    \n",
    "     \n",
    "d\n"
   ]
  },
  {
   "cell_type": "code",
   "execution_count": 84,
   "id": "3da67370",
   "metadata": {},
   "outputs": [
    {
     "data": {
      "text/plain": [
       "2"
      ]
     },
     "execution_count": 84,
     "metadata": {},
     "output_type": "execute_result"
    }
   ],
   "source": [
    "# elegant solution \n",
    "\n",
    "nums = [3, 6, 1, 2, 5] \n",
    "k = 2\n",
    "\n",
    "def partitionArray(nums, k) -> int:\n",
    "        nums.sort()\n",
    "        ans = 1\n",
    "        x = nums[0]\n",
    "        \n",
    "        for i in range(1, len(nums)):\n",
    "            if nums[i] - x > k:\n",
    "                x = nums[i]\n",
    "                ans += 1\n",
    "        \n",
    "        return ans\n",
    "\n",
    "partitionArray(nums, k)"
   ]
  },
  {
   "cell_type": "markdown",
   "id": "d70246d7",
   "metadata": {},
   "source": [
    "#### IPO Problem"
   ]
  },
  {
   "cell_type": "code",
   "execution_count": 85,
   "id": "354b410b",
   "metadata": {},
   "outputs": [],
   "source": [
    "# HARD Problem\n",
    "# Example 3: 502. IPO\n",
    "\n",
    "# LeetCode would like to work on some projects to increase its capital before IPO. \n",
    "# You are given n projects where the ith project has a profit of profits[i] and a minimum capital of capital[i] is needed \n",
    "# to start it. Initially, you have w capital. \n",
    "# When you finish a project, the profit will be added to your total capital. \n",
    "# Return the max capital possible if you are allowed to do up to k projects.\n",
    "\n",
    "\n",
    "# Input: k = 2, w = 0, profits = [1,2,3], capital = [0,1,1]\n",
    "# Output: 4"
   ]
  },
  {
   "cell_type": "code",
   "execution_count": null,
   "id": "391c4839",
   "metadata": {},
   "outputs": [],
   "source": []
  },
  {
   "cell_type": "code",
   "execution_count": null,
   "id": "3abd30ad",
   "metadata": {},
   "outputs": [],
   "source": []
  },
  {
   "cell_type": "code",
   "execution_count": null,
   "id": "9b68a853",
   "metadata": {},
   "outputs": [],
   "source": []
  },
  {
   "cell_type": "code",
   "execution_count": null,
   "id": "ffd928cc",
   "metadata": {},
   "outputs": [],
   "source": []
  },
  {
   "cell_type": "markdown",
   "id": "cc3bb92f",
   "metadata": {},
   "source": [
    "#### Remval Problem"
   ]
  },
  {
   "cell_type": "code",
   "execution_count": 1,
   "id": "a5cf42c2",
   "metadata": {},
   "outputs": [],
   "source": [
    "# Example 4: 1481. Least Number of Unique Integers after K Removals\n",
    "# Given an array of integers arr and an integer k, find the least number of unique integers after removing exactly k elements.\n",
    "\n",
    "# Input: arr = [5,5,4], k = 1\n",
    "# Output: 1\n",
    "# Explanation: Remove the single 4, only 5 is left.\n",
    "\n",
    "\n",
    "# Example 2:\n",
    "\n",
    "# Input: arr = [4,3,1,1,3,3,2], k = 3\n",
    "# Output: 2\n",
    "# Explanation: Remove 4, 2 and either one of the two 1s or three 3s. 1 and 3 will be left.\n",
    "\n"
   ]
  },
  {
   "cell_type": "code",
   "execution_count": 135,
   "id": "0cc071f4",
   "metadata": {},
   "outputs": [
    {
     "name": "stdout",
     "output_type": "stream",
     "text": [
      "{4: 1, 3: 3, 1: 2, 2: 1}\n",
      "{3: 3, 1: 2, 2: 1}\n",
      "{3: 3, 1: 2}\n",
      "{3: 3}\n"
     ]
    },
    {
     "data": {
      "text/plain": [
       "1"
      ]
     },
     "execution_count": 135,
     "metadata": {},
     "output_type": "execute_result"
    }
   ],
   "source": [
    "#here the problem is that it removes element in its entirety, think of a smarter solution\n",
    "from collections import Counter\n",
    "k=3\n",
    "arr = [4,3,1,1,3,3,2]\n",
    "\n",
    "dict1 = dict(Counter(arr))\n",
    "print(dict1)\n",
    "unique = len(set(arr))\n",
    "target = 0\n",
    "\n",
    "\n",
    "while (k-target) >0:\n",
    "    \n",
    "    min_value = min(dict1.values())\n",
    "    \n",
    "    target += min_value\n",
    "    \n",
    "    for i in dict1.keys():\n",
    "        if dict1[i]==min_value:\n",
    "            del dict1[i]\n",
    "            print(dict1)\n",
    "            break\n",
    "    \n",
    "    unique = min(unique,len(list(dict1.keys())))\n",
    "    \n",
    "unique    \n",
    "     \n",
    "\n",
    "\n"
   ]
  },
  {
   "cell_type": "code",
   "execution_count": 138,
   "id": "187ab29f",
   "metadata": {},
   "outputs": [
    {
     "data": {
      "text/plain": [
       "2"
      ]
     },
     "execution_count": 138,
     "metadata": {},
     "output_type": "execute_result"
    }
   ],
   "source": [
    "# this solution seems correct but time limit got exceeded\n",
    "from collections import Counter\n",
    "k=3\n",
    "arr = [4,3,1,1,3,3,2]\n",
    "\n",
    "dict1 = dict(Counter(arr))\n",
    "\n",
    "unique = len(set(arr))\n",
    "target = 0\n",
    "\n",
    "\n",
    "while (k-target) >0:\n",
    "    \n",
    "    min_value = min(dict1.values())\n",
    "    if(min_value>(k-target)):\n",
    "        break\n",
    "    else:\n",
    "        target += min_value\n",
    "\n",
    "        for i in dict1.keys():\n",
    "            if dict1[i]==min_value:\n",
    "                del dict1[i]\n",
    "#                 print(dict1)\n",
    "                break\n",
    "    \n",
    "    unique = min(unique,len(list(dict1.keys())))\n",
    "    \n",
    "unique    "
   ]
  },
  {
   "cell_type": "code",
   "execution_count": null,
   "id": "9d9588ce",
   "metadata": {},
   "outputs": [],
   "source": [
    "#think of a solution without del\n",
    "\n"
   ]
  },
  {
   "cell_type": "code",
   "execution_count": null,
   "id": "859e890e",
   "metadata": {},
   "outputs": [],
   "source": []
  },
  {
   "cell_type": "code",
   "execution_count": null,
   "id": "1b69e93d",
   "metadata": {},
   "outputs": [],
   "source": []
  },
  {
   "cell_type": "code",
   "execution_count": null,
   "id": "0b29f42e",
   "metadata": {},
   "outputs": [],
   "source": []
  },
  {
   "cell_type": "code",
   "execution_count": null,
   "id": "48cff9f2",
   "metadata": {},
   "outputs": [],
   "source": []
  },
  {
   "cell_type": "code",
   "execution_count": null,
   "id": "4fd34c91",
   "metadata": {},
   "outputs": [],
   "source": []
  },
  {
   "cell_type": "markdown",
   "id": "f298e74f",
   "metadata": {},
   "source": [
    "#### Boat Problem"
   ]
  },
  {
   "cell_type": "code",
   "execution_count": 34,
   "id": "2e010f6c",
   "metadata": {},
   "outputs": [],
   "source": [
    "# Example 5: 881. Boats to Save People\n",
    "# You are given an array people where people[i] is the weight of the ith person. \n",
    "# A boat can hold up to two people, if their weight combined is less than or equal to limit. \n",
    "# What is the fewest number of boats you need to carry everyone? \n",
    "# Note: no person is heavier than limit.\n"
   ]
  },
  {
   "cell_type": "code",
   "execution_count": 35,
   "id": "a9737d06",
   "metadata": {},
   "outputs": [],
   "source": [
    "# Input: people = [1,2], limit = 3\n",
    "# Output: 1\n",
    "# Explanation: 1 boat (1, 2)\n",
    "\n",
    "\n",
    "# Input: people = [3,2,2,1], limit = 3\n",
    "# Output: 3\n",
    "# Explanation: 3 boats (1, 2), (2) and (3)\n",
    "\n",
    "\n",
    "# Input: people = [3,5,3,4], limit = 5\n",
    "# Output: 4\n",
    "# Explanation: 4 boats (3), (3), (4), (5)\n"
   ]
  },
  {
   "cell_type": "code",
   "execution_count": 89,
   "id": "81ef91e4",
   "metadata": {},
   "outputs": [
    {
     "name": "stdout",
     "output_type": "stream",
     "text": [
      "[3, 1, 7] 3\n",
      "[7] 1\n"
     ]
    },
    {
     "ename": "ValueError",
     "evalue": "list.remove(x): x not in list",
     "output_type": "error",
     "traceback": [
      "\u001b[1;31m---------------------------------------------------------------------------\u001b[0m",
      "\u001b[1;31mValueError\u001b[0m                                Traceback (most recent call last)",
      "Input \u001b[1;32mIn [89]\u001b[0m, in \u001b[0;36m<cell line: 8>\u001b[1;34m()\u001b[0m\n\u001b[0;32m     10\u001b[0m target \u001b[38;5;241m=\u001b[39m limit \u001b[38;5;241m-\u001b[39m i\n\u001b[0;32m     11\u001b[0m \u001b[38;5;28;01mif\u001b[39;00m(\u001b[38;5;28mlen\u001b[39m(people1)\u001b[38;5;241m>\u001b[39m\u001b[38;5;241m0\u001b[39m):\n\u001b[1;32m---> 12\u001b[0m     \u001b[43mpeople1\u001b[49m\u001b[38;5;241;43m.\u001b[39;49m\u001b[43mremove\u001b[49m\u001b[43m(\u001b[49m\u001b[43mi\u001b[49m\u001b[43m)\u001b[49m   \n\u001b[0;32m     13\u001b[0m \u001b[38;5;28;01melse\u001b[39;00m:\n\u001b[0;32m     14\u001b[0m     \u001b[38;5;28;01mbreak\u001b[39;00m\n",
      "\u001b[1;31mValueError\u001b[0m: list.remove(x): x not in list"
     ]
    }
   ],
   "source": [
    "#This still creates problem, try input = [3,1,7]. Try better solution\n",
    "\n",
    "# people = [3,5,3,4]\n",
    "\n",
    "people = [3,1,7]\n",
    "limit = 7\n",
    "boat = 0\n",
    "people1 = people.copy()\n",
    "\n",
    "for i in people:\n",
    "    print(people1,i)\n",
    "    target = limit - i\n",
    "    if(len(people1)>0):\n",
    "        people1.remove(i)   \n",
    "    else:\n",
    "        break\n",
    "    \n",
    "    if(len(people1)>0):\n",
    "        while (target >= min(people1)):\n",
    "\n",
    "            people1.remove(min(people1))\n",
    "            if(len(people1)==0):\n",
    "                break\n",
    "    \n",
    "    boat +=1\n",
    "    \n",
    "boat    \n",
    "    \n",
    "    "
   ]
  },
  {
   "cell_type": "code",
   "execution_count": 100,
   "id": "0644f632",
   "metadata": {},
   "outputs": [
    {
     "name": "stdout",
     "output_type": "stream",
     "text": [
      "[1, 5, 3, 5] 1\n"
     ]
    },
    {
     "data": {
      "text/plain": [
       "1"
      ]
     },
     "execution_count": 100,
     "metadata": {},
     "output_type": "execute_result"
    }
   ],
   "source": [
    "#Still gives a problem for [1,5,3,5] ,limit = 7\n",
    "people = [1,5,3,5]\n",
    "limit = 7\n",
    "boat = 0\n",
    "# people1 = people.copy()\n",
    "\n",
    "while (len(people)>0):\n",
    "    \n",
    "    i = people[0]\n",
    "    target = limit - i\n",
    "    \n",
    "    print(people, i)\n",
    "    people.remove(i)    \n",
    "    \n",
    "    if(len(people)>0):\n",
    "        while (target >= min(people)):\n",
    "            \n",
    "            people.remove(min(people))\n",
    "            if(len(people)==0):\n",
    "                break\n",
    "    \n",
    "    boat +=1\n",
    "    \n",
    "boat    "
   ]
  },
  {
   "cell_type": "code",
   "execution_count": 4,
   "id": "f17e29f3",
   "metadata": {},
   "outputs": [
    {
     "name": "stdout",
     "output_type": "stream",
     "text": [
      "[21, 40, 16, 24, 30] 21 29\n",
      "[40, 24, 30] 40 10\n",
      "[24, 30] 24 26\n",
      "[30] 30 20\n"
     ]
    },
    {
     "data": {
      "text/plain": [
       "4"
      ]
     },
     "execution_count": 4,
     "metadata": {},
     "output_type": "execute_result"
    }
   ],
   "source": [
    "#Still above gives a problem for [1,2] ,limit = 3\n",
    "#because idea is wrong, sum of people seated should be less than limit or else target has to be updated\n",
    "# people = [1,2]\n",
    "# limit = 3\n",
    "people = [21,40,16,24,30]\n",
    "limit = 50\n",
    "boat = 0\n",
    "# people1 = people.copy()\n",
    "\n",
    "while (len(people)>0):\n",
    "    \n",
    "    i = people[0]\n",
    "    target = limit - i\n",
    "    \n",
    "    print(people, i, target)\n",
    "    people.remove(i)    \n",
    "    \n",
    "    if(len(people)>0):\n",
    "        \n",
    "        while (target >= min(people)):\n",
    "            \n",
    "            target -= min(people)\n",
    "            \n",
    "            people.remove(min(people))\n",
    "            \n",
    "            if(len(people)==0):\n",
    "                break\n",
    "    \n",
    "    boat +=1\n",
    "    \n",
    "boat    "
   ]
  },
  {
   "cell_type": "code",
   "execution_count": 19,
   "id": "b36d7bc8",
   "metadata": {},
   "outputs": [
    {
     "name": "stdout",
     "output_type": "stream",
     "text": [
      "[21, 40, 16, 24, 30] 21 29\n",
      "[40, 16, 30] 40 10\n",
      "[16, 30] 16 34\n"
     ]
    },
    {
     "data": {
      "text/plain": [
       "3"
      ]
     },
     "execution_count": 19,
     "metadata": {},
     "output_type": "execute_result"
    }
   ],
   "source": [
    "#above solution still has a problem for people = [21,40,16,24,30], limit = 50, here expected output =3, \n",
    "# above solution gives output = 4\n",
    "\n",
    "#solution seats people as follows [21, 16], [40], [24], [30]\n",
    "\n",
    "#expcted solution is [21, 24], [30, 16], [40] \n",
    "\n",
    "\n",
    "\n",
    "people = [21,40,16,24,30]\n",
    "limit = 50\n",
    "\n",
    "# people = [3,2,3,2,2]\n",
    "# limit = 6\n",
    "\n",
    "\n",
    "boat = 0\n",
    "# people1 = people.copy()\n",
    "\n",
    "while (len(people)>0):\n",
    "    \n",
    "    i = people[0]\n",
    "    target = limit - i\n",
    "    \n",
    "    print(people, i, target)\n",
    "    people.remove(i)    \n",
    "    \n",
    "    if(len(people)>0):\n",
    "        \n",
    "        while (target >= min(people)):\n",
    "            #here expectation is that we take the highest available weight less than target\n",
    "            target1 = [i if i<=target else 0 for i in people]\n",
    "            target -= max(target1)\n",
    "            \n",
    "            people.remove(max(target1))\n",
    "            \n",
    "            if(len(people)==0):\n",
    "                break\n",
    "    \n",
    "    boat +=1\n",
    "    \n",
    "boat    "
   ]
  },
  {
   "cell_type": "code",
   "execution_count": 16,
   "id": "101ef484",
   "metadata": {},
   "outputs": [],
   "source": [
    "# [x for x in [1,2,3,4] if x>1]\n",
    "# [x if x>1 else 0 for x in [1,2,3,4] ]"
   ]
  },
  {
   "cell_type": "code",
   "execution_count": 18,
   "id": "7de71ce4",
   "metadata": {},
   "outputs": [],
   "source": [
    "# the above solution gives a different ans than expected ans of 3 vs output of 2 for people = [3,2,3,2,2],\n",
    "# limit =6\n",
    "#actually I missed the fact that at any given point boat can only hold max 2 people"
   ]
  },
  {
   "cell_type": "code",
   "execution_count": 118,
   "id": "f4ece71a",
   "metadata": {},
   "outputs": [
    {
     "data": {
      "text/plain": [
       "3"
      ]
     },
     "execution_count": 118,
     "metadata": {},
     "output_type": "execute_result"
    }
   ],
   "source": [
    "#provided solution\n",
    "#2 pointer solution\n",
    "\n",
    "people = [3,2,3,2,2]\n",
    "\n",
    "limit = 6\n",
    "\n",
    "ans = 0\n",
    "i = 0\n",
    "j = len(people) - 1\n",
    "people.sort()\n",
    "\n",
    "while i <= j:\n",
    "    if people[i] + people[j] <= limit:\n",
    "        i += 1\n",
    "\n",
    "    j -= 1\n",
    "    ans += 1\n",
    "    \n",
    "ans"
   ]
  },
  {
   "cell_type": "code",
   "execution_count": 119,
   "id": "10eb2c04",
   "metadata": {},
   "outputs": [
    {
     "data": {
      "text/plain": [
       "[2, 2, 2, 3, 3]"
      ]
     },
     "execution_count": 119,
     "metadata": {},
     "output_type": "execute_result"
    }
   ],
   "source": [
    "people"
   ]
  },
  {
   "cell_type": "markdown",
   "id": "a06f5897",
   "metadata": {},
   "source": [
    "#### Maximum 69 Number"
   ]
  },
  {
   "cell_type": "code",
   "execution_count": 20,
   "id": "9d5fbfce",
   "metadata": {},
   "outputs": [],
   "source": [
    "# You are given a positive integer num consisting only of digits 6 and 9.\n",
    "# Return the maximum number you can get by changing at most one digit (6 becomes 9, and 9 becomes 6).\n",
    "# Input: num = 9669\n",
    "# Output: 9969\n",
    "# Explanation: \n",
    "# Changing the first digit results in 6669.\n",
    "# Changing the second digit results in 9969.\n",
    "# Changing the third digit results in 9699.\n",
    "# Changing the fourth digit results in 9666.\n",
    "# The maximum number is 9969.\n",
    "\n",
    "# Input: num = 9996\n",
    "# Output: 9999\n",
    "# Explanation: Changing the last digit 6 to 9 results in the maximum number.\n",
    "\n",
    "# Input: num = 9999\n",
    "# Output: 9999\n",
    "# Explanation: It is better not to apply any change."
   ]
  },
  {
   "cell_type": "code",
   "execution_count": 30,
   "id": "4f7aec81",
   "metadata": {},
   "outputs": [
    {
     "data": {
      "text/plain": [
       "9969"
      ]
     },
     "execution_count": 30,
     "metadata": {},
     "output_type": "execute_result"
    }
   ],
   "source": [
    "num = str(9669)\n",
    "\n",
    "num1 = [int(num)]\n",
    "i =0\n",
    "while i<len(num):\n",
    "    z = num\n",
    "    if num[i] =='9':\n",
    "        z = num[:i]+'6'+num[i+1:]\n",
    "    else:\n",
    "        z = num[:i]+'9'+num[i+1:]\n",
    "    num1.append(int(z))\n",
    "    i +=1\n",
    "max(num1)\n",
    "    \n",
    "\n",
    "\n",
    "\n",
    "\n"
   ]
  },
  {
   "cell_type": "markdown",
   "id": "aa9ea3af",
   "metadata": {},
   "source": [
    "#### Maximum Units on a Truck"
   ]
  },
  {
   "cell_type": "code",
   "execution_count": null,
   "id": "5dff2894",
   "metadata": {},
   "outputs": [],
   "source": [
    "# You are assigned to put some amount of boxes onto one truck. You are given a 2D array boxTypes, \n",
    "# where boxTypes[i] = [numberOfBoxesi, numberOfUnitsPerBoxi]:\n",
    "\n",
    "# numberOfBoxesi is the number of boxes of type i.\n",
    "# numberOfUnitsPerBoxi is the number of units in each box of the type i.\n",
    "\n",
    "# You are also given an integer truckSize, which is the maximum number of boxes that can be put on the truck. \n",
    "# You can choose any boxes to put on the truck as long as the number of boxes does not exceed truckSize.\n",
    "\n",
    "# Return the maximum total number of units that can be put on the truck.\n",
    "\n",
    "\n",
    "# Input: boxTypes = [[1,3],[2,2],[3,1]], truckSize = 4\n",
    "# Output: 8\n",
    "# Explanation: There are:\n",
    "# - 1 box of the first type that contains 3 units.\n",
    "# - 2 boxes of the second type that contain 2 units each.\n",
    "# - 3 boxes of the third type that contain 1 unit each.\n",
    "# You can take all the boxes of the first and second types, and one box of the third type.\n",
    "# The total number of units will be = (1 * 3) + (2 * 2) + (1 * 1) = 8.\n",
    "\n",
    "\n",
    "# Input: boxTypes = [[5,10],[2,5],[4,7],[3,9]], truckSize = 10\n",
    "# Output: 91\n",
    "\n"
   ]
  },
  {
   "cell_type": "code",
   "execution_count": null,
   "id": "dc8498f3",
   "metadata": {},
   "outputs": [],
   "source": [
    "#think\n",
    "\n",
    "# [[5, 50],[1,100]]\n",
    "# if trucksize = 5\n",
    "# you will not keep 5 boxes of 50 , units = 250. Rather keep 1 of 100 and 4 of 50, units =300\n",
    "\n",
    "# [[5, 50],[1,100]]"
   ]
  },
  {
   "cell_type": "code",
   "execution_count": 55,
   "id": "542a2aff",
   "metadata": {},
   "outputs": [
    {
     "name": "stdout",
     "output_type": "stream",
     "text": [
      "5 5 35 0\n",
      "[1, 5, 2, 4, 4, 3, 2, 1, 2, 3]\n",
      "[3, 5, 5, 2, 1, 1, 2, 3, 5, 2]\n",
      "2 5 30 25\n",
      "[1, 2, 4, 4, 3, 2, 1, 2, 3]\n",
      "[3, 5, 2, 1, 1, 2, 3, 5, 2]\n",
      "2 5 28 35\n",
      "[1, 4, 4, 3, 2, 1, 2, 3]\n",
      "[3, 2, 1, 1, 2, 3, 5, 2]\n",
      "1 3 26 45\n",
      "[1, 4, 4, 3, 1, 2, 3]\n",
      "[3, 2, 1, 1, 2, 3, 2]\n",
      "2 3 25 48\n",
      "[4, 4, 3, 1, 2, 3]\n",
      "[2, 1, 1, 2, 3, 2]\n",
      "4 2 23 54\n",
      "[4, 4, 3, 1, 3]\n",
      "[2, 1, 1, 2, 2]\n",
      "1 2 19 62\n",
      "[4, 3, 1, 3]\n",
      "[1, 1, 2, 2]\n",
      "3 2 18 64\n",
      "[4, 3, 3]\n",
      "[1, 1, 2]\n",
      "4 1 15 70\n",
      "[4, 3]\n",
      "[1, 1]\n",
      "3 1 11 74\n",
      "[3]\n",
      "[1]\n"
     ]
    },
    {
     "data": {
      "text/plain": [
       "77"
      ]
     },
     "execution_count": 55,
     "metadata": {},
     "output_type": "execute_result"
    }
   ],
   "source": [
    "#Solution here is very untidy and complex, think simple, no solution should think of removing elements from list\n",
    "#logic thought is correct\n",
    "\n",
    "#expected output = 91\n",
    "boxTypes = [[5,10],[2,5],[4,7],[3,9]]\n",
    "truckSize = 10\n",
    "\n",
    "# #expected output = 8\n",
    "# boxTypes = [[1,3],[2,2],[3,1]]\n",
    "# truckSize = 4\n",
    "\n",
    "# expected output = 76\n",
    "boxTypes = [[1,3],[5,5],[2,5],[4,2],[4,1],[3,1],[2,2],[1,3],[2,5],[3,2]]\n",
    "truckSize = 35\n",
    "\n",
    "box = [i[0] for i in boxTypes]\n",
    "units = [i[1] for i in boxTypes]\n",
    "\n",
    "k = 0\n",
    "keep = 0\n",
    "#max len\n",
    "len1 = len(box)\n",
    "\n",
    "while ((k < len1)|(truckSize>0)):\n",
    "    try:\n",
    "        j , index = max(units), units.index(max(units)) \n",
    "        i = box[index]\n",
    "    except:\n",
    "        break\n",
    "       \n",
    "    print(i,j, truckSize, keep)\n",
    "    print(box)\n",
    "    print(units)\n",
    "    \n",
    "    if(i<=truckSize):\n",
    "        truckSize = truckSize - i\n",
    "        keep += i*j\n",
    "    \n",
    "    else:        \n",
    "        keep += truckSize*j\n",
    "        truckSize = 0\n",
    "        \n",
    "    \n",
    "    box.remove(i)\n",
    "    units.remove(j)   \n",
    "    k +=1\n",
    "        \n",
    "keep        \n",
    "    \n",
    "    \n",
    "    \n",
    "    \n",
    "    "
   ]
  },
  {
   "cell_type": "code",
   "execution_count": 52,
   "id": "12ce5f9a",
   "metadata": {},
   "outputs": [
    {
     "data": {
      "text/plain": [
       "76"
      ]
     },
     "execution_count": 52,
     "metadata": {},
     "output_type": "execute_result"
    }
   ],
   "source": [
    "# expected output = 76\n",
    "#better solution on boxTypes sorted on units\n",
    "boxTypes = [[1,3],[5,5],[2,5],[4,2],[4,1],[3,1],[2,2],[1,3],[2,5],[3,2]]\n",
    "truckSize = 35\n",
    "\n",
    "boxTypes.sort(key=lambda x:x[1],reverse = True)\n",
    "\n",
    "p=0\n",
    "for i, j in boxTypes:\n",
    "    if i<truckSize:\n",
    "        p+=i*j\n",
    "        truckSize-=i\n",
    "    else:\n",
    "        p+=truckSize*j\n",
    "        break\n",
    "p"
   ]
  },
  {
   "cell_type": "code",
   "execution_count": 53,
   "id": "c625e356",
   "metadata": {},
   "outputs": [
    {
     "data": {
      "text/plain": [
       "[[5, 5],\n",
       " [2, 5],\n",
       " [2, 5],\n",
       " [1, 3],\n",
       " [1, 3],\n",
       " [4, 2],\n",
       " [2, 2],\n",
       " [3, 2],\n",
       " [4, 1],\n",
       " [3, 1]]"
      ]
     },
     "execution_count": 53,
     "metadata": {},
     "output_type": "execute_result"
    }
   ],
   "source": [
    "boxTypes"
   ]
  },
  {
   "cell_type": "code",
   "execution_count": 61,
   "id": "b91bf19b",
   "metadata": {},
   "outputs": [],
   "source": [
    "# ','.join(['h','l'])"
   ]
  },
  {
   "cell_type": "markdown",
   "id": "66a930e2",
   "metadata": {},
   "source": [
    "#### How Many Apples Can You Put into the Basket"
   ]
  },
  {
   "cell_type": "code",
   "execution_count": null,
   "id": "ed5e2222",
   "metadata": {},
   "outputs": [],
   "source": [
    "# You have some apples and a basket that can carry up to 5000 units of weight.\n",
    "\n",
    "# Given an integer array weight where weight[i] is the weight of the ith apple, \n",
    "# return the maximum number of apples you can put in the basket.\n",
    "\n",
    "# Input: weight = [100,200,150,1000]\n",
    "# Output: 4\n",
    "# Explanation: All 4 apples can be carried by the basket since their sum of weights is 1450.\n",
    "\n",
    "\n",
    "# Input: weight = [900,950,800,1000,700,800]\n",
    "# Output: 5\n",
    "# Explanation: The sum of weights of the 6 apples exceeds 5000 so we choose any 5 of them.\n",
    "\n"
   ]
  },
  {
   "cell_type": "code",
   "execution_count": 70,
   "id": "b68881a8",
   "metadata": {},
   "outputs": [
    {
     "data": {
      "text/plain": [
       "3"
      ]
     },
     "execution_count": 70,
     "metadata": {},
     "output_type": "execute_result"
    }
   ],
   "source": [
    "# Apply prefix sum\n",
    "#expected = 5\n",
    "weight = [900,950,800,1000,700,800]\n",
    "#expected = 4\n",
    "weight = [100,200,150,1000]\n",
    "target = 5000\n",
    "prefix_sum = []\n",
    "weight = sorted(weight)\n",
    "prefix = [weight[0]]\n",
    "\n",
    "ans = 0\n",
    "for i in range(1,len(weight)):\n",
    "    \n",
    "    prefix.append(weight[i]+prefix[-1])\n",
    "    if(prefix[i]>target):        \n",
    "        ans = i\n",
    "        break\n",
    "    else:\n",
    "        ans +=1\n",
    "    \n",
    "\n",
    "ans\n",
    "\n",
    "\n",
    "    \n",
    "\n",
    "\n",
    "\n",
    "\n"
   ]
  },
  {
   "cell_type": "markdown",
   "id": "d1d381cd",
   "metadata": {},
   "source": [
    "#### Reduce Array Size to The Half"
   ]
  },
  {
   "cell_type": "code",
   "execution_count": 71,
   "id": "fa5c439a",
   "metadata": {},
   "outputs": [],
   "source": [
    "# # You are given an integer array arr. You can choose a set of integers and \n",
    "# # remove all the occurrences of these integers in the array.\n",
    "\n",
    "# # Return the minimum size of the set so that at least half of the integers of the array are removed.\n",
    "\n",
    "# Input: arr = [3,3,3,3,5,5,5,2,2,7]\n",
    "# Output: 2\n",
    "# Explanation: Choosing {3,7} will make the new array [5,5,5,2,2] which has size 5 \n",
    "# (i.e equal to half of the size of the old array).\n",
    "# Possible sets of size 2 are {3,5},{3,2},{5,2}.\n",
    "# Choosing set {2,7} is not possible as it will make the new array [3,3,3,3,5,5,5] \n",
    "# which has a size greater than half of the size of the old array.\n",
    "\n",
    "\n",
    "\n"
   ]
  },
  {
   "cell_type": "code",
   "execution_count": 75,
   "id": "5de995d2",
   "metadata": {},
   "outputs": [
    {
     "data": {
      "text/plain": [
       "2"
      ]
     },
     "execution_count": 75,
     "metadata": {},
     "output_type": "execute_result"
    }
   ],
   "source": [
    "from collections import Counter\n",
    "arr = [3,3,3,3,5,5,5,2,2,7]\n",
    "\n",
    "len1 = len(arr)/2\n",
    "\n",
    "dict1 = dict(Counter(arr))\n",
    "dict1 = dict(sorted(dict1.items(), key = lambda x: x[1], reverse=True))\n",
    "ans = sum1 = 0\n",
    "for i, j in dict1.items():\n",
    "    ans +=1\n",
    "    sum1 += j\n",
    "    if(sum1>len1):\n",
    "        break\n",
    "ans"
   ]
  },
  {
   "cell_type": "code",
   "execution_count": null,
   "id": "977bcaa4",
   "metadata": {},
   "outputs": [],
   "source": []
  }
 ],
 "metadata": {
  "kernelspec": {
   "display_name": "Python 3 (ipykernel)",
   "language": "python",
   "name": "python3"
  },
  "language_info": {
   "codemirror_mode": {
    "name": "ipython",
    "version": 3
   },
   "file_extension": ".py",
   "mimetype": "text/x-python",
   "name": "python",
   "nbconvert_exporter": "python",
   "pygments_lexer": "ipython3",
   "version": "3.9.12"
  },
  "toc": {
   "base_numbering": 1,
   "nav_menu": {},
   "number_sections": true,
   "sideBar": true,
   "skip_h1_title": false,
   "title_cell": "Table of Contents",
   "title_sidebar": "Contents",
   "toc_cell": false,
   "toc_position": {},
   "toc_section_display": true,
   "toc_window_display": false
  },
  "varInspector": {
   "cols": {
    "lenName": 16,
    "lenType": 16,
    "lenVar": 40
   },
   "kernels_config": {
    "python": {
     "delete_cmd_postfix": "",
     "delete_cmd_prefix": "del ",
     "library": "var_list.py",
     "varRefreshCmd": "print(var_dic_list())"
    },
    "r": {
     "delete_cmd_postfix": ") ",
     "delete_cmd_prefix": "rm(",
     "library": "var_list.r",
     "varRefreshCmd": "cat(var_dic_list()) "
    }
   },
   "types_to_exclude": [
    "module",
    "function",
    "builtin_function_or_method",
    "instance",
    "_Feature"
   ],
   "window_display": false
  }
 },
 "nbformat": 4,
 "nbformat_minor": 5
}
