{
 "cells": [
  {
   "cell_type": "code",
   "execution_count": 2,
   "id": "3dffe457",
   "metadata": {},
   "outputs": [],
   "source": [
    "import pandas as pd\n",
    "import numpy as np\n",
    "from functools import cache\n",
    "from typing import List"
   ]
  },
  {
   "cell_type": "code",
   "execution_count": 3,
   "id": "d56fc689",
   "metadata": {},
   "outputs": [
    {
     "data": {
      "text/plain": [
       "[1, 2, 0, 3]"
      ]
     },
     "execution_count": 3,
     "metadata": {},
     "output_type": "execute_result"
    }
   ],
   "source": [
    "nums=[1, 2, 0,4]\n",
    "nums[2:4] = [i-1 if i>0 else i for i in nums[2:4] ]\n",
    "nums"
   ]
  },
  {
   "cell_type": "code",
   "execution_count": 12,
   "id": "5ca0114b",
   "metadata": {},
   "outputs": [
    {
     "data": {
      "text/plain": [
       "(1, 1)"
      ]
     },
     "execution_count": 12,
     "metadata": {},
     "output_type": "execute_result"
    }
   ],
   "source": [
    "nums = [2, 0, 3, 2, 5, 6]\n",
    "nums.index(0), len(nums)-1 - nums[::-1].index(0)"
   ]
  },
  {
   "cell_type": "code",
   "execution_count": 9,
   "id": "abe04e22",
   "metadata": {},
   "outputs": [],
   "source": [
    "#What is recursive relation\n",
    "#What is base condition\n",
    "# Example 1:\n",
    "\n",
    "# Input: cost = [10,15,20]\n",
    "# Output: 15\n",
    "# Explanation: You will start at index 1.\n",
    "# - Pay 15 and climb two steps to reach the top.\n",
    "# The total cost is 15.\n",
    " \n"
   ]
  },
  {
   "cell_type": "code",
   "execution_count": 10,
   "id": "a34effe5",
   "metadata": {},
   "outputs": [],
   "source": [
    "from functools import cache\n",
    "@cache\n",
    "class Solution:\n",
    "    def minCostClimbingStairs(self, cost: List[int]) -> int:\n",
    "        def dp(n):\n",
    "            #base condition\n",
    "            if n==0: return cost[0]\n",
    "            if n==1: return min(cost[1], cost[0] + cost[1])      \n",
    "            \n",
    "            if n==len(cost):\n",
    "                min_cost = min(dp(n-1), dp(n-2))\n",
    "            else:\n",
    "                min_cost = min(dp(n-1), dp(n-2)) + cost[n]\n",
    "            \n",
    "            return min_cost\n",
    "        \n",
    "        return dp(len(cost)) \n"
   ]
  },
  {
   "cell_type": "markdown",
   "id": "540de46b",
   "metadata": {},
   "source": [
    "You are a professional robber planning to rob houses along a street. Each house has a certain amount of money stashed, the only constraint stopping you from robbing each of them is that adjacent houses have security systems connected and it will automatically contact the police if two adjacent houses were broken into on the same night.\n",
    "\n",
    "Given an integer array nums representing the amount of money of each house, return the maximum amount of money you can rob tonight without alerting the police."
   ]
  },
  {
   "cell_type": "code",
   "execution_count": null,
   "id": "f322221c",
   "metadata": {},
   "outputs": [],
   "source": []
  },
  {
   "cell_type": "code",
   "execution_count": 2,
   "id": "615c3c5b",
   "metadata": {},
   "outputs": [],
   "source": [
    "#Combinations Sum Using BackTracking"
   ]
  },
  {
   "cell_type": "code",
   "execution_count": null,
   "id": "8cc427d6",
   "metadata": {},
   "outputs": [],
   "source": [
    "from typing import List\n",
    "nums, target = [2,3,6,7], 7\n",
    "\n",
    "class Solutions:\n",
    "        q\n",
    "    def CombinationSum(self, candidates:List[int], target:int)-> List[List[int]]:\n",
    "        \n",
    "        def backtrack(curr, target_sum):            \n",
    "            \n",
    "            if len(curr)==len(nums):\n",
    "                return\n",
    "            \n",
    "            for i in range(len(candidates)):\n",
    "                if (sum(curr) + candidates[i]) <= target:                    \n",
    "                    \n",
    "                    curr.append(candidates[i])\n",
    "                    \n",
    "                    \n",
    "        \n",
    "    \n",
    "\n",
    "    \n",
    "    "
   ]
  },
  {
   "cell_type": "code",
   "execution_count": 4,
   "id": "481ed7f3",
   "metadata": {},
   "outputs": [],
   "source": [
    "#### Coin Change Using Backtracking\n",
    "#You are given an integer array coins representing coins of different denominations and an integer amount representing \n",
    "#a total amount of money.\n",
    "\n",
    "#Return the fewest number of coins that you need to make up that amount. \n",
    "#If that amount of money cannot be made up by any combination of the coins, return -1.\n",
    "\n",
    "#You may assume that you have an infinite number of each kind of coin."
   ]
  },
  {
   "cell_type": "code",
   "execution_count": 13,
   "id": "e009ec1a",
   "metadata": {},
   "outputs": [],
   "source": [
    "from functools import cache\n",
    "coins, target = [5,2,1], 11\n",
    "\n",
    "class Solution:\n",
    "    def coinchange(self, coins, target):\n",
    "        \n",
    "        coins.sort()\n",
    "        @cache\n",
    "        def backtrack(start, curr):\n",
    "            ans = 0\n",
    "            \n",
    "            if curr == target:\n",
    "                #ans.append(path[:])\n",
    "                \n",
    "                return 1\n",
    "\n",
    "            for i in range(start, len(coins)):\n",
    "                coin = coins[i]\n",
    "                if curr + coin <= target:\n",
    "                    #path.append(coin)\n",
    "                    ans += backtrack(i, curr + coin)\n",
    "                    #path.pop() \n",
    "            return ans\n",
    "        \n",
    "        #ans = []\n",
    "        \n",
    "        ans = backtrack(0, 0)\n",
    "        return ans"
   ]
  },
  {
   "cell_type": "code",
   "execution_count": 14,
   "id": "c1c82de8",
   "metadata": {},
   "outputs": [
    {
     "data": {
      "text/plain": [
       "11"
      ]
     },
     "execution_count": 14,
     "metadata": {},
     "output_type": "execute_result"
    }
   ],
   "source": [
    "coins, target = [5,2,1], 11\n",
    "ans = Solution().coinchange(coins, target)\n",
    "# ans = [len(i) for i in ans]\n",
    "# min(ans)\n",
    "# ans, len(ans)\n",
    "ans"
   ]
  },
  {
   "cell_type": "code",
   "execution_count": 41,
   "id": "2ac70f35",
   "metadata": {},
   "outputs": [
    {
     "data": {
      "text/plain": [
       "[1,\n",
       " 1,\n",
       " 1,\n",
       " 1,\n",
       " 1,\n",
       " 1,\n",
       " 1,\n",
       " 1,\n",
       " 1,\n",
       " 1,\n",
       " 1,\n",
       " 1,\n",
       " 1,\n",
       " 1,\n",
       " 1,\n",
       " 1,\n",
       " 1,\n",
       " 1,\n",
       " 1,\n",
       " 1,\n",
       " 1,\n",
       " 1,\n",
       " 1,\n",
       " 1,\n",
       " 1,\n",
       " 1,\n",
       " 1,\n",
       " 1]"
      ]
     },
     "execution_count": 41,
     "metadata": {},
     "output_type": "execute_result"
    }
   ],
   "source": [
    "coins = [1,2,5]\n",
    "class Solution:\n",
    "    def coinChange(self, coins, amount: int) -> int:\n",
    "\n",
    "        @cache\n",
    "        def dfs(rem):\n",
    "            if rem < 0:\n",
    "                return -1\n",
    "            if rem == 0:\n",
    "                return 0\n",
    "            \n",
    "            min_cost = float('inf')\n",
    "            \n",
    "            for coin in coins:\n",
    "                res = dfs(rem - coin)\n",
    "\n",
    "                if res != -1:                    \n",
    "                    \n",
    "                    min_cost = min(min_cost, res + 1)\n",
    "                    \n",
    "                    ans.append(1)\n",
    "                  \n",
    "                    \n",
    "            return sum(ans)\n",
    "        \n",
    "        ans = [0]\n",
    "        dfs(amount)\n",
    "        return ans\n",
    "\n",
    "Solution().coinChange(coins, 11)\n",
    "                \n",
    "                            \n",
    "            \n",
    "            "
   ]
  },
  {
   "cell_type": "code",
   "execution_count": null,
   "id": "eefb6f88",
   "metadata": {},
   "outputs": [],
   "source": []
  },
  {
   "cell_type": "code",
   "execution_count": null,
   "id": "59cd23f8",
   "metadata": {},
   "outputs": [],
   "source": []
  },
  {
   "cell_type": "code",
   "execution_count": null,
   "id": "9193de46",
   "metadata": {},
   "outputs": [],
   "source": []
  }
 ],
 "metadata": {
  "kernelspec": {
   "display_name": "Python 3 (ipykernel)",
   "language": "python",
   "name": "python3"
  },
  "language_info": {
   "codemirror_mode": {
    "name": "ipython",
    "version": 3
   },
   "file_extension": ".py",
   "mimetype": "text/x-python",
   "name": "python",
   "nbconvert_exporter": "python",
   "pygments_lexer": "ipython3",
   "version": "3.9.12"
  },
  "toc": {
   "base_numbering": 1,
   "nav_menu": {},
   "number_sections": true,
   "sideBar": true,
   "skip_h1_title": false,
   "title_cell": "Table of Contents",
   "title_sidebar": "Contents",
   "toc_cell": false,
   "toc_position": {},
   "toc_section_display": true,
   "toc_window_display": false
  },
  "varInspector": {
   "cols": {
    "lenName": 16,
    "lenType": 16,
    "lenVar": 40
   },
   "kernels_config": {
    "python": {
     "delete_cmd_postfix": "",
     "delete_cmd_prefix": "del ",
     "library": "var_list.py",
     "varRefreshCmd": "print(var_dic_list())"
    },
    "r": {
     "delete_cmd_postfix": ") ",
     "delete_cmd_prefix": "rm(",
     "library": "var_list.r",
     "varRefreshCmd": "cat(var_dic_list()) "
    }
   },
   "types_to_exclude": [
    "module",
    "function",
    "builtin_function_or_method",
    "instance",
    "_Feature"
   ],
   "window_display": false
  }
 },
 "nbformat": 4,
 "nbformat_minor": 5
}
