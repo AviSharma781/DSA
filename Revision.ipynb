{
 "cells": [
  {
   "cell_type": "code",
   "execution_count": 9,
   "id": "7d73a5d9",
   "metadata": {},
   "outputs": [],
   "source": [
    "import numpy as np\n",
    "import pandas as pd\n",
    "from typing import List"
   ]
  },
  {
   "cell_type": "markdown",
   "id": "77047714",
   "metadata": {},
   "source": [
    "#### 1"
   ]
  },
  {
   "cell_type": "markdown",
   "id": "e9793962",
   "metadata": {},
   "source": [
    "#### 2"
   ]
  },
  {
   "cell_type": "markdown",
   "id": "87f46c41",
   "metadata": {},
   "source": [
    "#### 3"
   ]
  },
  {
   "cell_type": "markdown",
   "id": "ba64a357",
   "metadata": {},
   "source": [
    "#### 4"
   ]
  },
  {
   "cell_type": "markdown",
   "id": "c5f71748",
   "metadata": {},
   "source": [
    "#### Sliding Window"
   ]
  },
  {
   "cell_type": "markdown",
   "id": "297f654a",
   "metadata": {},
   "source": [
    "Given an array of integers nums and an integer k, return the number of contiguous subarrays where the product of all the elements in the subarray is strictly less than k.\n",
    "\n",
    " \n",
    "\n",
    "Example 1:\n",
    "\n",
    "Input: nums = [10,5,2,6], k = 100\n",
    "Output: 8\n",
    "Explanation: The 8 subarrays that have product less than 100 are:\n",
    "[10], [5], [2], [6], [10, 5], [5, 2], [2, 6], [5, 2, 6]\n",
    "Note that [10, 5, 2] is not included as the product of 100 is not strictly less than k.\n",
    "\n",
    "Example 2:\n",
    "\n",
    "Input: nums = [1,2,3], k = 0\n",
    "Output: 0\n"
   ]
  },
  {
   "cell_type": "code",
   "execution_count": 4,
   "id": "a95dc766",
   "metadata": {},
   "outputs": [
    {
     "data": {
      "text/plain": [
       "8"
      ]
     },
     "execution_count": 4,
     "metadata": {},
     "output_type": "execute_result"
    }
   ],
   "source": [
    "nums = [10,5,2,6]\n",
    "k = 100\n",
    "left = ans = 0\n",
    "curr = 1\n",
    "\n",
    "for right in range(len(nums)):\n",
    "    curr *=nums[right]\n",
    "    \n",
    "    while curr >= k:\n",
    "            curr //= nums[left]\n",
    "            left +=1\n",
    "    \n",
    "    ans += right - left + 1 \n",
    "ans\n",
    "\n"
   ]
  },
  {
   "cell_type": "markdown",
   "id": "59d9c8d5",
   "metadata": {},
   "source": [
    "#### Counting"
   ]
  },
  {
   "cell_type": "markdown",
   "id": "cb8d0484",
   "metadata": {},
   "source": [
    "Given an array of integers nums and an integer k, return the total number of subarrays whose sum equals to k.\n",
    "\n",
    "A subarray is a contiguous non-empty sequence of elements within an array. \n",
    "\n",
    "Example 1:\n",
    "\n",
    "Input: nums = [1,1,1], k = 2\n",
    "Output: 2\n",
    "\n",
    "Example 2:\n",
    "\n",
    "Input: nums = [1,2,3], k = 3\n",
    "Output: 2\n"
   ]
  },
  {
   "cell_type": "code",
   "execution_count": 6,
   "id": "111aa850",
   "metadata": {},
   "outputs": [
    {
     "data": {
      "text/plain": [
       "2"
      ]
     },
     "execution_count": 6,
     "metadata": {},
     "output_type": "execute_result"
    }
   ],
   "source": [
    "nums = [1,1,1]\n",
    "k = 2\n",
    "# nums = [1,2,3]\n",
    "# k = 3\n",
    "count = ans = 0\n",
    "left = 0\n",
    "\n",
    "for right in range(len(nums)):\n",
    "    \n",
    "    count+= nums[right]\n",
    "    if count==k:\n",
    "        ans += 1\n",
    "    while count > k:\n",
    "        count -= nums[left]\n",
    "        left +=1\n",
    "        if count==k: ans+=1\n",
    "#         print(count)\n",
    "            \n",
    "    \n",
    "ans    "
   ]
  },
  {
   "cell_type": "code",
   "execution_count": null,
   "id": "4c1aec05",
   "metadata": {},
   "outputs": [],
   "source": [
    "#Elegant Solution\n",
    "\n",
    "class Solution:\n",
    "    def subarraySum(self, nums: List[int], k: int) -> int:\n",
    "        from collections import defaultdict, Counter\n",
    "        \n",
    "        counts = defaultdict(int)\n",
    "        counts[0] = 1\n",
    "        ans = curr = 0\n",
    "\n",
    "        for num in nums:\n",
    "            curr += num\n",
    "            ans += counts[curr - k]\n",
    "            counts[curr] += 1"
   ]
  },
  {
   "cell_type": "markdown",
   "id": "bbec6d60",
   "metadata": {},
   "source": [
    "#### Find Players With Zero or One Losses"
   ]
  },
  {
   "cell_type": "markdown",
   "id": "8304eac0",
   "metadata": {},
   "source": [
    "You are given an integer array matches where matches[i] = [winneri, loseri] indicates that the player winneri defeated player loseri in a match.\n",
    "\n",
    "Return a list answer of size 2 where:\n",
    "\n",
    "    answer[0] is a list of all players that have not lost any matches.\n",
    "    answer[1] is a list of all players that have lost exactly one match.\n",
    "\n",
    "The values in the two lists should be returned in increasing order.\n",
    "\n",
    "Note:\n",
    "\n",
    "    You should only consider the players that have played at least one match.\n",
    "    The testcases will be generated such that no two matches will have the same outcome.\n"
   ]
  },
  {
   "cell_type": "code",
   "execution_count": 10,
   "id": "4ed07377",
   "metadata": {},
   "outputs": [],
   "source": [
    "    def findWinners(self, matches: List[List[int]]) -> List[List[int]]:\n",
    "        \n",
    "        \n",
    "        number_of_matches = defaultdict(int)\n",
    "        win_counts = defaultdict(int)\n",
    "        \n",
    "        for match in matches:\n",
    "            number_of_matches[match[0]] +=1\n",
    "            number_of_matches[match[1]] +=1\n",
    "            win_counts[match[0]] +=1\n",
    "            \n",
    "        \n",
    "        match_summary = defaultdict(list)\n",
    "        \n",
    "        for player, num_match in number_of_matches.items():\n",
    "            wins = win_counts[player]\n",
    "            loss = num_match - wins\n",
    "            match_summary[player] = [num_match, wins, loss]\n",
    "        \n",
    "        all_winners = []\n",
    "        one_loss = []\n",
    "        for player, summary in match_summary.items():\n",
    "            if summary[2]==0:\n",
    "                all_winners.append(player)\n",
    "            if summary[2]==1:\n",
    "                one_loss.append(player)       \n",
    "\n",
    "        \n",
    "        \n",
    "        return([sorted(all_winners), sorted(one_loss)])     \n"
   ]
  },
  {
   "cell_type": "code",
   "execution_count": null,
   "id": "7d9706c7",
   "metadata": {},
   "outputs": [],
   "source": []
  }
 ],
 "metadata": {
  "kernelspec": {
   "display_name": "Python 3 (ipykernel)",
   "language": "python",
   "name": "python3"
  },
  "language_info": {
   "codemirror_mode": {
    "name": "ipython",
    "version": 3
   },
   "file_extension": ".py",
   "mimetype": "text/x-python",
   "name": "python",
   "nbconvert_exporter": "python",
   "pygments_lexer": "ipython3",
   "version": "3.9.12"
  },
  "toc": {
   "base_numbering": 1,
   "nav_menu": {},
   "number_sections": true,
   "sideBar": true,
   "skip_h1_title": false,
   "title_cell": "Table of Contents",
   "title_sidebar": "Contents",
   "toc_cell": false,
   "toc_position": {},
   "toc_section_display": true,
   "toc_window_display": true
  },
  "varInspector": {
   "cols": {
    "lenName": 16,
    "lenType": 16,
    "lenVar": 40
   },
   "kernels_config": {
    "python": {
     "delete_cmd_postfix": "",
     "delete_cmd_prefix": "del ",
     "library": "var_list.py",
     "varRefreshCmd": "print(var_dic_list())"
    },
    "r": {
     "delete_cmd_postfix": ") ",
     "delete_cmd_prefix": "rm(",
     "library": "var_list.r",
     "varRefreshCmd": "cat(var_dic_list()) "
    }
   },
   "types_to_exclude": [
    "module",
    "function",
    "builtin_function_or_method",
    "instance",
    "_Feature"
   ],
   "window_display": false
  }
 },
 "nbformat": 4,
 "nbformat_minor": 5
}
