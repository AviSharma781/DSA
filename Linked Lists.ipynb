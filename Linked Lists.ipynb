{
 "cells": [
  {
   "cell_type": "code",
   "execution_count": 1,
   "id": "d1d53962",
   "metadata": {},
   "outputs": [],
   "source": [
    "import pandas as pd\n",
    "import numpy as np"
   ]
  },
  {
   "cell_type": "markdown",
   "id": "234b499b",
   "metadata": {},
   "source": [
    "A linked list is a data structure that is similar to an array. It also stores data in an ordered manner, but it is implemented using node objects (you will have a custom class that defines the node object). Each node will have a \"next\" pointer, which points to the node representing the next element in the sequence."
   ]
  },
  {
   "cell_type": "code",
   "execution_count": 2,
   "id": "ff0ac695",
   "metadata": {},
   "outputs": [
    {
     "name": "stdout",
     "output_type": "stream",
     "text": [
      "1\n",
      "2\n",
      "3\n"
     ]
    }
   ],
   "source": [
    "class ListNode:\n",
    "    def __init__(self, val):\n",
    "        self.val = val\n",
    "        self.next = None\n",
    "    \n",
    "one = ListNode(1)\n",
    "two = ListNode(2)\n",
    "three = ListNode(3)\n",
    "one.next = two\n",
    "two.next = three\n",
    "head = one\n",
    "\n",
    "print(head.val)\n",
    "print(head.next.val)\n",
    "print(head.next.next.val)"
   ]
  },
  {
   "cell_type": "markdown",
   "id": "e13d15c8",
   "metadata": {},
   "source": [
    "The main advantage of a linked list is that you can add and remove elements at any position in O(1)O(1). The caveat is that you need to have a reference to a node at the position in which you want to perform the addition/removal, otherwise the operation is O(n)O(n), because you will need to iterate starting from the head until you get to the desired position. However, this is still much better than a normal (dynamic) array, which requires O(n)O(n) for adding and removing from an arbitrary position.\n",
    "\n",
    "The main disadvantage of a linked list is that there is no random access. If you have a large linked list and want to access the 150,000th element, then there usually isn't a better way than to start at the head and iterate 150,000 times. So while an array has O(1)O(1) indexing, a linked list could require O(n)O(n) to access an element at a given position."
   ]
  },
  {
   "cell_type": "code",
   "execution_count": 3,
   "id": "3c3d0845",
   "metadata": {},
   "outputs": [],
   "source": [
    "#insertion at i position\n",
    "class ListNode:\n",
    "    def __init__(self, val):\n",
    "        self.val = val\n",
    "        self.next = None\n",
    "\n",
    "# Let prev_node be the node at position i - 1\n",
    "def add_node(prev_node, node_to_add):\n",
    "    node_to_add.next = prev_node.next\n",
    "    prev_node.next = node_to_add"
   ]
  },
  {
   "cell_type": "code",
   "execution_count": 4,
   "id": "7322a991",
   "metadata": {},
   "outputs": [],
   "source": [
    "#Deletion at i position\n",
    "class ListNode:\n",
    "    def __init__(self, val):\n",
    "        self.val = val\n",
    "        self.next = None\n",
    "\n",
    "# Let prev_node be the node at position i - 1\n",
    "def delete_node(prev_node):\n",
    "    prev_node.next = prev_node.next.next\n",
    "\n",
    "\n"
   ]
  },
  {
   "cell_type": "markdown",
   "id": "34bdd671",
   "metadata": {},
   "source": [
    "As mentioned before, when you have a reference to the node at i - 1, then insertion and deletion is O(1)O(1). However, without that reference, you need to obtain the reference by iterating from the head, which for an arbitrary position is O(n)O(n)."
   ]
  },
  {
   "cell_type": "markdown",
   "id": "94fac3dd",
   "metadata": {},
   "source": [
    "Doubly linked list\n",
    "\n",
    "A doubly linked list is like a singly linked list, but each node also contains a pointer to the previous node. This pointer is usually called prev, and it allows iteration in both directions.\n",
    "\n",
    "In a singly linked list, we needed a reference to the node at i - 1 if we wanted to add or remove at i. This is because we needed to perform operations on the prevNode. With a doubly linked list, we only need a reference to the node at i. This is because we can simply reference the prev pointer of that node to get the node at i - 1, and then do the exact same operations as above.\n",
    "\n",
    "With a doubly linked list, we need to do extra work to also update the prev pointers"
   ]
  },
  {
   "cell_type": "code",
   "execution_count": 5,
   "id": "9119f82c",
   "metadata": {},
   "outputs": [],
   "source": [
    "class ListNode:\n",
    "    def __init__(self, val):\n",
    "        self.val = val\n",
    "        self.next = None\n",
    "        self.prev = None\n",
    "\n",
    "# Let node be the node at position i\n",
    "def add_node(node, node_to_add):\n",
    "    prev_node = node.prev\n",
    "    node_to_add.next = node\n",
    "    node_to_add.prev = prev_node\n",
    "    prev_node.next = node_to_add\n",
    "    node.prev = node_to_add\n",
    "\n",
    "# Let node be the node at position i\n",
    "def delete_node(node):\n",
    "    prev_node = node.prev\n",
    "    next_node = node.next\n",
    "    prev_node.next = next_node\n",
    "    next_node.prev = prev_node"
   ]
  },
  {
   "cell_type": "code",
   "execution_count": null,
   "id": "6b61e098",
   "metadata": {},
   "outputs": [],
   "source": []
  }
 ],
 "metadata": {
  "kernelspec": {
   "display_name": "Python 3 (ipykernel)",
   "language": "python",
   "name": "python3"
  },
  "language_info": {
   "codemirror_mode": {
    "name": "ipython",
    "version": 3
   },
   "file_extension": ".py",
   "mimetype": "text/x-python",
   "name": "python",
   "nbconvert_exporter": "python",
   "pygments_lexer": "ipython3",
   "version": "3.9.12"
  },
  "toc": {
   "base_numbering": 1,
   "nav_menu": {},
   "number_sections": true,
   "sideBar": true,
   "skip_h1_title": false,
   "title_cell": "Table of Contents",
   "title_sidebar": "Contents",
   "toc_cell": false,
   "toc_position": {},
   "toc_section_display": true,
   "toc_window_display": false
  },
  "varInspector": {
   "cols": {
    "lenName": 16,
    "lenType": 16,
    "lenVar": 40
   },
   "kernels_config": {
    "python": {
     "delete_cmd_postfix": "",
     "delete_cmd_prefix": "del ",
     "library": "var_list.py",
     "varRefreshCmd": "print(var_dic_list())"
    },
    "r": {
     "delete_cmd_postfix": ") ",
     "delete_cmd_prefix": "rm(",
     "library": "var_list.r",
     "varRefreshCmd": "cat(var_dic_list()) "
    }
   },
   "types_to_exclude": [
    "module",
    "function",
    "builtin_function_or_method",
    "instance",
    "_Feature"
   ],
   "window_display": false
  }
 },
 "nbformat": 4,
 "nbformat_minor": 5
}
