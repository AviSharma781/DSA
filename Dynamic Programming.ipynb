{
 "cells": [
  {
   "cell_type": "code",
   "execution_count": 1,
   "id": "554463c2",
   "metadata": {},
   "outputs": [],
   "source": [
    "import pandas as pd\n",
    "import numpy as np"
   ]
  },
  {
   "cell_type": "markdown",
   "id": "dcee6cd9",
   "metadata": {},
   "source": [
    "#### "
   ]
  },
  {
   "cell_type": "markdown",
   "id": "d0ac4835",
   "metadata": {},
   "source": [
    "#### "
   ]
  },
  {
   "cell_type": "markdown",
   "id": "3aa70346",
   "metadata": {},
   "source": [
    "#### "
   ]
  },
  {
   "cell_type": "markdown",
   "id": "cb1cce25",
   "metadata": {},
   "source": [
    "#### "
   ]
  },
  {
   "cell_type": "code",
   "execution_count": 12,
   "id": "a52a75d9",
   "metadata": {},
   "outputs": [
    {
     "name": "stdout",
     "output_type": "stream",
     "text": [
      "0\n",
      "1\n",
      "1\n",
      "2\n",
      "3\n",
      "5\n",
      "8\n",
      "13\n",
      "21\n",
      "34\n"
     ]
    }
   ],
   "source": [
    "from functools import cache\n",
    "\n",
    "@cache\n",
    "def fib(n):\n",
    "    if n==0:\n",
    "        return 0\n",
    "    if n==1:\n",
    "        return 1\n",
    "    \n",
    "    mem[n] = fib(n-1)+fib(n-2)\n",
    "    \n",
    "    return(mem[n])\n",
    "\n",
    "mem = {}\n",
    "\n",
    "memo = {}\n",
    "for i in range(10):\n",
    "    print(fib(i)) "
   ]
  },
  {
   "cell_type": "markdown",
   "id": "6500f2f1",
   "metadata": {},
   "source": [
    "When should I consider using DP?\n",
    "\n",
    "Problems that should be solved with DP usually have two main characteristics:\n",
    "\n",
    "1.The problem will be asking for an optimal value (max or min) of something or the number of ways to do something.\n",
    "    What is the minimum cost of doing ...\n",
    "    What is the maximum profit of ...\n",
    "    How many ways are there to ...\n",
    "    What is the longest possible ...\n",
    "\n",
    "2. At each step, you need to make a \"decision\", and decisions affect future decisions.\n",
    "    A decision could be picking between two elements\n",
    "    Decisions affecting future decisions could be something like \"if you take an element x, then you can't take an element y in the future\"\n",
    "\n",
    "Note on the first characteristic: not all problems that are in these formats are meant to be solved with DP, and not all DP problems are in one of those formats. However, for a general guideline, these characteristics hold up very well."
   ]
  },
  {
   "cell_type": "markdown",
   "id": "4de4c244",
   "metadata": {},
   "source": [
    "#### Min Cost Climbing Stairs"
   ]
  },
  {
   "cell_type": "markdown",
   "id": "8b454c8e",
   "metadata": {},
   "source": [
    "You are given an integer array cost where cost[i] is the cost of the ith step on a staircase. Once you pay the cost, you can either climb one or two steps. You can either start from the step with index 0, or the step with index 1. Return the minimum cost to reach the top of the floor (outside the array, not the last index of cost)."
   ]
  },
  {
   "cell_type": "code",
   "execution_count": 2,
   "id": "51d20285",
   "metadata": {},
   "outputs": [],
   "source": [
    "# The framework\n",
    "\n",
    "# To create any DP algorithm, there are 3 main components\n",
    "\n",
    "\n",
    "\n",
    "# 1. A function or data structure that will compute/contain the answer to the problem for any given state\n",
    "\n",
    "# Since we're starting with top-down, we will be talking about a function here. This involves two parts. \n",
    "# First, we need to decide what the function is returning. Second, we need to decide on what arguments the function should take \n",
    "# (state variables).\n",
    "# The problem is asking for the minimum cost to climb the stairs. \n",
    "# So, let's define a function dp(state) that returns the minimum cost to climb the stairs for a given state.\n",
    "# What state variables do we need? The only relevant state variable would be an index along the input, let's call it i."
   ]
  },
  {
   "cell_type": "code",
   "execution_count": 3,
   "id": "cdd22e29",
   "metadata": {},
   "outputs": [],
   "source": [
    "# A good way to think about state variables is to imagine if the problem was a real-life scenario. \n",
    "# What information do you need to 100% describe a scenario? We certainly need to know what step \n",
    "# we're on - that's where i comes in. What about the color of your socks? \n",
    "# Standing on the 5th step with green socks is technically a different state than standing on the 5th step with red socks,\n",
    "# but it doesn't change the cost of the steps, or anything relevant.\n",
    "\n",
    "# Therefore, let's have a function dp(i) that returns the minimum cost to climb the stairs up to the ith step - i.e. \n",
    "# if the input was the subarray from index 0 up to and including i."
   ]
  },
  {
   "cell_type": "code",
   "execution_count": 4,
   "id": "29f78970",
   "metadata": {},
   "outputs": [],
   "source": [
    "# 2. A recurrence relation to transition between states\n",
    "# A recurrence relation is an equation used to calculate states. With Fibonacci, the recurrence relation was \n",
    "# Fn=Fn−1+Fn−2\n",
    "\n",
    "# In this problem, let's say we wanted to figure out the minimum cost of climbing to the 100th step.\n",
    "# The problem states that at each step, we are allowed to take one or two steps. That means, to get to the 100th step, \n",
    "# we must have arrived from the 99th or 98th step. Therefore, the minimum cost of climbing to the 100th step is \n",
    "# either the minimum cost of getting to the 99th step + the cost of the 99th step, or the minimum cost of getting \n",
    "# to the 98th step + the cost of the 98th step.\n",
    "\n",
    "# dp(100) = min(dp(99) + cost[99], dp(98) + cost[98])"
   ]
  },
  {
   "cell_type": "code",
   "execution_count": 5,
   "id": "27ea8910",
   "metadata": {},
   "outputs": [],
   "source": [
    "# Because of how we defined dp in the previous step, dp(99) gives us the minimum cost of getting to the \n",
    "# 99th step, and dp(98) gives us the minimum cost of getting to the 98th step.\n",
    "\n",
    "# Or more generally:\n",
    "\n",
    "# dp(i) = min(dp(i - 1) + cost[i - 1], dp(i - 2) + cost[i - 2])\n",
    "\n",
    "# Which is the recurrence relation of this problem. \n",
    "# Typically, finding the recurrence relation is the hardest part of constructing a DP algorithm. \n",
    "# This one is relatively straightforward, but we'll see later that recurrence relations can be much more complicated."
   ]
  },
  {
   "cell_type": "code",
   "execution_count": null,
   "id": "5202a942",
   "metadata": {},
   "outputs": [],
   "source": [
    "# 3. Base cases\n",
    "# The recurrence relation is useless on its own. We still can't figure out dp(100) because we don't know dp(99) or dp(98). \n",
    "# If we try to find them, we have the same problem - how can we know dp(98) if we don't know dp(97) or dp(96)? \n",
    "# By itself, the recurrence relation will continue forever until dp(-infinity).\n",
    "\n",
    "# We need base cases so that our function eventually returns actual values. \n",
    "# The problem states that we can start at steps 0 or 1. Therefore, the base cases are:\n",
    "\n",
    "# dp(0) = dp(1) = 0\n",
    "\n",
    "# With these base cases, we can find dp(2). With dp(2), we can find dp(3), \n",
    "# and so on until we have dp(98) and dp(99), then we can finally find dp(100)."
   ]
  },
  {
   "cell_type": "code",
   "execution_count": 2,
   "id": "34ec0a3f",
   "metadata": {},
   "outputs": [],
   "source": [
    "#Top Down Approach\n",
    "class Solution:\n",
    "    def minCostClimbingStairs(self, cost) -> int:\n",
    "        # 1. A function that returns the answer\n",
    "        def dp(i):\n",
    "            if i <= 1:\n",
    "                # 3. Base cases\n",
    "                return 0\n",
    "            \n",
    "            if i in memo:\n",
    "                return memo[i]\n",
    "            \n",
    "            # 2. Recurrence relation\n",
    "            memo[i] = min(dp(i - 1) + cost[i - 1], dp(i - 2) + cost[i - 2])\n",
    "            return memo[i]\n",
    "        \n",
    "        memo = {}\n",
    "        return dp(len(cost))\n",
    "    \n"
   ]
  },
  {
   "cell_type": "code",
   "execution_count": 4,
   "id": "182cf51d",
   "metadata": {},
   "outputs": [
    {
     "data": {
      "text/plain": [
       "6"
      ]
     },
     "execution_count": 4,
     "metadata": {},
     "output_type": "execute_result"
    }
   ],
   "source": [
    "cost = [1,100,1,1,1,100,1,1,100,1]\n",
    "Solution().minCostClimbingStairs(cost)"
   ]
  },
  {
   "cell_type": "code",
   "execution_count": null,
   "id": "9d3d74ac",
   "metadata": {},
   "outputs": [],
   "source": []
  },
  {
   "cell_type": "code",
   "execution_count": 3,
   "id": "ceb7a2c5",
   "metadata": {},
   "outputs": [],
   "source": [
    "#Bottom Up approach using arrays\n",
    "class Solution:\n",
    "    def minCostClimbingStairs(self, cost) -> int:\n",
    "        n = len(cost)\n",
    "        # Step 2\n",
    "        dp = [0] * (n + 1)\n",
    "        \n",
    "        # Step 3: Base cases are implicitly defined as they are 0\n",
    "\n",
    "        # Step 4\n",
    "        for i in range(2, n + 1):\n",
    "            # Step 5\n",
    "            dp[i] = min(dp[i - 1] + cost[i - 1], dp[i - 2] + cost[i - 2])\n",
    "        \n",
    "        # Step 6\n",
    "        return dp[n]"
   ]
  },
  {
   "cell_type": "markdown",
   "id": "d0660e36",
   "metadata": {},
   "source": [
    "#### House Robber"
   ]
  },
  {
   "cell_type": "markdown",
   "id": "1d31769c",
   "metadata": {},
   "source": [
    "The second characteristic is usually what differentiates greedy and DP. The idea behind greedy is that local decisions do not affect other decisions. Let's say we had nums = [2,7,9,3,1], and we wanted to be greedy. Iterating along the array, the first decision is to take the 2 or the 7, since we can't have both. If we were greedy, we would take the 7. However, now we can no longer take the 9. In fact, the optimal answer involves taking 2, 9, 1. As you can see, being greedy in our decisions affected future decisions which lead us to the wrong answer."
   ]
  },
  {
   "cell_type": "code",
   "execution_count": 5,
   "id": "36207b57",
   "metadata": {},
   "outputs": [],
   "source": [
    "# You are planning to rob houses along a street. The ith house has nums[i] money. \n",
    "# If you rob two houses beside each other, the alarm system will trigger and alert the police. \n",
    "# What is the most money you can rob without alerting the police?"
   ]
  },
  {
   "cell_type": "code",
   "execution_count": 6,
   "id": "939c2087",
   "metadata": {},
   "outputs": [],
   "source": [
    "cost = [2,7,9,3,1]\n"
   ]
  },
  {
   "cell_type": "code",
   "execution_count": 7,
   "id": "fd7b9794",
   "metadata": {},
   "outputs": [],
   "source": [
    "# think of dp function --> input is just the current step, \n",
    "\n",
    "# recurrence relation --> top-down: \n",
    "\n",
    "# condition 1: you have a chance to rob last house only if you haven't robbed house before \n",
    "# condition 2: if not at the last house : you will rob this house , if the next house house has smaller value \n",
    "# and you haven't robbed the house next to this one\n",
    "\n",
    "# base case --> if at the 0th index house you will rob if you haven't robbed house next to it\n",
    "\n"
   ]
  },
  {
   "cell_type": "code",
   "execution_count": 5,
   "id": "05c67a53",
   "metadata": {},
   "outputs": [],
   "source": [
    "# Watch Video\n",
    "\n",
    "def rob(cost) -> int:\n",
    "        # 1. A function that returns the answer\n",
    "        def dp(i):\n",
    "            # 3. Base cases \n",
    "            \n",
    "            if i == 0:\n",
    "                              \n",
    "                return cost[i]           \n",
    "            \n",
    "            if i==1:\n",
    "                return(max(cost[:i+1]))\n",
    "            \n",
    "            if i in memo:\n",
    "                return memo[i]              \n",
    "            \n",
    "            # 2. Recurrence relation            \n",
    "            memo[i] = max(dp(i - 1), dp(i - 2) + cost[i])\n",
    "            \n",
    "            return memo[i]\n",
    "        \n",
    "        memo = {}\n",
    "        return dp(len(cost)-1)"
   ]
  },
  {
   "cell_type": "code",
   "execution_count": 6,
   "id": "584d37ed",
   "metadata": {},
   "outputs": [
    {
     "data": {
      "text/plain": [
       "12"
      ]
     },
     "execution_count": 6,
     "metadata": {},
     "output_type": "execute_result"
    }
   ],
   "source": [
    "cost = [2,7,9,3,1]\n",
    "rob(cost)"
   ]
  },
  {
   "cell_type": "code",
   "execution_count": 3,
   "id": "2889c688",
   "metadata": {},
   "outputs": [],
   "source": [
    "from functools import cache\n",
    "\n",
    "class Solution:\n",
    "    def rob(self, nums) -> int:\n",
    "        @cache\n",
    "        def dp(i):\n",
    "            # Base cases\n",
    "            if i == 0:\n",
    "                return nums[0]\n",
    "            if i == 1:\n",
    "                return max(nums[0], nums[1])\n",
    "\n",
    "            # Recurrence relation\n",
    "            return max(dp(i - 1), dp(i - 2) + nums[i])\n",
    "\n",
    "        return dp(len(nums) - 1)"
   ]
  },
  {
   "cell_type": "code",
   "execution_count": 7,
   "id": "2f7609b1",
   "metadata": {},
   "outputs": [
    {
     "data": {
      "text/plain": [
       "12"
      ]
     },
     "execution_count": 7,
     "metadata": {},
     "output_type": "execute_result"
    }
   ],
   "source": [
    "Solution().rob(cost)"
   ]
  },
  {
   "cell_type": "code",
   "execution_count": null,
   "id": "3fcf0dff",
   "metadata": {},
   "outputs": [],
   "source": [
    "#Bottom Up Approach\n",
    "class Solution:\n",
    "    def rob(self, nums: List[int]) -> int:\n",
    "        # To avoid out of bounds error from setting base case\n",
    "        if len(nums) == 1:\n",
    "            return nums[0]\n",
    "        \n",
    "        n = len(nums)\n",
    "        dp = [0] * n\n",
    "        \n",
    "        # Base cases\n",
    "        dp[0] = nums[0]\n",
    "        dp[1] = max(nums[0], nums[1])\n",
    "        \n",
    "        for i in range(2, n):\n",
    "            # Recurrence relation\n",
    "            dp[i] = max(dp[i - 1], dp[i - 2] + nums[i])\n",
    "        \n",
    "        return dp[n - 1]"
   ]
  },
  {
   "cell_type": "code",
   "execution_count": 8,
   "id": "27af245e",
   "metadata": {},
   "outputs": [
    {
     "data": {
      "text/plain": [
       "12"
      ]
     },
     "execution_count": 8,
     "metadata": {},
     "output_type": "execute_result"
    }
   ],
   "source": [
    "Solution().rob(cost)"
   ]
  },
  {
   "cell_type": "markdown",
   "id": "77b44efd",
   "metadata": {},
   "source": [
    "Improving the space complexity\n",
    "\n",
    "Actually, we can do better than O(n) space. When we are at state i, we only care about the previous two states. To get to state 100, we needed to go through 2 - 99, but once we're actually at 100, we don't care about 2 - 97. In the bottom-up implementation, we can replace the array with two variables that just keep track of the previous two states. arr[0] becomes obsolete once we get to arr[3] etc."
   ]
  },
  {
   "cell_type": "code",
   "execution_count": 10,
   "id": "9a0b9359",
   "metadata": {},
   "outputs": [],
   "source": [
    "class Solution:\n",
    "    def rob(self, nums) -> int:\n",
    "        # To avoid out of bounds error from setting base case\n",
    "        if len(nums) == 1:\n",
    "            return nums[0]\n",
    "        \n",
    "        n = len(nums)\n",
    "\n",
    "        # Base cases\n",
    "        back_two = nums[0]\n",
    "        back_one = max(nums[0], nums[1])\n",
    "        \n",
    "        for i in range(2, n):\n",
    "            # back_two becomes back_one, and back_one gets updated\n",
    "            back_one, back_two = max(back_one, back_two + nums[i]), back_one\n",
    "\n",
    "        return back_one"
   ]
  },
  {
   "cell_type": "code",
   "execution_count": 11,
   "id": "e942b788",
   "metadata": {},
   "outputs": [
    {
     "data": {
      "text/plain": [
       "12"
      ]
     },
     "execution_count": 11,
     "metadata": {},
     "output_type": "execute_result"
    }
   ],
   "source": [
    "Solution().rob(cost)"
   ]
  },
  {
   "cell_type": "markdown",
   "id": "39aeadc4",
   "metadata": {},
   "source": [
    "#### Longest Increasing Subsequence"
   ]
  },
  {
   "cell_type": "code",
   "execution_count": null,
   "id": "7bad4e1a",
   "metadata": {},
   "outputs": [],
   "source": [
    "# Example 2: 300. Longest Increasing Subsequence\n",
    "# Given an integer array nums, return the length of the longest strictly increasing subsequence.\n"
   ]
  },
  {
   "cell_type": "code",
   "execution_count": 1,
   "id": "4b14bcfc",
   "metadata": {},
   "outputs": [],
   "source": [
    "# Example 1:\n",
    "\n",
    "# Input: nums = [10,9,2,5,3,7,101,18]\n",
    "# Output: 4\n",
    "# Explanation: The longest increasing subsequence is [2,3,7,101], therefore the length is 4.\n",
    "\n",
    "# Input: nums = [0,1,0,3,2,3]\n",
    "# Output: 4\n",
    "\n",
    "# Example 3:\n",
    "\n",
    "# Input: nums = [7,7,7,7,7,7,7]\n",
    "# Output: 1\n"
   ]
  },
  {
   "cell_type": "markdown",
   "id": "d8f010e0",
   "metadata": {},
   "source": [
    "How can we tell that this problem should be solved with DP? First, it asks for a maximum length. Second, whenever we decide to take an element as part of a subsequence, it changes the numbers that we can take in the future. If we have nums = [1, 2, 5, 3, 4] and iterate from left to right, how do we decide if we should take the 5 or not? If we take it, our length increases which is what we want, but then it stops us from taking the 3 and 4."
   ]
  },
  {
   "cell_type": "code",
   "execution_count": null,
   "id": "76e63cf2",
   "metadata": {},
   "outputs": [],
   "source": [
    "# What will function return--> length of subsequence behind it, input variables--> ith value ?\n",
    "# What is recurrence relation -->  \n",
    "# What is the base case --> for i = 0, return 1, for i = 1, return 2, if arr[1]>arr[0]"
   ]
  },
  {
   "cell_type": "code",
   "execution_count": 26,
   "id": "ae46875e",
   "metadata": {},
   "outputs": [
    {
     "data": {
      "text/plain": [
       "4"
      ]
     },
     "execution_count": 26,
     "metadata": {},
     "output_type": "execute_result"
    }
   ],
   "source": [
    "def dp(i):\n",
    "#     base cases\n",
    "    if i==0: return 1\n",
    "    if i==1:\n",
    "        if nums[i] > nums[i-1]: return 2\n",
    "        else : return 1\n",
    "    \n",
    "    mem[i] = dp(i-1) + (--(nums[i] > nums[i-1]))\n",
    "    \n",
    "    return(mem[i])\n",
    "\n",
    "# nums = [10,9,2,5,3,7,101,18]\n",
    "# nums = [7,7,7,7]\n",
    "nums = [0,1,0,3,2,3]\n",
    "\n",
    "mem = {}\n",
    "ans = []\n",
    "for i in range(len(nums)):\n",
    "    ans.append(dp(i))\n",
    "\n",
    "\n",
    "ans = sorted(ans, reverse= True)\n",
    "ans[0]"
   ]
  },
  {
   "cell_type": "code",
   "execution_count": 14,
   "id": "1ca71f7c",
   "metadata": {},
   "outputs": [
    {
     "data": {
      "text/plain": [
       "{6: 4, 7: 4, 5: 3, 3: 2, 4: 2, 0: 1, 1: 1, 2: 1}"
      ]
     },
     "execution_count": 14,
     "metadata": {},
     "output_type": "execute_result"
    }
   ],
   "source": [
    "# dict(sorted(mem.items(), key = lambda item: item[1], reverse = True))"
   ]
  },
  {
   "cell_type": "code",
   "execution_count": 31,
   "id": "03ec1ae0",
   "metadata": {},
   "outputs": [],
   "source": [
    "from functools import cache\n",
    "class Solution:\n",
    "    def lengthOfLIS(self, nums) -> int:\n",
    "        @cache\n",
    "        def dp(i):\n",
    "            ans = 1 # Base case\n",
    "\n",
    "            # Recurrence relation\n",
    "            for j in range(i):\n",
    "                if nums[i] > nums[j]:\n",
    "                    ans = max(ans, dp(j) + 1)\n",
    "            \n",
    "            return ans\n",
    "\n",
    "        return max(dp(i) for i in range(len(nums)))    "
   ]
  },
  {
   "cell_type": "code",
   "execution_count": 32,
   "id": "ca19e223",
   "metadata": {},
   "outputs": [
    {
     "data": {
      "text/plain": [
       "4"
      ]
     },
     "execution_count": 32,
     "metadata": {},
     "output_type": "execute_result"
    }
   ],
   "source": [
    "Solution().lengthOfLIS(nums)"
   ]
  },
  {
   "cell_type": "markdown",
   "id": "0789c28f",
   "metadata": {},
   "source": [
    "#### Solving Questions With Brainpower"
   ]
  },
  {
   "attachments": {
    "image.png": {
     "image/png": "[encoded data removed]"
    }
   },
   "cell_type": "markdown",
   "id": "48cb3640",
   "metadata": {},
   "source": [
    "![image.png](attachment:image.png)"
   ]
  },
  {
   "cell_type": "markdown",
   "id": "7a467997",
   "metadata": {},
   "source": [
    "For example, given questions = [[3, 2], [4, 3], [4, 4], [2, 5]]:\n",
    "        If question 0 is solved, you will earn 3 points but you will be unable to solve questions 1 and 2.\n",
    "        If instead, question 0 is skipped and question 1 is solved, you will earn 4 points but you will be unable to solve questions 2 and 3.\n",
    "\n",
    "Return the maximum points you can earn for the exam."
   ]
  },
  {
   "cell_type": "code",
   "execution_count": null,
   "id": "2ae88ce1",
   "metadata": {},
   "outputs": [],
   "source": []
  },
  {
   "cell_type": "code",
   "execution_count": 33,
   "id": "e0304197",
   "metadata": {},
   "outputs": [],
   "source": [
    "# Example 1:\n",
    "\n",
    "# Input: questions = [[3,2],[4,3],[4,4],[2,5]]\n",
    "# Output: 5\n",
    "# Explanation: The maximum points can be earned by solving questions 0 and 3.\n",
    "# - Solve question 0: Earn 3 points, will be unable to solve the next 2 questions\n",
    "# - Unable to solve questions 1 and 2\n",
    "# - Solve question 3: Earn 2 points\n",
    "# Total points earned: 3 + 2 = 5. There is no other way to earn 5 or more points.\n"
   ]
  },
  {
   "cell_type": "code",
   "execution_count": 34,
   "id": "a7aaa003",
   "metadata": {},
   "outputs": [],
   "source": [
    "# Example 2:\n",
    "\n",
    "# Input: questions = [[1,1],[2,2],[3,3],[4,4],[5,5]]\n",
    "# Output: 7\n",
    "# Explanation: The maximum points can be earned by solving questions 1 and 4.\n",
    "# - Skip question 0\n",
    "# - Solve question 1: Earn 2 points, will be unable to solve the next 2 questions\n",
    "# - Unable to solve questions 2 and 3\n",
    "# - Solve question 4: Earn 5 points\n",
    "# Total points earned: 2 + 5 = 7. There is no other way to earn 7 or more points.\n"
   ]
  },
  {
   "cell_type": "code",
   "execution_count": null,
   "id": "b8504eb7",
   "metadata": {},
   "outputs": [],
   "source": [
    "# What should the function return ? What should be the input variable?\n",
    "# What should be the recurrence relation?\n",
    "# What are the base cases? \n"
   ]
  },
  {
   "cell_type": "markdown",
   "id": "f8d355a1",
   "metadata": {},
   "source": [
    "How can we tell this problem should be solved with DP? First, it is asking for a maximum score. Second, at every question we need to make a decision: take or skip, and these decisions affect future decisions. If we decide to take a question, it prevents us from taking some future questions.\n",
    "\n",
    "As you may expect by now, we can define a function dp that returns the maximum score we can achieve. What information do we need at each state (other than an index variable i to indicate the current question we are on)? We could include an integer that represents how many more questions we need to skip until we can start solving questions again, but similar to with house robber, we can encode this information in our recurrence relation, so we'll just stick with dp(i) returning the maximum score."
   ]
  },
  {
   "cell_type": "code",
   "execution_count": null,
   "id": "8f354a28",
   "metadata": {},
   "outputs": [],
   "source": []
  },
  {
   "cell_type": "code",
   "execution_count": null,
   "id": "5cd3e7ba",
   "metadata": {},
   "outputs": [],
   "source": []
  },
  {
   "cell_type": "markdown",
   "id": "455c326c",
   "metadata": {},
   "source": [
    "#### Climbing Stairs"
   ]
  },
  {
   "cell_type": "markdown",
   "id": "f9e41955",
   "metadata": {},
   "source": [
    "You are climbing a staircase. It takes n steps to reach the top.\n",
    "\n",
    "Each time you can either climb 1 or 2 steps. In how many distinct ways can you climb to the top?\n",
    "\n",
    "1 <= n <= 45"
   ]
  },
  {
   "cell_type": "code",
   "execution_count": 11,
   "id": "d29b2baf",
   "metadata": {},
   "outputs": [],
   "source": [
    "# Example 1:\n",
    "# Input: n = 2\n",
    "# Output: 2\n",
    "# Explanation: There are two ways to climb to the top.\n",
    "# 1. 1 step + 1 step\n",
    "# 2. 2 steps\n",
    "\n",
    "# Example 2:\n",
    "# Input: n = 3\n",
    "# Output: 3\n",
    "# Explanation: There are three ways to climb to the top.\n",
    "# 1. 1 step + 1 step + 1 step\n",
    "# 2. 1 step + 2 steps\n",
    "# 3. 2 steps + 1 step"
   ]
  },
  {
   "cell_type": "code",
   "execution_count": null,
   "id": "0cea88e6",
   "metadata": {},
   "outputs": [],
   "source": [
    "# No of distinct ways to climb to the top\n",
    "# base case: \n",
    "# if n = 1, return 1\n",
    "# if n = 2, return 2\n",
    "\n",
    "# recurrence relation, to reach the nth step , either you will reach from n-2 step or n-1 step. \n",
    "# from n-2 to n you can reach in 2 ways\n",
    "# from n-1 to nth step you will reach in 1 way\n",
    "\n",
    "# recurrence relation = dp(n-2) + 2\n",
    "    "
   ]
  },
  {
   "cell_type": "code",
   "execution_count": 35,
   "id": "87b52de6",
   "metadata": {},
   "outputs": [
    {
     "data": {
      "text/plain": [
       "3"
      ]
     },
     "execution_count": 35,
     "metadata": {},
     "output_type": "execute_result"
    }
   ],
   "source": [
    "\n",
    "def climbstairs(n):\n",
    "    if n == 1: return 1\n",
    "    if n == 2: return 2\n",
    "    \n",
    "    \n",
    "    mem[n] = climbstairs(n-2)+2 \n",
    "    return mem[n]\n",
    "\n",
    "mem = {}\n",
    "climbstairs(3)"
   ]
  },
  {
   "cell_type": "code",
   "execution_count": null,
   "id": "1279745c",
   "metadata": {},
   "outputs": [],
   "source": [
    "One can reach ith step in one of the two ways:\n",
    "\n",
    "    Taking a single step from (i−1)th step.\n",
    "\n",
    "    Taking a step of 2 from (i−2)th step.\n",
    "\n",
    "So, the total number of ways to reach ith is equal to sum of ways of reaching (i−1)th step and ways of reaching (i−2)th step.\n",
    "\n",
    "Let dp[i] denotes the number of ways to reach on ith step:\n",
    "\n",
    "dp[i]=dp[i−1]+dp[i−2]"
   ]
  },
  {
   "cell_type": "code",
   "execution_count": null,
   "id": "720ee52a",
   "metadata": {},
   "outputs": [],
   "source": [
    "if n = 2, you can take 2 steps or 1+1 step. so 2 ways\n",
    "if n=3, if you are at step 1, you can either take 2 steps to reach 3, or 1+1 step to reach 3 , so the combination is \n",
    "1+1+1, 1+2, what about 2+1 ?\n",
    "if n = 4, from step 2 you can take 2 steps or 1+1 step so these are 2 ways , plus to reach step 2 you can do it in 2 ways, \n",
    "also you can first reach 3 and take 1 step. but there is some overlap.\n",
    "so total 5--> 1+1+1+1, 1+1+2, 2+1+1, 2+2, 1+2+1\n",
    "th last step above is part of reaching the 3rd step and taking another 1 step.\n",
    "\n",
    "\n"
   ]
  },
  {
   "cell_type": "code",
   "execution_count": 38,
   "id": "52a74547",
   "metadata": {},
   "outputs": [
    {
     "data": {
      "text/plain": [
       "8"
      ]
     },
     "execution_count": 38,
     "metadata": {},
     "output_type": "execute_result"
    }
   ],
   "source": [
    "\n",
    "def climbstairs(n):\n",
    "    if n == 1: return 1\n",
    "    if n == 2: return 2\n",
    "    \n",
    "    #both are exclusive outcomes so even if overlap happens , its fine since number of ways\n",
    "    #to achieve different outcomes is different, even if pattern of steps taken overlap\n",
    "    \n",
    "    mem[n] = climbstairs(n-2)+climbstairs(n-1)\n",
    "    return mem[n]\n",
    "\n",
    "mem = {}\n",
    "climbstairs(5)"
   ]
  },
  {
   "cell_type": "code",
   "execution_count": null,
   "id": "79b309e3",
   "metadata": {},
   "outputs": [],
   "source": [
    "import math\n",
    "class Solution:\n",
    "    \n",
    "    def climbStairs(self, n: int) -> int:\n",
    "        \n",
    "#         count, count_2 = 0, int(n/2)\n",
    "#         if(n<2):return(1)\n",
    "        \n",
    "#         else:\n",
    "#             for i in range(1,count_2+1,1):\n",
    "#                  count_1 = n-(i)*2\n",
    "#                  count = count+math.factorial(count_1 + i)/(math.factorial(i)*math.factorial(count_1))\n",
    "#             return(int(count+1))\n",
    "\n",
    "        \n",
    "        def dp(n):\n",
    "            if n == 1: return 1\n",
    "            if n == 2: return 2\n",
    "\n",
    "            if n in mem:\n",
    "                    return mem[n]\n",
    "            #both are exclusive outcomes so even if overlap happens , its fine since number of ways\n",
    "            #to achieve different outcomes is different, even if pattern of steps taken overlap\n",
    "            \n",
    "            mem[n] = dp(n-2) + dp(n-1) \n",
    "            \n",
    "            return mem[n]\n",
    "        \n",
    "        mem = {}\n",
    "        return(dp(n))"
   ]
  },
  {
   "cell_type": "markdown",
   "id": "c24428d8",
   "metadata": {},
   "source": [
    "#### Coin Change"
   ]
  },
  {
   "cell_type": "markdown",
   "id": "a882a08b",
   "metadata": {},
   "source": [
    "You are given an integer array coins representing coins of different denominations and an integer amount representing a total amount of money.\n",
    "\n",
    "Return the fewest number of coins that you need to make up that amount. If that amount of money cannot be made up by any combination of the coins, return -1.\n",
    "\n",
    "You may assume that you have an infinite number of each kind of coin."
   ]
  },
  {
   "cell_type": "code",
   "execution_count": 39,
   "id": "479616e2",
   "metadata": {},
   "outputs": [],
   "source": [
    "# Input: coins = [1,2,5], amount = 11\n",
    "# Output: 3\n",
    "# Explanation: 11 = 5 + 5 + 1\n",
    "\n",
    "# Input: coins = [2], amount = 3\n",
    "# Output: -1\n",
    "\n",
    "# Input: coins = [1], amount = 0\n",
    "# Output: 0\n",
    "\n"
   ]
  },
  {
   "cell_type": "code",
   "execution_count": null,
   "id": "682846e4",
   "metadata": {},
   "outputs": [],
   "source": [
    "# What will dp function return ? ---> coin count incremented value\n",
    "# and what will be its input state ?---> current amount \n",
    "# A recurrence relation to transition between states ? \n",
    "# current_count + dp[current_amount-max(coin value less than current amount)]\n",
    "# base cases ? amount<= 0, return 0\n",
    "\n",
    "#Trying if we keep reducing the amount by max coin value <=amount\n",
    "# the above method worked for few sample inputs but failed for \n",
    "# coins = sorted([186,419,83,408]), amount = 6249\n"
   ]
  },
  {
   "cell_type": "code",
   "execution_count": 92,
   "id": "02d0c4be",
   "metadata": {},
   "outputs": [
    {
     "name": "stdout",
     "output_type": "stream",
     "text": [
      "0 6249 419\n",
      "1 5830 419\n",
      "2 5411 419\n",
      "3 4992 419\n",
      "4 4573 419\n",
      "5 4154 419\n",
      "6 3735 419\n",
      "7 3316 419\n",
      "8 2897 419\n",
      "9 2478 419\n",
      "10 2059 419\n",
      "11 1640 419\n",
      "12 1221 419\n",
      "13 802 419\n",
      "14 383 186\n",
      "15 197 186\n",
      "16 11 419\n"
     ]
    },
    {
     "data": {
      "text/plain": [
       "-1"
      ]
     },
     "execution_count": 92,
     "metadata": {},
     "output_type": "execute_result"
    }
   ],
   "source": [
    "count=0\n",
    "coins = sorted([1, 2, 5])\n",
    "curr_amt = 11\n",
    "\n",
    "# coins = sorted([1])\n",
    "# curr_amt = 0\n",
    "\n",
    "# coins = sorted([2])\n",
    "# curr_amt = 3\n",
    "\n",
    "coins = sorted([186,419,83,408])\n",
    "curr_amt = 6249\n",
    "\n",
    "class Solution:\n",
    "    def coinChange(self, coins, amount) -> int:\n",
    "        count = 0\n",
    "        mem = []\n",
    "        coins = sorted(coins)\n",
    "\n",
    "        def dp(curr_amt, count):\n",
    "            if curr_amt == 0 : \n",
    "                return 0    \n",
    "            if curr_amt <0 : \n",
    "                mem.append(-1) \n",
    "                return -1\n",
    "            print(count, curr_amt, coins[bisect.bisect_right(coins,curr_amt)-1])\n",
    "            count += 1\n",
    "            curr_amt = curr_amt - coins[bisect.bisect_right(coins,curr_amt)-1]\n",
    "            mem.append(count)\n",
    "            \n",
    "            dp(curr_amt, count)\n",
    "            \n",
    "            return\n",
    "        dp(amount, count)\n",
    "        if len(mem)==0:\n",
    "            return 0\n",
    "        else: return(mem[-1])\n",
    "        \n",
    "Solution().coinChange(coins, curr_amt)"
   ]
  },
  {
   "cell_type": "code",
   "execution_count": 59,
   "id": "2b92dc6a",
   "metadata": {},
   "outputs": [],
   "source": [
    "# dp(11,0)---11-5=6 & count=1,6-5=1 & count=2, 1-1=0,  "
   ]
  },
  {
   "cell_type": "code",
   "execution_count": 60,
   "id": "d114cf69",
   "metadata": {},
   "outputs": [
    {
     "data": {
      "text/plain": [
       "(2, 1)"
      ]
     },
     "execution_count": 60,
     "metadata": {},
     "output_type": "execute_result"
    }
   ],
   "source": [
    "dp(6, 1)  "
   ]
  },
  {
   "cell_type": "code",
   "execution_count": 61,
   "id": "d975fdf1",
   "metadata": {},
   "outputs": [
    {
     "data": {
      "text/plain": [
       "(3, 0)"
      ]
     },
     "execution_count": 61,
     "metadata": {},
     "output_type": "execute_result"
    }
   ],
   "source": [
    "dp(1,2) "
   ]
  },
  {
   "cell_type": "code",
   "execution_count": 62,
   "id": "a4575aff",
   "metadata": {},
   "outputs": [],
   "source": [
    "dp(0,3) "
   ]
  },
  {
   "cell_type": "code",
   "execution_count": 69,
   "id": "3d564e7f",
   "metadata": {},
   "outputs": [
    {
     "data": {
      "text/plain": [
       "2"
      ]
     },
     "execution_count": 69,
     "metadata": {},
     "output_type": "execute_result"
    }
   ],
   "source": [
    "[2,5][bisect.bisect_right([2,5],1)]"
   ]
  },
  {
   "cell_type": "code",
   "execution_count": 68,
   "id": "d14ee314",
   "metadata": {},
   "outputs": [
    {
     "data": {
      "text/plain": [
       "0"
      ]
     },
     "execution_count": 68,
     "metadata": {},
     "output_type": "execute_result"
    }
   ],
   "source": [
    "bisect.bisect_right([2,5],1)"
   ]
  },
  {
   "cell_type": "markdown",
   "id": "30aed382",
   "metadata": {},
   "source": [
    "#### Hard: Candy"
   ]
  },
  {
   "cell_type": "markdown",
   "id": "40baa564",
   "metadata": {},
   "source": [
    "There are n children standing in a line. Each child is assigned a rating value given in the integer array ratings.\n",
    "\n",
    "You are giving candies to these children subjected to the following requirements:\n",
    "\n",
    "    Each child must have at least one candy.\n",
    "    Children with a higher rating get more candies than their neighbors.\n",
    "\n",
    "Return the minimum number of candies you need to have to distribute the candies to the children."
   ]
  },
  {
   "cell_type": "code",
   "execution_count": 3,
   "id": "412b166b",
   "metadata": {},
   "outputs": [],
   "source": [
    "# Example 1:\n",
    "\n",
    "# Input: ratings = [1,0,2]\n",
    "# Output: 5\n",
    "# Explanation: You can allocate to the first, second and third child with 2, 1, 2 candies respectively.\n",
    "\n",
    "# Example 2:\n",
    "\n",
    "# Input: ratings = [1,2,2]\n",
    "# Output: 4\n",
    "# Explanation: You can allocate to the first, second and third child with 1, 2, 1 candies respectively.\n",
    "# The third child gets 1 candy because it satisfies the above two conditions.\n",
    "\n"
   ]
  },
  {
   "cell_type": "code",
   "execution_count": null,
   "id": "94e0e19f",
   "metadata": {},
   "outputs": [],
   "source": [
    "# What should function return --> candy for the ith child, What should be input : index\n",
    "# What is the recurrence relation --> \n",
    "# What is the base case --> if ratings[0]> ratings[1]: 2, else 1\n"
   ]
  },
  {
   "cell_type": "code",
   "execution_count": 23,
   "id": "b4de7d0a",
   "metadata": {},
   "outputs": [
    {
     "data": {
      "text/plain": [
       "({0: 1, 1: 2, 2: 3, 3: 2, 4: 2, 5: 1}, 11)"
      ]
     },
     "execution_count": 23,
     "metadata": {},
     "output_type": "execute_result"
    }
   ],
   "source": [
    "ratings = [1,2,2]\n",
    "# ratings = [1,0,2]\n",
    "# ratings = [1,3,2,2,1]\n",
    "ratings = [29,51,87,87,72,12]\n",
    "\n",
    "mem = {}\n",
    "\n",
    "def dp(i):\n",
    "    #base case\n",
    "    if i == 0:\n",
    "        if ratings[i] > ratings[i+1]: return 2\n",
    "        else: return 1\n",
    "    \n",
    "    \n",
    "    prev = dp(i-1) \n",
    "    \n",
    "    \n",
    "    if ratings[i] > ratings[i-1]: \n",
    "        mem[i] = prev + 1\n",
    "    \n",
    "    elif ratings[i] == ratings[i-1]:\n",
    "        if prev > 1:\n",
    "            mem[i] = prev -1\n",
    "        else : mem[i] = 1\n",
    "    \n",
    "    else:\n",
    "        if prev > 1:\n",
    "            mem[i] = prev - 1\n",
    "        else:            \n",
    "                    \n",
    "            mem[i-1] += 1\n",
    "            mem[i] = 1\n",
    "            \n",
    "    \n",
    "    return mem[i]\n",
    "\n",
    "total_candies = 0 \n",
    "for i in range(len(ratings)):\n",
    "    mem[i] = dp(i)\n",
    "for i, j in mem.items():\n",
    "    total_candies += j\n",
    "mem   , total_candies "
   ]
  },
  {
   "cell_type": "code",
   "execution_count": 26,
   "id": "8a1a45b8",
   "metadata": {},
   "outputs": [],
   "source": [
    "[29,51,87,87,72,12] = [1, 2, 3, 2, 2, 1]"
   ]
  },
  {
   "cell_type": "code",
   "execution_count": 27,
   "id": "3bc6de26",
   "metadata": {},
   "outputs": [
    {
     "name": "stdout",
     "output_type": "stream",
     "text": [
      "1 1\n",
      "2 3\n",
      "3 6\n",
      "2 8\n",
      "2 10\n",
      "1 11\n"
     ]
    }
   ],
   "source": [
    "total_candies = 0 \n",
    "for i, j in mem.items():\n",
    "    total_candies += j\n",
    "    print (j, total_candies)"
   ]
  },
  {
   "cell_type": "code",
   "execution_count": 34,
   "id": "a11060f9",
   "metadata": {},
   "outputs": [
    {
     "data": {
      "text/plain": [
       "({0: 1, 1: 2, 2: 3, 3: 3, 4: 2, 5: 1}, 12)"
      ]
     },
     "execution_count": 34,
     "metadata": {},
     "output_type": "execute_result"
    }
   ],
   "source": [
    "def dp(i):\n",
    "    #base case\n",
    "    if i == 0:\n",
    "        if ratings[i] > ratings[i+1]: return 2\n",
    "        else: return 1\n",
    "    \n",
    "    prev = dp(i-1)\n",
    "    if ratings[i] > ratings[i-1]: \n",
    "        mem[i] = prev + 1\n",
    "    \n",
    "    elif ratings[i] == ratings[i-1]:\n",
    "        if prev > 1:\n",
    "            mem[i] = prev -1\n",
    "        else : mem[i] = 1\n",
    "    \n",
    "    else:\n",
    "        if prev > 1:\n",
    "            mem[i] = prev - 1\n",
    "        else:            \n",
    "            mem[i-1] += 1\n",
    "            mem[i] = 1\n",
    "            \n",
    "            for j in range(i-2, -1, -1):\n",
    "                if (ratings[j] > ratings[j+1]) & (mem[j]<=mem[j+1]):\n",
    "                    mem[j] = mem[j+1]+1  \n",
    "                if (ratings[j] <= ratings[j+1]) & (mem[j]<=mem[j+1]):\n",
    "                    break\n",
    "                \n",
    "    return(mem[i])\n",
    "\n",
    "\n",
    "\n",
    "total_candies = 0\n",
    "for i in range(len(ratings)):\n",
    "    mem[i] = dp(i)\n",
    "for i, j in mem.items():\n",
    "    total_candies += j    \n",
    "mem, total_candies    "
   ]
  },
  {
   "cell_type": "code",
   "execution_count": null,
   "id": "8448d74c",
   "metadata": {},
   "outputs": [],
   "source": [
    "[29,51,52,87,87,72,12, 11] = [1, 2, 3, 4, 3, 2, 1, 0] = [1, 2, 3, 4, 3, 3, 2, 1] \n",
    "\n",
    "\n",
    "[1,2,87,87,87,2,1] = [1, 2, 3, 2, 1, 1,1, 1] = [1, 2, 3, 2, 1, 1, 1, 1]"
   ]
  }
 ],
 "metadata": {
  "kernelspec": {
   "display_name": "Python 3 (ipykernel)",
   "language": "python",
   "name": "python3"
  },
  "language_info": {
   "codemirror_mode": {
    "name": "ipython",
    "version": 3
   },
   "file_extension": ".py",
   "mimetype": "text/x-python",
   "name": "python",
   "nbconvert_exporter": "python",
   "pygments_lexer": "ipython3",
   "version": "3.9.12"
  },
  "toc": {
   "base_numbering": 1,
   "nav_menu": {},
   "number_sections": true,
   "sideBar": true,
   "skip_h1_title": false,
   "title_cell": "Table of Contents",
   "title_sidebar": "Contents",
   "toc_cell": false,
   "toc_position": {},
   "toc_section_display": true,
   "toc_window_display": true
  },
  "varInspector": {
   "cols": {
    "lenName": 16,
    "lenType": 16,
    "lenVar": 40
   },
   "kernels_config": {
    "python": {
     "delete_cmd_postfix": "",
     "delete_cmd_prefix": "del ",
     "library": "var_list.py",
     "varRefreshCmd": "print(var_dic_list())"
    },
    "r": {
     "delete_cmd_postfix": ") ",
     "delete_cmd_prefix": "rm(",
     "library": "var_list.r",
     "varRefreshCmd": "cat(var_dic_list()) "
    }
   },
   "types_to_exclude": [
    "module",
    "function",
    "builtin_function_or_method",
    "instance",
    "_Feature"
   ],
   "window_display": false
  }
 },
 "nbformat": 4,
 "nbformat_minor": 5
}
