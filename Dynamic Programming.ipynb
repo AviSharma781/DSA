{
 "cells": [
  {
   "cell_type": "code",
   "execution_count": 1,
   "id": "554463c2",
   "metadata": {},
   "outputs": [],
   "source": [
    "import pandas as pd\n",
    "import numpy as np"
   ]
  },
  {
   "cell_type": "markdown",
   "id": "5caba030",
   "metadata": {},
   "source": [
    "#### "
   ]
  },
  {
   "cell_type": "markdown",
   "id": "dba2d100",
   "metadata": {},
   "source": [
    "#### "
   ]
  },
  {
   "cell_type": "markdown",
   "id": "f1ef77b4",
   "metadata": {},
   "source": [
    "#### "
   ]
  },
  {
   "cell_type": "markdown",
   "id": "cba28ba5",
   "metadata": {},
   "source": [
    "#### "
   ]
  },
  {
   "cell_type": "markdown",
   "id": "6500f2f1",
   "metadata": {},
   "source": [
    "When should I consider using DP?\n",
    "\n",
    "Problems that should be solved with DP usually have two main characteristics:\n",
    "\n",
    "1.The problem will be asking for an optimal value (max or min) of something or the number of ways to do something.\n",
    "    What is the minimum cost of doing ...\n",
    "    What is the maximum profit of ...\n",
    "    How many ways are there to ...\n",
    "    What is the longest possible ...\n",
    "\n",
    "2. At each step, you need to make a \"decision\", and decisions affect future decisions.\n",
    "    A decision could be picking between two elements\n",
    "    Decisions affecting future decisions could be something like \"if you take an element x, then you can't take an element y in the future\"\n",
    "\n",
    "Note on the first characteristic: not all problems that are in these formats are meant to be solved with DP, and not all DP problems are in one of those formats. However, for a general guideline, these characteristics hold up very well."
   ]
  },
  {
   "cell_type": "markdown",
   "id": "4de4c244",
   "metadata": {},
   "source": [
    "#### Min Cost Climbing Stairs"
   ]
  },
  {
   "cell_type": "markdown",
   "id": "8b454c8e",
   "metadata": {},
   "source": [
    "You are given an integer array cost where cost[i] is the cost of the ith step on a staircase. Once you pay the cost, you can either climb one or two steps. You can either start from the step with index 0, or the step with index 1. Return the minimum cost to reach the top of the floor (outside the array, not the last index of cost)."
   ]
  },
  {
   "cell_type": "code",
   "execution_count": 2,
   "id": "51d20285",
   "metadata": {},
   "outputs": [],
   "source": [
    "# The framework\n",
    "\n",
    "# To create any DP algorithm, there are 3 main components\n",
    "\n",
    "\n",
    "\n",
    "# 1. A function or data structure that will compute/contain the answer to the problem for any given state\n",
    "\n",
    "# Since we're starting with top-down, we will be talking about a function here. This involves two parts. \n",
    "# First, we need to decide what the function is returning. Second, we need to decide on what arguments the function should take \n",
    "# (state variables).\n",
    "# The problem is asking for the minimum cost to climb the stairs. \n",
    "# So, let's define a function dp(state) that returns the minimum cost to climb the stairs for a given state.\n",
    "# What state variables do we need? The only relevant state variable would be an index along the input, let's call it i."
   ]
  },
  {
   "cell_type": "code",
   "execution_count": 3,
   "id": "cdd22e29",
   "metadata": {},
   "outputs": [],
   "source": [
    "# A good way to think about state variables is to imagine if the problem was a real-life scenario. \n",
    "# What information do you need to 100% describe a scenario? We certainly need to know what step \n",
    "# we're on - that's where i comes in. What about the color of your socks? \n",
    "# Standing on the 5th step with green socks is technically a different state than standing on the 5th step with red socks,\n",
    "# but it doesn't change the cost of the steps, or anything relevant.\n",
    "\n",
    "# Therefore, let's have a function dp(i) that returns the minimum cost to climb the stairs up to the ithith step - i.e. \n",
    "# if the input was the subarray from index 0 up to and including i."
   ]
  },
  {
   "cell_type": "code",
   "execution_count": 4,
   "id": "29f78970",
   "metadata": {},
   "outputs": [],
   "source": [
    "# 2. A recurrence relation to transition between states\n",
    "# A recurrence relation is an equation used to calculate states. With Fibonacci, the recurrence relation was \n",
    "# Fn=Fn−1+Fn−2\n",
    "\n",
    "# In this problem, let's say we wanted to figure out the minimum cost of climbing to the 100th step.\n",
    "# The problem states that at each step, we are allowed to take one or two steps. That means, to get to the 100th step, \n",
    "# we must have arrived from the 99th or 98th step. Therefore, the minimum cost of climbing to the 100th step is \n",
    "# either the minimum cost of getting to the 99th step + the cost of the 99th step, or the minimum cost of getting \n",
    "# to the 98th step + the cost of the 98th step.\n",
    "\n",
    "# dp(100) = min(dp(99) + cost[99], dp(98) + cost[98])"
   ]
  },
  {
   "cell_type": "code",
   "execution_count": 5,
   "id": "27ea8910",
   "metadata": {},
   "outputs": [],
   "source": [
    "# Because of how we defined dp in the previous step, dp(99) gives us the minimum cost of getting to the \n",
    "# 99th step, and dp(98) gives us the minimum cost of getting to the 98th step.\n",
    "\n",
    "# Or more generally:\n",
    "\n",
    "# dp(i) = min(dp(i - 1) + cost[i - 1], dp(i - 2) + cost[i - 2])\n",
    "\n",
    "# Which is the recurrence relation of this problem. \n",
    "# Typically, finding the recurrence relation is the hardest part of constructing a DP algorithm. \n",
    "# This one is relatively straightforward, but we'll see later that recurrence relations can be much more complicated."
   ]
  },
  {
   "cell_type": "code",
   "execution_count": null,
   "id": "5202a942",
   "metadata": {},
   "outputs": [],
   "source": [
    "# 3. Base cases\n",
    "# The recurrence relation is useless on its own. We still can't figure out dp(100) because we don't know dp(99) or dp(98). \n",
    "# If we try to find them, we have the same problem - how can we know dp(98) if we don't know dp(97) or dp(96)? \n",
    "# By itself, the recurrence relation will continue forever until dp(-infinity).\n",
    "\n",
    "# We need base cases so that our function eventually returns actual values. \n",
    "# The problem states that we can start at steps 0 or 1. Therefore, the base cases are:\n",
    "\n",
    "# dp(0) = dp(1) = 0\n",
    "\n",
    "# With these base cases, we can find dp(2). With dp(2), we can find dp(3), \n",
    "# and so on until we have dp(98) and dp(99), then we can finally find dp(100)."
   ]
  },
  {
   "cell_type": "code",
   "execution_count": 2,
   "id": "34ec0a3f",
   "metadata": {},
   "outputs": [],
   "source": [
    "#Top Down Approach\n",
    "class Solution:\n",
    "    def minCostClimbingStairs(self, cost) -> int:\n",
    "        # 1. A function that returns the answer\n",
    "        def dp(i):\n",
    "            if i <= 1:\n",
    "                # 3. Base cases\n",
    "                return 0\n",
    "            \n",
    "            if i in memo:\n",
    "                return memo[i]\n",
    "            \n",
    "            # 2. Recurrence relation\n",
    "            memo[i] = min(dp(i - 1) + cost[i - 1], dp(i - 2) + cost[i - 2])\n",
    "            return memo[i]\n",
    "        \n",
    "        memo = {}\n",
    "        return dp(len(cost))\n",
    "    \n"
   ]
  },
  {
   "cell_type": "code",
   "execution_count": 4,
   "id": "43e5235c",
   "metadata": {},
   "outputs": [
    {
     "data": {
      "text/plain": [
       "6"
      ]
     },
     "execution_count": 4,
     "metadata": {},
     "output_type": "execute_result"
    }
   ],
   "source": [
    "cost = [1,100,1,1,1,100,1,1,100,1]\n",
    "Solution().minCostClimbingStairs(cost)"
   ]
  },
  {
   "cell_type": "code",
   "execution_count": null,
   "id": "169a0b08",
   "metadata": {},
   "outputs": [],
   "source": []
  },
  {
   "cell_type": "code",
   "execution_count": 3,
   "id": "d47d306f",
   "metadata": {},
   "outputs": [],
   "source": [
    "#Bottom Up approach using arrays\n",
    "class Solution:\n",
    "    def minCostClimbingStairs(self, cost) -> int:\n",
    "        n = len(cost)\n",
    "        # Step 2\n",
    "        dp = [0] * (n + 1)\n",
    "        \n",
    "        # Step 3: Base cases are implicitly defined as they are 0\n",
    "\n",
    "        # Step 4\n",
    "        for i in range(2, n + 1):\n",
    "            # Step 5\n",
    "            dp[i] = min(dp[i - 1] + cost[i - 1], dp[i - 2] + cost[i - 2])\n",
    "        \n",
    "        # Step 6\n",
    "        return dp[n]"
   ]
  },
  {
   "cell_type": "markdown",
   "id": "ee144c3e",
   "metadata": {},
   "source": [
    "#### House Robber"
   ]
  },
  {
   "cell_type": "markdown",
   "id": "170811af",
   "metadata": {},
   "source": [
    "The second characteristic is usually what differentiates greedy and DP. The idea behind greedy is that local decisions do not affect other decisions. Let's say we had nums = [2,7,9,3,1], and we wanted to be greedy. Iterating along the array, the first decision is to take the 2 or the 7, since we can't have both. If we were greedy, we would take the 7. However, now we can no longer take the 9. In fact, the optimal answer involves taking 2, 9, 1. As you can see, being greedy in our decisions affected future decisions which lead us to the wrong answer."
   ]
  },
  {
   "cell_type": "code",
   "execution_count": 5,
   "id": "d053c734",
   "metadata": {},
   "outputs": [],
   "source": [
    "# You are planning to rob houses along a street. The ith house has nums[i] money. \n",
    "# If you rob two houses beside each other, the alarm system will trigger and alert the police. \n",
    "# What is the most money you can rob without alerting the police?"
   ]
  },
  {
   "cell_type": "code",
   "execution_count": 6,
   "id": "965bd24b",
   "metadata": {},
   "outputs": [],
   "source": [
    "cost = [2,7,9,3,1]\n"
   ]
  },
  {
   "cell_type": "code",
   "execution_count": 7,
   "id": "5506d0aa",
   "metadata": {},
   "outputs": [],
   "source": [
    "# think of dp function --> input is just the current step, \n",
    "\n",
    "# recurrence relation --> top-down: \n",
    "\n",
    "# condition 1: you have a chance to rob last house only if you haven't robbed house before \n",
    "# condition 2: if not at the last house : you will rob this house , if the next house house has smaller value \n",
    "# and you haven't robbed the house next to this one\n",
    "\n",
    "# base case --> if at the 0th index house you will rob if you haven't robbed house next to it\n",
    "\n"
   ]
  },
  {
   "cell_type": "code",
   "execution_count": 8,
   "id": "bcf46c57",
   "metadata": {},
   "outputs": [],
   "source": [
    "def minCostClimbingStairs(cost) -> int:\n",
    "        # 1. A function that returns the answer\n",
    "        def dp(i):\n",
    "            if i <= 1:\n",
    "                # 3. Base cases                \n",
    "                \n",
    "                return 0            \n",
    "            \n",
    "            if i in memo:\n",
    "                return memo[i]              \n",
    "            \n",
    "            # 2. Recurrence relation            \n",
    "            memo[i] = max(dp(i - 1) + cost[i - 1], dp(i - 2) + cost[i - 2])\n",
    "            \n",
    "            return memo[i]\n",
    "        \n",
    "        memo = {}\n",
    "        return dp(len(cost))"
   ]
  },
  {
   "cell_type": "code",
   "execution_count": 10,
   "id": "f7545134",
   "metadata": {},
   "outputs": [
    {
     "data": {
      "text/plain": [
       "20"
      ]
     },
     "execution_count": 10,
     "metadata": {},
     "output_type": "execute_result"
    }
   ],
   "source": [
    "cost = [2,7,9,3,1]\n",
    "minCostClimbingStairs(cost)"
   ]
  },
  {
   "cell_type": "markdown",
   "id": "132bce4b",
   "metadata": {},
   "source": [
    "#### Climbing Stairs"
   ]
  },
  {
   "cell_type": "markdown",
   "id": "934881fe",
   "metadata": {},
   "source": [
    "You are climbing a staircase. It takes n steps to reach the top.\n",
    "\n",
    "Each time you can either climb 1 or 2 steps. In how many distinct ways can you climb to the top?"
   ]
  },
  {
   "cell_type": "code",
   "execution_count": 11,
   "id": "907fc185",
   "metadata": {},
   "outputs": [],
   "source": [
    "# Example 1:\n",
    "# Input: n = 2\n",
    "# Output: 2\n",
    "# Explanation: There are two ways to climb to the top.\n",
    "# 1. 1 step + 1 step\n",
    "# 2. 2 steps\n",
    "\n",
    "# Example 2:\n",
    "# Input: n = 3\n",
    "# Output: 3\n",
    "# Explanation: There are three ways to climb to the top.\n",
    "# 1. 1 step + 1 step + 1 step\n",
    "# 2. 1 step + 2 steps\n",
    "# 3. 2 steps + 1 step"
   ]
  },
  {
   "cell_type": "code",
   "execution_count": null,
   "id": "0c67d0aa",
   "metadata": {},
   "outputs": [],
   "source": []
  }
 ],
 "metadata": {
  "kernelspec": {
   "display_name": "Python 3 (ipykernel)",
   "language": "python",
   "name": "python3"
  },
  "language_info": {
   "codemirror_mode": {
    "name": "ipython",
    "version": 3
   },
   "file_extension": ".py",
   "mimetype": "text/x-python",
   "name": "python",
   "nbconvert_exporter": "python",
   "pygments_lexer": "ipython3",
   "version": "3.9.12"
  },
  "toc": {
   "base_numbering": 1,
   "nav_menu": {},
   "number_sections": true,
   "sideBar": true,
   "skip_h1_title": false,
   "title_cell": "Table of Contents",
   "title_sidebar": "Contents",
   "toc_cell": false,
   "toc_position": {},
   "toc_section_display": true,
   "toc_window_display": false
  },
  "varInspector": {
   "cols": {
    "lenName": 16,
    "lenType": 16,
    "lenVar": 40
   },
   "kernels_config": {
    "python": {
     "delete_cmd_postfix": "",
     "delete_cmd_prefix": "del ",
     "library": "var_list.py",
     "varRefreshCmd": "print(var_dic_list())"
    },
    "r": {
     "delete_cmd_postfix": ") ",
     "delete_cmd_prefix": "rm(",
     "library": "var_list.r",
     "varRefreshCmd": "cat(var_dic_list()) "
    }
   },
   "types_to_exclude": [
    "module",
    "function",
    "builtin_function_or_method",
    "instance",
    "_Feature"
   ],
   "window_display": false
  }
 },
 "nbformat": 4,
 "nbformat_minor": 5
}
