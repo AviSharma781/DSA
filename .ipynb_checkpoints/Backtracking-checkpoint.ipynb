{
 "cells": [
  {
   "cell_type": "code",
   "execution_count": 2,
   "id": "74bb6852",
   "metadata": {},
   "outputs": [],
   "source": [
    "import pandas as pd\n",
    "import numpy as np"
   ]
  },
  {
   "cell_type": "markdown",
   "id": "2429b75f",
   "metadata": {},
   "source": [
    "#### "
   ]
  },
  {
   "cell_type": "markdown",
   "id": "4ca10546",
   "metadata": {},
   "source": [
    "#### "
   ]
  },
  {
   "cell_type": "markdown",
   "id": "ca83dd9f",
   "metadata": {},
   "source": [
    "#### "
   ]
  },
  {
   "cell_type": "markdown",
   "id": "8f79f651",
   "metadata": {},
   "source": [
    "#### "
   ]
  },
  {
   "cell_type": "markdown",
   "id": "fda7f619",
   "metadata": {},
   "source": [
    "Backtracking is an optimization that involves abandoning a \"path\" once it is determined that the path cannot lead to a solution. The idea is similar to binary search trees - if you're looking for a value x, and the root node has a value greater than x, then you know you can ignore the entire right subtree. Because the number of nodes in each subtree is exponential relative to the depth, backtracking can save huge amounts of computation. "
   ]
  },
  {
   "cell_type": "markdown",
   "id": "7ca06bb9",
   "metadata": {},
   "source": [
    "Abandoning a path is also sometimes called \"pruning\".\n",
    "To summarize the difference between exhaustive search and backtracking:\n",
    "In an exhaustive search, we generate all possibilities and then check them for solutions. In backtracking, we prune paths that cannot lead to a solution, generating far fewer possibilities.\n"
   ]
  },
  {
   "cell_type": "markdown",
   "id": "baa64229",
   "metadata": {},
   "source": [
    "Backtracking is a great tool whenever a problem wants you to find all of something, or there isn't a clear way to find a solution without checking all logical possibilities. On LeetCode, a strong hint that you should use backtracking is if the input constraints are very small (n <= ~15), as backtracking algorithms usually have exponential time complexities.\n",
    "\n",
    "Unfortunately in an interview, you will not usually be told the constraints, and even if you try to clarify with the interviewer, they will give a vague answer or just tell you to do your best. This is why it's important to build a good intuition for recognizing when to use a certain algorithm."
   ]
  },
  {
   "cell_type": "markdown",
   "id": "2cffdb23",
   "metadata": {},
   "source": [
    "Backtracking is almost always implemented with recursion - it really doesn't make sense to do it iteratively. In most backtracking problems, you will be building something, either directly (like modifying an array) or indirectly (using variables to represent some state). Here is some pseudocode for a general backtracking format:"
   ]
  },
  {
   "cell_type": "code",
   "execution_count": 5,
   "id": "5673d507",
   "metadata": {},
   "outputs": [],
   "source": [
    "#  let curr represent the thing you are building\n",
    "#  it could be an array or a combination of variables\n",
    "\n",
    "# function backtrack(curr) {\n",
    "#     if (base case) {\n",
    "#         Increment or add to answer\n",
    "#         return\n",
    "#     }\n",
    "\n",
    "#     for (iterate over input) {\n",
    "#         Modify curr\n",
    "#         backtrack(curr)\n",
    "#         Undo whatever modification was done to curr\n",
    "#     }\n",
    "# }"
   ]
  },
  {
   "cell_type": "markdown",
   "id": "2c216a29",
   "metadata": {},
   "source": [
    "#### Generations"
   ]
  },
  {
   "cell_type": "code",
   "execution_count": 7,
   "id": "97e1c606",
   "metadata": {},
   "outputs": [],
   "source": [
    "# One common type of problem that can be solved with backtracking are problems that ask \n",
    "# you to generate all of something."
   ]
  },
  {
   "cell_type": "markdown",
   "id": "df971444",
   "metadata": {},
   "source": [
    "##### Permutations"
   ]
  },
  {
   "cell_type": "code",
   "execution_count": null,
   "id": "d757708f",
   "metadata": {},
   "outputs": [],
   "source": [
    "# Example 1: 46. Permutations\n",
    "# Given an array nums of distinct integers, return all the possible permutations in any order.\n",
    "# For example, given nums = [1, 2, 3], return [[1,2,3],[1,3,2],[2,1,3],[2,3,1],[3,1,2],[3,2,1]].\n"
   ]
  },
  {
   "cell_type": "code",
   "execution_count": 3,
   "id": "2756069d",
   "metadata": {},
   "outputs": [
    {
     "data": {
      "text/plain": [
       "([(1, 2, 3), (1, 3, 2), (2, 1, 3), (2, 3, 1), (3, 1, 2), (3, 2, 1)], 6)"
      ]
     },
     "execution_count": 3,
     "metadata": {},
     "output_type": "execute_result"
    }
   ],
   "source": [
    "import itertools\n",
    "from itertools import permutations\n",
    "list(itertools.permutations([1,2,3])), len(list(itertools.permutations([1,2,3])))"
   ]
  },
  {
   "cell_type": "markdown",
   "id": "a8e08454",
   "metadata": {},
   "source": [
    "To build all permutations, we need all elements at the first index, and for each of those elements, we need all other elements at the second index, and so on. Therefore, we should loop over the entire input on each call to backtrack. Because a permutation cannot have duplicates, we should check if a number is already in curr before adding it to curr. Each call to backtrack is like a visit to a node in the tree of possibilities.\n",
    "\n",
    "Think like each call to a function is like a node in a tree"
   ]
  },
  {
   "cell_type": "code",
   "execution_count": 4,
   "id": "d7ed69bd",
   "metadata": {},
   "outputs": [],
   "source": [
    "nums = [1, 2, 3]\n",
    "class Solution:\n",
    "    \n",
    "    def permute(self, nums):\n",
    "        \n",
    "        def backtrack(curr):\n",
    "            \n",
    "            #base case is if you are at a leaf\n",
    "            #On the base case, add curr to the answer and return.            \n",
    "            \n",
    "            if len(curr) == len(nums):\n",
    "                \n",
    "                #try replacing curr[:] with curr, interesting observation\n",
    "                #When adding to the answer, we need to create a copy of curr because \n",
    "                #curr is only a reference to the array's address.\n",
    "                #https://stackoverflow.com/questions/373419/whats-the-difference-between-passing-by-reference-vs-passing-by-value\n",
    "                                \n",
    "                ans.append(curr[:])\n",
    "                return\n",
    "        \n",
    "            for num in nums:\n",
    "\n",
    "                if num not in curr:\n",
    "                    curr.append(num)\n",
    "                    \n",
    "                    #assume the curr as the node and then you backtrack to the leaf by iterating over \n",
    "                    #remaining nodes\n",
    "                    backtrack(curr)\n",
    "                    \n",
    "                    #going back to the parent node\n",
    "                    curr.pop()\n",
    "            \n",
    "            #even if you do not place return here function returns, including here for clarity        \n",
    "            return\n",
    "    \n",
    "            \n",
    "        ans = []\n",
    "        #start with the root\n",
    "        backtrack([])\n",
    "        return ans"
   ]
  },
  {
   "cell_type": "code",
   "execution_count": 5,
   "id": "c866e299",
   "metadata": {},
   "outputs": [
    {
     "data": {
      "text/plain": [
       "[[1, 2, 3], [1, 3, 2], [2, 1, 3], [2, 3, 1], [3, 1, 2], [3, 2, 1]]"
      ]
     },
     "execution_count": 5,
     "metadata": {},
     "output_type": "execute_result"
    }
   ],
   "source": [
    "Solution().permute(nums)"
   ]
  },
  {
   "cell_type": "code",
   "execution_count": 65,
   "id": "1c9cddbe",
   "metadata": {},
   "outputs": [],
   "source": [
    "# [1],call([1]),[1,2], call([1,2]), [1,2,3], call([1,2,3]), return([1,2,3]), goes to call([1,2]), curr becomes[1], \n",
    "# call([1,3]) as num is now 3 in this call, return([1,3,2]), goes to call([1]), [], call([2]),\n",
    "# [2,1], call([2,1]), [2,1,3], call([2,1,3]), return([2,1,3]), goes to call([2,1]), curr becomes [2], call([2,3]) as num is now 2 but \n",
    "# 2 is already there so num becomes 3 and call([2,3]), [2,3,1], return([2,3,1]), goes to call([2]), [], call([3]) and so on.\n",
    "\n"
   ]
  },
  {
   "cell_type": "markdown",
   "id": "41d9eabd",
   "metadata": {},
   "source": [
    "##### Subset"
   ]
  },
  {
   "cell_type": "code",
   "execution_count": 62,
   "id": "1006e54a",
   "metadata": {},
   "outputs": [],
   "source": [
    "# Example 2: 78. Subsets\n",
    "# Given an integer array nums of unique elements, return all subsets in any order without duplicates.\n",
    "# For example, given nums = [1, 2, 3], return [[],[1],[2],[1,2],[3],[1,3],[2,3],[1,2,3]]\n",
    "\n",
    "# list(itertools.product([1, 2, 3]))\n",
    "\n",
    "\n",
    "# In the solution:\n",
    "# This is a very common method of avoiding duplicates in backtracking problems - \n",
    "# having an integer argument that represents a starting point for iteration at each function call."
   ]
  },
  {
   "cell_type": "code",
   "execution_count": null,
   "id": "7401b421",
   "metadata": {},
   "outputs": [],
   "source": [
    "#Think about the base case here: "
   ]
  },
  {
   "cell_type": "code",
   "execution_count": 6,
   "id": "4f34fe9f",
   "metadata": {},
   "outputs": [],
   "source": [
    "nums = [1, 2, 3]\n",
    "\n",
    "class Solution:\n",
    "    def subsets(self, nums) :\n",
    "        \n",
    "        def backtrack(curr, i):\n",
    "            \n",
    "            #base case --> you are at the leaf so you just return \n",
    "            if i > len(nums):\n",
    "                return\n",
    "            \n",
    "\n",
    "            ans.append(curr[:])\n",
    "            \n",
    "            #we only consider the elements that came after the previously added element\n",
    "            for j in range(i, len(nums)):\n",
    "                curr.append(nums[j])\n",
    "                \n",
    "                #moving to child of current node, we got to only those child nodes which come after current node\n",
    "                backtrack(curr, j + 1)\n",
    "                \n",
    "                #going back to the parent node\n",
    "                curr.pop()\n",
    "\n",
    "        ans = []\n",
    "        \n",
    "        #start with the root\n",
    "        backtrack([], 0)\n",
    "        return ans"
   ]
  },
  {
   "cell_type": "code",
   "execution_count": 7,
   "id": "7126c921",
   "metadata": {},
   "outputs": [
    {
     "data": {
      "text/plain": [
       "[[], [1], [1, 2], [1, 2, 3], [1, 3], [2], [2, 3], [3]]"
      ]
     },
     "execution_count": 7,
     "metadata": {},
     "output_type": "execute_result"
    }
   ],
   "source": [
    "Solution().subsets(nums)"
   ]
  },
  {
   "cell_type": "code",
   "execution_count": 8,
   "id": "33e724a7",
   "metadata": {},
   "outputs": [
    {
     "ename": "NameError",
     "evalue": "name 'call' is not defined",
     "output_type": "error",
     "traceback": [
      "\u001b[1;31m---------------------------------------------------------------------------\u001b[0m",
      "\u001b[1;31mNameError\u001b[0m                                 Traceback (most recent call last)",
      "Input \u001b[1;32mIn [8]\u001b[0m, in \u001b[0;36m<cell line: 1>\u001b[1;34m()\u001b[0m\n\u001b[1;32m----> 1\u001b[0m ans \u001b[38;5;241m=\u001b[39m [[]],[\u001b[38;5;241m1\u001b[39m], \u001b[43mcall\u001b[49m([\u001b[38;5;241m1\u001b[39m],\u001b[38;5;241m1\u001b[39m) , [[],[\u001b[38;5;241m1\u001b[39m]],[\u001b[38;5;241m1\u001b[39m,\u001b[38;5;241m2\u001b[39m], call([\u001b[38;5;241m1\u001b[39m,\u001b[38;5;241m2\u001b[39m],\u001b[38;5;241m2\u001b[39m), [[],[\u001b[38;5;241m1\u001b[39m],[\u001b[38;5;241m1\u001b[39m,\u001b[38;5;241m2\u001b[39m]],[\u001b[38;5;241m1\u001b[39m,\u001b[38;5;241m2\u001b[39m,\u001b[38;5;241m3\u001b[39m],call([\u001b[38;5;241m1\u001b[39m,\u001b[38;5;241m2\u001b[39m,\u001b[38;5;241m3\u001b[39m], \u001b[38;5;241m3\u001b[39m),\n",
      "\u001b[1;31mNameError\u001b[0m: name 'call' is not defined"
     ]
    }
   ],
   "source": [
    "ans = [[]],[1], call([1],1) , [[],[1]],[1,2], call([1,2],2), [[],[1],[1,2]],[1,2,3],call([1,2,3], 3), "
   ]
  },
  {
   "cell_type": "code",
   "execution_count": null,
   "id": "55e0687f",
   "metadata": {},
   "outputs": [],
   "source": []
  },
  {
   "cell_type": "code",
   "execution_count": null,
   "id": "2cce699b",
   "metadata": {},
   "outputs": [],
   "source": []
  },
  {
   "cell_type": "markdown",
   "id": "459cd164",
   "metadata": {},
   "source": [
    "##### Combinations"
   ]
  },
  {
   "cell_type": "code",
   "execution_count": 84,
   "id": "264e652a",
   "metadata": {},
   "outputs": [],
   "source": [
    "# Example 3: 77. Combinations\n",
    "# Given two integers n and k, return all combinations of k numbers out of the range [1, n] in any order.\n",
    "# For example, given n = 4, k = 2, return [[2,4],[3,4],[2,3],[1,2],[1,3],[1,4]].\n"
   ]
  },
  {
   "cell_type": "code",
   "execution_count": 9,
   "id": "e24e5e25",
   "metadata": {},
   "outputs": [
    {
     "data": {
      "text/plain": [
       "[[1, 2], [1, 3], [2, 3]]"
      ]
     },
     "execution_count": 9,
     "metadata": {},
     "output_type": "execute_result"
    }
   ],
   "source": [
    "n, k = 3, 2\n",
    "nums = list(range(1, n+1))\n",
    "\n",
    "def backtrack(curr, i):\n",
    "    \n",
    "    #base case --> if you are at the kth level    \n",
    "    if len(curr)==k:\n",
    "        ans.append(curr[:])\n",
    "        return\n",
    "    \n",
    "    #we only consider the elements that came after the previously added element\n",
    "    for j in range(i, n):\n",
    "        \n",
    "        curr.append(nums[j])        \n",
    "        \n",
    "        #moving to child of current node, we got to only those child nodes which come after current node\n",
    "        backtrack(curr, j+1)        \n",
    "        \n",
    "        #going back to the parent node\n",
    "        curr.pop()\n",
    "        \n",
    "ans = []\n",
    "\n",
    "#start with the root\n",
    "backtrack([],0)\n",
    "ans \n",
    "    \n",
    "    \n",
    "    "
   ]
  },
  {
   "cell_type": "markdown",
   "id": "dd6f5d80",
   "metadata": {},
   "source": [
    "##### Letter Combinations of a Phone Number"
   ]
  },
  {
   "attachments": {
    "image.png": {
     "image/png": "[encoded data removed]"
    }
   },
   "cell_type": "markdown",
   "id": "9a38f9c3",
   "metadata": {},
   "source": [
    "![image.png](attachment:image.png)"
   ]
  },
  {
   "cell_type": "code",
   "execution_count": 1,
   "id": "87a1ca5f",
   "metadata": {},
   "outputs": [],
   "source": [
    "# Input: digits = \"23\"\n",
    "# Output: [\"ad\",\"ae\",\"af\",\"bd\",\"be\",\"bf\",\"cd\",\"ce\",\"cf\"]\n",
    "\n",
    "# Input: digits = \"\"\n",
    "# Output: []\n",
    "\n",
    "# Input: digits = \"2\"\n",
    "# Output: [\"a\",\"b\",\"c\"]\n",
    "\n",
    "# 0 <= digits.length <= 4"
   ]
  },
  {
   "cell_type": "code",
   "execution_count": 10,
   "id": "dfb519b8",
   "metadata": {},
   "outputs": [
    {
     "name": "stdout",
     "output_type": "stream",
     "text": [
      "['a', ['d', 'e', 'f']] ['ad', 'ae', 'af']\n",
      "['a', ['d', 'e', 'f'], 'a', ['g', 'h', 'i']] ['ad', 'ae', 'af']\n",
      "['a', ['d', 'e', 'f'], 'a', ['g', 'h', 'i'], 'b', ['d', 'e', 'f']] ['ad', 'ae', 'af']\n",
      "['a', ['d', 'e', 'f'], 'a', ['g', 'h', 'i'], 'b', ['d', 'e', 'f'], 'b', ['g', 'h', 'i']] ['ad', 'ae', 'af']\n",
      "['a', ['d', 'e', 'f'], 'a', ['g', 'h', 'i'], 'b', ['d', 'e', 'f'], 'b', ['g', 'h', 'i'], 'c', ['d', 'e', 'f']] ['ad', 'ae', 'af']\n",
      "['a', ['d', 'e', 'f'], 'a', ['g', 'h', 'i'], 'b', ['d', 'e', 'f'], 'b', ['g', 'h', 'i'], 'c', ['d', 'e', 'f'], 'c', ['g', 'h', 'i']] ['ad', 'ae', 'af']\n"
     ]
    },
    {
     "data": {
      "text/plain": [
       "[['ad', 'ae', 'af'],\n",
       " ['ad', 'ae', 'af'],\n",
       " ['ad', 'ae', 'af'],\n",
       " ['ad', 'ae', 'af'],\n",
       " ['ad', 'ae', 'af'],\n",
       " ['ad', 'ae', 'af']]"
      ]
     },
     "execution_count": 10,
     "metadata": {},
     "output_type": "execute_result"
    }
   ],
   "source": [
    "from collections import deque\n",
    "\n",
    "digit_map = {\n",
    "    \n",
    "    '2':['a','b','c'],    \n",
    "    '3':['d','e','f'],\n",
    "    '4':['g','h','i'],\n",
    "    '5':['j','k','l'],\n",
    "    '6':['m','n','o'],\n",
    "    '7':['p','q','r','s'],\n",
    "    '8':['t','u','v'],\n",
    "    '9':['w','x','y','z']\n",
    "}\n",
    "\n",
    "digits ='234'\n",
    "input_lst = []\n",
    "\n",
    "for i in digits:\n",
    "    input_lst.append(digit_map[i])\n",
    "        \n",
    "k = len(digits)\n",
    "\n",
    "ans = []\n",
    "\n",
    "def backtrack(final_ans, i):\n",
    "    \n",
    "    if len(final_ans) == k:\n",
    "        ans.append(final_ans[:])\n",
    "        return\n",
    "    \n",
    "    if i < len(input_lst)-1:\n",
    "        curr_nodes = input_lst[i]\n",
    "        \n",
    "    else:\n",
    "        return    \n",
    "    curr = []\n",
    "    for s in curr_nodes:                \n",
    "        for j in range(i+1, len(input_lst)):        \n",
    "            \n",
    "            curr.append(s) \n",
    "            curr.append(input_lst[j]) \n",
    "            \n",
    "            \n",
    "            final_ans = []\n",
    "            \n",
    "            for x in range(len(curr[1])):\n",
    "                [final_ans.append(curr[0]+y) for y in curr[1][x]]\n",
    "            print(curr, final_ans)\n",
    "            \n",
    "            backtrack(final_ans, j+1)\n",
    "            \n",
    "            for _ in range(len(final_ans)):\n",
    "                final_ans.pop()\n",
    "            \n",
    "    \n",
    "    \n",
    "backtrack([],0)\n",
    "\n",
    "# final_ans = []\n",
    "# for i in range(len(ans)):\n",
    "#     [final_ans.append(ans[i][0]+j) for j in  ans[i][1]]  \n",
    "    \n",
    "ans"
   ]
  },
  {
   "cell_type": "code",
   "execution_count": 11,
   "id": "2fcbb254",
   "metadata": {},
   "outputs": [],
   "source": [
    "class Solution:\n",
    "    def letterCombinations(self, digits):\n",
    "        # If the input is empty, immediately return an empty answer array\n",
    "        if len(digits) == 0:\n",
    "            return []\n",
    "\n",
    "        # Map all the digits to their corresponding letters\n",
    "        letters = {\n",
    "            \"2\": \"abc\",\n",
    "            \"3\": \"def\",\n",
    "            \"4\": \"ghi\",\n",
    "            \"5\": \"jkl\",\n",
    "            \"6\": \"mno\",\n",
    "            \"7\": \"pqrs\",\n",
    "            \"8\": \"tuv\",\n",
    "            \"9\": \"wxyz\",\n",
    "        }\n",
    "\n",
    "        def backtrack(index, path):\n",
    "            # If the path is the same length as digits, we have a complete combination\n",
    "            if len(path) == len(digits):\n",
    "                combinations.append(\"\".join(path))\n",
    "                return  # Backtrack\n",
    "\n",
    "            # Get the letters that the current digit maps to, and loop through them\n",
    "            possible_letters = letters[digits[index]]\n",
    "            for letter in possible_letters:\n",
    "                # Add the letter to our current path\n",
    "                path.append(letter)\n",
    "                # Move on to the next digit\n",
    "                backtrack(index + 1, path)\n",
    "                # Backtrack by removing the letter before moving onto the next\n",
    "                path.pop()\n",
    "\n",
    "        # Initiate backtracking with an empty path and starting index of 0\n",
    "        combinations = []\n",
    "        backtrack(0, [])\n",
    "        return combinations"
   ]
  },
  {
   "cell_type": "code",
   "execution_count": 12,
   "id": "ee0b4040",
   "metadata": {},
   "outputs": [
    {
     "data": {
      "text/plain": [
       "['aw', 'ax', 'ay', 'az', 'bw', 'bx', 'by', 'bz', 'cw', 'cx', 'cy', 'cz']"
      ]
     },
     "execution_count": 12,
     "metadata": {},
     "output_type": "execute_result"
    }
   ],
   "source": [
    "digits = '29'\n",
    "Solution().letterCombinations(digits)"
   ]
  },
  {
   "cell_type": "code",
   "execution_count": null,
   "id": "696c5e69",
   "metadata": {},
   "outputs": [],
   "source": []
  },
  {
   "cell_type": "markdown",
   "id": "e7040f99",
   "metadata": {},
   "source": [
    "#### More constrained backtracking"
   ]
  },
  {
   "cell_type": "markdown",
   "id": "3b769b84",
   "metadata": {},
   "source": [
    "##### Combination Sum"
   ]
  },
  {
   "cell_type": "markdown",
   "id": "325ff17a",
   "metadata": {},
   "source": [
    "Given an array of distinct positive integers candidates and a target integer target, return a list of all unique combinations of candidates where the chosen numbers sum to target. The same number may be chosen from candidates an unlimited number of times. Two combinations are unique if the frequency of at least one of the chosen numbers is different."
   ]
  },
  {
   "cell_type": "code",
   "execution_count": 3,
   "id": "39998e4d",
   "metadata": {},
   "outputs": [],
   "source": [
    "class Solution:\n",
    "    def combinationSum(self, candidates, target):\n",
    "        \n",
    "        def backtrack(path, start, curr):\n",
    "            if curr == target:\n",
    "                ans.append(path[:])\n",
    "                return\n",
    "\n",
    "            for i in range(start, len(candidates)):\n",
    "                num = candidates[i]\n",
    "                if curr + num <= target:\n",
    "                    path.append(num)\n",
    "                    backtrack(path, i, curr + num)\n",
    "                    path.pop()     \n",
    "        \n",
    "        ans = []\n",
    "        backtrack([], 0, 0)\n",
    "        return ans"
   ]
  },
  {
   "cell_type": "markdown",
   "id": "34d7a389",
   "metadata": {},
   "source": [
    "##### Combination Sum 2"
   ]
  },
  {
   "cell_type": "code",
   "execution_count": 113,
   "id": "41dc0298",
   "metadata": {},
   "outputs": [],
   "source": [
    "# https://leetcode.com/problems/combination-sum-ii/editorial/"
   ]
  },
  {
   "cell_type": "markdown",
   "id": "24be4565",
   "metadata": {},
   "source": [
    "Given a collection of candidate numbers (candidates),this might have duplicate elements unlike in the previous question, and a target number (target), find all unique combinations in candidates where the candidate numbers sum to target.\n",
    "\n",
    "Each number in candidates may only be used once in the combination.\n",
    "\n",
    "Note: The solution set must not contain duplicate combinations."
   ]
  },
  {
   "cell_type": "code",
   "execution_count": null,
   "id": "c17810fc",
   "metadata": {},
   "outputs": [],
   "source": [
    "# Input: candidates = [10,1,2,7,6,1,5], target = 8\n",
    "# Output: \n",
    "# [[1,1,6],\n",
    "# [1,2,5],\n",
    "# [1,7],\n",
    "# [2,6]]\n",
    "\n",
    "# Example 2:\n",
    "\n",
    "# Input: candidates = [2,5,2,1,2], target = 5\n",
    "# Output: \n",
    "# [\n",
    "# [1,2,2],\n",
    "# [5]\n",
    "# ]\n"
   ]
  },
  {
   "cell_type": "code",
   "execution_count": null,
   "id": "5fa2d745",
   "metadata": {},
   "outputs": [],
   "source": [
    "#TLE\n",
    "\n",
    "class Solution:\n",
    "    def combinationSum2(self, candidates: List[int], target: int) -> List[List[int]]:\n",
    "        def backtrack(path, start, curr):\n",
    "            if curr == target:\n",
    "                solution = sorted(path[:]) #without this + next line you will get repetition\n",
    "                if solution not in ans:\n",
    "                    ans.append(solution)                \n",
    "                return\n",
    "\n",
    "            for i in range(start, len(candidates)):\n",
    "                num = candidates[i]\n",
    "                if curr + num <=target:\n",
    "                    path.append(num)\n",
    "                    backtrack(path, i+1, curr + num)\n",
    "                    path.pop()\n",
    "        ans = []\n",
    "        backtrack([],0,0) \n",
    "        return ans"
   ]
  },
  {
   "cell_type": "code",
   "execution_count": null,
   "id": "3fd3e5c6",
   "metadata": {},
   "outputs": [],
   "source": [
    "#Note: This doesnt work\n",
    "# if curr == target:\n",
    "#                 solution = set(path[:]) #without this + next line you will get repetition\n",
    "#                 check = 0\n",
    "#                 for k in ans:\n",
    "#                     if solution ==set(k): check=1\n",
    "#                 if check==0:\n",
    "#                     ans.append(path[:]) \n",
    "\n",
    "#this is becoz: [1,1,1,2] and [1,2,2] are valid solution for sum = 5, but their set are same ie (1,2)\n",
    "                                   "
   ]
  },
  {
   "cell_type": "code",
   "execution_count": 18,
   "id": "d12d9a39",
   "metadata": {},
   "outputs": [
    {
     "data": {
      "text/plain": [
       "[[1, 2, 1], [1, 1, 2]]"
      ]
     },
     "execution_count": 18,
     "metadata": {},
     "output_type": "execute_result"
    }
   ],
   "source": [
    "#Sorting solution\n",
    "def remove_duplicates(list_of_lists):\n",
    "    # Convert each inner list to a tuple and add to a set for uniqueness\n",
    "    unique_lists = list(set(tuple(inner_list) for inner_list in list_of_lists))\n",
    "    # Convert each tuple back to a list\n",
    "    return [list(inner_list) for inner_list in unique_lists]\n",
    "remove_duplicates([[1,2,1], [1,1,2]])\n"
   ]
  },
  {
   "cell_type": "code",
   "execution_count": 20,
   "id": "cbbe2bed",
   "metadata": {},
   "outputs": [
    {
     "name": "stdout",
     "output_type": "stream",
     "text": [
      "Unique list of lists based on combinations (order preserved):\n",
      "[1, 2, 3]\n",
      "[1, 1, 2]\n",
      "[4, 5, 6]\n",
      "[7, 8, 9]\n",
      "[1, 2, 2, 3]\n"
     ]
    }
   ],
   "source": [
    "from collections import Counter\n",
    "\n",
    "def remove_combination_duplicates(list_of_lists):\n",
    "    \"\"\"\n",
    "    Remove duplicates from a list of lists where duplicates have the same combination\n",
    "    of elements regardless of their order.\n",
    "\n",
    "    Args:\n",
    "        list_of_lists (List[List[Any]]): The input list of lists.\n",
    "\n",
    "    Returns:\n",
    "        List[List[Any]]: A list of lists with duplicates removed based on element combinations.\n",
    "    \"\"\"\n",
    "    seen = set()\n",
    "    unique = []\n",
    "    \n",
    "    for lst in list_of_lists:\n",
    "        # Create a frozenset of the element counts to serve as a unique key\n",
    "        key = frozenset(Counter(lst).items())\n",
    "        \n",
    "        if key not in seen:\n",
    "            seen.add(key)\n",
    "            unique.append(lst)\n",
    "    \n",
    "    return unique\n",
    "\n",
    "# Example usage:\n",
    "if __name__ == \"__main__\":\n",
    "    list_of_lists = [\n",
    "        [1, 2, 3],\n",
    "        [3, 2, 1],      # Different permutation, same combination\n",
    "        [1, 1, 2],\n",
    "        [2, 1, 1],      # Different permutation, same combination\n",
    "        [4, 5, 6],\n",
    "        [6, 5, 4],      # Different permutation, same combination\n",
    "        [7, 8, 9],\n",
    "        [9, 8, 7],\n",
    "        [1, 2, 2, 3],\n",
    "        [2, 1, 3, 2]    # Different permutation, same combination\n",
    "    ]\n",
    "    \n",
    "    unique_list_of_lists = remove_combination_duplicates(list_of_lists)\n",
    "    print(\"Unique list of lists based on combinations (order preserved):\")\n",
    "    for lst in unique_list_of_lists:\n",
    "        print(lst)\n"
   ]
  },
  {
   "cell_type": "code",
   "execution_count": 21,
   "id": "e8ad7744",
   "metadata": {},
   "outputs": [
    {
     "data": {
      "text/plain": [
       "frozenset({(1, 3), (2, 1)})"
      ]
     },
     "execution_count": 21,
     "metadata": {},
     "output_type": "execute_result"
    }
   ],
   "source": [
    "\n",
    "frozenset(Counter([1,1,2,1]).items())"
   ]
  },
  {
   "cell_type": "code",
   "execution_count": 24,
   "id": "6dd02a3d",
   "metadata": {},
   "outputs": [
    {
     "data": {
      "text/plain": [
       "3"
      ]
     },
     "execution_count": 24,
     "metadata": {},
     "output_type": "execute_result"
    }
   ],
   "source": [
    "len(np.unique([1,2,3]))"
   ]
  },
  {
   "cell_type": "code",
   "execution_count": null,
   "id": "e81b5867",
   "metadata": {},
   "outputs": [],
   "source": []
  },
  {
   "cell_type": "code",
   "execution_count": null,
   "id": "f22e76f8",
   "metadata": {},
   "outputs": [],
   "source": []
  },
  {
   "cell_type": "code",
   "execution_count": 23,
   "id": "b73103cb",
   "metadata": {},
   "outputs": [
    {
     "name": "stdout",
     "output_type": "stream",
     "text": [
      "1\n",
      "0 1\n",
      "2\n",
      "5\n",
      "6\n",
      "7\n"
     ]
    },
    {
     "data": {
      "text/plain": [
       "[[1, 1, 6], [1, 2, 5], [1, 7], [2, 6]]"
      ]
     },
     "execution_count": 23,
     "metadata": {},
     "output_type": "execute_result"
    }
   ],
   "source": [
    "\n",
    "\n",
    "candidates = sorted([10,1,2,7,6,1,5])\n",
    "target = 8\n",
    "\n",
    "class Solution:\n",
    "    def combinationSum2(self, candidates, target):\n",
    "        \n",
    "        def backtrack(path, start, curr):\n",
    "            if curr == target:\n",
    "                #solution = sorted(path[:]) #without this + next line you will get repetition\n",
    "                #if solution not in ans:\n",
    "                #ans.append(solution)\n",
    "                ans.append(path[:])\n",
    "                return\n",
    "\n",
    "            for i in range(start, len(candidates)):\n",
    "                num = candidates[i]\n",
    "                if((len(path)==0) & (num in seen)):\n",
    "                    print(len(path), num)\n",
    "                    backtrack(path, i+1, curr)\n",
    "                    break\n",
    "                if curr + num <= target:\n",
    "                    path.append(num)\n",
    "                    backtrack(path, i+1, curr + num)\n",
    "                    if len(path)==1:\n",
    "                        z = path.pop()\n",
    "                        seen.append(z)\n",
    "                        print(z)\n",
    "                    else:\n",
    "                        path.pop()\n",
    "                    \n",
    "            return\n",
    "        \n",
    "        ans = []\n",
    "        seen  = []\n",
    "        backtrack([], 0, 0)\n",
    "        return ans\n",
    "    \n",
    "Solution().combinationSum2(candidates, target)"
   ]
  },
  {
   "cell_type": "code",
   "execution_count": 12,
   "id": "36c105bc",
   "metadata": {},
   "outputs": [
    {
     "data": {
      "text/plain": [
       "10"
      ]
     },
     "execution_count": 12,
     "metadata": {},
     "output_type": "execute_result"
    }
   ],
   "source": [
    "z = candidates.pop()\n",
    "z"
   ]
  },
  {
   "cell_type": "code",
   "execution_count": 31,
   "id": "e264e5fc",
   "metadata": {},
   "outputs": [
    {
     "data": {
      "text/plain": [
       "[1, 1, 2, 5, 6, 7, 10]"
      ]
     },
     "execution_count": 31,
     "metadata": {},
     "output_type": "execute_result"
    }
   ],
   "source": [
    "candidates"
   ]
  },
  {
   "cell_type": "code",
   "execution_count": 114,
   "id": "0048f631",
   "metadata": {},
   "outputs": [],
   "source": [
    "class Solution:\n",
    "    def combinationSum2(self, candidates, target):\n",
    "        answer = []\n",
    "        candidates.sort()\n",
    "        self.backtrack(candidates, target, 0, [], answer)\n",
    "        return answer\n",
    "\n",
    "    def backtrack(self, candidates, target, totalIdx, path, answer):\n",
    "        if target < 0:\n",
    "            return  # backtracking\n",
    "        if target == 0:\n",
    "            answer.append(path)\n",
    "            return  # end\n",
    "        for i in range(totalIdx, len(candidates)):\n",
    "            if i > totalIdx and candidates[i] == candidates[i - 1]:\n",
    "                continue\n",
    "            self.backtrack(\n",
    "                candidates,\n",
    "                target - candidates[i],\n",
    "                i + 1,\n",
    "                path + [candidates[i]],\n",
    "                answer,\n",
    "            )"
   ]
  },
  {
   "cell_type": "code",
   "execution_count": null,
   "id": "d524ae2c",
   "metadata": {},
   "outputs": [],
   "source": [
    "class Solution:\n",
    "    def combinationSum2(self, candidates: List[int], target: int) -> List[List[int]]:\n",
    "        candidates = sorted(candidates)\n",
    "        def backtrack(path, start, curr):\n",
    "            if curr == target:\n",
    "                #solution = sorted(path[:]) #without this + next line you will get repetition\n",
    "                #if solution not in ans:\n",
    "                #ans.append(solution)\n",
    "                ans.append(path[:])\n",
    "                return\n",
    "\n",
    "            for i in range(start, len(candidates)):\n",
    "                num = candidates[i]\n",
    "                if((len(path)==0) & (num in seen)):\n",
    "                    backtrack(path, i+1, curr) \n",
    "                    break\n",
    "                if curr + num <= target:\n",
    "                    path.append(num)\n",
    "                    backtrack(path, i+1, curr + num)\n",
    "                    if len(path)==1:\n",
    "                        z = path.pop()\n",
    "                        seen.append(z)\n",
    "                        #print(z)\n",
    "                    else:\n",
    "                        path.pop()\n",
    "                    \n",
    "            return\n",
    "        \n",
    "        ans = []\n",
    "        seen  = []\n",
    "        backtrack([], 0, 0)\n",
    "        return ans"
   ]
  },
  {
   "cell_type": "code",
   "execution_count": 25,
   "id": "87fd49ee",
   "metadata": {},
   "outputs": [],
   "source": [
    "#try to see with an example like [1,1,1,1,3] and target =5\n",
    "class Solution:\n",
    "    def combinationSum2(self, candidates, target):\n",
    "        answer = []\n",
    "        candidates.sort()\n",
    "        self.backtrack(candidates, target, 0, [], answer)\n",
    "        return answer\n",
    "\n",
    "    def backtrack(self, candidates, target, totalIdx, path, answer):\n",
    "        if target < 0:\n",
    "            return  # backtracking\n",
    "        if target == 0:\n",
    "            answer.append(path)\n",
    "            return  # end\n",
    "        \n",
    "        for i in range(totalIdx, len(candidates)):\n",
    "            \n",
    "            if i > totalIdx and candidates[i] == candidates[i - 1]:\n",
    "                continue\n",
    "            self.backtrack(\n",
    "                candidates,\n",
    "                target - candidates[i],\n",
    "                i + 1,\n",
    "                path + [candidates[i]],\n",
    "                answer,\n",
    "            ) "
   ]
  },
  {
   "cell_type": "code",
   "execution_count": 27,
   "id": "0ae08b57",
   "metadata": {},
   "outputs": [
    {
     "data": {
      "text/plain": [
       "[[1, 1, 1, 2], [1, 1, 3], [2, 3]]"
      ]
     },
     "execution_count": 27,
     "metadata": {},
     "output_type": "execute_result"
    }
   ],
   "source": [
    "Solution().combinationSum2([1,1,3, 1, 2], 5)"
   ]
  },
  {
   "cell_type": "markdown",
   "id": "ade76a4d",
   "metadata": {},
   "source": [
    "##### Combinations Sum 3"
   ]
  },
  {
   "cell_type": "code",
   "execution_count": 12,
   "id": "0fd44dcb",
   "metadata": {},
   "outputs": [],
   "source": [
    "# https://leetcode.com/problems/combination-sum-iii/description/"
   ]
  },
  {
   "cell_type": "markdown",
   "id": "56d68bcc",
   "metadata": {},
   "source": [
    "Find all valid combinations of k numbers that sum up to n such that the following conditions are true:\n",
    "\n",
    "    Only numbers 1 through 9 are used.\n",
    "    Each number is used at most once.\n",
    "\n",
    "Return a list of all possible valid combinations. The list must not contain the same combination twice, and the combinations may be returned in any order."
   ]
  },
  {
   "cell_type": "code",
   "execution_count": null,
   "id": "8319e0b8",
   "metadata": {},
   "outputs": [],
   "source": [
    "# Example 1:\n",
    "\n",
    "# Input: k = 3, n = 7\n",
    "# Output: [[1,2,4]]\n",
    "# Explanation:\n",
    "# 1 + 2 + 4 = 7\n",
    "# There are no other valid combinations.\n",
    "\n",
    "# Example 2:\n",
    "\n",
    "# Input: k = 3, n = 9\n",
    "# Output: [[1,2,6],[1,3,5],[2,3,4]]\n",
    "# Explanation:\n",
    "# 1 + 2 + 6 = 9\n",
    "# 1 + 3 + 5 = 9\n",
    "# 2 + 3 + 4 = 9\n",
    "# There are no other valid combinations.\n",
    "\n",
    "# Example 3:\n",
    "\n",
    "# Input: k = 4, n = 1\n",
    "# Output: []\n",
    "# Explanation: There are no valid combinations.\n",
    "# Using 4 different numbers in the range [1,9], the smallest sum we can get is 1+2+3+4 = 10 and since 10 > 1, there are no valid combination.\n"
   ]
  },
  {
   "cell_type": "code",
   "execution_count": null,
   "id": "407ee194",
   "metadata": {},
   "outputs": [],
   "source": []
  },
  {
   "cell_type": "code",
   "execution_count": 108,
   "id": "170e0b85",
   "metadata": {},
   "outputs": [],
   "source": [
    "from typing import List\n",
    "class Solution:\n",
    "    def combinationSum3(self, k: int, n: int) -> List[List[int]]:\n",
    "        \n",
    "        candidates = list(range(1, 10))\n",
    "        \n",
    "        def backtrack(path, curr, start):\n",
    "            \n",
    "            if ((curr == n) & len(path[:])==k):\n",
    "                ans.append(path[:])\n",
    "                return\n",
    "            \n",
    "            for i in range(start, 9):\n",
    "                num = candidates[i]\n",
    "                \n",
    "                #print(i, curr, num)\n",
    "                \n",
    "                if ((curr + num)<= n) :\n",
    "                    path.append(num)\n",
    "                    \n",
    "                    backtrack(path, start+1, curr + num)\n",
    "                    path.pop()\n",
    "                \n",
    "                if len(path[:])>=k:\n",
    "                    path.pop()\n",
    "                    path.append(num)\n",
    "                    #print(path[:])\n",
    "                    backtrack(path, start +1, curr + num)\n",
    "                \n",
    "            return\n",
    "                \n",
    "        ans = []\n",
    "        backtrack([], 0, 0)\n",
    "        return ans"
   ]
  },
  {
   "cell_type": "code",
   "execution_count": 109,
   "id": "f600e55a",
   "metadata": {},
   "outputs": [
    {
     "data": {
      "text/plain": [
       "[]"
      ]
     },
     "execution_count": 109,
     "metadata": {},
     "output_type": "execute_result"
    }
   ],
   "source": [
    "k = 3\n",
    "n = 7\n",
    "Solution().combinationSum3(k, n)"
   ]
  },
  {
   "cell_type": "code",
   "execution_count": 111,
   "id": "0ad18998",
   "metadata": {},
   "outputs": [
    {
     "data": {
      "text/plain": [
       "[[1, 2, 4]]"
      ]
     },
     "execution_count": 111,
     "metadata": {},
     "output_type": "execute_result"
    }
   ],
   "source": [
    "class Solution:\n",
    "    def combinationSum3(self, k: int, n: int) -> List[List[int]]:\n",
    "        results = []\n",
    "\n",
    "        def backtrack(remain, comb, next_start):\n",
    "            if remain == 0 and len(comb) == k:\n",
    "                # make a copy of current combination\n",
    "                # Otherwise the combination would be reverted in other branch of backtracking.\n",
    "                results.append(list(comb))\n",
    "                return\n",
    "            elif remain < 0 or len(comb) == k:\n",
    "                # exceed the scope, no need to explore further.\n",
    "                return\n",
    "\n",
    "            # Iterate through the reduced list of candidates.\n",
    "            for i in range(next_start, 9):\n",
    "                comb.append(i + 1)\n",
    "                backtrack(remain - i - 1, comb, i + 1)\n",
    "                # backtrack the current choice\n",
    "                comb.pop()\n",
    "\n",
    "        backtrack(n, [], 0)\n",
    "\n",
    "        return results\n",
    "Solution().combinationSum3(k, n)"
   ]
  },
  {
   "cell_type": "code",
   "execution_count": null,
   "id": "534fcf05",
   "metadata": {},
   "outputs": [],
   "source": [
    "class Solution:\n",
    "    def combinationSum3(self, k: int, n: int) -> List[List[int]]:\n",
    "        nums = list(range(1,10))\n",
    "\n",
    "        ans = []\n",
    "        path = []\n",
    "        curr = 0\n",
    "        def backtrack(path,curr, pos):\n",
    "            \n",
    "            if ((curr==n) and (len(path)==k)):\n",
    "                ans.append(path[:])\n",
    "                return\n",
    "            \n",
    "            for i in range(pos, len(nums)):\n",
    "                num = nums[i]\n",
    "                if curr + num <=n:\n",
    "                    path.append(num)\n",
    "                    backtrack(path, curr + num, i + 1)\n",
    "                    path.pop()\n",
    "            \n",
    "        backtrack(path, 0, 0)\n",
    "        return ans"
   ]
  },
  {
   "cell_type": "code",
   "execution_count": null,
   "id": "9fa45a62",
   "metadata": {},
   "outputs": [],
   "source": []
  },
  {
   "cell_type": "code",
   "execution_count": null,
   "id": "bf03a4aa",
   "metadata": {},
   "outputs": [],
   "source": []
  },
  {
   "cell_type": "markdown",
   "id": "81dd99f2",
   "metadata": {},
   "source": [
    "#### 416 Partition Equal Subset Sum"
   ]
  },
  {
   "cell_type": "code",
   "execution_count": 11,
   "id": "c9d05522",
   "metadata": {},
   "outputs": [],
   "source": [
    "# https://leetcode.com/problems/partition-equal-subset-sum/description/"
   ]
  },
  {
   "cell_type": "markdown",
   "id": "c51bae17",
   "metadata": {},
   "source": [
    "Given an integer array nums, return true if you can partition the array into two subsets such that the sum of the elements in both subsets is equal or false otherwise."
   ]
  },
  {
   "cell_type": "code",
   "execution_count": 6,
   "id": "9ecb4a26",
   "metadata": {},
   "outputs": [],
   "source": [
    "# Example 1:\n",
    "\n",
    "# Input: nums = [1,5,11,5]\n",
    "# Output: true\n",
    "# Explanation: The array can be partitioned as [1, 5, 5] and [11].\n",
    "\n",
    "# Example 2:\n",
    "\n",
    "# Input: nums = [1,2,3,5]\n",
    "# Output: false\n",
    "# Explanation: The array cannot be partitioned into equal sum subsets."
   ]
  },
  {
   "cell_type": "code",
   "execution_count": 8,
   "id": "dfc00db0",
   "metadata": {},
   "outputs": [],
   "source": [
    "# ----------------------------------> for this tried using backtracking TLE"
   ]
  },
  {
   "cell_type": "code",
   "execution_count": 9,
   "id": "00542d8c",
   "metadata": {},
   "outputs": [],
   "source": [
    "nums = [1,5,11,5]\n",
    "\n",
    "from functools import cache \n",
    "class Solution:\n",
    "    def canPartition(self, nums):\n",
    "        \n",
    "        target_sum = sum(nums)\n",
    "        if target_sum%2 !=0:\n",
    "            return False\n",
    "        \n",
    "        else:            \n",
    "            target_sum = target_sum/2            \n",
    "            \n",
    "            def backtrack(curr, i):\n",
    "                \n",
    "                if i > len(nums):\n",
    "                    return\n",
    "                if sum(curr)==target_sum:\n",
    "                    # res = True\n",
    "                    ans.append(curr[:])                        \n",
    "                \n",
    "                for j in range(i, len(nums)):\n",
    "                    if len(ans)>0:\n",
    "                        break\n",
    "                        \n",
    "                    curr.append(nums[j])\n",
    "                    backtrack(curr, j+1)\n",
    "                    curr.pop()\n",
    "\n",
    "            \n",
    "            ans = []   \n",
    "            backtrack([], 0)\n",
    "        \n",
    "        return len(ans)>0"
   ]
  },
  {
   "cell_type": "code",
   "execution_count": 10,
   "id": "a5c470ee",
   "metadata": {},
   "outputs": [
    {
     "data": {
      "text/plain": [
       "True"
      ]
     },
     "execution_count": 10,
     "metadata": {},
     "output_type": "execute_result"
    }
   ],
   "source": [
    "Solution().canPartition(nums)"
   ]
  },
  {
   "cell_type": "code",
   "execution_count": 141,
   "id": "04db5901",
   "metadata": {},
   "outputs": [
    {
     "data": {
      "text/plain": [
       "True"
      ]
     },
     "execution_count": 141,
     "metadata": {},
     "output_type": "execute_result"
    }
   ],
   "source": [
    "from functools import cache \n",
    "class Solution:\n",
    "    def canPartition(self, nums) -> bool:\n",
    "        \n",
    "        target_sum = sum(nums)\n",
    "        if target_sum%2 !=0:\n",
    "            return False\n",
    "        \n",
    "        else:            \n",
    "            target_sum = target_sum/2            \n",
    "        \n",
    "        def subsetSum(A, n, k, lookup):\n",
    " \n",
    "            # return true if the sum becomes 0 (subset found)\n",
    "            if k == 0:\n",
    "                return True\n",
    "        \n",
    "            # base case: no items left, or sum becomes negative\n",
    "            if n < 0 or k < 0:\n",
    "                return False\n",
    "        \n",
    "            # construct a unique key from dynamic elements of the input\n",
    "            key = (n, k)\n",
    "        \n",
    "            # if the subproblem is seen for the first time, solve it and\n",
    "            # store its result in a dictionary\n",
    "            if key not in lookup:\n",
    "        \n",
    "                # Case 1. Include the current item `A[n]` in the subset and recur\n",
    "                # for the remaining items `n-1` with the decreased total `k-A[n]`\n",
    "                include = subsetSum(A, n - 1, k - A[n], lookup)\n",
    "        \n",
    "                # Case 2. Exclude the current item `A[n]` from the subset and recur for\n",
    "                # the remaining items `n-1`\n",
    "                exclude = subsetSum(A, n - 1, k, lookup)\n",
    "        \n",
    "                # assign true if we get subset by including or excluding the current item\n",
    "                lookup[key] = include or exclude\n",
    "        \n",
    "            # return solution to the current subproblem\n",
    "            return lookup[key]  \n",
    "        # create a dictionary to store solutions to subproblems\n",
    "        lookup = {}\n",
    "        return subsetSum(nums, len(nums)-1, target_sum, lookup)\n",
    "    \n",
    "nums = [1,5,11,5]\n",
    "Solution().canPartition(nums)"
   ]
  },
  {
   "cell_type": "code",
   "execution_count": 34,
   "id": "5cf325e8",
   "metadata": {},
   "outputs": [
    {
     "name": "stdout",
     "output_type": "stream",
     "text": [
      "True\n",
      "False\n"
     ]
    }
   ],
   "source": [
    "#This came from ChatGPT, very new thought but this solution is not extendable to the next problem (K equal subsets)\n",
    "\n",
    "def can_partition(nums):\n",
    "    total_sum = sum(nums)\n",
    "    \n",
    "    # If the total sum is odd, it cannot be partitioned into two equal subsets\n",
    "    if total_sum % 2 != 0:\n",
    "        return False\n",
    "    \n",
    "    target = total_sum // 2\n",
    "    \n",
    "    # Create a DP array where dp[i] means we can achieve a subset sum of i\n",
    "    dp = [False] * (target + 1)\n",
    "    dp[0] = True  # Base case: A subset sum of 0 is always achievable\n",
    "    \n",
    "    for num in nums:\n",
    "        # Update the DP array from right to left\n",
    "        for i in range(target, num - 1, -1):\n",
    "            dp[i] = dp[i] or dp[i - num]\n",
    "    \n",
    "    # The answer is whether we can achieve a subset with a sum equal to target\n",
    "    return dp[target]\n",
    "\n",
    "# Example usage:\n",
    "nums = [1, 5, 11, 5]\n",
    "print(can_partition(nums))  # Output: True\n",
    "\n",
    "nums = [1, 2, 0, 9]\n",
    "print(can_partition(nums))  # Output: False"
   ]
  },
  {
   "cell_type": "code",
   "execution_count": null,
   "id": "1eb6100e",
   "metadata": {},
   "outputs": [],
   "source": [
    "#https://www.youtube.com/watch?v=IsvocB5BJhw from NeetCode\n",
    "\n",
    "class Solution:\n",
    "    def canPartition(self, nums: List[int]) -> bool:\n",
    "        if sum(nums)%2:\n",
    "            return False\n",
    "        \n",
    "        dp = set()\n",
    "        dp.add(0)\n",
    "        target = sum(nums)//2\n",
    "\n",
    "        for i in range(len(nums)-1, -1, -1):\n",
    "            nextDP = set()\n",
    "            for t in dp:\n",
    "                if (t+nums[i])==target:\n",
    "                    return True\n",
    "                nextDP.add(t+nums[i])\n",
    "                nextDP.add(t)\n",
    "            dp = nextDP\n",
    "        \n",
    "        return True if target in dp else False"
   ]
  },
  {
   "cell_type": "markdown",
   "id": "b3da2c62",
   "metadata": {},
   "source": [
    "#### 698 Partition to K equal subsets"
   ]
  },
  {
   "cell_type": "code",
   "execution_count": 29,
   "id": "3b80477e",
   "metadata": {},
   "outputs": [],
   "source": [
    "# Given an integer array nums and an integer k, return true if it is possible to divide this array into k \n",
    "# non-empty subsets whose sums are all equal.\n",
    "\n",
    "# Input: nums = [4,3,2,3,5,2,1], k = 4\n",
    "# Output: true\n",
    "# Explanation: It is possible to divide it into 4 subsets (5), (1, 4), (2,3), (2,3) with equal sums.\n",
    "\n",
    "# Example 2:\n",
    "\n",
    "# Input: nums = [1,2,3,4], k = 3\n",
    "# Output: false\n",
    "\n"
   ]
  },
  {
   "cell_type": "code",
   "execution_count": 147,
   "id": "ac9d778a",
   "metadata": {},
   "outputs": [],
   "source": [
    "# def canPartitionKSubsets(self, nums: List[int], k: int) -> bool:\n",
    "# \ttotal = sum(nums)\n",
    "\n",
    "# \tif total % k:\n",
    "# \t\treturn False\n",
    "\n",
    "# \treqSum = total // k\n",
    "# \tsubSets = [0] * k\n",
    "# \tnums.sort(reverse = True)\n",
    "\n",
    "# \tdef recurse(i):\n",
    "# \t\tif i == len(nums):    \n",
    "# \t\t\treturn True\n",
    "\n",
    "# \t\tfor j in range(k):\n",
    "# \t\t\tif subSets[j] + nums[i] <= reqSum:\n",
    "# \t\t\t\tsubSets[j] += nums[i]\n",
    "\n",
    "# \t\t\t\tif recurse(i + 1):\n",
    "# \t\t\t\t\treturn True\n",
    "\n",
    "# \t\t\t\tsubSets[j] -= nums[i]\n",
    "\n",
    "# \t\t\t\t# Important line, otherwise function will give TLE\n",
    "# \t\t\t\tif subSets[j] == 0:\n",
    "# \t\t\t\t\tbreak\n",
    "\n",
    "# \t\t\t\t\"\"\"\n",
    "# \t\t\t\tExplanation:\n",
    "# \t\t\t\tIf subSets[j] = 0, it means this is the first time adding values to that subset.\n",
    "# \t\t\t\tIf the backtrack search fails when adding the values to subSets[j] and subSets[j] remains 0, it will also fail for all subSets from subSets[j+1:].\n",
    "# \t\t\t\tBecause we are simply going through the previous recursive tree again for a different j+1 position.\n",
    "# \t\t\t\tSo we can effectively break from the for loop or directly return False.\n",
    "# \t\t\t\t\"\"\"\n",
    "\n",
    "# \t\treturn False\n",
    "\n",
    "# \treturn recurse(0)\n",
    "\n"
   ]
  },
  {
   "cell_type": "code",
   "execution_count": null,
   "id": "ca3c2322",
   "metadata": {},
   "outputs": [],
   "source": [
    "# From Neetcode:\n",
    "# https://www.youtube.com/watch?v=mBk4I0X46oI"
   ]
  },
  {
   "cell_type": "code",
   "execution_count": 148,
   "id": "365171b3",
   "metadata": {},
   "outputs": [],
   "source": [
    "class Solution:\n",
    "    def canPartitionKSubsets(self, nums: List[int], k: int) -> bool:\n",
    "        \n",
    "        if sum(nums) % k:\n",
    "            return False\n",
    "        \n",
    "        nums.sort(reverse = True)\n",
    "        \n",
    "        target  = sum(nums)/k\n",
    "        used = [False]*len(nums) #to keep a track of which values we have already used before\n",
    "        \n",
    "        #arguments of the function below:what index we are at in nums, \n",
    "        #how many partitions are left to be built,\n",
    "        #what is current subset sum of partition we are building right now\n",
    "        \n",
    "        def backtrack(i, k, subsetSum):\n",
    "            if k==0:\n",
    "                return True\n",
    "            if subsetSum == target:\n",
    "                return backtrack(0, k-1, 0) #building new partition so starting at index 0\n",
    "            \n",
    "            for j in range(i, len(nums)):\n",
    "                if j > 0 and not used[j-1] and nums[j]==nums[j-1]:\n",
    "                    continue\n",
    "                \n",
    "                if used[j] or sum(nums) - nums[j]<0:\n",
    "                    continue\n",
    "                \n",
    "                # if ((used[j]) or ((subsetSum + nums[j]) > target)):\n",
    "                #     continue\n",
    "                \n",
    "                # if (subsetSum + nums[j]*int(used[j])) > target:\n",
    "                #     break\n",
    "                \n",
    "                used[j] = True\n",
    "\n",
    "                if backtrack(j+1, k, subsetSum + nums[j]):\n",
    "                    return True\n",
    "                \n",
    "                used[j] = False\n",
    "            return False\n",
    "        \n",
    "        return backtrack(0, k, 0)"
   ]
  },
  {
   "cell_type": "code",
   "execution_count": null,
   "id": "bc252668",
   "metadata": {},
   "outputs": [],
   "source": []
  },
  {
   "cell_type": "code",
   "execution_count": null,
   "id": "3f8cf89b",
   "metadata": {},
   "outputs": [],
   "source": []
  },
  {
   "cell_type": "markdown",
   "id": "a631e753",
   "metadata": {},
   "source": [
    "#### Numbers with same consequitive differencs"
   ]
  },
  {
   "cell_type": "code",
   "execution_count": 13,
   "id": "5bc7fc81",
   "metadata": {},
   "outputs": [],
   "source": [
    "# Given two integers n and k, return an array of all the integers of length n where the difference between\n",
    "# every two consecutive digits is k. You may return the answer in any order.\n",
    "\n",
    "# Note that the integers should not have leading zeros. Integers as 02 and 043 are not allowed.\n",
    "\n",
    " \n",
    "\n",
    "# Example 1:\n",
    "\n",
    "# Input: n = 3, k = 7\n",
    "# Output: [181,292,707,818,929]\n",
    "# Explanation: Note that 070 is not a valid number, because it has leading zeroes.\n",
    "\n",
    "# Example 2:\n",
    "\n",
    "# Input: n = 2, k = 1\n",
    "# Output: [10,12,21,23,32,34,43,45,54,56,65,67,76,78,87,89,98]\n",
    "\n",
    " "
   ]
  },
  {
   "cell_type": "code",
   "execution_count": null,
   "id": "720664b7",
   "metadata": {},
   "outputs": [],
   "source": []
  },
  {
   "cell_type": "code",
   "execution_count": 93,
   "id": "739faa39",
   "metadata": {},
   "outputs": [
    {
     "data": {
      "text/plain": [
       "[181, 292, 707, 818, 929]"
      ]
     },
     "execution_count": 93,
     "metadata": {},
     "output_type": "execute_result"
    }
   ],
   "source": [
    "from collections import defaultdict\n",
    "n, k = 3, 7\n",
    "\n",
    "valid_digits = [1, 2, 3, 4 , 5, 6, 7, 8 ,9 ,0]\n",
    "valid = []\n",
    "\n",
    "def backtrack(path):\n",
    "    if len(path)==n:\n",
    "        valid.append((int(''.join([str(x) for x in path]))))\n",
    "        return\n",
    "    \n",
    "    for i in range(len(valid_digits)):\n",
    "        num = valid_digits[i]\n",
    "        if len(path)==0:\n",
    "            path.append(num)\n",
    "            #print(path)\n",
    "            backtrack(path)\n",
    "            path.pop() #this pop return to the empty list to find the next fresh pair\n",
    "            \n",
    "        else:\n",
    "            if abs(path[-1] - num) == k:\n",
    "            \n",
    "                path.append(num)\n",
    "                \n",
    "                backtrack(path)\n",
    "                \n",
    "                path.pop() #this pop return to the empty list to find the next element\n",
    "\n",
    "\n",
    "backtrack([])\n",
    "valid\n",
    "valid_ans = []\n",
    "for i in range(len(valid)):\n",
    "    if valid[i]>= math.pow(10,n-1):\n",
    "        valid_ans.append(valid[i])\n",
    "valid_ans"
   ]
  },
  {
   "cell_type": "code",
   "execution_count": 95,
   "id": "a857658e",
   "metadata": {},
   "outputs": [],
   "source": [
    "from typing import List\n",
    "class Solution:\n",
    "    def numsSameConsecDiff(self, n: int, k: int) -> List[int]:\n",
    "        #Recursive backtrack to keep finding digits with absolute difference equal to k \n",
    "        #with respect to previous digit added    \n",
    "\n",
    "        valid_digits = [1, 2, 3, 4 , 5, 6, 7, 8 ,9 ,0]\n",
    "        valid = []\n",
    "\n",
    "        def backtrack(path):\n",
    "            #base condition\n",
    "            if len(path)==n:\n",
    "                \n",
    "                valid_number = int(''.join([str(x) for x in path]))\n",
    "                \n",
    "                if valid_number >= math.pow(10, n-1):\n",
    "                    valid.append(valid_number)\n",
    "                return\n",
    "            \n",
    "            for i in range(len(valid_digits)):\n",
    "                num = valid_digits[i]\n",
    "                if len(path)==0:\n",
    "                    path.append(num)\n",
    "                    #print(path)\n",
    "                    backtrack(path)\n",
    "                    path.pop() #this pop return to the empty list to find the next fresh pair\n",
    "                    \n",
    "                else:\n",
    "                    if abs(path[-1] - num) == k:\n",
    "                    \n",
    "                        path.append(num)\n",
    "                        \n",
    "                        backtrack(path)\n",
    "                        \n",
    "                        path.pop() #this pop return to the empty list to find the next element\n",
    "\n",
    "\n",
    "        backtrack([])       \n",
    "        \n",
    "            \n",
    "        \n",
    "        \n",
    "        return valid"
   ]
  },
  {
   "cell_type": "code",
   "execution_count": 86,
   "id": "2851a7a1",
   "metadata": {},
   "outputs": [
    {
     "data": {
      "text/plain": [
       "[181, 292, 707, 818, 929]"
      ]
     },
     "execution_count": 86,
     "metadata": {},
     "output_type": "execute_result"
    }
   ],
   "source": [
    "#no need of this if you append digits together while updating the valid list\n",
    "\n",
    "ans = []\n",
    "for i in valid:\n",
    "    \n",
    "    required_digits = n-1\n",
    "    #z= 0\n",
    "    number = 0\n",
    "    while required_digits>=0:\n",
    "        number += i[required_digits]*math.pow(10,required_digits)\n",
    "\n",
    "        #z +=1\n",
    "        required_digits -=1\n",
    "    ans.append(int(number))\n",
    "    \n",
    "valid_ans = []\n",
    "for i in range(len(ans)):\n",
    "    if ans[i]>= math.pow(10,n-1):\n",
    "        valid_ans.append(ans[i])\n",
    "valid_ans"
   ]
  },
  {
   "cell_type": "code",
   "execution_count": null,
   "id": "c29cb083",
   "metadata": {},
   "outputs": [],
   "source": []
  },
  {
   "cell_type": "markdown",
   "id": "8733652c",
   "metadata": {},
   "source": [
    "#### 2305 Fair Distribution of Cookies"
   ]
  },
  {
   "cell_type": "code",
   "execution_count": 50,
   "id": "79030c02",
   "metadata": {},
   "outputs": [],
   "source": [
    "# You are given an integer array cookies, where cookies[i] denotes the number of cookies in the ith bag. \n",
    "# You are also given an integer k that denotes the number of children to distribute all the bags of cookies\n",
    "# to. All the cookies in the same bag must go to the same child and cannot be split up.\n",
    "\n",
    "# The unfairness of a distribution is defined as the maximum total cookies obtained by a single child in \n",
    "# the distribution.\n",
    "\n",
    "# Return the minimum unfairness of all distributions.\n",
    "\n",
    " \n",
    "\n",
    "# Example 1:\n",
    "\n",
    "# Input: cookies = [8,15,10,20,8], k = 2\n",
    "# Output: 31\n",
    "# Explanation: One optimal distribution is [8,15,8] and [10,20]\n",
    "# - The 1st child receives [8,15,8] which has a total of 8 + 15 + 8 = 31 cookies.\n",
    "# - The 2nd child receives [10,20] which has a total of 10 + 20 = 30 cookies.\n",
    "# The unfairness of the distribution is max(31,30) = 31.\n",
    "# It can be shown that there is no distribution with an unfairness less than 31.\n",
    "\n",
    "# Example 2:\n",
    "\n",
    "# Input: cookies = [6,1,3,2,2,4,1,2], k = 3\n",
    "# Output: 7\n",
    "# Explanation: One optimal distribution is [6,1], [3,2,2], and [4,1,2]\n",
    "# - The 1st child receives [6,1] which has a total of 6 + 1 = 7 cookies.\n",
    "# - The 2nd child receives [3,2,2] which has a total of 3 + 2 + 2 = 7 cookies.\n",
    "# - The 3rd child receives [4,1,2] which has a total of 4 + 1 + 2 = 7 cookies.\n",
    "# The unfairness of the distribution is max(7,7,7) = 7.\n",
    "# It can be shown that there is no distribution with an unfairness less than 7.\n",
    "\n",
    "\n"
   ]
  },
  {
   "cell_type": "code",
   "execution_count": null,
   "id": "4796f326",
   "metadata": {},
   "outputs": [],
   "source": [
    "#Here (Split array largest sum/ Divide Chocolate) Binary Serach solution doesnt help because there \n",
    "#they were supposed to be subarray \n",
    "#here continuity doesn't matter, "
   ]
  },
  {
   "cell_type": "code",
   "execution_count": 116,
   "id": "8ab1bf5b",
   "metadata": {},
   "outputs": [
    {
     "data": {
      "text/plain": [
       "33"
      ]
     },
     "execution_count": 116,
     "metadata": {},
     "output_type": "execute_result"
    }
   ],
   "source": [
    "#tried binary Search solution learnt in previous problems but it fails\n",
    "class Solution:\n",
    "    def splitArray(self, nums: List[int], m: int) -> int:\n",
    "        \n",
    "        def min_subarrays_required(max_sum_allowed: int) -> int:\n",
    "            current_sum = 0\n",
    "            splits_required = 0\n",
    "            \n",
    "            for element in nums:\n",
    "                # Add element only if the sum doesn't exceed max_sum_allowed\n",
    "                if current_sum + element <= max_sum_allowed:\n",
    "                    current_sum += element\n",
    "                else:\n",
    "                    # If the element addition makes sum more than max_sum_allowed\n",
    "                    # Increment the splits required and reset sum\n",
    "                    current_sum = element\n",
    "                    splits_required += 1\n",
    "\n",
    "            # Return the number of subarrays, which is the number of splits + 1\n",
    "            return splits_required + 1\n",
    "        \n",
    "        # Define the left and right boundary of binary search\n",
    "        left = max(nums)\n",
    "        right = sum(nums)\n",
    "        while left <= right:\n",
    "            # Find the mid value\n",
    "            max_sum_allowed = (left + right) // 2\n",
    "            \n",
    "            # Find the minimum splits. If splits_required is less than\n",
    "            # or equal to m move towards left i.e., smaller values\n",
    "            if min_subarrays_required(max_sum_allowed) <= m:\n",
    "                right = max_sum_allowed - 1\n",
    "                minimum_largest_split_sum = max_sum_allowed\n",
    "            else:\n",
    "                # Move towards right if splits_required is more than m\n",
    "                left = max_sum_allowed + 1\n",
    "        \n",
    "        return left\n",
    "Solution().splitArray([8,15,10,20,8], 2)"
   ]
  },
  {
   "cell_type": "code",
   "execution_count": 117,
   "id": "ff2e234a",
   "metadata": {},
   "outputs": [],
   "source": [
    "#here just form combinations making sure atleast k divisions of subarray is possible, and take max sum\n"
   ]
  },
  {
   "cell_type": "code",
   "execution_count": 140,
   "id": "6c8b7901",
   "metadata": {},
   "outputs": [
    {
     "name": "stdout",
     "output_type": "stream",
     "text": [
      "[8] 8 53\n",
      "[8, 15] 23 38\n",
      "[8, 15, 10] 33 28\n",
      "[8, 15, 10, 20] 53 8\n",
      "[8, 15, 10, 8] 41 20\n",
      "[8, 15, 20] 43 18\n",
      "[8, 15, 20, 8] 51 10\n",
      "[8, 15, 8] 31 30\n",
      "[8, 10] 18 43\n",
      "[8, 10, 20] 38 23\n",
      "[8, 10, 20, 8] 46 15\n",
      "[8, 10, 8] 26 35\n",
      "[8, 20] 28 33\n",
      "[8, 20, 8] 36 25\n",
      "[8, 8] 16 45\n",
      "[15] 15 46\n",
      "[15, 10] 25 36\n",
      "[15, 10, 20] 45 16\n",
      "[15, 10, 20, 8] 53 8\n",
      "[15, 10, 8] 33 28\n",
      "[15, 20] 35 26\n",
      "[15, 20, 8] 43 18\n",
      "[15, 8] 23 38\n",
      "[10] 10 51\n",
      "[10, 20] 30 31\n",
      "[10, 20, 8] 38 23\n",
      "[10, 8] 18 43\n",
      "[20] 20 41\n",
      "[20, 8] 28 33\n",
      "[8] 8 53\n"
     ]
    },
    {
     "data": {
      "text/plain": [
       "31"
      ]
     },
     "execution_count": 140,
     "metadata": {},
     "output_type": "execute_result"
    }
   ],
   "source": [
    "#will only work for k =2\n",
    "ans = []\n",
    "cookies, k = [8,15,10,20,8], 2\n",
    "# cookies, k = [6,1,3,2,2,4,1,2], 3\n",
    "n = len(cookies)\n",
    "sum_cookies = sum(cookies)\n",
    "def backtrack(pos, path, max_so_far):\n",
    "    \n",
    "    if (len(path)==(n-k+1)):        \n",
    "        return\n",
    "    \n",
    "    for i in range(pos, n):\n",
    "        \n",
    "        path.append(cookies[i])\n",
    "        current_sum = sum(path)\n",
    "        print(path, current_sum,sum_cookies - current_sum )\n",
    "        max_so_far = max( current_sum, sum_cookies - current_sum )\n",
    "        ans.append(max_so_far)\n",
    "        backtrack(i+1, path, max_so_far)\n",
    "        path.pop()\n",
    "\n",
    "max_so_far = 0\n",
    "ans = []\n",
    "backtrack(0, [], max_so_far)        \n",
    "min(ans)"
   ]
  },
  {
   "cell_type": "code",
   "execution_count": 144,
   "id": "50dd6aaa",
   "metadata": {},
   "outputs": [
    {
     "ename": "TypeError",
     "evalue": "backtrack() missing 1 required positional argument: 'splits_required'",
     "output_type": "error",
     "traceback": [
      "\u001b[1;31m---------------------------------------------------------------------------\u001b[0m",
      "\u001b[1;31mTypeError\u001b[0m                                 Traceback (most recent call last)",
      "Input \u001b[1;32mIn [144]\u001b[0m, in \u001b[0;36m<cell line: 24>\u001b[1;34m()\u001b[0m\n\u001b[0;32m     22\u001b[0m max_so_far \u001b[38;5;241m=\u001b[39m \u001b[38;5;241m0\u001b[39m\n\u001b[0;32m     23\u001b[0m ans \u001b[38;5;241m=\u001b[39m []\n\u001b[1;32m---> 24\u001b[0m \u001b[43mbacktrack\u001b[49m\u001b[43m(\u001b[49m\u001b[38;5;241;43m0\u001b[39;49m\u001b[43m,\u001b[49m\u001b[43m \u001b[49m\u001b[43m[\u001b[49m\u001b[43m]\u001b[49m\u001b[43m,\u001b[49m\u001b[43m \u001b[49m\u001b[43mcookies\u001b[49m\u001b[43m,\u001b[49m\u001b[43m \u001b[49m\u001b[43mk\u001b[49m\u001b[43m)\u001b[49m\n",
      "Input \u001b[1;32mIn [144]\u001b[0m, in \u001b[0;36mbacktrack\u001b[1;34m(pos, path, nums, splits_required)\u001b[0m\n\u001b[0;32m     12\u001b[0m \u001b[38;5;28;01mfor\u001b[39;00m i \u001b[38;5;129;01min\u001b[39;00m \u001b[38;5;28mrange\u001b[39m(pos, n):\n\u001b[0;32m     14\u001b[0m     path\u001b[38;5;241m.\u001b[39mappend(cookies[i])\n\u001b[1;32m---> 19\u001b[0m     \u001b[43mbacktrack\u001b[49m\u001b[43m(\u001b[49m\u001b[43mi\u001b[49m\u001b[38;5;241;43m+\u001b[39;49m\u001b[38;5;241;43m1\u001b[39;49m\u001b[43m,\u001b[49m\u001b[43m \u001b[49m\u001b[43mpath\u001b[49m\u001b[43m,\u001b[49m\u001b[43m \u001b[49m\u001b[43mmax_so_far\u001b[49m\u001b[43m)\u001b[49m\n\u001b[0;32m     20\u001b[0m     path\u001b[38;5;241m.\u001b[39mpop()\n",
      "\u001b[1;31mTypeError\u001b[0m: backtrack() missing 1 required positional argument: 'splits_required'"
     ]
    }
   ],
   "source": [
    "ans = []\n",
    "cookies, k = [8,15,10,20,8], 2\n",
    "# cookies, k = [6,1,3,2,2,4,1,2], 3\n",
    "n = len(cookies)\n",
    "sum_cookies = sum(cookies)\n",
    "def backtrack(pos, path, nums, splits_required):\n",
    "    n = len(nums)\n",
    "    \n",
    "    if (len(path)==(n-splits_required+1)):        \n",
    "        return\n",
    "    \n",
    "    for i in range(pos, n):\n",
    "        \n",
    "        path.append(cookies[i])\n",
    "        \n",
    "        \n",
    "        \n",
    "        \n",
    "        backtrack(i+1, nums[1:], splits)\n",
    "        path.pop()\n",
    "\n",
    "max_so_far = 0\n",
    "ans = []\n",
    "backtrack(0, [], cookies, k)"
   ]
  },
  {
   "cell_type": "code",
   "execution_count": null,
   "id": "b5dcab47",
   "metadata": {},
   "outputs": [],
   "source": []
  },
  {
   "cell_type": "code",
   "execution_count": null,
   "id": "9547ce0f",
   "metadata": {},
   "outputs": [],
   "source": []
  },
  {
   "cell_type": "markdown",
   "id": "3a754a40",
   "metadata": {},
   "source": [
    "#### Practice"
   ]
  },
  {
   "cell_type": "code",
   "execution_count": 7,
   "id": "5de87298",
   "metadata": {},
   "outputs": [
    {
     "data": {
      "text/plain": [
       "[[1, 2, 3], [1, 3, 2], [2, 1, 3], [2, 3, 1], [3, 1, 2], [3, 2, 1]]"
      ]
     },
     "execution_count": 7,
     "metadata": {},
     "output_type": "execute_result"
    }
   ],
   "source": [
    "#permutations\n",
    "\n",
    "nums = [1, 2, 3]\n",
    "def backtrack(curr):\n",
    "    \n",
    "    if len(curr)==len(nums):\n",
    "        ans.append(curr[:])\n",
    "        return\n",
    "    \n",
    "    for num in nums:\n",
    "        if num not in curr:\n",
    "            curr.append(num)\n",
    "            backtrack(curr)\n",
    "            curr.pop()\n",
    "    \n",
    "            \n",
    "ans = []\n",
    "backtrack([])\n",
    "ans            "
   ]
  },
  {
   "cell_type": "code",
   "execution_count": 11,
   "id": "8c1d03fb",
   "metadata": {},
   "outputs": [
    {
     "data": {
      "text/plain": [
       "[(1, 2, 3), (1, 3, 2), (2, 1, 3), (2, 3, 1), (3, 1, 2), (3, 2, 1)]"
      ]
     },
     "execution_count": 11,
     "metadata": {},
     "output_type": "execute_result"
    }
   ],
   "source": [
    "from itertools import permutations\n",
    "list(permutations([1,2,3]))"
   ]
  },
  {
   "cell_type": "code",
   "execution_count": null,
   "id": "137c847e",
   "metadata": {},
   "outputs": [],
   "source": [
    "# Example 2: 78. Subsets\n",
    "# Given an integer array nums of unique elements, return all subsets in any order without duplicates.\n",
    "# For example, given nums = [1, 2, 3], return [[],[1],[2],[1,2],[3],[1,3],[2,3],[1,2,3]]\n"
   ]
  },
  {
   "cell_type": "code",
   "execution_count": 18,
   "id": "22c68a13",
   "metadata": {},
   "outputs": [
    {
     "data": {
      "text/plain": [
       "[[], [1], [1, 2], [1, 2, 3], [1, 3], [2], [2, 3], [3]]"
      ]
     },
     "execution_count": 18,
     "metadata": {},
     "output_type": "execute_result"
    }
   ],
   "source": [
    "ans = []\n",
    "def backtrack(curr, i):\n",
    "    \n",
    "    #base case --> you are at the leaf so you just return \n",
    "    if i > len(nums):\n",
    "        return\n",
    "        \n",
    "    ans.append(curr[:])\n",
    "    \n",
    "    #we only consider the elements that came after the previously added element    \n",
    "    for j in range(i, len(nums)):\n",
    "        curr.append(nums[j])\n",
    "        \n",
    "        #moving to child of current node, we got to only those child nodes which come after current node\n",
    "        backtrack(curr, j+1)\n",
    "        curr.pop()\n",
    "    \n",
    "backtrack([], 0)\n",
    "ans    \n",
    "    "
   ]
  },
  {
   "cell_type": "code",
   "execution_count": 5,
   "id": "f8706177",
   "metadata": {},
   "outputs": [],
   "source": [
    "nums = [4,3,2,3,5,2,1]\n",
    "target_sum = sum(nums)/4\n",
    "def backtrack(curr, i):\n",
    "                \n",
    "        if i > len(nums):\n",
    "            return\n",
    "        if sum(curr)==target_sum:\n",
    "            # res = True\n",
    "            ans.append(curr[:])                        \n",
    "\n",
    "        for j in range(i, len(nums)):                  \n",
    "\n",
    "            curr.append(nums[j])\n",
    "            backtrack(curr, j+1)\n",
    "            curr.pop()\n",
    "\n",
    "\n",
    "ans = []   \n",
    "backtrack([], 0)"
   ]
  },
  {
   "cell_type": "code",
   "execution_count": 6,
   "id": "e70aea47",
   "metadata": {},
   "outputs": [
    {
     "data": {
      "text/plain": [
       "[[4, 1], [3, 2], [3, 2], [2, 3], [2, 2, 1], [3, 2], [5]]"
      ]
     },
     "execution_count": 6,
     "metadata": {},
     "output_type": "execute_result"
    }
   ],
   "source": [
    "ans"
   ]
  },
  {
   "cell_type": "code",
   "execution_count": 10,
   "id": "721f4204",
   "metadata": {},
   "outputs": [
    {
     "data": {
      "text/plain": [
       "['1', '2', '3']"
      ]
     },
     "execution_count": 10,
     "metadata": {},
     "output_type": "execute_result"
    }
   ],
   "source": [
    "[i for i in '123']"
   ]
  },
  {
   "cell_type": "code",
   "execution_count": null,
   "id": "5419b4cf",
   "metadata": {},
   "outputs": [],
   "source": []
  }
 ],
 "metadata": {
  "kernelspec": {
   "display_name": "Python 3 (ipykernel)",
   "language": "python",
   "name": "python3"
  },
  "language_info": {
   "codemirror_mode": {
    "name": "ipython",
    "version": 3
   },
   "file_extension": ".py",
   "mimetype": "text/x-python",
   "name": "python",
   "nbconvert_exporter": "python",
   "pygments_lexer": "ipython3",
   "version": "3.9.12"
  },
  "toc": {
   "base_numbering": 1,
   "nav_menu": {},
   "number_sections": true,
   "sideBar": true,
   "skip_h1_title": false,
   "title_cell": "Table of Contents",
   "title_sidebar": "Contents",
   "toc_cell": false,
   "toc_position": {},
   "toc_section_display": true,
   "toc_window_display": true
  },
  "varInspector": {
   "cols": {
    "lenName": 16,
    "lenType": 16,
    "lenVar": 40
   },
   "kernels_config": {
    "python": {
     "delete_cmd_postfix": "",
     "delete_cmd_prefix": "del ",
     "library": "var_list.py",
     "varRefreshCmd": "print(var_dic_list())"
    },
    "r": {
     "delete_cmd_postfix": ") ",
     "delete_cmd_prefix": "rm(",
     "library": "var_list.r",
     "varRefreshCmd": "cat(var_dic_list()) "
    }
   },
   "types_to_exclude": [
    "module",
    "function",
    "builtin_function_or_method",
    "instance",
    "_Feature"
   ],
   "window_display": false
  }
 },
 "nbformat": 4,
 "nbformat_minor": 5
}
