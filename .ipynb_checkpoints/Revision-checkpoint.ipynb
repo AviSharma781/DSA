{
 "cells": [
  {
   "cell_type": "code",
   "execution_count": 2,
   "id": "7d73a5d9",
   "metadata": {},
   "outputs": [],
   "source": [
    "import numpy as np\n",
    "import pandas as pd\n",
    "from typing import List"
   ]
  },
  {
   "cell_type": "markdown",
   "id": "77047714",
   "metadata": {},
   "source": [
    "#### 1"
   ]
  },
  {
   "cell_type": "markdown",
   "id": "e9793962",
   "metadata": {},
   "source": [
    "#### 2"
   ]
  },
  {
   "cell_type": "markdown",
   "id": "87f46c41",
   "metadata": {},
   "source": [
    "#### 3"
   ]
  },
  {
   "cell_type": "markdown",
   "id": "ba64a357",
   "metadata": {},
   "source": [
    "#### 4"
   ]
  },
  {
   "cell_type": "markdown",
   "id": "c5f71748",
   "metadata": {},
   "source": [
    "#### Sliding Window"
   ]
  },
  {
   "cell_type": "markdown",
   "id": "95d66aea",
   "metadata": {},
   "source": [
    "##### Product strictly less than k"
   ]
  },
  {
   "cell_type": "markdown",
   "id": "297f654a",
   "metadata": {},
   "source": [
    "Given an array of integers nums and an integer k, return the number of contiguous subarrays where the product of all the elements in the subarray is strictly less than k.\n",
    "\n",
    " \n",
    "\n",
    "Example 1:\n",
    "\n",
    "Input: nums = [10,5,2,6], k = 100\n",
    "Output: 8\n",
    "Explanation: The 8 subarrays that have product less than 100 are:\n",
    "[10], [5], [2], [6], [10, 5], [5, 2], [2, 6], [5, 2, 6]\n",
    "Note that [10, 5, 2] is not included as the product of 100 is not strictly less than k.\n",
    "\n",
    "Example 2:\n",
    "\n",
    "Input: nums = [1,2,3], k = 0\n",
    "Output: 0\n"
   ]
  },
  {
   "cell_type": "code",
   "execution_count": 4,
   "id": "a95dc766",
   "metadata": {},
   "outputs": [
    {
     "data": {
      "text/plain": [
       "8"
      ]
     },
     "execution_count": 4,
     "metadata": {},
     "output_type": "execute_result"
    }
   ],
   "source": [
    "nums = [10,5,2,6]\n",
    "k = 100\n",
    "left = ans = 0\n",
    "curr = 1\n",
    "\n",
    "for right in range(len(nums)):\n",
    "    curr *=nums[right]\n",
    "    \n",
    "    while curr >= k:\n",
    "            curr //= nums[left]\n",
    "            left +=1\n",
    "    \n",
    "    ans += right - left + 1 \n",
    "ans\n",
    "\n"
   ]
  },
  {
   "cell_type": "markdown",
   "id": "59d9c8d5",
   "metadata": {},
   "source": [
    "#### Counting"
   ]
  },
  {
   "cell_type": "markdown",
   "id": "60b5b948",
   "metadata": {},
   "source": [
    "##### Subarrays with sum equal to k"
   ]
  },
  {
   "cell_type": "markdown",
   "id": "cb8d0484",
   "metadata": {},
   "source": [
    "Given an array of integers nums and an integer k, return the total number of subarrays whose sum equals to k.\n",
    "\n",
    "A subarray is a contiguous non-empty sequence of elements within an array. \n",
    "\n",
    "Example 1:\n",
    "\n",
    "Input: nums = [1,1,1], k = 2\n",
    "Output: 2\n",
    "\n",
    "Example 2:\n",
    "\n",
    "Input: nums = [1,2,3], k = 3\n",
    "Output: 2\n"
   ]
  },
  {
   "cell_type": "code",
   "execution_count": 6,
   "id": "111aa850",
   "metadata": {},
   "outputs": [
    {
     "data": {
      "text/plain": [
       "2"
      ]
     },
     "execution_count": 6,
     "metadata": {},
     "output_type": "execute_result"
    }
   ],
   "source": [
    "nums = [1,1,1]\n",
    "k = 2\n",
    "# nums = [1,2,3]\n",
    "# k = 3\n",
    "count = ans = 0\n",
    "left = 0\n",
    "\n",
    "for right in range(len(nums)):\n",
    "    \n",
    "    count+= nums[right]\n",
    "    if count==k:\n",
    "        ans += 1\n",
    "    while count > k:\n",
    "        count -= nums[left]\n",
    "        left +=1\n",
    "        if count==k: ans+=1\n",
    "#         print(count)\n",
    "            \n",
    "    \n",
    "ans    "
   ]
  },
  {
   "cell_type": "code",
   "execution_count": 8,
   "id": "4c1aec05",
   "metadata": {},
   "outputs": [],
   "source": [
    "#Elegant Solution\n",
    "\n",
    "class Solution:\n",
    "    def subarraySum(self, nums, k: int) -> int:\n",
    "        from collections import defaultdict, Counter\n",
    "        \n",
    "        counts = defaultdict(int)\n",
    "        counts[0] = 1\n",
    "        ans = curr = 0\n",
    "\n",
    "        for num in nums:\n",
    "            curr += num\n",
    "            \n",
    "            #Very Important Step, think why we are incrementing by frequency of prefix sum=curr-k, \n",
    "            #and not just increment by 1\n",
    "            #try to understand from ex below with 7 occuring twice in prefix sum\n",
    "            #at prefix sum = 10, 10-3 = 7 occurs twice in prefix sum\n",
    "            #this means -2,2,3 is valid as well as only 3\n",
    "            ans += counts[curr - k]\n",
    "            counts[curr] += 1\n",
    "        return ans"
   ]
  },
  {
   "cell_type": "code",
   "execution_count": 9,
   "id": "ff100850",
   "metadata": {},
   "outputs": [
    {
     "data": {
      "text/plain": [
       "7"
      ]
     },
     "execution_count": 9,
     "metadata": {},
     "output_type": "execute_result"
    }
   ],
   "source": [
    "from collections import defaultdict\n",
    "nums = [1,2,1,2,1,-2,2,3]\n",
    "pref=  [1,3,4,6,7, 5,7,10]\n",
    "\n",
    "prefix = [nums[0]]\n",
    "# for i in range(1,len(nums)):\n",
    "#     prefix.append(prefix[-1]+nums[i])\n",
    "\n",
    "\n",
    "k = 3\n",
    "\n",
    "Solution().subarraySum(nums, k)"
   ]
  },
  {
   "cell_type": "markdown",
   "id": "2bc4c436",
   "metadata": {},
   "source": [
    "#### Hashing"
   ]
  },
  {
   "cell_type": "markdown",
   "id": "bbec6d60",
   "metadata": {},
   "source": [
    "##### Find Players With Zero or One Losses"
   ]
  },
  {
   "cell_type": "markdown",
   "id": "8304eac0",
   "metadata": {},
   "source": [
    "You are given an integer array matches where matches[i] = [winneri, loseri] indicates that the player winneri defeated player loseri in a match.\n",
    "\n",
    "Return a list answer of size 2 where:\n",
    "\n",
    "    answer[0] is a list of all players that have not lost any matches.\n",
    "    answer[1] is a list of all players that have lost exactly one match.\n",
    "\n",
    "The values in the two lists should be returned in increasing order.\n",
    "\n",
    "Note:\n",
    "\n",
    "    You should only consider the players that have played at least one match.\n",
    "    The testcases will be generated such that no two matches will have the same outcome.\n"
   ]
  },
  {
   "cell_type": "code",
   "execution_count": 10,
   "id": "4ed07377",
   "metadata": {},
   "outputs": [],
   "source": [
    "    def findWinners(self, matches: List[List[int]]) -> List[List[int]]:\n",
    "        \n",
    "        \n",
    "        number_of_matches = defaultdict(int)\n",
    "        win_counts = defaultdict(int)\n",
    "        \n",
    "        for match in matches:\n",
    "            number_of_matches[match[0]] +=1\n",
    "            number_of_matches[match[1]] +=1\n",
    "            win_counts[match[0]] +=1\n",
    "            \n",
    "        \n",
    "        match_summary = defaultdict(list)\n",
    "        \n",
    "        for player, num_match in number_of_matches.items():\n",
    "            wins = win_counts[player]\n",
    "            loss = num_match - wins\n",
    "            match_summary[player] = [num_match, wins, loss]\n",
    "        \n",
    "        all_winners = []\n",
    "        one_loss = []\n",
    "        for player, summary in match_summary.items():\n",
    "            if summary[2]==0:\n",
    "                all_winners.append(player)\n",
    "            if summary[2]==1:\n",
    "                one_loss.append(player)       \n",
    "\n",
    "        \n",
    "        \n",
    "        return([sorted(all_winners), sorted(one_loss)])     \n"
   ]
  },
  {
   "cell_type": "markdown",
   "id": "00f17319",
   "metadata": {},
   "source": [
    "##### Contiguous Array"
   ]
  },
  {
   "cell_type": "code",
   "execution_count": 11,
   "id": "f038a741",
   "metadata": {},
   "outputs": [],
   "source": [
    "# Given a binary array nums, return the maximum length of a contiguous subarray with an equal number of 0 and 1."
   ]
  },
  {
   "cell_type": "code",
   "execution_count": 12,
   "id": "a9c1b9d0",
   "metadata": {},
   "outputs": [],
   "source": [
    "# Example 1:\n",
    "\n",
    "# Input: nums = [0,1]\n",
    "# Output: 2\n",
    "# Explanation: [0, 1] is the longest contiguous subarray with an equal number of 0 and 1.\n",
    "\n",
    "# Example 2:\n",
    "\n",
    "# Input: nums = [0,1,0]\n",
    "# Output: 2\n",
    "# Explanation: [0, 1] (or [1, 0]) is a longest contiguous subarray with equal number of 0 and 1.\n"
   ]
  },
  {
   "cell_type": "code",
   "execution_count": 3,
   "id": "144ad39b",
   "metadata": {},
   "outputs": [
    {
     "data": {
      "text/plain": [
       "6"
      ]
     },
     "execution_count": 3,
     "metadata": {},
     "output_type": "execute_result"
    }
   ],
   "source": [
    "nums = [0,0,1,0,0,0,1,1]\n",
    "class Solution:\n",
    "    def findMaxLength(self, nums) -> int:\n",
    "        ans, cnt, pref = 0, 0, {0: -1}\n",
    "        for i, num in enumerate(nums):\n",
    "            cnt += 1 if num else -1\n",
    "            if cnt in pref:\n",
    "                ans = max(i - pref[cnt], ans)\n",
    "            else:\n",
    "                pref[cnt] = i\n",
    "        return ans\n",
    "    \n",
    "Solution().findMaxLength(nums)"
   ]
  },
  {
   "cell_type": "markdown",
   "id": "55c63926",
   "metadata": {},
   "source": [
    "##### Longest Substring Without Repeating Characters"
   ]
  },
  {
   "cell_type": "code",
   "execution_count": 32,
   "id": "b39479d2",
   "metadata": {},
   "outputs": [],
   "source": [
    "# Given a string s, find the length of the longest substring without repeating characters."
   ]
  },
  {
   "cell_type": "code",
   "execution_count": 33,
   "id": "67d28bfb",
   "metadata": {},
   "outputs": [],
   "source": [
    "# Example 1:\n",
    "\n",
    "# Input: s = \"abcabcbb\"\n",
    "# Output: 3\n",
    "# Explanation: The answer is \"abc\", with the length of 3.\n",
    "\n",
    "# Example 2:\n",
    "\n",
    "# Input: s = \"bbbbb\"\n",
    "# Output: 1\n",
    "# Explanation: The answer is \"b\", with the length of 1.\n",
    "\n",
    "# Example 3:\n",
    "\n",
    "# Input: s = \"pwwkew\"\n",
    "# Output: 3\n",
    "# Explanation: The answer is \"wke\", with the length of 3.\n",
    "# Notice that the answer must be a substring, \"pwke\" is a subsequence and not a substring.\n"
   ]
  },
  {
   "cell_type": "code",
   "execution_count": 7,
   "id": "8f71114f",
   "metadata": {},
   "outputs": [
    {
     "data": {
      "text/plain": [
       "3"
      ]
     },
     "execution_count": 7,
     "metadata": {},
     "output_type": "execute_result"
    }
   ],
   "source": [
    "from collections import Counter\n",
    "class Solution:\n",
    "    def lengthOfLongestSubstring(self, s: str) -> int:\n",
    "            chars = Counter()\n",
    "\n",
    "            left = right = 0\n",
    "\n",
    "            res = 0\n",
    "            while right < len(s):\n",
    "                r = s[right]\n",
    "                chars[r] += 1\n",
    "\n",
    "                while chars[r] > 1:\n",
    "                    l = s[left]\n",
    "                    chars[l] -= 1\n",
    "                    left += 1\n",
    "\n",
    "                res = max(res, right - left + 1)\n",
    "\n",
    "                right += 1\n",
    "            return res\n",
    "\n",
    "Solution().lengthOfLongestSubstring('pwwkew')"
   ]
  },
  {
   "cell_type": "markdown",
   "id": "df597823",
   "metadata": {},
   "source": [
    "##### Maximum Erasure Value"
   ]
  },
  {
   "cell_type": "markdown",
   "id": "1fd24fff",
   "metadata": {},
   "source": [
    "You are given an array of positive integers nums and want to erase a subarray containing unique elements. The score you get by erasing the subarray is equal to the sum of its elements.\n",
    "\n",
    "Return the maximum score you can get by erasing exactly one subarray.\n",
    "\n",
    "An array b is called to be a subarray of a if it forms a contiguous subsequence of a, that is, if it is equal to a[l],a[l+1],...,a[r] for some (l,r)."
   ]
  },
  {
   "cell_type": "code",
   "execution_count": 1,
   "id": "e20ecffc",
   "metadata": {},
   "outputs": [],
   "source": [
    "# Example 1:\n",
    "\n",
    "# Input: nums = [4,2,4,5,6]\n",
    "# Output: 17\n",
    "# Explanation: The optimal subarray here is [2,4,5,6].\n",
    "\n",
    "# Example 2:\n",
    "\n",
    "# Input: nums = [5,2,1,2,5,2,1,2,5]\n",
    "# Output: 8\n",
    "# Explanation: The optimal subarray here is [5,2,1] or [1,2,5].\n"
   ]
  },
  {
   "cell_type": "code",
   "execution_count": 2,
   "id": "8a9a497c",
   "metadata": {},
   "outputs": [],
   "source": [
    "from collections import defaultdict\n",
    "class Solution:\n",
    "    def maximumUniqueSubarray(self, nums) -> int:\n",
    "            chars = defaultdict(int)\n",
    "\n",
    "            left = right = 0\n",
    "\n",
    "            res = 0\n",
    "            while right < len(nums):\n",
    "                r = nums[right]\n",
    "                chars[r] += 1\n",
    "\n",
    "                while chars[r] > 1:\n",
    "                    l = nums[left]\n",
    "                    chars[l] -= 1\n",
    "                    left += 1\n",
    "\n",
    "                res = max(res, sum(nums[left:right + 1]))\n",
    "\n",
    "                right += 1\n",
    "            return res"
   ]
  },
  {
   "cell_type": "markdown",
   "id": "2c654dde",
   "metadata": {},
   "source": [
    "##### Length of Longest Subarray with atmost k frequency"
   ]
  },
  {
   "cell_type": "code",
   "execution_count": 10,
   "id": "2a7d7d86",
   "metadata": {},
   "outputs": [],
   "source": [
    "# https://leetcode.com/problems/length-of-longest-subarray-with-at-most-k-frequency/editorial/\n",
    "\n",
    "\n",
    "\n",
    "# You are given an integer array nums and an integer k.\n",
    "# The frequency of an element x is the number of times it occurs in an array.\n",
    "# An array is called good if the frequency of each element in this array is less than or equal to k.\n",
    "# Return the length of the longest good subarray of nums.\n",
    "# A subarray is a contiguous non-empty sequence of elements within an array.\n",
    "\n",
    "# Example 1:\n",
    "\n",
    "# Input: nums = [1,2,3,1,2,3,1,2], k = 2\n",
    "# Output: 6\n",
    "# Explanation: The longest possible good subarray is [1,2,3,1,2,3] since the values 1, 2, and 3 occur at most twice in this subarray. Note that the subarrays [2,3,1,2,3,1] and [3,1,2,3,1,2] are also good.\n",
    "# It can be shown that there are no good subarrays with length more than 6.\n",
    "\n",
    "# Example 2:\n",
    "\n",
    "# Input: nums = [1,2,1,2,1,2,1,2], k = 1\n",
    "# Output: 2\n",
    "# Explanation: The longest possible good subarray is [1,2] since the values 1 and 2 occur at most once in this subarray. Note that the subarray [2,1] is also good.\n",
    "# It can be shown that there are no good subarrays with length more than 2.\n",
    "\n",
    "# Example 3:\n",
    "\n",
    "# Input: nums = [5,5,5,5,5,5,5], k = 4\n",
    "# Output: 4\n",
    "# Explanation: The longest possible good subarray is [5,5,5,5] since the value 5 occurs 4 times in this subarray.\n",
    "# It can be shown that there are no good subarrays with length more than 4.\n",
    "\n",
    "\n",
    "# For example, in network traffic analysis, one might be interested in finding the longest sequence of time \n",
    "# intervals where the frequency of certain events does not exceed a specified threshold. This problem can be \n",
    "# relevant in various domains where analyzing and controlling the frequency of occurrences is crucial for \n",
    "# meaningful insights or operations."
   ]
  },
  {
   "cell_type": "code",
   "execution_count": 12,
   "id": "4d660be8",
   "metadata": {},
   "outputs": [],
   "source": [
    "from collections import defaultdict\n",
    "class Solution:\n",
    "    def maxSubarrayLength(self, nums, k: int) -> int:\n",
    "        left = ans = 0\n",
    "        \n",
    "        seen = defaultdict(int)\n",
    "        for right in range(len(nums)):\n",
    "            seen[nums[right]] +=1\n",
    "\n",
    "            while seen[nums[right]]>k:\n",
    "                l = nums[left]\n",
    "                seen[l] -= 1\n",
    "                left += 1\n",
    "            \n",
    "            ans = max(ans, right - left +1)\n",
    "        \n",
    "        return ans"
   ]
  },
  {
   "cell_type": "markdown",
   "id": "6eebe3df",
   "metadata": {},
   "source": [
    "##### Binary Subarrays with Sum"
   ]
  },
  {
   "attachments": {
    "image.png": {
     "image/png": "[encoded data removed]"
    }
   },
   "cell_type": "markdown",
   "id": "407752b1",
   "metadata": {},
   "source": [
    "![image.png](attachment:image.png)"
   ]
  },
  {
   "cell_type": "code",
   "execution_count": null,
   "id": "37702431",
   "metadata": {},
   "outputs": [],
   "source": []
  },
  {
   "cell_type": "markdown",
   "id": "97c6fb85",
   "metadata": {},
   "source": [
    "##### Three Sum"
   ]
  },
  {
   "cell_type": "code",
   "execution_count": 14,
   "id": "0e52d8ee",
   "metadata": {},
   "outputs": [],
   "source": [
    "# Gives TLE\n",
    "from itertools import permutations\n",
    "from collections import defaultdict\n",
    "\n",
    "class Solution:\n",
    "    def threeSum(self, nums):\n",
    "        if len(nums)<3:\n",
    "            return []\n",
    "        \n",
    "        if len(nums)==3 & sum(nums)==0:\n",
    "            return [nums]\n",
    "\n",
    "        if len(nums)==3 & sum(nums)!=0:\n",
    "            return []\n",
    "\n",
    "\n",
    "        seen_triplet = []\n",
    "        for i in range(len(nums)):\n",
    "            num1 = nums[i]\n",
    "            target1 = 0 - num1\n",
    "\n",
    "            seen_iter = defaultdict(int)\n",
    "\n",
    "            for j in range(i+1, len(nums)):\n",
    "                num2 = nums[j]\n",
    "                target2 = target1 - num2\n",
    "                if target2 in seen_iter:\n",
    "                    \n",
    "                    \n",
    "                    seen_triplet.append([num1,num2,target2])                        \n",
    "                    \n",
    "                \n",
    "                seen_iter[num2] = j\n",
    "            final_seen=[]\n",
    "            seen_triplet_all=[]\n",
    "            for i in seen_triplet:\n",
    "                if (i[0], i[1], i[2]) not in seen_triplet_all: final_seen.append(i)\n",
    "                seen_triplet_all = seen_triplet_all + list(permutations(i))\n",
    "                 \n",
    "        \n",
    "        return final_seen"
   ]
  },
  {
   "cell_type": "code",
   "execution_count": 16,
   "id": "40ca6ac9",
   "metadata": {},
   "outputs": [],
   "source": [
    "# https://www.youtube.com/watch?v=9HDVSJn3obo&t=432s\n",
    "\n",
    "class Solution:\n",
    "    def threeSum(self, nums):\n",
    "        res = []\n",
    "        nums.sort()\n",
    "\n",
    "        for i in range(len(nums)):\n",
    "            if i > 0 and nums[i] == nums[i-1]:\n",
    "                continue\n",
    "            \n",
    "            j = i + 1\n",
    "            k = len(nums) - 1\n",
    "\n",
    "            while j < k:\n",
    "                total = nums[i] + nums[j] + nums[k]\n",
    "\n",
    "                if total > 0:\n",
    "                    k -= 1\n",
    "                elif total < 0:\n",
    "                    j += 1\n",
    "                else:\n",
    "                    res.append([nums[i], nums[j], nums[k]])\n",
    "                    j += 1\n",
    "\n",
    "                    while nums[j] == nums[j-1] and j < k:\n",
    "                        j += 1\n",
    "        \n",
    "        return res"
   ]
  },
  {
   "cell_type": "code",
   "execution_count": null,
   "id": "93ec51fc",
   "metadata": {},
   "outputs": [],
   "source": []
  }
 ],
 "metadata": {
  "kernelspec": {
   "display_name": "Python 3 (ipykernel)",
   "language": "python",
   "name": "python3"
  },
  "language_info": {
   "codemirror_mode": {
    "name": "ipython",
    "version": 3
   },
   "file_extension": ".py",
   "mimetype": "text/x-python",
   "name": "python",
   "nbconvert_exporter": "python",
   "pygments_lexer": "ipython3",
   "version": "3.9.12"
  },
  "toc": {
   "base_numbering": 1,
   "nav_menu": {},
   "number_sections": true,
   "sideBar": true,
   "skip_h1_title": false,
   "title_cell": "Table of Contents",
   "title_sidebar": "Contents",
   "toc_cell": false,
   "toc_position": {},
   "toc_section_display": true,
   "toc_window_display": true
  },
  "varInspector": {
   "cols": {
    "lenName": 16,
    "lenType": 16,
    "lenVar": 40
   },
   "kernels_config": {
    "python": {
     "delete_cmd_postfix": "",
     "delete_cmd_prefix": "del ",
     "library": "var_list.py",
     "varRefreshCmd": "print(var_dic_list())"
    },
    "r": {
     "delete_cmd_postfix": ") ",
     "delete_cmd_prefix": "rm(",
     "library": "var_list.r",
     "varRefreshCmd": "cat(var_dic_list()) "
    }
   },
   "types_to_exclude": [
    "module",
    "function",
    "builtin_function_or_method",
    "instance",
    "_Feature"
   ],
   "window_display": false
  }
 },
 "nbformat": 4,
 "nbformat_minor": 5
}
