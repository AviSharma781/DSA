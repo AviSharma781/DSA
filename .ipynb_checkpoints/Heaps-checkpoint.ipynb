{
 "cells": [
  {
   "cell_type": "code",
   "execution_count": null,
   "id": "56f18657",
   "metadata": {},
   "outputs": [],
   "source": [
    "# A heap is a great option whenever you need to find the maximum or minimum of something repeatedly."
   ]
  },
  {
   "cell_type": "code",
   "execution_count": 1,
   "id": "194cf69b",
   "metadata": {},
   "outputs": [],
   "source": [
    "import pandas as pd\n",
    "import numpy as np"
   ]
  },
  {
   "cell_type": "markdown",
   "id": "17e84e90",
   "metadata": {},
   "source": [
    "#### 1"
   ]
  },
  {
   "cell_type": "markdown",
   "id": "ee8807cc",
   "metadata": {},
   "source": [
    "#### 2"
   ]
  },
  {
   "cell_type": "markdown",
   "id": "ce89e42a",
   "metadata": {},
   "source": [
    "#### 3"
   ]
  },
  {
   "cell_type": "markdown",
   "id": "eb2af5ab",
   "metadata": {},
   "source": [
    "#### 4"
   ]
  },
  {
   "cell_type": "markdown",
   "id": "86210b96",
   "metadata": {},
   "source": [
    "#### Intro"
   ]
  },
  {
   "cell_type": "code",
   "execution_count": 2,
   "id": "5b4bc034",
   "metadata": {},
   "outputs": [],
   "source": [
    "# A heap is a data structure that is an implementation of the priority queue.\n",
    "\n",
    "# Note that a priority queue is an abstract data structure. A heap is one of many ways to implement a priority queue. \n",
    "# However, people often use the two terms interchangeably. In this course, we will use the term \"heap\".\n",
    "\n",
    "# A heap is a container that stores elements, and supports the following operations:\n",
    "\n",
    "# Add an element in O(log⁡n)\n",
    "# Remove the minimum element in O(log⁡n)\n",
    "# Find the minimum element in O(1)\n"
   ]
  },
  {
   "cell_type": "code",
   "execution_count": null,
   "id": "9282035b",
   "metadata": {},
   "outputs": [],
   "source": [
    "# A heap can also find the max elements instead of the min elements. \n",
    "# If a heap is configured to find/remove the min element, it's called a min heap. \n",
    "# If it's configured to find/remove the max element, it's called a max heap."
   ]
  },
  {
   "cell_type": "code",
   "execution_count": 3,
   "id": "ee78faba",
   "metadata": {},
   "outputs": [],
   "source": [
    "# The ability to find the max/min element in constant time, \n",
    "# while only needing logarithmic time to maintain this ability through changes makes a heap an extremely powerful data structure."
   ]
  },
  {
   "cell_type": "markdown",
   "id": "6698b7ea",
   "metadata": {},
   "source": [
    "There are multiple ways to implement a heap, although the most popular way is called a binary heap using an array. In the trees and graphs chapter, we saw that binary trees are typically implemented with a Node object.\n",
    "\n",
    "A binary heap implements a binary tree, but with only an array. The idea is that each element in the array is a node in the tree. The smallest element in the tree is the root, and the following property is maintained at every node: if A is the parent of B, then A.val <= B.val. Notice that this property directly implies that the root is the smallest element."
   ]
  },
  {
   "cell_type": "markdown",
   "id": "3c02a6fa",
   "metadata": {},
   "source": [
    "The parent-child relationships are done using math with the indices. The first element at index 0 is the root, then the elements at indices 1 and 2 are the root's children, the elements at indices 3 and 4 are the children of the element at index 1 and the elements at indices 5 and 6 are the children of the element at index 2, and so on. If a node is at index i, then its children are at indices 2i + 1 and 2i + 2. When elements are added or removed, operations are done to maintain the aforementioned property of parent.val <= child.val. The number of operations needed scales logarithmically with the number of elements in the heap, and the process is known as \"bubbling up\"."
   ]
  },
  {
   "cell_type": "code",
   "execution_count": null,
   "id": "16636693",
   "metadata": {},
   "outputs": [],
   "source": []
  }
 ],
 "metadata": {
  "kernelspec": {
   "display_name": "Python 3 (ipykernel)",
   "language": "python",
   "name": "python3"
  },
  "language_info": {
   "codemirror_mode": {
    "name": "ipython",
    "version": 3
   },
   "file_extension": ".py",
   "mimetype": "text/x-python",
   "name": "python",
   "nbconvert_exporter": "python",
   "pygments_lexer": "ipython3",
   "version": "3.9.12"
  },
  "toc": {
   "base_numbering": 1,
   "nav_menu": {},
   "number_sections": true,
   "sideBar": true,
   "skip_h1_title": false,
   "title_cell": "Table of Contents",
   "title_sidebar": "Contents",
   "toc_cell": false,
   "toc_position": {},
   "toc_section_display": true,
   "toc_window_display": false
  },
  "varInspector": {
   "cols": {
    "lenName": 16,
    "lenType": 16,
    "lenVar": 40
   },
   "kernels_config": {
    "python": {
     "delete_cmd_postfix": "",
     "delete_cmd_prefix": "del ",
     "library": "var_list.py",
     "varRefreshCmd": "print(var_dic_list())"
    },
    "r": {
     "delete_cmd_postfix": ") ",
     "delete_cmd_prefix": "rm(",
     "library": "var_list.r",
     "varRefreshCmd": "cat(var_dic_list()) "
    }
   },
   "types_to_exclude": [
    "module",
    "function",
    "builtin_function_or_method",
    "instance",
    "_Feature"
   ],
   "window_display": false
  }
 },
 "nbformat": 4,
 "nbformat_minor": 5
}
