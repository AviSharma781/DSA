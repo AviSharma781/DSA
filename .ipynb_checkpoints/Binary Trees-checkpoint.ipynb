{
 "cells": [
  {
   "cell_type": "code",
   "execution_count": 1,
   "id": "6246f9cd",
   "metadata": {},
   "outputs": [],
   "source": [
    "import pandas as pd\n",
    "import numpy as np"
   ]
  },
  {
   "cell_type": "markdown",
   "id": "6d16d027",
   "metadata": {},
   "source": [
    "##### 1"
   ]
  },
  {
   "cell_type": "markdown",
   "id": "0fe7baac",
   "metadata": {},
   "source": [
    "##### 2"
   ]
  },
  {
   "cell_type": "markdown",
   "id": "8e60af9b",
   "metadata": {},
   "source": [
    "##### 3"
   ]
  },
  {
   "cell_type": "markdown",
   "id": "28ec7610",
   "metadata": {},
   "source": [
    "##### 4"
   ]
  },
  {
   "cell_type": "markdown",
   "id": "818f7b13",
   "metadata": {},
   "source": [
    "#### Intro"
   ]
  },
  {
   "cell_type": "markdown",
   "id": "ce4db3b2",
   "metadata": {},
   "source": [
    "Even though a tree is a type of graph, trees and graphs are considered different topics when it comes to algorithm problems. Because graphs are the more advanced/difficult topic, we will start by looking at trees.\n",
    "\n",
    "The nodes of a graph are also called vertices, and the pointers that connect them are called edges. In graphical representations, nodes/vertices are usually represented with circles and the edges are lines/arrows that connect the circles (we saw this in the linked lists chapter)."
   ]
  },
  {
   "cell_type": "markdown",
   "id": "756ecf7a",
   "metadata": {},
   "source": [
    "In a linked list, a node's pointer pointed to the next node. In a tree, a node has pointers to its children. If a node A is pointing to a node B, then B is a child of A, and A is the parent of B. The root is the only node that has no parent. Note that in a tree, a node cannot have more than one parent.\n",
    "\n",
    "So what makes a binary tree \"binary\"? In a binary tree, all nodes have a maximum of two children. These children are referred to as the left child and the right child. Note that there isn't really a difference between a child being on the left or the right, it's just the convention used to refer to the children and convenient for graphical representations.\n",
    "\n",
    "To summarize, a binary tree is a collection of nodes. Every node has between 0 to 2 children, and every node except the root has exactly one parent."
   ]
  },
  {
   "cell_type": "markdown",
   "id": "145d7420",
   "metadata": {},
   "source": [
    "Just like with a linked list, binary trees are implemented using objects of a custom class. This is the typical class definition that will be provided to you in algorithm problems:"
   ]
  },
  {
   "cell_type": "code",
   "execution_count": 25,
   "id": "c2b9c082",
   "metadata": {},
   "outputs": [],
   "source": [
    "class TreeNode:\n",
    "    def __init__(self, val, left, right):\n",
    "        self.val = val\n",
    "        self.left = left\n",
    "        self.right = right"
   ]
  },
  {
   "cell_type": "markdown",
   "id": "51c660c0",
   "metadata": {},
   "source": [
    "In binary tree problems, you will be given a reference to the root of a binary tree as the input. You can access the root's left subtree with root.left and the root's right subtree with root.right. Like with linked lists, each node will also carry a value val as data. In a linked list, the tail (last node) has its next pointer as null. In a binary tree, if a node does not have a left child, then node.left will be null, and vice-versa with the right child. Remember that if both children are null, then the node is a leaf."
   ]
  },
  {
   "cell_type": "code",
   "execution_count": null,
   "id": "b5614556",
   "metadata": {},
   "outputs": [],
   "source": [
    "#traverse a linked list\n",
    "def get_sum(head):\n",
    "    ans = 0\n",
    "    while head:\n",
    "        ans += head.val\n",
    "        head = head.next\n",
    "    \n",
    "    return ans"
   ]
  },
  {
   "cell_type": "markdown",
   "id": "3ca368e4",
   "metadata": {},
   "source": [
    "For each node, there is a moment in the code execution where the head variable is referencing the node. We traverse by using the .next attribute."
   ]
  },
  {
   "cell_type": "markdown",
   "id": "5c130022",
   "metadata": {},
   "source": [
    "Traversing a binary tree follows the same idea. We start at the root and traverse by using the child pointers .left and .right. When traversing linked lists, we usually do it iteratively. With binary trees, we usually do it recursively."
   ]
  },
  {
   "cell_type": "markdown",
   "id": "6de721c8",
   "metadata": {},
   "source": [
    "#### Depth First Search (DFS) Traversal"
   ]
  },
  {
   "cell_type": "markdown",
   "id": "e34f7e01",
   "metadata": {},
   "source": [
    "In a DFS, we prioritize depth by traversing as far down the tree as possible in one direction (until reaching a leaf node) before considering the other direction. For example, let's say we choose left as our priority direction. We move exclusively with node.left until the left subtree has been fully explored. Then, we explore the right subtree."
   ]
  },
  {
   "cell_type": "markdown",
   "id": "7336a97f",
   "metadata": {},
   "source": [
    "DFS chooses a branch and goes as far down as possible. Once it fully explores the branch, it backtracks until it finds another unexplored branch."
   ]
  },
  {
   "cell_type": "markdown",
   "id": "3854bcb5",
   "metadata": {},
   "source": [
    "Because we need to backtrack up the tree after reaching the end of a branch, DFS is typically implemented using recursion, although it is also sometimes done iteratively using a stack. Here is a simple example of recursive DFS to visit every node:"
   ]
  },
  {
   "cell_type": "markdown",
   "id": "7152bce6",
   "metadata": {},
   "source": [
    "Each call to dfs(node) is visiting that node. As you can see in the code, we visit the left child before visiting the right child."
   ]
  },
  {
   "cell_type": "code",
   "execution_count": 2,
   "id": "e8ce28f7",
   "metadata": {},
   "outputs": [],
   "source": [
    "################################################ See Video ################################################################## \n",
    "\n",
    "# Each call to dfs(node) is visiting that node. \n",
    "# As you can see in the code, we visit the left child before visiting the right child.\n",
    "\n",
    "\n",
    "def dfs(node):\n",
    "    if node == None:\n",
    "        return\n",
    "\n",
    "    dfs(node.left)\n",
    "    dfs(node.right)\n",
    "    return\n",
    "\n",
    "\n",
    "# The good news is that the structure for performing a DFS is very similar across all problems. It goes as follows:\n",
    "\n",
    "#     1. Handle the base case(s). Usually, an empty tree (node = null) is a base case.\n",
    "#     2. Do some logic for the current node\n",
    "#     3. Recursively call on the current node's children\n",
    "#     4. Return the answer\n"
   ]
  },
  {
   "cell_type": "markdown",
   "id": "dfbbcda2",
   "metadata": {},
   "source": [
    "The most important thing to understand when it comes to solving binary tree problems is that each function call solves and returns the answer to the original problem as if the subtree rooted at the current node was the input. The logic that will be done at each call (step 2) will depend on the problem.\n",
    "\n",
    "We mentioned that there are three types of DFS. Each of the three types differs only in the order that they execute steps 2/3.\n",
    "\n",
    "    The name of each traversal is describing when the current node's logic is performed.\n",
    "\n",
    "    Pre -> before children\n",
    "\n",
    "    In -> in the middle of children\n",
    "\n",
    "    Post -> after children\n"
   ]
  },
  {
   "cell_type": "code",
   "execution_count": 28,
   "id": "65e46601",
   "metadata": {},
   "outputs": [
    {
     "name": "stdout",
     "output_type": "stream",
     "text": [
      "1\n",
      "2\n"
     ]
    }
   ],
   "source": [
    "#Bulding a binary tree\n",
    "class TreeNode:\n",
    "    def __init__(self, val):\n",
    "        self.val = val\n",
    "        self.left = None\n",
    "        self.right = None\n",
    "\n",
    "\"\"\"\n",
    "The following code builds a tree that looks like:\n",
    "    0\n",
    "  /   \\\n",
    " 1     2\n",
    "\"\"\"\n",
    "\n",
    "root = TreeNode(0)\n",
    "one = TreeNode(1)\n",
    "two = TreeNode(2)\n",
    "\n",
    "root.left = one\n",
    "root.right = two\n",
    "\n",
    "print(root.left.val)\n",
    "print(root.right.val)"
   ]
  },
  {
   "cell_type": "markdown",
   "id": "178c143f",
   "metadata": {},
   "source": [
    "##### Traverse a tree, maximum depth"
   ]
  },
  {
   "cell_type": "code",
   "execution_count": 4,
   "id": "5f1b7c21",
   "metadata": {},
   "outputs": [
    {
     "name": "stdout",
     "output_type": "stream",
     "text": [
      "1\n",
      "2\n"
     ]
    }
   ],
   "source": [
    "#Understand that root, one, two, three, four, five, six are objects of the Class TreeNode\n",
    "class TreeNode:\n",
    "    def __init__(self, val=0, left=None, right=None):\n",
    "        self.val = val\n",
    "        self.left = left\n",
    "        self.right = right\n",
    "\n",
    "root = TreeNode(0)\n",
    "one = TreeNode(1)\n",
    "two = TreeNode(2)\n",
    "three = TreeNode(3)\n",
    "four = TreeNode(4)\n",
    "five = TreeNode(5)\n",
    "six = TreeNode(6)\n",
    "\n",
    "root.left = one\n",
    "root.right = two\n",
    "\n",
    "one.left = three\n",
    "one.right = four\n",
    "\n",
    "two.right = five\n",
    "\n",
    "five.right = six\n",
    "\n",
    "\"\"\"\n",
    "The above code builds a tree that looks like:\n",
    "       0\n",
    "     /   \\\n",
    "    1     2\n",
    "  /  \\     \\\n",
    " 3    4     5\n",
    "             \\\n",
    "              6\n",
    "\n",
    "\"\"\"\n",
    "\n",
    "\n",
    "\n",
    "\n",
    "\n",
    "print(root.left.val)\n",
    "print(root.right.val)\n"
   ]
  },
  {
   "cell_type": "code",
   "execution_count": 2,
   "id": "41b1145e",
   "metadata": {},
   "outputs": [
    {
     "data": {
      "text/plain": [
       "3"
      ]
     },
     "execution_count": 2,
     "metadata": {},
     "output_type": "execute_result"
    }
   ],
   "source": [
    "root.left.left.val"
   ]
  },
  {
   "cell_type": "code",
   "execution_count": 90,
   "id": "fe1eaaf7",
   "metadata": {},
   "outputs": [
    {
     "name": "stdout",
     "output_type": "stream",
     "text": [
      "0\n",
      "1\n",
      "3\n",
      "4\n",
      "2\n",
      "5\n",
      "6\n"
     ]
    }
   ],
   "source": [
    "# Different Tree traversals techniques\n",
    "\n",
    "# In preorder traversal, logic is done on the current node before moving to the children. \n",
    "# Let's say that we wanted to just print the value of each node in the tree to the console. \n",
    "# In that case, at any given node, we would print the current node's value,\n",
    "# then recursively call the left child, then recursively call the right child.\n",
    "\n",
    "\"\"\"\n",
    "The ex tree looks like:\n",
    "       0\n",
    "     /   \\\n",
    "    1     2\n",
    "  /  \\     \\\n",
    " 3    4     5\n",
    "             \\\n",
    "              6\n",
    "\n",
    "\"\"\"\n",
    "def preorder_dfs(node):\n",
    "    #base case if no node in a tree\n",
    "    if not node:\n",
    "        return\n",
    "\n",
    "    print(node.val)\n",
    "    preorder_dfs(node.left)\n",
    "    preorder_dfs(node.right)\n",
    "    return\n",
    "preorder_dfs(root)"
   ]
  },
  {
   "cell_type": "code",
   "execution_count": 91,
   "id": "ae3329ee",
   "metadata": {},
   "outputs": [
    {
     "name": "stdout",
     "output_type": "stream",
     "text": [
      "3\n",
      "1\n",
      "4\n",
      "0\n",
      "2\n",
      "5\n",
      "6\n"
     ]
    }
   ],
   "source": [
    "# For inorder traversal, we first recursively call the left child, then perform logic (print in this case) on the current node,\n",
    "# and then recursively call the right child. This means no logic will be done until we reach a node without a left child \n",
    "# since calling on the left child takes priority over performing logic.\n",
    "\n",
    "\"\"\"\n",
    "The ex tree looks like:\n",
    "       0\n",
    "     /   \\\n",
    "    1     2\n",
    "  /  \\     \\\n",
    " 3    4     5\n",
    "             \\\n",
    "              6\n",
    "\n",
    "\"\"\"\n",
    "def inorder_dfs(node):\n",
    "    #base case if no node in a tree\n",
    "    if not node:\n",
    "        return\n",
    "\n",
    "    inorder_dfs(node.left)\n",
    "    print(node.val)\n",
    "    inorder_dfs(node.right)\n",
    "    return\n",
    "inorder_dfs(root)"
   ]
  },
  {
   "cell_type": "code",
   "execution_count": 92,
   "id": "becf41cd",
   "metadata": {},
   "outputs": [
    {
     "name": "stdout",
     "output_type": "stream",
     "text": [
      "3\n",
      "4\n",
      "1\n",
      "6\n",
      "5\n",
      "2\n",
      "0\n"
     ]
    }
   ],
   "source": [
    "# In postorder traversal, we recursively call on the children first and then perform logic on the current node. \n",
    "# This means no logic will be done until we reach a leaf node since calling on the children takes priority over performing logic.\n",
    "# In a postorder traversal, the root is the last node where logic is done.\n",
    "\n",
    "\"\"\"\n",
    "The ex tree looks like:\n",
    "       0\n",
    "     /   \\\n",
    "    1     2\n",
    "  /  \\     \\\n",
    " 3    4     5\n",
    "             \\\n",
    "              6\n",
    "\n",
    "\"\"\"\n",
    "def postorder_dfs(node):\n",
    "    #base case if no node in a tree\n",
    "    if not node:\n",
    "        return\n",
    "\n",
    "    postorder_dfs(node.left)\n",
    "    postorder_dfs(node.right)\n",
    "    print(node.val)\n",
    "    return\n",
    "postorder_dfs(root)"
   ]
  },
  {
   "cell_type": "code",
   "execution_count": null,
   "id": "1403519f",
   "metadata": {},
   "outputs": [],
   "source": []
  },
  {
   "cell_type": "code",
   "execution_count": 106,
   "id": "c0672f42",
   "metadata": {},
   "outputs": [],
   "source": [
    "###################################### Watch Video ####################################################\n",
    "# Example 1: 104. Maximum Depth of Binary Tree\n",
    "# Given the root of a binary tree, find the length of the longest path from the root to a leaf."
   ]
  },
  {
   "cell_type": "code",
   "execution_count": 21,
   "id": "6b1e96b4",
   "metadata": {},
   "outputs": [],
   "source": [
    "# Definition for a binary tree node.\n",
    "class TreeNode:\n",
    "    def __init__(self, val=0, left=None, right=None):\n",
    "        self.val = val\n",
    "        self.left = left\n",
    "        self.right = right\n",
    "    \n",
    "def maxDepth(root) -> int:\n",
    "        #base case if no node in a tree, this condition terminates the function\n",
    "        if not root:\n",
    "            return 0\n",
    "        \n",
    "        left = maxDepth(root.left)\n",
    "        right = maxDepth(root.right)\n",
    "        return max(left, right) + 1\n",
    "    \n",
    "    \n",
    "# A really important concept regarding recursion is that each function call stores its own variables. \n",
    "# Because we are calling the function for each node, that means every node has its own unique values of left and right \n",
    "\n",
    "# When we get to the node labeled 6, there are actually 4 different values of left simultaneously.\n",
    "\n",
    "\"\"\"\n",
    "The ex used for above explaination looks like:\n",
    "            0\n",
    "          /   \\\n",
    "         1     2\n",
    "       /  \\     \\\n",
    "      3    4     5\n",
    "                  \\\n",
    "                   6\n",
    "\n",
    "\"\"\""
   ]
  },
  {
   "cell_type": "code",
   "execution_count": 22,
   "id": "bf8ff773",
   "metadata": {},
   "outputs": [
    {
     "data": {
      "text/plain": [
       "4"
      ]
     },
     "execution_count": 22,
     "metadata": {},
     "output_type": "execute_result"
    }
   ],
   "source": [
    "maxDepth(root)"
   ]
  },
  {
   "cell_type": "markdown",
   "id": "728b111a",
   "metadata": {},
   "source": [
    "##### Path Sum"
   ]
  },
  {
   "cell_type": "code",
   "execution_count": null,
   "id": "d7031e35",
   "metadata": {},
   "outputs": [],
   "source": [
    "# Example 2: 112. Path Sum\n",
    "\n",
    "# Given the root of a binary tree and an integer targetSum, \n",
    "# return true if there exists a path from the root to a leaf such that the sum of the nodes on the path is equal to targetSum, \n",
    "# and return false otherwise.\n"
   ]
  },
  {
   "cell_type": "code",
   "execution_count": 2,
   "id": "da61f198",
   "metadata": {},
   "outputs": [],
   "source": [
    "# First, what information do we need at each function call? We need the current node, but do we need anything else? \n",
    "# If we also keep an integer curr that represents the current sum of the nodes from the root to the current node, \n",
    "# we can check this value against targetSum when we find a leaf. \n",
    "# Thus, let's have a helper function dfs(node, curr) that returns true if there is a path starting at node and ending at a leaf \n",
    "# with a sum equal to targetSum, if we already have curr contributed towards the sum.\n",
    "\n",
    "# What are the base cases? First of all, if we have an empty tree, we can't have a path as there are no nodes, so return false. \n",
    "# If we are at a leaf node (which we can check by seeing if both children are null), then return (curr + node.val) == targetSum.\n",
    "\n",
    "# Otherwise, if we are not at a leaf, we could either continue down the left path or the right path. \n",
    "# We only need one path to equal targetSum, so return true if either works. Don't forget to add the current node's value to curr."
   ]
  },
  {
   "cell_type": "code",
   "execution_count": null,
   "id": "00f68043",
   "metadata": {},
   "outputs": [],
   "source": [
    "\n",
    "def hasPathSum(root, targetSum) -> bool:\n",
    "    def dfs(node, curr):\n",
    "        #Base Case1\n",
    "        #its a base case, if we have an empty tree then there can't be a path\n",
    "        if not node:\n",
    "            return False\n",
    "        \n",
    "        \n",
    "        #Base Case2\n",
    "        # if both children are null, then the node is a leaf\n",
    "        if node.left == None and node.right == None:\n",
    "            return (curr + node.val) == targetSum\n",
    "        \n",
    "        #preorder application\n",
    "        curr += node.val\n",
    "        \n",
    "        left = dfs(node.left, curr)\n",
    "        right = dfs(node.right, curr)\n",
    "        \n",
    "        \n",
    "        #if either left or right has a valid path then return same\n",
    "        return left or right\n",
    "\n",
    "    return dfs(root, 0)\n",
    "\n",
    "\n",
    "\"\"\"\n",
    "Try to visualize on a tree that looks like:\n",
    "            0\n",
    "          /   \\\n",
    "         1     2\n",
    "       /  \\     \\\n",
    "      3    4     5\n",
    "                  \\\n",
    "                   6\n",
    "\n",
    "\"\"\"\n"
   ]
  },
  {
   "cell_type": "markdown",
   "id": "bd22edff",
   "metadata": {},
   "source": [
    "##### Count Good Nodes in Binary Tree"
   ]
  },
  {
   "cell_type": "code",
   "execution_count": 1,
   "id": "83464348",
   "metadata": {},
   "outputs": [],
   "source": [
    "# Example 3: 1448. Count Good Nodes in Binary Tree\n",
    "# Given the root of a binary tree, find the number of nodes that are good. \n",
    "# A node is good if the path between the root and the node has no nodes with a greater value.\n"
   ]
  },
  {
   "cell_type": "code",
   "execution_count": 10,
   "id": "c0e2c351",
   "metadata": {},
   "outputs": [],
   "source": [
    "def goodNodes(root) -> int:\n",
    "        \n",
    "        def dfs(node, max_so_far):\n",
    "            \n",
    "            #just the base case, if no node present then return 0            \n",
    "            if not node:\n",
    "                return 0\n",
    "            \n",
    "            left = dfs(node.left, max(max_so_far, node.val))\n",
    "            right = dfs(node.right, max(max_so_far, node.val))\n",
    "            \n",
    "            ans = left + right\n",
    "            \n",
    "            if node.val >= max_so_far:\n",
    "                ans += 1\n",
    "\n",
    "            return ans\n",
    "\n",
    "        #to guarantee that root is always counted a good node\n",
    "        #this actually becomes last call at root, with max_so_far = -np.inf\n",
    "        return dfs(root, float(\"-inf\"))"
   ]
  },
  {
   "cell_type": "code",
   "execution_count": 12,
   "id": "e484910f",
   "metadata": {},
   "outputs": [
    {
     "data": {
      "text/plain": [
       "7"
      ]
     },
     "execution_count": 12,
     "metadata": {},
     "output_type": "execute_result"
    }
   ],
   "source": [
    "#root is always a good node\n",
    "\n",
    "#in the left subtree, 1 will have ans = 1, from left and 1 from right (for both its children max so far = 1, max node.val upto node 1)\n",
    "#at 3 , left will return 0 (as no left node at 3, so base1 will return 0), right will return 0\n",
    "# ans = 0+0, because node.val (3) > max_so_far (1), ans becomes 1\n",
    "#at 1, left returns 1 as explained above, similarly right will return 1, haence at 1, ans = 1 + 1\n",
    "# also node.val (1) > 0, max_so_far = value upto its parent node, so ans = 2+1\n",
    "# at 0, left returns 3\n",
    "\n",
    "# in the right subtree, we start at last node ie, 6, max so far for it is 5(its parent node).left = right =0, ans = 0+1 as 6>5\n",
    "# at 5, left returns 0 and right returns 1, ans = 0+1, since node.val (5) > max_so_far = 2, ans = 1 + 1\n",
    "# at 2 left returns 0 and right returns 2, and since node.val (2) > max_so_far = 0, ans = 2 + 1\n",
    "\n",
    "# at 0 , right returns 3, left returns 3, so ans = 3+3,  and since node.val (0) > max_so_far = -np.inf, ans = 6 + 1\n",
    "\n",
    "\n",
    "\"\"\"\n",
    "The ex used for below run looks like:\n",
    "            0\n",
    "          /   \\\n",
    "         1     2\n",
    "       /  \\     \\\n",
    "      3    4     5\n",
    "                  \\\n",
    "                   6\n",
    "\n",
    "\"\"\"\n",
    "\n",
    "\n",
    "\n",
    "goodNodes(root)"
   ]
  },
  {
   "cell_type": "markdown",
   "id": "137fd197",
   "metadata": {},
   "source": [
    "##### Same Tree"
   ]
  },
  {
   "cell_type": "code",
   "execution_count": 13,
   "id": "9ccacbc6",
   "metadata": {},
   "outputs": [],
   "source": [
    "# Example 4: 100. Same Tree\n",
    "# Given the roots of two binary trees p and q, check if they are the same tree. \n",
    "# Two binary trees are the same tree if they are structurally identical and the nodes have the same values.\n"
   ]
  },
  {
   "cell_type": "code",
   "execution_count": 14,
   "id": "9dfe842d",
   "metadata": {},
   "outputs": [],
   "source": [
    "# This problem really demonstrates the recursive nature of binary trees.\n",
    "\n",
    "# If p and q are the same tree, then the following is true:\n",
    "\n",
    "# p.val = q.val\n",
    "# p.left and q.left are the same tree\n",
    "# p.right and q.right are the same tree\n",
    "\n",
    "# The main idea is that if any two trees are the same, then their subtrees must also be the same. \n",
    "# This gives us a recursive definition of the problem. \n",
    "# Because the function we are trying to implement is supposed to tell us if two trees are the same, \n",
    "# we can use the function itself to answer conditions 2 and 3.\n"
   ]
  },
  {
   "cell_type": "code",
   "execution_count": null,
   "id": "cf713a9a",
   "metadata": {},
   "outputs": [],
   "source": [
    "#Recursion Design\n",
    "# The following condition can be used to check if p and q are the same tree:\n",
    "\n",
    "# p.val == q.val && isSameTree(p.left, q.left) && isSameTree(p.right, q.right)"
   ]
  },
  {
   "cell_type": "code",
   "execution_count": null,
   "id": "a79f11db",
   "metadata": {},
   "outputs": [],
   "source": [
    "#Think of base case so that the recursion eventually terminates.\n",
    "\n",
    "\n"
   ]
  },
  {
   "cell_type": "code",
   "execution_count": null,
   "id": "54e7a2b7",
   "metadata": {},
   "outputs": [],
   "source": [
    "def isSameTree(p, q):\n",
    "    #what if p is not None but q is None\n",
    "    if not p:\n",
    "        if not q:\n",
    "            return True\n",
    "        return False\n",
    "    \n",
    "    \n",
    "    left = isSameTree(p.left, q.left)\n",
    "    right = isSameTree(p.left, q.left)\n",
    "    \n",
    "    if p.val == q.val & isSameTree(p.left, q.left) & isSameTree(p.right, q.right):\n",
    "        return True\n",
    "    \n",
    "    return left and right\n",
    "    \n",
    "    "
   ]
  },
  {
   "cell_type": "code",
   "execution_count": 2,
   "id": "aad23abd",
   "metadata": {},
   "outputs": [],
   "source": [
    "# Check the problem in above code\n",
    "def isSameTree(self, p: Optional[TreeNode], q: Optional[TreeNode]) -> bool:\n",
    "        \n",
    "        if p == None and q == None:\n",
    "            return True\n",
    "        \n",
    "        if p == None or q == None:\n",
    "            return False\n",
    "    \n",
    "        if p.val != q.val:\n",
    "            return False\n",
    "    \n",
    "        left = self.isSameTree(p.left, q.left)\n",
    "        right = self.isSameTree(p.left, q.left)\n",
    "    \n",
    "        \n",
    "        #if left subtree is True and right subtree is True and root value are same only then two trees are same \n",
    "        return left and right"
   ]
  },
  {
   "cell_type": "code",
   "execution_count": null,
   "id": "e5c3549d",
   "metadata": {},
   "outputs": [],
   "source": []
  },
  {
   "cell_type": "markdown",
   "id": "f53de1cd",
   "metadata": {},
   "source": [
    "##### Minimum Depth of Binary Tree"
   ]
  },
  {
   "cell_type": "code",
   "execution_count": 3,
   "id": "9084e0f4",
   "metadata": {},
   "outputs": [],
   "source": [
    "# Given a binary tree, find its minimum depth.\n",
    "\n",
    "# The minimum depth is the number of nodes along the shortest path from the root node down to the nearest leaf node.\n",
    "# Note: A leaf is a node with no children."
   ]
  },
  {
   "cell_type": "code",
   "execution_count": 4,
   "id": "88bad0c9",
   "metadata": {},
   "outputs": [],
   "source": [
    "# Input: root = [3,9,20,null,null,15,7]\n",
    "# Output: 2\n",
    "'''\n",
    "      3\n",
    "    /   \\\n",
    "   9     20\n",
    "        /  \\\n",
    "       15   7\n",
    "\n",
    "'''\n",
    "\n"
   ]
  },
  {
   "cell_type": "code",
   "execution_count": null,
   "id": "5daabe5c",
   "metadata": {},
   "outputs": [],
   "source": [
    "# Input: root = [2,null,3,null,4,null,5,null,6]\n",
    "# Output: 5\n",
    "'''\n",
    "     2\n",
    "      \\\n",
    "       3\n",
    "        \\ \n",
    "         4\n",
    "          \\\n",
    "           5\n",
    "            \\\n",
    "             6\n",
    "\n",
    "'''\n",
    "\n"
   ]
  },
  {
   "cell_type": "code",
   "execution_count": null,
   "id": "47694250",
   "metadata": {},
   "outputs": [],
   "source": [
    "class Solution:\n",
    "    def minDepth(self, root: Optional[TreeNode]) -> int:\n",
    "        def dfs(node, min_depth):\n",
    "            \n",
    "            \n",
    "            \n",
    "            if not node:\n",
    "                return 0 \n",
    "            \n",
    "            left = dfs(node.left, min_depth)\n",
    "            right = dfs(node.right, min_depth)\n",
    "            \n",
    "            if (left == 0 and right>0):\n",
    "                return(right+1)\n",
    "            elif (right == 0 and left>0):\n",
    "                return(left+1)\n",
    "            else:\n",
    "                return(min(left, right)+1)\n",
    "        \n",
    "        return(dfs(root,0))\n",
    "            \n",
    "            \n",
    "        \n",
    "        \n",
    "        \n",
    "        "
   ]
  },
  {
   "cell_type": "markdown",
   "id": "9689398d",
   "metadata": {},
   "source": [
    "##### Maximum Difference Between Node and Ancestor"
   ]
  },
  {
   "cell_type": "code",
   "execution_count": null,
   "id": "2c92ad7f",
   "metadata": {},
   "outputs": [],
   "source": [
    "# Given the root of a binary tree, find the maximum value v for which there exist different nodes a and b \n",
    "# where v = |a.val - b.val| and a is an ancestor of b.\n",
    "\n",
    "# A node a is an ancestor of b if either: any child of a is equal to b or any child of a is an ancestor of b."
   ]
  },
  {
   "cell_type": "code",
   "execution_count": 5,
   "id": "de2bc52e",
   "metadata": {},
   "outputs": [],
   "source": [
    "# Input: root = [8,3,10,1,6,null,14,null,null,4,7,13]\n",
    "# Output: 7\n",
    "# Explanation: We have various ancestor-node differences, some of which are given below :\n",
    "# |8 - 3| = 5\n",
    "# |3 - 7| = 4\n",
    "# |8 - 1| = 7\n",
    "# |10 - 13| = 3\n",
    "# Among all possible differences, the maximum value of 7 is obtained by |8 - 1| = 7.\n",
    "\n"
   ]
  },
  {
   "attachments": {
    "image.png": {
     "image/png": "[encoded data removed]"
    }
   },
   "cell_type": "markdown",
   "id": "0649b4c8",
   "metadata": {},
   "source": [
    "![image.png](attachment:image.png)"
   ]
  },
  {
   "cell_type": "code",
   "execution_count": null,
   "id": "0d7279b4",
   "metadata": {},
   "outputs": [],
   "source": []
  },
  {
   "cell_type": "code",
   "execution_count": null,
   "id": "4e752032",
   "metadata": {},
   "outputs": [],
   "source": []
  },
  {
   "cell_type": "code",
   "execution_count": null,
   "id": "b7312ae0",
   "metadata": {},
   "outputs": [],
   "source": []
  },
  {
   "cell_type": "code",
   "execution_count": null,
   "id": "b89985b4",
   "metadata": {},
   "outputs": [],
   "source": []
  },
  {
   "cell_type": "code",
   "execution_count": null,
   "id": "9e7ac3e3",
   "metadata": {},
   "outputs": [],
   "source": []
  },
  {
   "cell_type": "markdown",
   "id": "1a535d83",
   "metadata": {},
   "source": [
    "##### Lowest Common Ancestor of a Binary Tree"
   ]
  },
  {
   "cell_type": "code",
   "execution_count": null,
   "id": "734c5f39",
   "metadata": {},
   "outputs": [],
   "source": [
    "# https://en.wikipedia.org/wiki/Lowest_common_ancestor\n",
    "\n",
    "#Note: If you are having trouble understanding the following problem and solution, please do not feel discouraged! The problem was going to be removed from the course as it is significantly more difficult than the other examples we have looked at.\n",
    "#We have only kept it in the course as a \"bonus\" since it is a classic problem.\n",
    "#Bonus example: 236. Lowest Common Ancestor of a Binary Tree\n",
    "#Given the root of a binary tree and two nodes p and q that are in the tree, \n",
    "# return the lowest common ancestor (LCA) of the two nodes. \n",
    "# The LCA is the lowest node in the tree that has both p and q as descendants \n",
    "# (note: a node is a descendant of itself).\n"
   ]
  },
  {
   "cell_type": "code",
   "execution_count": null,
   "id": "9f47fbdd",
   "metadata": {},
   "outputs": [],
   "source": []
  },
  {
   "cell_type": "code",
   "execution_count": 20,
   "id": "8bf51868",
   "metadata": {},
   "outputs": [],
   "source": [
    "class Solution:\n",
    "    def lowestCommonAncestor(self, root: 'TreeNode', p: 'TreeNode', q: 'TreeNode') -> 'TreeNode':\n",
    "        #base case1\n",
    "        if not root:\n",
    "            return None\n",
    "        \n",
    "        # first case\n",
    "        if root == p or root == q:\n",
    "            return root\n",
    "        \n",
    "        left = self.lowestCommonAncestor(root.left, p, q)\n",
    "        right = self.lowestCommonAncestor(root.right, p, q)\n",
    "        \n",
    "        # second case\n",
    "        if left and right:\n",
    "            return root\n",
    "        \n",
    "        # third case\n",
    "        if left:\n",
    "            return left\n",
    "        \n",
    "        return right\n",
    "    \n",
    "\n"
   ]
  },
  {
   "cell_type": "markdown",
   "id": "0962b328",
   "metadata": {},
   "source": [
    "\"\"\"\n",
    "The ex used for above code looks like:\n",
    "            0\n",
    "          /   \\\n",
    "         1     2\n",
    "       /  \\     \\\n",
    "      3    4     5\n",
    "                  \\\n",
    "                   6\n",
    "\n",
    "\"\"\""
   ]
  },
  {
   "cell_type": "code",
   "execution_count": 30,
   "id": "2b5374f5",
   "metadata": {},
   "outputs": [
    {
     "name": "stdout",
     "output_type": "stream",
     "text": [
      "<__main__.TreeNode object at 0x00000212D7ACBFD0>\n"
     ]
    }
   ],
   "source": [
    "z = Solution()\n",
    "print(z.lowestCommonAncestor(root, one, two))"
   ]
  },
  {
   "cell_type": "code",
   "execution_count": null,
   "id": "6de2d8c2",
   "metadata": {},
   "outputs": [],
   "source": []
  },
  {
   "cell_type": "markdown",
   "id": "dea115be",
   "metadata": {},
   "source": [
    "##### Tree Visualize"
   ]
  },
  {
   "cell_type": "code",
   "execution_count": 82,
   "id": "2d63aab2",
   "metadata": {},
   "outputs": [
    {
     "name": "stdout",
     "output_type": "stream",
     "text": [
      "                              \n",
      "      1               2       \n",
      "  3       4               5   \n",
      "                            6 \n"
     ]
    }
   ],
   "source": [
    "class Treenode:\n",
    "    def __init__(self, data):\n",
    "        self.data = data\n",
    "        self.left = None\n",
    "        self.right = None\n",
    "\n",
    "\n",
    "class Tree:\n",
    "    def __init__(self):\n",
    "        self.root = None\n",
    " \n",
    " \n",
    "def height(root):\n",
    "    if root is None:\n",
    "        return 0\n",
    "    return max(height(root.left), height(root.right))+1\n",
    "\n",
    "\n",
    "def getcol(h):\n",
    "    if h == 1:\n",
    "        return 1\n",
    "    return getcol(h-1) + getcol(h-1) + 1\n",
    "\n",
    "\n",
    "def printTree(M, root, col, row, height):\n",
    "    if root is None:\n",
    "        return\n",
    "    M[row][col] = root.data\n",
    "    printTree(M, root.left, col-pow(2, height-2), row+1, height-1)\n",
    "    printTree(M, root.right, col+pow(2, height-2), row+1, height-1)\n",
    "\n",
    "\n",
    "def TreePrinter():\n",
    "    h = height(myTree.root)\n",
    "    col = getcol(h)\n",
    "    M = [[0 for _ in range(col)] for __ in range(h)]\n",
    "    printTree(M, myTree.root, col//2, 0, h)\n",
    "    for i in M:\n",
    "        for j in i:\n",
    "            if j == 0:\n",
    "                print(\" \", end=\" \")\n",
    "            else:\n",
    "                print(j, end=\" \")\n",
    "        print(\"\")\n",
    " \n",
    " \n",
    "myTree = Tree()\n",
    "myTree.root = Treenode(0)\n",
    "myTree.root.left = Treenode(1)\n",
    "myTree.root.right = Treenode(2)\n",
    "myTree.root.left.left = Treenode(3)\n",
    "myTree.root.left.right = Treenode(4)\n",
    "\n",
    "myTree.root.right.right = Treenode(5)\n",
    "myTree.root.right.right.right = Treenode(6)\n",
    "TreePrinter()"
   ]
  }
 ],
 "metadata": {
  "kernelspec": {
   "display_name": "Python 3 (ipykernel)",
   "language": "python",
   "name": "python3"
  },
  "language_info": {
   "codemirror_mode": {
    "name": "ipython",
    "version": 3
   },
   "file_extension": ".py",
   "mimetype": "text/x-python",
   "name": "python",
   "nbconvert_exporter": "python",
   "pygments_lexer": "ipython3",
   "version": "3.9.12"
  },
  "toc": {
   "base_numbering": 1,
   "nav_menu": {},
   "number_sections": true,
   "sideBar": true,
   "skip_h1_title": false,
   "title_cell": "Table of Contents",
   "title_sidebar": "Contents",
   "toc_cell": false,
   "toc_position": {},
   "toc_section_display": true,
   "toc_window_display": true
  },
  "varInspector": {
   "cols": {
    "lenName": 16,
    "lenType": 16,
    "lenVar": 40
   },
   "kernels_config": {
    "python": {
     "delete_cmd_postfix": "",
     "delete_cmd_prefix": "del ",
     "library": "var_list.py",
     "varRefreshCmd": "print(var_dic_list())"
    },
    "r": {
     "delete_cmd_postfix": ") ",
     "delete_cmd_prefix": "rm(",
     "library": "var_list.r",
     "varRefreshCmd": "cat(var_dic_list()) "
    }
   },
   "types_to_exclude": [
    "module",
    "function",
    "builtin_function_or_method",
    "instance",
    "_Feature"
   ],
   "window_display": false
  }
 },
 "nbformat": 4,
 "nbformat_minor": 5
}
