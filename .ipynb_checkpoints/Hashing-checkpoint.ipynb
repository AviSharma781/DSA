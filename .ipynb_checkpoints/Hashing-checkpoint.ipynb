{
 "cells": [
  {
   "cell_type": "code",
   "execution_count": 29,
   "id": "9c020c0d",
   "metadata": {},
   "outputs": [],
   "source": [
    "import pandas as pd\n",
    "import numpy as np"
   ]
  },
  {
   "cell_type": "code",
   "execution_count": 2,
   "id": "bf62ae4a",
   "metadata": {},
   "outputs": [
    {
     "data": {
      "text/plain": [
       "'C:\\\\Users\\\\avi\\\\Practice Folder\\\\LeetCode DSA'"
      ]
     },
     "execution_count": 2,
     "metadata": {},
     "output_type": "execute_result"
    }
   ],
   "source": [
    "import os\n",
    "os.getcwd()"
   ]
  },
  {
   "cell_type": "code",
   "execution_count": null,
   "id": "538c91ce",
   "metadata": {},
   "outputs": [],
   "source": []
  },
  {
   "cell_type": "markdown",
   "id": "4d9e6bbb",
   "metadata": {},
   "source": [
    "### Hashing"
   ]
  },
  {
   "cell_type": "markdown",
   "id": "59dc1d3e",
   "metadata": {
    "heading_collapsed": true
   },
   "source": [
    "#### Intro"
   ]
  },
  {
   "cell_type": "code",
   "execution_count": 2,
   "id": "db1bd0dc",
   "metadata": {
    "hidden": true
   },
   "outputs": [],
   "source": [
    "# hash map is an unordered data structure that stores key-value pairs.\n",
    "# An ordered data structure is one where the insertion order is \"remembered\". \n",
    "# An unordered data structure is one where the insertion order is not relevant."
   ]
  },
  {
   "cell_type": "code",
   "execution_count": null,
   "id": "488ba1a2",
   "metadata": {
    "hidden": true
   },
   "outputs": [],
   "source": [
    "### Example 1: Two Sum\n",
    "\n",
    "#Given an array of integers nums and an integer target, return indices of two numbers such that they add up to target.\n",
    "# You cannot use the same index twice.\n"
   ]
  },
  {
   "cell_type": "code",
   "execution_count": 3,
   "id": "27280c48",
   "metadata": {
    "hidden": true
   },
   "outputs": [],
   "source": [
    "def twoSum(nums, target):\n",
    "        dic = {}\n",
    "        for i in range(len(nums)):\n",
    "            num = nums[i]\n",
    "            complement = target - num\n",
    "            if complement in dic: # This operation is O(1)!\n",
    "                return [i, dic[complement]]\n",
    "            \n",
    "            dic[num] = i\n",
    "        \n",
    "        return [-1, -1]"
   ]
  },
  {
   "cell_type": "code",
   "execution_count": null,
   "id": "83459fd1",
   "metadata": {
    "hidden": true
   },
   "outputs": [],
   "source": [
    "# Example 2: 2351. First Letter to Appear Twice\n",
    "# Given a string s, return the first character to appear twice. It is guaranteed that the input will have a duplicate character.\n"
   ]
  },
  {
   "cell_type": "code",
   "execution_count": 11,
   "id": "f29f50a9",
   "metadata": {
    "hidden": true
   },
   "outputs": [
    {
     "data": {
      "text/plain": [
       "'a'"
      ]
     },
     "execution_count": 11,
     "metadata": {},
     "output_type": "execute_result"
    }
   ],
   "source": [
    "def repeatedCharacter(s):\n",
    "        dic = {}\n",
    "        for i in range(len(s)):\n",
    "            char = s[i]\n",
    "            if char in dic:\n",
    "                return(char)\n",
    "            dic[char] = i\n",
    "        return('NA')\n",
    "repeatedCharacter('abcabcdfe')"
   ]
  },
  {
   "cell_type": "code",
   "execution_count": 5,
   "id": "a6e9e940",
   "metadata": {
    "hidden": true
   },
   "outputs": [],
   "source": [
    "### Using Set"
   ]
  },
  {
   "cell_type": "code",
   "execution_count": 9,
   "id": "2c8ceb83",
   "metadata": {
    "hidden": true
   },
   "outputs": [
    {
     "data": {
      "text/plain": [
       "'a'"
      ]
     },
     "execution_count": 9,
     "metadata": {},
     "output_type": "execute_result"
    }
   ],
   "source": [
    "def repeatedCharacter(s):\n",
    "        seen = set()\n",
    "        for c in s:\n",
    "            if c in seen:\n",
    "                return c\n",
    "            seen.add(c)\n",
    "\n",
    "        return \" \"\n",
    "repeatedCharacter('abcabcdfe')"
   ]
  },
  {
   "cell_type": "code",
   "execution_count": null,
   "id": "b5a43dce",
   "metadata": {
    "hidden": true
   },
   "outputs": [],
   "source": [
    "# Example 3: Given an integer array nums, \n",
    "# find all the unique numbers x in nums that satisfy the following: x + 1 is not in nums, and x - 1 is not in nums."
   ]
  },
  {
   "cell_type": "code",
   "execution_count": 14,
   "id": "dc843994",
   "metadata": {
    "hidden": true
   },
   "outputs": [
    {
     "data": {
      "text/plain": [
       "[23]"
      ]
     },
     "execution_count": 14,
     "metadata": {},
     "output_type": "execute_result"
    }
   ],
   "source": [
    "def find_numbers(nums):\n",
    "    ans = []\n",
    "    nums = set(nums)\n",
    "\n",
    "    for num in nums:\n",
    "        if (num + 1 not in nums) and (num - 1 not in nums):\n",
    "            ans.append(num)\n",
    "    \n",
    "    return ans\n",
    "find_numbers(nums = [0,1,2,3,4,5,6,23])"
   ]
  },
  {
   "cell_type": "markdown",
   "id": "c4e58271",
   "metadata": {
    "heading_collapsed": true
   },
   "source": [
    "#### Check if the Sentence Is Pangram"
   ]
  },
  {
   "cell_type": "code",
   "execution_count": 15,
   "id": "0b098ec6",
   "metadata": {
    "hidden": true
   },
   "outputs": [],
   "source": [
    "# A pangram is a sentence where every letter of the English alphabet appears at least once.\n",
    "# Given a string sentence containing only lowercase English letters, return true if sentence is a pangram, or false otherwise."
   ]
  },
  {
   "cell_type": "code",
   "execution_count": 16,
   "id": "7c507c18",
   "metadata": {
    "hidden": true
   },
   "outputs": [],
   "source": [
    "# Input: sentence = \"thequickbrownfoxjumpsoverthelazydog\"\n",
    "# Output: true\n",
    "# Explanation: sentence contains at least one of every letter of the English alphabet."
   ]
  },
  {
   "cell_type": "code",
   "execution_count": 18,
   "id": "ca0526b3",
   "metadata": {
    "hidden": true
   },
   "outputs": [
    {
     "data": {
      "text/plain": [
       "True"
      ]
     },
     "execution_count": 18,
     "metadata": {},
     "output_type": "execute_result"
    }
   ],
   "source": [
    "def checkIfPangram(sentence):\n",
    "    dic = set('abcdefghijklmnopqrstuvwxyz')\n",
    "    \n",
    "    for i in range(len(sentence)):\n",
    "        if sentence[i] not in dic: return(False)\n",
    "    return(True)\n",
    "\n",
    "checkIfPangram(sentence = 'thequickbrownfoxjumpsoverthelazydog')"
   ]
  },
  {
   "cell_type": "code",
   "execution_count": 6,
   "id": "3580aae1",
   "metadata": {
    "hidden": true
   },
   "outputs": [
    {
     "data": {
      "text/plain": [
       "'T'"
      ]
     },
     "execution_count": 6,
     "metadata": {},
     "output_type": "execute_result"
    }
   ],
   "source": [
    "sentence = 'thequickbrownfoxjumpsoverthelazydog'\n",
    "dic = set('abcdefghijklmnopqrstuvwxyz')\n",
    "sentence = set(sentence)\n",
    "count=0\n",
    "for i in sentence:\n",
    "    if i not in dic: ans = 'F'\n",
    "    count +=1\n",
    "if count==26: ans='T'\n",
    "else: ans = 'F'\n",
    "ans"
   ]
  },
  {
   "cell_type": "markdown",
   "id": "44b6f698",
   "metadata": {
    "heading_collapsed": true
   },
   "source": [
    "#### Missing Number"
   ]
  },
  {
   "cell_type": "code",
   "execution_count": null,
   "id": "d92dd551",
   "metadata": {
    "hidden": true
   },
   "outputs": [],
   "source": [
    "# Given an array nums containing n distinct numbers in the range [0, n], \n",
    "# return the only number in the range that is missing from the array."
   ]
  },
  {
   "cell_type": "code",
   "execution_count": null,
   "id": "e7f3ff37",
   "metadata": {
    "hidden": true
   },
   "outputs": [],
   "source": []
  },
  {
   "cell_type": "code",
   "execution_count": 33,
   "id": "cf3cd202",
   "metadata": {
    "hidden": true
   },
   "outputs": [],
   "source": [
    "# Input: nums = [3,0,1]\n",
    "# Output: 2\n",
    "# Explanation: n = 3 since there are 3 numbers, so all numbers are in the range [0,3].\n",
    "# 2 is the missing number in the range since it does not appear in nums."
   ]
  },
  {
   "cell_type": "code",
   "execution_count": 34,
   "id": "5e9f287d",
   "metadata": {
    "hidden": true
   },
   "outputs": [
    {
     "data": {
      "text/plain": [
       "2"
      ]
     },
     "execution_count": 34,
     "metadata": {},
     "output_type": "execute_result"
    }
   ],
   "source": [
    "def missingNumber(nums):\n",
    "    \n",
    "    set1 = set(nums)\n",
    "    \n",
    "    for i in range(len(nums)+1):\n",
    "        num = nums[i]\n",
    "        if i not in set1:return(i)\n",
    "        \n",
    "missingNumber(nums = [3,0,1])    \n",
    "    \n",
    "    \n",
    "    \n",
    "    "
   ]
  },
  {
   "cell_type": "markdown",
   "id": "073df2de",
   "metadata": {
    "heading_collapsed": true
   },
   "source": [
    "#### Counting Numbers"
   ]
  },
  {
   "cell_type": "code",
   "execution_count": 32,
   "id": "a359cdd5",
   "metadata": {
    "hidden": true
   },
   "outputs": [
    {
     "data": {
      "text/plain": [
       "2"
      ]
     },
     "execution_count": 32,
     "metadata": {},
     "output_type": "execute_result"
    }
   ],
   "source": [
    "# Given an integer array arr, \n",
    "# count how many elements x there are, such that x + 1 is also in arr. \n",
    "# If there are duplicates in arr, count them separately.\n",
    "# Input: arr = [1,2,3]\n",
    "# Output: 2\n",
    "# Explanation: 1 and 2 are counted cause 2 and 3 are in arr.\n",
    "\n",
    "def countElements(arr):\n",
    "        set1 = set(arr)\n",
    "        count = 0\n",
    "        for i in range(len(arr)):\n",
    "            num = arr[i]\n",
    "            if num+1 in set1: count +=1\n",
    "            \n",
    "        return(count)\n",
    "\n",
    "\n",
    "countElements([1,2,3]) "
   ]
  },
  {
   "cell_type": "markdown",
   "id": "f607332c",
   "metadata": {},
   "source": [
    "### Counting"
   ]
  },
  {
   "cell_type": "markdown",
   "id": "f38ca875",
   "metadata": {},
   "source": [
    "#### Intro"
   ]
  },
  {
   "cell_type": "code",
   "execution_count": 1,
   "id": "9856b237",
   "metadata": {},
   "outputs": [],
   "source": [
    "# Example 1: You are given a string s and an integer k. \n",
    "# Find the length of the longest substring that contains at most k distinct characters.\n",
    "# (think if this can be done using sliding window? reasons?)\n",
    "# For example, given s = \"eceba\" and k = 2, return 3. \n",
    "# The longest substring with at most 2 distinct characters is \"ece\".\n"
   ]
  },
  {
   "cell_type": "raw",
   "id": "b60369ed",
   "metadata": {},
   "source": [
    "This problem deals with substrings and has a constraint on the substrings (at most k distinct characters). These characteristics let us know that we should consider sliding window. Remember, the idea of a sliding window is to add elements by sliding to the right until the window violates the constraint. Once it does, we shrink the window from the left until it no longer violates the constraint. In this problem, we are concerned with the number of distinct characters in the window. The brute force way to check for this constraint would be to check the entire window every time, which could take O(n) time. Using a hash map, we can check the constraint in O(1).\n",
    "\n",
    "Let's use a hash map counts to keep count of the characters in the window. This means we will map letters to their frequency. The length (number of keys) in counts at any time is the number of distinct characters. When we remove from the left, we can decrement the frequency of the elements being removed. When the frequency becomes 0, we know this character is no longer part of the window, and we can delete the key.\n",
    "\n",
    "In Python, the collections module provides very useful data structures. We will be using a defaultdict in the Python code. Functionality-wise, a defaultdict is the same as a hash map, it's just more pleasant to work with."
   ]
  },
  {
   "cell_type": "code",
   "execution_count": 31,
   "id": "57b58de9",
   "metadata": {},
   "outputs": [
    {
     "data": {
      "text/plain": [
       "3"
      ]
     },
     "execution_count": 31,
     "metadata": {},
     "output_type": "execute_result"
    }
   ],
   "source": [
    "#Using Sliding Window: \n",
    "s = \"eceba\"\n",
    "# s = \"eeeeee\"\n",
    "s = list(s)\n",
    "left = ans = 0\n",
    "k = 2\n",
    "\n",
    "def hash_create(left, right, s):\n",
    "    hash_ = {}\n",
    "\n",
    "    for x in range(left,right+1,1):\n",
    "\n",
    "        if s[x] in hash_ :\n",
    "            hash_[s[x]] += 1\n",
    "\n",
    "        else: hash_[s[x]] = 1\n",
    "    return(hash_)\n",
    "\n",
    "\n",
    "\n",
    "for right in range(len(s)):    \n",
    "    hash_ = hash_create(left, right, s)\n",
    "    \n",
    "    while(len(list(hash_.keys()))>k):\n",
    "            left +=1\n",
    "            hash_ = hash_create(left, right, s)\n",
    "    ans = max(ans, right-left+1)\n",
    "ans  \n"
   ]
  },
  {
   "cell_type": "code",
   "execution_count": null,
   "id": "6472da7d",
   "metadata": {},
   "outputs": [],
   "source": []
  },
  {
   "cell_type": "code",
   "execution_count": 4,
   "id": "34113a5e",
   "metadata": {},
   "outputs": [],
   "source": [
    "from collections import defaultdict\n",
    "\n",
    "def find_longest_substring(s, k):\n",
    "    counts = defaultdict(int)\n",
    "    left = ans = 0\n",
    "    for right in range(len(s)):\n",
    "        counts[s[right]] += 1\n",
    "        while len(counts) > k:\n",
    "            counts[s[left]] -= 1\n",
    "            if counts[s[left]] == 0:\n",
    "                del counts[s[left]]\n",
    "            left += 1\n",
    "#         print(counts)\n",
    "        ans = max(ans, right - left + 1)\n",
    "    \n",
    "    return ans, counts"
   ]
  },
  {
   "cell_type": "code",
   "execution_count": 5,
   "id": "9a972055",
   "metadata": {},
   "outputs": [
    {
     "data": {
      "text/plain": [
       "3"
      ]
     },
     "execution_count": 5,
     "metadata": {},
     "output_type": "execute_result"
    }
   ],
   "source": [
    "# s = \"eceba\" \n",
    "s = \"eceba\"\n",
    "k = 2\n",
    "ans, counts = find_longest_substring(s, k)\n",
    "ans"
   ]
  },
  {
   "cell_type": "code",
   "execution_count": 12,
   "id": "a3b0088d",
   "metadata": {},
   "outputs": [
    {
     "data": {
      "text/plain": [
       "(['b', 'a'], [1, 1])"
      ]
     },
     "execution_count": 12,
     "metadata": {},
     "output_type": "execute_result"
    }
   ],
   "source": [
    "list(counts.keys()), list(counts.values())"
   ]
  },
  {
   "cell_type": "code",
   "execution_count": 32,
   "id": "d57f533f",
   "metadata": {},
   "outputs": [],
   "source": [
    "# Example 2: 2248. Intersection of Multiple Arrays\n",
    "\n",
    "# Given a 2D array nums that contains n arrays of distinct integers, \n",
    "# return a sorted array containing all the numbers that appear in all n arrays.\n",
    "# For example, given nums = [[3,1,2,4,5],[1,2,3,4],[3,4,5,6]], return [3, 4]. \n",
    "# 3 and 4 are the only numbers that are in all arrays.\n"
   ]
  },
  {
   "cell_type": "code",
   "execution_count": 17,
   "id": "71555d8d",
   "metadata": {},
   "outputs": [],
   "source": [
    "#merge all arrays, count frequency of elements which are equal to n and return \n",
    "# (can't be greater than n as there are distinct integers in each array)"
   ]
  },
  {
   "cell_type": "code",
   "execution_count": 54,
   "id": "203457db",
   "metadata": {},
   "outputs": [
    {
     "data": {
      "text/plain": [
       "[10, 12, 13, 27, 45]"
      ]
     },
     "execution_count": 54,
     "metadata": {},
     "output_type": "execute_result"
    }
   ],
   "source": [
    "#NO PANDAS ALLOWED\n",
    "from collections import defaultdict, Counter\n",
    "\n",
    "# counter = defaultdict(int)\n",
    "# nums = [[3,1,2,4,5],[1,2,3,4],[3,4,5,6]]\n",
    "\n",
    "nums = [[7,34,45,10,12,27,13],[27,21,45,10,12,13]]\n",
    "n = len(nums)\n",
    "\n",
    "nums1 = []\n",
    "\n",
    "for i in range(len(nums)):\n",
    "    nums1 +=nums[i]\n",
    "\n",
    "# final = pd.DataFrame(data = dict(Counter(nums1)), index = ['count']).T\n",
    "# final[final['count']==n].index.tolist()\n",
    "\n",
    "z = dict(Counter(nums1))\n",
    "final = []\n",
    "for i,j in zip(z.keys(), z.values()):\n",
    "    if j==n:\n",
    "        final.append(i)\n",
    "\n",
    "        # final = final.sort()\n",
    "\n",
    "sorted(final)"
   ]
  },
  {
   "cell_type": "code",
   "execution_count": null,
   "id": "f731a544",
   "metadata": {},
   "outputs": [],
   "source": [
    "#Using Hashmap"
   ]
  },
  {
   "cell_type": "code",
   "execution_count": null,
   "id": "ab3a358b",
   "metadata": {},
   "outputs": [],
   "source": [
    "# Example 3: 1941. Check if All Characters Have Equal Number of Occurrences\n",
    "\n",
    "# Given a string s, determine if all characters have the same frequency.\n",
    "# For example, given s = \"abacbc\", return true. \n",
    "# All characters appear twice. Given s = \"aaabb\", return false. \"a\" appears 3 times, \"b\" appears 2 times. 3 != 2.\n"
   ]
  },
  {
   "cell_type": "code",
   "execution_count": 2,
   "id": "b61eff89",
   "metadata": {},
   "outputs": [
    {
     "data": {
      "text/plain": [
       "'True'"
      ]
     },
     "execution_count": 2,
     "metadata": {},
     "output_type": "execute_result"
    }
   ],
   "source": [
    "from collections import defaultdict, Counter\n",
    "\n",
    "\n",
    "\n",
    "s = list(\"abacbc\")\n",
    "\n",
    "z = dict(Counter(s))\n",
    "\n",
    "lst1 = list(z.values())\n",
    "freq = lst1[0]\n",
    "result  = 'True'\n",
    "for i in range(1, len(z)):\n",
    "     if(lst1[i]!=freq):\n",
    "            result = 'False'\n",
    "            break\n",
    "result"
   ]
  },
  {
   "cell_type": "code",
   "execution_count": 7,
   "id": "6ce9a730",
   "metadata": {},
   "outputs": [
    {
     "data": {
      "text/plain": [
       "True"
      ]
     },
     "execution_count": 7,
     "metadata": {},
     "output_type": "execute_result"
    }
   ],
   "source": [
    "#One Liner solution\n",
    "len(set(Counter(s).values())) == 1"
   ]
  },
  {
   "cell_type": "code",
   "execution_count": null,
   "id": "d0fdf026",
   "metadata": {},
   "outputs": [],
   "source": [
    "# Example 4: 560. Subarray Sum Equals K\n",
    "# Given an integer array nums and an integer k, find the number of subarrays whose sum is equal to k.\n",
    "#Note: array is not of distinct numbers, neither is it sorted in any way.\n",
    "#insliding window problems we have seen constraints like sum of subarray less than or equal to k"
   ]
  },
  {
   "cell_type": "markdown",
   "id": "a0dd6877",
   "metadata": {},
   "source": [
    "With a prefix sum, you can find the sum of subarrays by taking the difference between two prefix sums. Let's say that you wanted to find subarrays that had a sum exactly equal to k, and you also had a prefix sum of the input. You know that any difference in the prefix sum equal to k represents a subarray with a sum equal to k. So how do we find these differences?\n",
    "\n",
    "\n",
    "\n",
    "Let's first declare a hash map counts that maps prefix sums to how often they occur (a number could appear multiple times in a prefix sum if the input has negative numbers, for example, given nums = [1, -1, 1], the prefix sum is [1, 0, 1] and 1 appears twice). We need to initialize counts[0] = 1. This is because the empty prefix [] has a sum of 0. You'll see why this is necessary in a second.\n",
    "\n",
    "\n",
    "Next, let's declare our answer variable and curr. As we iterate over the input, curr will represent the sum of all elements we have iterated over so far (the sum of the current prefix).\n",
    "\n",
    "Now, we iterate over the input. At each element, we update curr and also maintain counts by incrementing the frequency of curr by 1. Before we update counts however, we first need to update the answer.\n",
    "\n",
    "How do we update the answer? Recall that in the sliding window article, when we were looking for the \"number of subarrays\", we focused on each index and figured out how many valid subarrays ended at the current index. We will do the same thing here. Let's say that we're at an index i. Up until this point, we know that curr stores the prefix of all elements up to i. We also know that we have stored all other prefixes before i inside of counts. Therefore, if a subarray ends at i with a sum of k, then curr - k must have been seen before.\n",
    "\n",
    "Recall that the sum of a subarray was found by taking the difference between two prefixes. If curr - k existed as a prefix before this point and our current prefix is curr, then the difference between these two prefixes is curr - (curr - k) = k, which is exactly what we are looking for.\n",
    "\n",
    "Therefore, we can increment our answer by counts[curr - k]. If the prefix curr - k occurred multiple times before (due to negative numbers), then each of those prefixes could be used as a starting point to form a subarray ending at the current index with a sum of k. That's why we need to track the frequency.\n",
    "\n",
    "\n",
    "\n",
    "\n",
    "\n",
    "\n"
   ]
  }
 ],
 "metadata": {
  "kernelspec": {
   "display_name": "Python 3 (ipykernel)",
   "language": "python",
   "name": "python3"
  },
  "language_info": {
   "codemirror_mode": {
    "name": "ipython",
    "version": 3
   },
   "file_extension": ".py",
   "mimetype": "text/x-python",
   "name": "python",
   "nbconvert_exporter": "python",
   "pygments_lexer": "ipython3",
   "version": "3.9.12"
  },
  "toc": {
   "base_numbering": 1,
   "nav_menu": {},
   "number_sections": true,
   "sideBar": true,
   "skip_h1_title": false,
   "title_cell": "Table of Contents",
   "title_sidebar": "Contents",
   "toc_cell": false,
   "toc_position": {},
   "toc_section_display": true,
   "toc_window_display": false
  },
  "varInspector": {
   "cols": {
    "lenName": 16,
    "lenType": 16,
    "lenVar": 40
   },
   "kernels_config": {
    "python": {
     "delete_cmd_postfix": "",
     "delete_cmd_prefix": "del ",
     "library": "var_list.py",
     "varRefreshCmd": "print(var_dic_list())"
    },
    "r": {
     "delete_cmd_postfix": ") ",
     "delete_cmd_prefix": "rm(",
     "library": "var_list.r",
     "varRefreshCmd": "cat(var_dic_list()) "
    }
   },
   "types_to_exclude": [
    "module",
    "function",
    "builtin_function_or_method",
    "instance",
    "_Feature"
   ],
   "window_display": false
  }
 },
 "nbformat": 4,
 "nbformat_minor": 5
}
