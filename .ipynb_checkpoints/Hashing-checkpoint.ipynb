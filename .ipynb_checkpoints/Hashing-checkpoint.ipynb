{
 "cells": [
  {
   "cell_type": "code",
   "execution_count": 1,
   "id": "9c020c0d",
   "metadata": {},
   "outputs": [],
   "source": [
    "import pandas as pd\n",
    "import numpy as np"
   ]
  },
  {
   "cell_type": "markdown",
   "id": "4d9e6bbb",
   "metadata": {},
   "source": [
    "### Hashing"
   ]
  },
  {
   "cell_type": "markdown",
   "id": "59dc1d3e",
   "metadata": {},
   "source": [
    "#### Intro"
   ]
  },
  {
   "cell_type": "code",
   "execution_count": 2,
   "id": "db1bd0dc",
   "metadata": {},
   "outputs": [],
   "source": [
    "# hash map is an unordered data structure that stores key-value pairs.\n",
    "# An ordered data structure is one where the insertion order is \"remembered\". \n",
    "# An unordered data structure is one where the insertion order is not relevant."
   ]
  },
  {
   "cell_type": "code",
   "execution_count": null,
   "id": "488ba1a2",
   "metadata": {},
   "outputs": [],
   "source": [
    "### Example 1: Two Sum\n",
    "\n",
    "#Given an array of integers nums and an integer target, return indices of two numbers such that they add up to target.\n",
    "# You cannot use the same index twice.\n"
   ]
  },
  {
   "cell_type": "code",
   "execution_count": 3,
   "id": "27280c48",
   "metadata": {},
   "outputs": [],
   "source": [
    "def twoSum(nums, target):\n",
    "        dic = {}\n",
    "        for i in range(len(nums)):\n",
    "            num = nums[i]\n",
    "            complement = target - num\n",
    "            if complement in dic: # This operation is O(1)!\n",
    "                return [i, dic[complement]]\n",
    "            \n",
    "            dic[num] = i\n",
    "        \n",
    "        return [-1, -1]"
   ]
  },
  {
   "cell_type": "code",
   "execution_count": null,
   "id": "83459fd1",
   "metadata": {},
   "outputs": [],
   "source": [
    "# Example 2: 2351. First Letter to Appear Twice\n",
    "# Given a string s, return the first character to appear twice. It is guaranteed that the input will have a duplicate character.\n"
   ]
  },
  {
   "cell_type": "code",
   "execution_count": 11,
   "id": "f29f50a9",
   "metadata": {},
   "outputs": [
    {
     "data": {
      "text/plain": [
       "'a'"
      ]
     },
     "execution_count": 11,
     "metadata": {},
     "output_type": "execute_result"
    }
   ],
   "source": [
    "def repeatedCharacter(s):\n",
    "        dic = {}\n",
    "        for i in range(len(s)):\n",
    "            char = s[i]\n",
    "            if char in dic:\n",
    "                return(char)\n",
    "            dic[char] = i\n",
    "        return('NA')\n",
    "repeatedCharacter('abcabcdfe')"
   ]
  },
  {
   "cell_type": "code",
   "execution_count": 8,
   "id": "a6e9e940",
   "metadata": {},
   "outputs": [],
   "source": [
    "### Using Set"
   ]
  },
  {
   "cell_type": "code",
   "execution_count": 9,
   "id": "2c8ceb83",
   "metadata": {},
   "outputs": [
    {
     "data": {
      "text/plain": [
       "'a'"
      ]
     },
     "execution_count": 9,
     "metadata": {},
     "output_type": "execute_result"
    }
   ],
   "source": [
    "def repeatedCharacter(s):\n",
    "        seen = set()\n",
    "        for c in s:\n",
    "            if c in seen:\n",
    "                return c\n",
    "            seen.add(c)\n",
    "\n",
    "        return \" \"\n",
    "repeatedCharacter('abcabcdfe')"
   ]
  },
  {
   "cell_type": "code",
   "execution_count": null,
   "id": "b5a43dce",
   "metadata": {},
   "outputs": [],
   "source": [
    "# Example 3: Given an integer array nums, \n",
    "# find all the unique numbers x in nums that satisfy the following: x + 1 is not in nums, and x - 1 is not in nums."
   ]
  },
  {
   "cell_type": "code",
   "execution_count": 14,
   "id": "dc843994",
   "metadata": {},
   "outputs": [
    {
     "data": {
      "text/plain": [
       "[23]"
      ]
     },
     "execution_count": 14,
     "metadata": {},
     "output_type": "execute_result"
    }
   ],
   "source": [
    "def find_numbers(nums):\n",
    "    ans = []\n",
    "    nums = set(nums)\n",
    "\n",
    "    for num in nums:\n",
    "        if (num + 1 not in nums) and (num - 1 not in nums):\n",
    "            ans.append(num)\n",
    "    \n",
    "    return ans\n",
    "find_numbers(nums = [0,1,2,3,4,5,6,23])"
   ]
  },
  {
   "cell_type": "markdown",
   "id": "c4e58271",
   "metadata": {},
   "source": [
    "#### Check if the Sentence Is Pangram"
   ]
  },
  {
   "cell_type": "code",
   "execution_count": 15,
   "id": "0b098ec6",
   "metadata": {},
   "outputs": [],
   "source": [
    "# A pangram is a sentence where every letter of the English alphabet appears at least once.\n",
    "# Given a string sentence containing only lowercase English letters, return true if sentence is a pangram, or false otherwise."
   ]
  },
  {
   "cell_type": "code",
   "execution_count": 16,
   "id": "7c507c18",
   "metadata": {},
   "outputs": [],
   "source": [
    "# Input: sentence = \"thequickbrownfoxjumpsoverthelazydog\"\n",
    "# Output: true\n",
    "# Explanation: sentence contains at least one of every letter of the English alphabet."
   ]
  },
  {
   "cell_type": "code",
   "execution_count": 18,
   "id": "ca0526b3",
   "metadata": {},
   "outputs": [
    {
     "data": {
      "text/plain": [
       "True"
      ]
     },
     "execution_count": 18,
     "metadata": {},
     "output_type": "execute_result"
    }
   ],
   "source": [
    "def checkIfPangram(sentence):\n",
    "    dic = set('abcdefghijklmnopqrstuvwxyz')\n",
    "    \n",
    "    for i in range(len(sentence)):\n",
    "        if sentence[i] not in dic: return(False)\n",
    "    return(True)\n",
    "\n",
    "checkIfPangram(sentence = 'thequickbrownfoxjumpsoverthelazydog')"
   ]
  },
  {
   "cell_type": "code",
   "execution_count": 29,
   "id": "3580aae1",
   "metadata": {},
   "outputs": [
    {
     "data": {
      "text/plain": [
       "'T'"
      ]
     },
     "execution_count": 29,
     "metadata": {},
     "output_type": "execute_result"
    }
   ],
   "source": [
    "sentence = 'thequickbrownfoxjumpsoverthelazydog'\n",
    "dic = set('abcdefghijklmnopqrstuvwxyz')\n",
    "sentence = set(sentence)\n",
    "count=0\n",
    "for i in sentence:\n",
    "    if i not in dic: ans = 'F'\n",
    "    count +=1\n",
    "if count==26: ans='T'\n",
    "else: ans = 'F'\n",
    "ans"
   ]
  },
  {
   "cell_type": "markdown",
   "id": "44b6f698",
   "metadata": {},
   "source": [
    "#### Missing Number"
   ]
  },
  {
   "cell_type": "code",
   "execution_count": null,
   "id": "d92dd551",
   "metadata": {},
   "outputs": [],
   "source": [
    "# Given an array nums containing n distinct numbers in the range [0, n], \n",
    "# return the only number in the range that is missing from the array."
   ]
  },
  {
   "cell_type": "code",
   "execution_count": 33,
   "id": "cf3cd202",
   "metadata": {},
   "outputs": [],
   "source": [
    "# Input: nums = [3,0,1]\n",
    "# Output: 2\n",
    "# Explanation: n = 3 since there are 3 numbers, so all numbers are in the range [0,3].\n",
    "# 2 is the missing number in the range since it does not appear in nums."
   ]
  },
  {
   "cell_type": "code",
   "execution_count": 34,
   "id": "5e9f287d",
   "metadata": {},
   "outputs": [
    {
     "data": {
      "text/plain": [
       "2"
      ]
     },
     "execution_count": 34,
     "metadata": {},
     "output_type": "execute_result"
    }
   ],
   "source": [
    "def missingNumber(nums):\n",
    "    \n",
    "    set1 = set(nums)\n",
    "    \n",
    "    for i in range(len(nums)+1):\n",
    "        num = nums[i]\n",
    "        if i not in set1:return(i)\n",
    "        \n",
    "missingNumber(nums = [3,0,1])    \n",
    "    \n",
    "    \n",
    "    \n",
    "    "
   ]
  },
  {
   "cell_type": "markdown",
   "id": "073df2de",
   "metadata": {},
   "source": [
    "#### Counting Numbers"
   ]
  },
  {
   "cell_type": "code",
   "execution_count": 32,
   "id": "a359cdd5",
   "metadata": {},
   "outputs": [
    {
     "data": {
      "text/plain": [
       "2"
      ]
     },
     "execution_count": 32,
     "metadata": {},
     "output_type": "execute_result"
    }
   ],
   "source": [
    "# Given an integer array arr, \n",
    "# count how many elements x there are, such that x + 1 is also in arr. \n",
    "# If there are duplicates in arr, count them separately.\n",
    "# Input: arr = [1,2,3]\n",
    "# Output: 2\n",
    "# Explanation: 1 and 2 are counted cause 2 and 3 are in arr.\n",
    "\n",
    "def countElements(arr):\n",
    "        set1 = set(arr)\n",
    "        count = 0\n",
    "        for i in range(len(arr)):\n",
    "            num = arr[i]\n",
    "            if num+1 in set1: count +=1\n",
    "            \n",
    "        return(count)\n",
    "\n",
    "\n",
    "countElements([1,2,3]) "
   ]
  },
  {
   "cell_type": "markdown",
   "id": "f607332c",
   "metadata": {},
   "source": [
    "### Counting"
   ]
  },
  {
   "cell_type": "code",
   "execution_count": null,
   "id": "9856b237",
   "metadata": {},
   "outputs": [],
   "source": []
  }
 ],
 "metadata": {
  "kernelspec": {
   "display_name": "Python 3 (ipykernel)",
   "language": "python",
   "name": "python3"
  },
  "language_info": {
   "codemirror_mode": {
    "name": "ipython",
    "version": 3
   },
   "file_extension": ".py",
   "mimetype": "text/x-python",
   "name": "python",
   "nbconvert_exporter": "python",
   "pygments_lexer": "ipython3",
   "version": "3.9.12"
  },
  "toc": {
   "base_numbering": 1,
   "nav_menu": {},
   "number_sections": true,
   "sideBar": true,
   "skip_h1_title": false,
   "title_cell": "Table of Contents",
   "title_sidebar": "Contents",
   "toc_cell": false,
   "toc_position": {},
   "toc_section_display": true,
   "toc_window_display": true
  },
  "varInspector": {
   "cols": {
    "lenName": 16,
    "lenType": 16,
    "lenVar": 40
   },
   "kernels_config": {
    "python": {
     "delete_cmd_postfix": "",
     "delete_cmd_prefix": "del ",
     "library": "var_list.py",
     "varRefreshCmd": "print(var_dic_list())"
    },
    "r": {
     "delete_cmd_postfix": ") ",
     "delete_cmd_prefix": "rm(",
     "library": "var_list.r",
     "varRefreshCmd": "cat(var_dic_list()) "
    }
   },
   "types_to_exclude": [
    "module",
    "function",
    "builtin_function_or_method",
    "instance",
    "_Feature"
   ],
   "window_display": false
  }
 },
 "nbformat": 4,
 "nbformat_minor": 5
}
