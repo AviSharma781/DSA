{
 "cells": [
  {
   "cell_type": "code",
   "execution_count": 1,
   "id": "93bb8a38",
   "metadata": {},
   "outputs": [],
   "source": [
    "import pandas as pd  \n",
    "import numpy as np "
   ]
  },
  {
   "cell_type": "markdown",
   "id": "6ae0a40f",
   "metadata": {},
   "source": [
    "#### "
   ]
  },
  {
   "cell_type": "markdown",
   "id": "67aa561e",
   "metadata": {},
   "source": [
    "#### "
   ]
  },
  {
   "cell_type": "markdown",
   "id": "b4e140d7",
   "metadata": {},
   "source": [
    "#### "
   ]
  },
  {
   "cell_type": "markdown",
   "id": "9aaf1f4b",
   "metadata": {},
   "source": [
    "#### "
   ]
  },
  {
   "cell_type": "markdown",
   "id": "962b39fd",
   "metadata": {},
   "source": [
    "### Intro 1: On Array"
   ]
  },
  {
   "cell_type": "code",
   "execution_count": 3,
   "id": "f61ed005",
   "metadata": {},
   "outputs": [],
   "source": [
    "# Binary search is a search algorithm that runs in O(log⁡n) in the worst case, where n is the size of the search space. \n",
    "# For binary search to work, your search space usually needs to be sorted. \n",
    "\n",
    "# If you have a sorted array arr and an element x, then in O(logn) time and O(1) space, binary search can:\n",
    "\n",
    "# Find the index of x if it is in arr\n",
    "# Find the first or the last index in which x can be inserted to maintain being sorted otherwise\n",
    "\n",
    "# Here's the idea behind binary search:\n",
    "\n",
    "# Let's say that there is a sorted integer array arr, and you know that the number x is in it, but you don't know at what index.\n",
    "# You want to find the position of x. Start by checking the element in the middle of arr. \n",
    "# If this element is too small, then we know every element in the left half will also be too small, since the array is sorted.\n",
    "# Similarly, if the element is too large, then every element in the right half will also be too large.\n",
    "\n",
    "# We can discard the half that can't contain x, and then repeat the process on the other half. \n",
    "# We continue this process of cutting the array in half until we find x.\n",
    "\n",
    "\n",
    "# This is how binary search is implemented:\n",
    "\n",
    "# Declare left = 0 and right = arr.length - 1. These variables represent the inclusive bounds of the current search space at any\n",
    "# given time. Initially, we consider the entire array.\n",
    "# While left <= right:\n",
    "# Calculate the middle of the current search space, mid = (left + right) // 2 (floor division)\n",
    "# Check arr[mid]. There are 3 possibilities:\n",
    "# If arr[mid] = x, then the element has been found, return.\n",
    "# If arr[mid] > x, then halve the search space by doing right = mid - 1.\n",
    "# If arr[mid] < x, then halve the search space by doing left = mid + 1.\n",
    "# If you get to this point without arr[mid] = x, then the search was unsuccessful. \n",
    "# The left pointer will be at the index where x would need to be inserted to maintain arr being sorted.\n",
    "\n",
    "# Because the search space is halved at every iteration, binary search's worst-case time complexity is O(log⁡n).\n",
    "# This makes it an extremely powerful algorithm as logarithmic time is very fast compared to linear time.\n"
   ]
  },
  {
   "cell_type": "code",
   "execution_count": null,
   "id": "2bccd529",
   "metadata": {},
   "outputs": [],
   "source": [
    "# [1,2,8,10,12]"
   ]
  },
  {
   "cell_type": "code",
   "execution_count": null,
   "id": "d7a227a8",
   "metadata": {},
   "outputs": [],
   "source": [
    "def binary_search(arr, target):\n",
    "    left = 0\n",
    "    right = len(arr)\n",
    "    \n",
    "    while left <= right:\n",
    "        mid = (left + right) // 2\n",
    "        num = nums[mid]\n",
    "\n",
    "        if num == target:\n",
    "            return mid\n",
    "\n",
    "        if num > target:\n",
    "            right = mid - 1\n",
    "        else:\n",
    "            left = mid + 1"
   ]
  },
  {
   "cell_type": "code",
   "execution_count": 4,
   "id": "855c1230",
   "metadata": {},
   "outputs": [],
   "source": [
    "# [1,2,8,10,10,12]\n",
    "# Duplicate elements (returns left most index if element searched is repeated)\n",
    "\n",
    "# If your input has duplicates, you can modify the binary search template to find either the first or \n",
    "# the last position of a given element."
   ]
  },
  {
   "cell_type": "code",
   "execution_count": null,
   "id": "d3e7d06e",
   "metadata": {},
   "outputs": [],
   "source": [
    "def binary_search(arr, target):\n",
    "    left = 0\n",
    "    right = len(arr)\n",
    "    while left < right:\n",
    "        mid = (left + right) // 2 #(floor division)\n",
    "        if arr[mid] >= target:\n",
    "            right = mid\n",
    "        else:\n",
    "            left = mid + 1\n",
    "\n",
    "    return left"
   ]
  },
  {
   "cell_type": "code",
   "execution_count": 5,
   "id": "8a7f57e1",
   "metadata": {},
   "outputs": [],
   "source": [
    "# [1,2,8,10,10,12]\n",
    "# The following template will find the right-most insertion point \n",
    "# (the index of the right-most element plus one):\n"
   ]
  },
  {
   "cell_type": "code",
   "execution_count": null,
   "id": "977d8bec",
   "metadata": {},
   "outputs": [],
   "source": [
    "def binary_search(arr, target):\n",
    "    left = 0\n",
    "    right = len(arr)\n",
    "    while left < right:\n",
    "        mid = (left + right) // 2\n",
    "        if arr[mid] > target:\n",
    "            right = mid\n",
    "        else:\n",
    "            left = mid + 1\n",
    "\n",
    "    return left"
   ]
  },
  {
   "cell_type": "code",
   "execution_count": 6,
   "id": "3ace0d20",
   "metadata": {},
   "outputs": [],
   "source": [
    "# Regarding both of the above templates, if the element you are searching for does not exist, then left \n",
    "# will be at the index \n",
    "# where the element should be inserted to maintain sorted order (just like in a normal binary search)."
   ]
  },
  {
   "cell_type": "markdown",
   "id": "6eb35417",
   "metadata": {},
   "source": [
    "#### Interview Tip"
   ]
  },
  {
   "cell_type": "code",
   "execution_count": 9,
   "id": "cb7411c2",
   "metadata": {},
   "outputs": [],
   "source": [
    "# A note on implementing binary search:\n",
    "\n",
    "# Many people get confused when implementing binary search: how should you initialize the right bound?\n",
    "# Do you run while left < right or left <= right? \n",
    "# Do you update with mid + 1 or mid? What about mid - 1 or mid?\n",
    "\n",
    "# Our advice: check out the templates provided in the \"Interviews and tools\" chapter. \n",
    "# When solving problems, don't ponder on the implementation details and simply copy-paste the templates. \n",
    "# For interviews, you can either commit the templates to memory or have them open in another tab \n",
    "# or a piece of paper during the interview.\n"
   ]
  },
  {
   "cell_type": "markdown",
   "id": "19415511",
   "metadata": {},
   "source": [
    "#### Example 1: 704. Binary Search\n"
   ]
  },
  {
   "cell_type": "code",
   "execution_count": 10,
   "id": "d51d4e6c",
   "metadata": {},
   "outputs": [],
   "source": [
    "# You are given an array of integers nums which is sorted in ascending order, \n",
    "# and an integer target. If target exists in nums, return its index. Otherwise, return -1.\n"
   ]
  },
  {
   "cell_type": "code",
   "execution_count": 11,
   "id": "016bdc70",
   "metadata": {},
   "outputs": [],
   "source": [
    "def search(nums, target):\n",
    "        left = 0\n",
    "        right = len(nums) - 1\n",
    "        \n",
    "        while left <= right:\n",
    "            mid = (left + right) // 2\n",
    "            num = nums[mid]\n",
    "            \n",
    "            if num == target:\n",
    "                return mid\n",
    "            \n",
    "            if num > target:\n",
    "                right = mid - 1\n",
    "            else:\n",
    "                left = mid + 1\n",
    "        \n",
    "        return -1"
   ]
  },
  {
   "cell_type": "markdown",
   "id": "22a43409",
   "metadata": {},
   "source": [
    "#### Example 2: 74. Search a 2D Matrix"
   ]
  },
  {
   "cell_type": "code",
   "execution_count": 12,
   "id": "caaf52fc",
   "metadata": {},
   "outputs": [],
   "source": [
    "# Write an efficient algorithm that searches for a value target in an m x n integer matrix matrix.\n",
    "# Integers in each row are sorted from left to right. \n",
    "# The first integer of each row is greater than the last integer of the previous row."
   ]
  },
  {
   "cell_type": "code",
   "execution_count": 9,
   "id": "74f4cd53",
   "metadata": {},
   "outputs": [],
   "source": [
    "#we can flatten the 2d array and then search too\n",
    "# matrix = [[1,3,5,7],[10,11,16,20],[23,30,34,60]]\n",
    "# target = 3\n",
    "# nums = [i for k in range(len(matrix)) for i in matrix[k]]\n",
    "# nums"
   ]
  },
  {
   "cell_type": "code",
   "execution_count": 14,
   "id": "d2e366eb",
   "metadata": {},
   "outputs": [],
   "source": [
    "def searchMatrix(matrix, target) -> bool: \n",
    "        m, n = len(matrix), len(matrix[0]) #row, columns\n",
    "        left, right = 0, m * n - 1 \n",
    "        \n",
    "        while left <= right: \n",
    "            mid = (left + right) // 2 #floor division \n",
    "            row = mid // n #floor division \n",
    "            col = mid % n \n",
    "            num = matrix[row][col] \n",
    "            \n",
    "            if num == target: \n",
    "                return True \n",
    "            \n",
    "            if num < target: \n",
    "                left = mid + 1 \n",
    "            else: \n",
    "                right = mid - 1 \n",
    "        \n",
    "        return False "
   ]
  },
  {
   "cell_type": "markdown",
   "id": "e030c844",
   "metadata": {},
   "source": [
    "#### Example 3: 2300. Successful Pairs of Spells and Potions"
   ]
  },
  {
   "cell_type": "code",
   "execution_count": 1,
   "id": "065e4554",
   "metadata": {},
   "outputs": [],
   "source": [
    "# You are given two positive integer arrays spells and potions, where spells[i] represents the \n",
    "# strength of the ith spell and potions[j] represents the strength of the jth potion. \n",
    "# You are also given an integer success.\n",
    "# A spell and potion pair is considered successful if \n",
    "# the product of their strengths is at least success. \n",
    "# For each spell, find how many potions it can pair with to be successful. \n",
    "# Return an integer array where the ith element is the answer for the ith spell."
   ]
  },
  {
   "cell_type": "code",
   "execution_count": null,
   "id": "2a805133",
   "metadata": {},
   "outputs": [],
   "source": [
    "# Example 1:\n",
    "\n",
    "# Input: spells = [5,1,3], potions = [1,2,3,4,5], success = 7\n",
    "# Output: [4,0,3]\n",
    "# Explanation:\n",
    "# - 0th spell: 5 * [1,2,3,4,5] = [5,10,15,20,25]. 4 pairs are successful.\n",
    "# - 1st spell: 1 * [1,2,3,4,5] = [1,2,3,4,5]. 0 pairs are successful.\n",
    "# - 2nd spell: 3 * [1,2,3,4,5] = [3,6,9,12,15]. 3 pairs are successful.\n",
    "# Thus, [4,0,3] is returned.\n",
    "\n",
    "# Example 2:\n",
    "\n",
    "# Input: spells = [3,1,2], potions = [8,5,8], success = 16\n",
    "# Output: [2,0,2]\n",
    "# Explanation:\n",
    "# - 0th spell: 3 * [8,5,8] = [24,15,24]. 2 pairs are successful.\n",
    "# - 1st spell: 1 * [8,5,8] = [8,5,8]. 0 pairs are successful. \n",
    "# - 2nd spell: 2 * [8,5,8] = [16,10,16]. 2 pairs are successful. \n",
    "# Thus, [2,0,2] is returned.\n",
    "\n"
   ]
  },
  {
   "cell_type": "code",
   "execution_count": 13,
   "id": "7bdb3593",
   "metadata": {},
   "outputs": [
    {
     "data": {
      "text/plain": [
       "[2, 0, 2]"
      ]
     },
     "execution_count": 13,
     "metadata": {},
     "output_type": "execute_result"
    }
   ],
   "source": [
    "# Time Limit Exceeded\n",
    "\n",
    "# spells = [5,1,3]\n",
    "# potions = [1,2,3,4,5]\n",
    "# success = 7\n",
    "\n",
    "spells = [3,1,2]\n",
    "potions = [8,5,8]\n",
    "success = 16\n",
    "\n",
    "#if duplicates exist, we need left most index\n",
    "def binary_search(arr, target):\n",
    "    left = 0\n",
    "    right = len(arr)\n",
    "    while left < right:\n",
    "        mid = (left + right) // 2 #(floor division)\n",
    "        if arr[mid] >= target:\n",
    "            right = mid\n",
    "        else:\n",
    "            left = mid + 1\n",
    "\n",
    "    return left\n",
    "\n",
    "ans = []\n",
    "potions = sorted(potions)\n",
    "\n",
    "for j in spells:\n",
    "    #this is an extra step, instead we can have success as success/ spell\n",
    "    potions_temp = [j*i for i in potions]\n",
    "    #here len of potions need not be calculated multiple times\n",
    "    ans.append(len(potions_temp) - binary_search(potions_temp,success))\n",
    "    \n",
    "ans"
   ]
  },
  {
   "cell_type": "code",
   "execution_count": 14,
   "id": "9452af4b",
   "metadata": {},
   "outputs": [
    {
     "data": {
      "text/plain": [
       "[2, 0, 2]"
      ]
     },
     "execution_count": 14,
     "metadata": {},
     "output_type": "execute_result"
    }
   ],
   "source": [
    "spells = [3,1,2]\n",
    "potions = [8,5,8]\n",
    "success = 16\n",
    "\n",
    "#if duplicates exist, we need left most index\n",
    "def binary_search(arr, target):\n",
    "    left = 0\n",
    "    right = len(arr)\n",
    "    while left < right:\n",
    "        mid = (left + right) // 2 #(floor division)\n",
    "        if arr[mid] >= target:\n",
    "            right = mid\n",
    "        else:\n",
    "            left = mid + 1\n",
    "\n",
    "    return left\n",
    "\n",
    "ans = []\n",
    "potions = sorted(potions)\n",
    "\n",
    "m = len(potions)\n",
    "for j in spells:   \n",
    "    ans.append(m - binary_search(potions,success/j))\n",
    "    \n",
    "ans"
   ]
  },
  {
   "cell_type": "markdown",
   "id": "6214c764",
   "metadata": {},
   "source": [
    "#### Search Insert Position"
   ]
  },
  {
   "cell_type": "code",
   "execution_count": 15,
   "id": "3f40be94",
   "metadata": {},
   "outputs": [],
   "source": [
    "# Given a sorted array of distinct integers and a target value, return the index if the target is found.\n",
    "# If not, return the index where it would be if it were inserted in order.\n",
    "\n",
    "# You must write an algorithm with O(log n) runtime complexity."
   ]
  },
  {
   "cell_type": "code",
   "execution_count": 16,
   "id": "8388967c",
   "metadata": {},
   "outputs": [],
   "source": [
    "def searchInsert(nums, target) -> int:\n",
    "        left = 0\n",
    "        right = len(nums) - 1\n",
    "        while left <= right:\n",
    "            mid = (left + right) // 2 #(floor division)\n",
    "            if nums[mid] == target:\n",
    "                \n",
    "                return(mid)\n",
    "            if nums[mid] > target:\n",
    "                right = mid - 1\n",
    "            else:\n",
    "                left = mid + 1\n",
    "        \n",
    "        return(left)"
   ]
  },
  {
   "cell_type": "markdown",
   "id": "e36b3fba",
   "metadata": {},
   "source": [
    "#### Longest Subsequence With Limited Sum"
   ]
  },
  {
   "cell_type": "code",
   "execution_count": 17,
   "id": "3d84b980",
   "metadata": {},
   "outputs": [],
   "source": [
    "# You are given an integer array nums of length n, and an integer array queries of length m.\n",
    "# Return an array answer of length m where answer[i] is the maximum size of a subsequence \n",
    "# that you can take from nums such that the sum of its elements is less than or equal to queries[i].\n",
    "\n",
    "# A subsequence is an array that can be derived from another array by deleting some or no elements \n",
    "# without changing the order of the remaining elements."
   ]
  },
  {
   "cell_type": "code",
   "execution_count": null,
   "id": "4d0bc1da",
   "metadata": {},
   "outputs": [],
   "source": [
    "# Input: nums = [4,5,2,1], queries = [3,10,21]\n",
    "# Output: [2,3,4]\n",
    "# Explanation: We answer the queries as follows:\n",
    "# - The subsequence [2,1] has a sum less than or equal to 3. It can be proven that 2 is the maximum size of such a subsequence, so answer[0] = 2.\n",
    "# - The subsequence [4,5,1] has a sum less than or equal to 10. It can be proven that 3 is the maximum size of such a subsequence, so answer[1] = 3.\n",
    "# - The subsequence [4,5,2,1] has a sum less than or equal to 21. It can be proven that 4 is the maximum size of such a subsequence, so answer[2] = 4."
   ]
  },
  {
   "cell_type": "code",
   "execution_count": null,
   "id": "5e2225e6",
   "metadata": {},
   "outputs": [],
   "source": [
    "# Input: nums = [2,3,4,5], queries = [1]\n",
    "# Output: [0]\n",
    "# Explanation: The empty subsequence is the only subsequence that has a sum less than or equal to 1, \n",
    "# so answer[0] = 0."
   ]
  },
  {
   "cell_type": "code",
   "execution_count": 9,
   "id": "b5eada36",
   "metadata": {},
   "outputs": [
    {
     "data": {
      "text/plain": [
       "[2, 3, 4]"
      ]
     },
     "execution_count": 9,
     "metadata": {},
     "output_type": "execute_result"
    }
   ],
   "source": [
    "#we can go ahead and sort nums to get to an answer here ,as we are looking for subsequence length not subarray\n",
    "\n",
    "nums = [4,5,2,1]\n",
    "queries = [3,10,21]\n",
    "\n",
    "summ_=0\n",
    "prefix_sum = []\n",
    "for i in sorted(nums):\n",
    "    summ_ +=i\n",
    "    prefix_sum.append(summ_)\n",
    "# prefix_sum\n",
    "\n",
    "#now just insert the query element in prefix_sum and find its position\n",
    "\n",
    "def binary_search(arr, target):\n",
    "    left = 0\n",
    "    right = len(arr)\n",
    "    while left < right:\n",
    "        mid = (left + right) // 2\n",
    "        if arr[mid] > target:\n",
    "            right = mid\n",
    "        else:\n",
    "            left = mid + 1\n",
    "\n",
    "    return left\n",
    "ans = []\n",
    "for i in queries:\n",
    "    ans.append(binary_search(prefix_sum, i))\n",
    "\n",
    "ans\n",
    "\n",
    "\n"
   ]
  },
  {
   "cell_type": "markdown",
   "id": "052a3d55",
   "metadata": {},
   "source": [
    "### Intro 2: On Solution Spaces"
   ]
  },
  {
   "cell_type": "code",
   "execution_count": 2,
   "id": "12979ae1",
   "metadata": {},
   "outputs": [],
   "source": [
    "#Key Idea: Doing Binary search on a solution space\n",
    "\n",
    "# There is a more creative way to use binary search - on a solution space/answer. \n",
    "# A very common type of problem is \"what is the max/min that something can be done\". \n",
    "# Binary search can be used if the following criteria are met:\n",
    "\n",
    "# You can quickly (in O(n) or better) verify if the task is possible for a given number x.\n",
    "# If the task is possible for a number x, and you are looking for:\n",
    "#         A maximum, then it is also possible for all numbers less than x.\n",
    "#         A minimum, then it is also possible for all numbers greater than x.\n",
    "# If the task is not possible for a number x, and you are looking for:\n",
    "#         A maximum, then it is also impossible for all numbers greater than x.\n",
    "#         A minimum, then it is also impossible for all numbers less than x.\n",
    "\n",
    "# The 2nd and 3rd requirements imply that there are two \"zones\". \n",
    "# One where it is possible and one where it is impossible. The zones have no breaks, no overlap, \n",
    "# and are separated by a threshold."
   ]
  },
  {
   "cell_type": "code",
   "execution_count": null,
   "id": "216ddc04",
   "metadata": {},
   "outputs": [],
   "source": [
    "# When a problem wants you to find the min/max, it wants you to find the threshold where the task transitions\n",
    "# from impossible to possible.\n",
    "\n",
    "# First, we establish the possible solution space by identifying the minimum possible answer and \n",
    "# the maximum possible answer.\n",
    "\n",
    "# Next, we binary search on this solution space. For each mid, we perform a check to see if the task is \n",
    "# possible. Depending on the result, we halve the search space. Eventually, we will find the threshold.\n",
    "\n",
    "# We can write a function check that takes an integer and checks if the task is possible for that integer.\n",
    "# In most cases, the algorithm we use in this function will be a greedy one. \n",
    "# Let's take a look at some examples.\n"
   ]
  },
  {
   "cell_type": "markdown",
   "id": "0f2df854",
   "metadata": {},
   "source": [
    "#### Example 1: 875. Koko Eating Bananas"
   ]
  },
  {
   "cell_type": "code",
   "execution_count": 20,
   "id": "a5b195e7",
   "metadata": {},
   "outputs": [],
   "source": [
    "# Koko loves to eat bananas. There are n piles of bananas, the ith pile has piles[i] bananas. \n",
    "# Koko can decide her bananas-per-hour eating speed of k. Each hour, she chooses a pile and eats k bananas \n",
    "# from that pile. If the pile has less than k bananas, she eats all of them and will not eat any more bananas \n",
    "# during the hour. Return the minimum integer k such that she can eat all the bananas within h hours.\n"
   ]
  },
  {
   "cell_type": "code",
   "execution_count": 3,
   "id": "ed232ba5",
   "metadata": {},
   "outputs": [],
   "source": [
    "# piles = [3,6,7,11]\n",
    "# hours = 8\n",
    "\n",
    "#Can she do it with an eating speed of 3?\n",
    "# what if it is 4?\n",
    "# max cut off should be max pile size, anything above will have no incremental value\n",
    "# min cut off is 1\n",
    "# so possible range for k = list(range(1,12,1))"
   ]
  },
  {
   "cell_type": "code",
   "execution_count": 7,
   "id": "ef695ab4",
   "metadata": {},
   "outputs": [],
   "source": [
    "#remeber spell and portions product above a success\n",
    "#same case here, take math.ceil(pile[i]/k) and sum should be less than hours, this is your check function\n",
    "# ex: k=3 piles_ = [1,2,3,4] (taking ceiling division of list piles), if sum(piles_)< sucess, \n",
    "# all speed > 3 will be fine. We need to search in values less than 3 so a binary search application\n",
    "\n",
    "\n"
   ]
  },
  {
   "cell_type": "code",
   "execution_count": 36,
   "id": "ffeab79c",
   "metadata": {},
   "outputs": [
    {
     "name": "stdout",
     "output_type": "stream",
     "text": [
      "24\n",
      "28\n"
     ]
    },
    {
     "data": {
      "text/plain": [
       "28"
      ]
     },
     "execution_count": 36,
     "metadata": {},
     "output_type": "execute_result"
    }
   ],
   "source": [
    "# piles = [3,6,7,11]\n",
    "# hours = 8\n",
    "\n",
    "piles =[30,11,23,4,20]\n",
    "hours = 6\n",
    "#this step will create memory problems if any of pile size is too large\n",
    "k = list(range(1,max(piles)+1,1))\n",
    "\n",
    "left = 0\n",
    "right = len(k)\n",
    "while left < right:\n",
    "    mid = (left + right) // 2 #(floor division)\n",
    "    piles_ = sum([math.ceil(i/k[mid]) for i in piles])\n",
    "    if(piles_ ==hours): print(k[mid])\n",
    "    \n",
    "    if piles_ < hours:\n",
    "        right = mid -1\n",
    "    else:\n",
    "        left = mid + 1\n",
    "\n",
    "left\n",
    "\n",
    "\n"
   ]
  },
  {
   "cell_type": "code",
   "execution_count": 42,
   "id": "8e62148f",
   "metadata": {},
   "outputs": [
    {
     "data": {
      "text/plain": [
       "23"
      ]
     },
     "execution_count": 42,
     "metadata": {},
     "output_type": "execute_result"
    }
   ],
   "source": [
    "from math import ceil\n",
    "piles =[30,11,23,4,20]\n",
    "h = 6\n",
    "\n",
    "def minEatingSpeed(piles, h) -> int:\n",
    "        def check(k):\n",
    "            hours = 0\n",
    "            for bananas in piles:\n",
    "                hours += ceil(bananas / k)\n",
    "            \n",
    "            return hours <= h\n",
    "        \n",
    "        left = 1\n",
    "        right = max(piles)\n",
    "        while left <= right:\n",
    "            mid = (left + right) // 2\n",
    "            if check(mid):\n",
    "                right = mid - 1\n",
    "            else:\n",
    "                left = mid + 1\n",
    "\n",
    "        return left\n",
    "    \n",
    "minEatingSpeed(piles, h)"
   ]
  },
  {
   "cell_type": "markdown",
   "id": "5ba84184",
   "metadata": {},
   "source": [
    "#### Example 2: 1631. (Graph: DFS required ) Path With Minimum Effort"
   ]
  },
  {
   "cell_type": "code",
   "execution_count": 24,
   "id": "2d3e83b5",
   "metadata": {},
   "outputs": [],
   "source": [
    "#Soltion shows Dijkstra's Algorithm to solve this as well: check here\n",
    "# https://leetcode.com/problems/path-with-minimum-effort/solutions/4049557/97-67-optimal-dijkstra-with-heap/\n",
    "\n",
    "# Alternative Thought process is Solution spaces and binary search\n",
    "\n",
    "# https://leetcode.com/problems/path-with-minimum-effort/description/\n",
    "\n",
    "# You are a hiker preparing for an upcoming hike.\n",
    "# You are given heights, a 2D array of size rows x columns, where heights[row][col] represents the height\n",
    "# of cell (row, col). You are situated in the top-left cell, (0, 0), and you hope to travel to the bottom-right\n",
    "# cell, (rows-1, columns-1) (i.e., 0-indexed). You can move up, down, left, or right, and \n",
    "# you wish to find a route that requires the minimum effort.\n",
    "# A route's effort is the maximum absolute difference in heights between two consecutive cells of the route.\n",
    "\n",
    "# Return the minimum effort required to travel from the top-left cell to the bottom-right cell.\n",
    "\n",
    "# EX:1\n",
    "# Input: heights = [[1,2,2],\n",
    "#                   [3,8,2],\n",
    "#                  [5,3,5]]\n",
    "\n",
    "# Output: 2\n",
    "# Explanation: The route of [1,3,5,3,5] has a maximum absolute difference of 2 in consecutive cells.\n",
    "# This is better than the route of [1,2,2,2,5], where the maximum absolute difference is 3.\n",
    "\n",
    "# EX:2\n",
    "# Input: heights = [[1,2,3],\n",
    "#                   [3,8,4],\n",
    "#                   [5,3,5]]\n",
    "# Output: 1\n",
    "# Explanation: The route of [1,2,3,4,5] has a maximum absolute difference of 1 in consecutive cells,\n",
    "# which is better than route [1,3,5,3,5].\n",
    "\n",
    "# EX:3\n",
    "# Input: heights = [[1,2,1,1,1],\n",
    "#                   [1,2,1,2,1],\n",
    "#                   [1,2,1,2,1],\n",
    "#                   [1,2,1,2,1],\n",
    "#                   [1,1,1,2,1]]\n",
    "# Output: 0, for route along all 1s\n",
    "# Explanation: This route does not require any effort.\n",
    "\n"
   ]
  },
  {
   "cell_type": "code",
   "execution_count": 67,
   "id": "013c88fd",
   "metadata": {},
   "outputs": [],
   "source": [
    "# If you cannot make the journey with effort, then it's impossible to do it with any number less than effort.\n",
    "# If you can do it, then it's possible to do it with all numbers greater than effort.\n",
    "\n",
    "# Given an integer effort, how can we check if a path exists? We can do a simple DFS, \n",
    "# starting from (0, 0), with edges being in the 4 directions and only traversable if the \n",
    "# difference between the current node and the next one is less than or equal to effort.\n",
    "\n",
    "# For our binary search, what should the bounds start at? The minimum possible effort is 0 - there could exist\n",
    "# a path where all the numbers are the same. The maximum possible effort is the largest number in the input \n",
    "# since the input doesn't have negative numbers.\n",
    "\n",
    "\n"
   ]
  },
  {
   "cell_type": "code",
   "execution_count": 25,
   "id": "81000aa4",
   "metadata": {},
   "outputs": [],
   "source": [
    "def minimumEffortPath(heights) -> int:\n",
    "        def valid(row, col):\n",
    "            return 0 <= row < m and 0 <= col < n\n",
    "        \n",
    "        def check(effort):\n",
    "            directions = [(0, 1), (1, 0), (0, -1), (-1, 0)]\n",
    "            seen = {(0, 0)}\n",
    "            stack = [(0, 0)]\n",
    "            \n",
    "            while stack:\n",
    "                row, col = stack.pop()\n",
    "                if (row, col) == (m - 1, n - 1):\n",
    "                    return True\n",
    "                \n",
    "                for dx, dy in directions:\n",
    "                    next_row, next_col = row + dy, col + dx\n",
    "                    if valid(next_row, next_col) and (next_row, next_col) not in seen:\n",
    "                        if abs(heights[next_row][next_col] - heights[row][col]) <= effort:\n",
    "                            seen.add((next_row, next_col))\n",
    "                            stack.append((next_row, next_col))\n",
    "            \n",
    "            return False\n",
    "        \n",
    "        m = len(heights)\n",
    "        n = len(heights[0])\n",
    "        left = 0\n",
    "        right = max(max(row) for row in heights)\n",
    "        while left <= right:\n",
    "            mid = (left + right) // 2\n",
    "            if check(mid):\n",
    "                right = mid - 1\n",
    "            else:\n",
    "                left = mid + 1\n",
    "        \n",
    "        return left"
   ]
  },
  {
   "cell_type": "code",
   "execution_count": 26,
   "id": "80754783",
   "metadata": {},
   "outputs": [
    {
     "data": {
      "text/plain": [
       "0"
      ]
     },
     "execution_count": 26,
     "metadata": {},
     "output_type": "execute_result"
    }
   ],
   "source": [
    "heights = [[1,2,1,1,1],\n",
    "                  [1,2,1,2,1],\n",
    "                  [1,2,1,2,1],\n",
    "                  [1,2,1,2,1],\n",
    "                  [1,1,1,2,1]]\n",
    "\n",
    "minimumEffortPath(heights)"
   ]
  },
  {
   "cell_type": "markdown",
   "id": "f054b36d",
   "metadata": {},
   "source": [
    "#### Example 3: 1870. Minimum Speed to Arrive on Time"
   ]
  },
  {
   "cell_type": "code",
   "execution_count": 1,
   "id": "75d1996c",
   "metadata": {},
   "outputs": [],
   "source": [
    "# You are given a float hour, representing the amount of time you have to reach the office. \n",
    "# To commute to the office, you must take n trains in sequential order. \n",
    "# You are also given an integer array dist, where dist[i] describes the distance of the ith train ride. \n",
    "# Each train can only depart at an integer hour, so you may need to wait in between each train ride.\n",
    "\n",
    "# For example, if the 1st train ride takes 1.5 hours, you must wait for an additional 0.5 hours before you can\n",
    "# depart on the 2nd train ride at the 2-hour mark. \n",
    "# Return the minimum positive integer speed that all the trains must travel at for you to reach the office on\n",
    "# time, or -1 if it is impossible to be on time. The answer will not exceed 10^7.\n",
    "\n",
    "\n",
    "\n",
    "# The minimum possible speed is 1, and the maximum is 10^7 as given in the problem description.\n",
    "# The fact that the problem is giving us this information is actually a hint towards using binary search,\n",
    "# but it brings up a good question - what do you do when you cannot ascertain a maximum possible answer \n",
    "# from what is given in the input? You can use an arbitrarily large number for right, like 10^10.\n",
    "# Logarithms are so fast that it will hardly make a difference.\n",
    "\n"
   ]
  },
  {
   "cell_type": "code",
   "execution_count": null,
   "id": "c0fe776a",
   "metadata": {},
   "outputs": [],
   "source": [
    "#Think of Solution Spaces logic first\n",
    "# Example 1:\n",
    "\n",
    "# Input: dist = [1,3,2], hour = 6\n",
    "# Output: 1\n",
    "# Explanation: At speed 1:\n",
    "# - The first train ride takes 1/1 = 1 hour.\n",
    "# - Since we are already at an integer hour, we depart immediately at the 1 hour mark. The second train takes 3/1 = 3 hours.\n",
    "# - Since we are already at an integer hour, we depart immediately at the 4 hour mark. The third train takes 2/1 = 2 hours.\n",
    "# - You will arrive at exactly the 6 hour mark.\n",
    "\n",
    "\n",
    "# Example 2:\n",
    "\n",
    "# Input: dist = [1,3,2], hour = 2.7\n",
    "# Output: 3\n",
    "# Explanation: At speed 3:\n",
    "# - The first train ride takes 1/3 = 0.33333 hours.\n",
    "# - Since we are not at an integer hour, we wait until the 1 hour mark to depart. The second train ride takes 3/3 = 1 hour.\n",
    "# - Since we are already at an integer hour, we depart immediately at the 2 hour mark. The third train takes 2/3 = 0.66667 hours.\n",
    "# - You will arrive at the 2.66667 hour mark.\n",
    "\n",
    "# Example 3:\n",
    "\n",
    "# Input: dist = [1,3,2], hour = 1.9\n",
    "# Output: -1\n",
    "# Explanation: It is impossible because the earliest the third train can depart is at the 2 hour mark.\n",
    "\n",
    "\n",
    "\n"
   ]
  },
  {
   "cell_type": "code",
   "execution_count": 29,
   "id": "34e74253",
   "metadata": {},
   "outputs": [
    {
     "data": {
      "text/plain": [
       "2"
      ]
     },
     "execution_count": 29,
     "metadata": {},
     "output_type": "execute_result"
    }
   ],
   "source": [
    "dist = [1,3,2]\n",
    "hour = 2.7\n",
    "\n",
    "#max speed constraint 10000000\n",
    "\n",
    "k  = list(range(1, 10000000))\n",
    "\n",
    "def search(nums, hours, dist):\n",
    "    left = 0\n",
    "    right = len(nums) - 1\n",
    "    if(ceil(hours)<len(dist)): return(-1)\n",
    "\n",
    "    while left <= right:\n",
    "        mid = (left + right) // 2\n",
    "        num = nums[mid]\n",
    "        \n",
    "#         last travel time shouldn't be ceiled\n",
    "\n",
    "        time_ = sum([ceil(j/num) for j in dist[:-1]])+(dist[-1]/num) \n",
    "\n",
    "        if (hours == time_):\n",
    "            return num\n",
    "\n",
    "        if time_ < hours:\n",
    "            right = mid - 1\n",
    "        else:\n",
    "            left = mid + 1\n",
    "\n",
    "    return left\n",
    "\n",
    "search(k,hour, dist)\n",
    "\n",
    "\n",
    "\n"
   ]
  },
  {
   "cell_type": "code",
   "execution_count": 30,
   "id": "2c0dd0ba",
   "metadata": {},
   "outputs": [
    {
     "data": {
      "text/plain": [
       "3"
      ]
     },
     "execution_count": 30,
     "metadata": {},
     "output_type": "execute_result"
    }
   ],
   "source": [
    "dist = [1,3,2]\n",
    "hour = 2.7\n",
    "def minSpeedOnTime(dist, hour) -> int:\n",
    "    if len(dist) > ceil(hour):\n",
    "        return -1\n",
    "\n",
    "    def check(k):\n",
    "        t = 0\n",
    "        for d in dist:\n",
    "            t = ceil(t)\n",
    "            t += d / k\n",
    "\n",
    "        return t <= hour\n",
    "\n",
    "    left = 1\n",
    "    right = 10 ** 7\n",
    "    while left <= right:\n",
    "        mid = (left + right) // 2\n",
    "        if check(mid):\n",
    "            right = mid - 1\n",
    "        else:\n",
    "            left = mid + 1\n",
    "\n",
    "    return left\n",
    "\n",
    "minSpeedOnTime(dist, hour)"
   ]
  },
  {
   "cell_type": "markdown",
   "id": "66db19bc",
   "metadata": {},
   "source": [
    "### A note on implementation "
   ]
  },
  {
   "cell_type": "code",
   "execution_count": 31,
   "id": "9e83a449",
   "metadata": {},
   "outputs": [],
   "source": [
    "# A note on implementation\n",
    "\n",
    "# All 3 examples we looked at in this article asked for a minimum. In all solutions, we return left.\n",
    "\n",
    "# If a problem is instead asking for a maximum, then left will not actually be the correct answer at the end.\n",
    "# Instead, we should return right."
   ]
  },
  {
   "cell_type": "code",
   "execution_count": 32,
   "id": "e6632366",
   "metadata": {},
   "outputs": [],
   "source": [
    "# Why does left point to the answer when looking for a minimum, but right points to the answer \n",
    "# when looking for a maximum?\n",
    "\n",
    "\n",
    "# Let's say we're looking for a minimum and the answer is x. After doing check(x), we set right = x - 1 \n",
    "# because check(x) will return true, and we move the right bound to look for a better answer. \n",
    "# As you can see, the correct answer is actually outside of our search space now. \n",
    "# That means every future iteration of check is going to fail, which means we will continuously increase left\n",
    "# until eventually we try check(x - 1). This will fail and set left = (x - 1) + 1 = x. \n",
    "# Our while loop terminates because left > right, and left is at the answer.\n",
    "\n",
    "# If we are instead looking for a maximum, after performing check(x), we set left = x + 1. \n",
    "# Again, the correct answer is outside of the search space and all future checks will fail. \n",
    "# Eventually, we try check(x + 1), fail, and set right = (x + 1) - 1 = x. \n",
    "# The loop terminates because right < left, and right is pointing at the answer.\n"
   ]
  },
  {
   "cell_type": "markdown",
   "id": "b9f05637",
   "metadata": {},
   "source": [
    "### Find the Smallest Divisor Given a Threshold\n"
   ]
  },
  {
   "cell_type": "code",
   "execution_count": 33,
   "id": "7825bd81",
   "metadata": {},
   "outputs": [],
   "source": [
    "# Given an array of integers nums and an integer threshold, we will choose a positive integer divisor, \n",
    "# divide all the array by it, and sum the division's result. \n",
    "# Find the smallest divisor such that the result mentioned above is less than or equal to threshold.\n",
    "\n",
    "# Each result of the division is rounded to the nearest integer greater than or equal to that element. \n",
    "# (For example: 7/3 = 3 and 10/2 = 5).\n",
    "\n",
    "# The test cases are generated so that there will be an answer."
   ]
  },
  {
   "cell_type": "code",
   "execution_count": 34,
   "id": "873d5153",
   "metadata": {},
   "outputs": [],
   "source": [
    "# Example 1:\n",
    "# Input: nums = [1,2,5,9], threshold = 6\n",
    "# Output: 5\n",
    "# Explanation: We can get a sum to 17 (1+2+5+9) if the divisor is 1. \n",
    "# If the divisor is 4 we can get a sum of 7 (1+1+2+3) and if the divisor is 5 the sum will be 5 (1+1+1+2). "
   ]
  },
  {
   "cell_type": "code",
   "execution_count": 35,
   "id": "d0019487",
   "metadata": {},
   "outputs": [],
   "source": [
    "# Example 2\n",
    "# Input: nums = [44,22,33,11,1], threshold = 5\n",
    "# Output: 44"
   ]
  },
  {
   "cell_type": "code",
   "execution_count": 11,
   "id": "79eb488e",
   "metadata": {},
   "outputs": [
    {
     "data": {
      "text/plain": [
       "5"
      ]
     },
     "execution_count": 11,
     "metadata": {},
     "output_type": "execute_result"
    }
   ],
   "source": [
    "from math import ceil\n",
    "# solution_space \n",
    "solution_space = list(range(1, max(nums)))\n",
    "\n",
    "nums = [1,2,5,9]\n",
    "threshold = 6\n",
    "\n",
    "def check(k):\n",
    "    sum_ = 0\n",
    "    for i in nums:\n",
    "        sum_ += ceil(i/k)\n",
    "    \n",
    "    return(sum_<=threshold)\n",
    "\n",
    "left = 1\n",
    "right = max(nums)\n",
    "while left <= right:\n",
    "    mid = (left + right) // 2\n",
    "    if check(mid):\n",
    "        right = mid - 1\n",
    "    else:\n",
    "        left = mid + 1\n",
    "\n",
    "left\n",
    "    \n",
    "    "
   ]
  },
  {
   "cell_type": "markdown",
   "id": "9ded41d4",
   "metadata": {},
   "source": [
    "### (Hard) Divide Chocolate"
   ]
  },
  {
   "cell_type": "code",
   "execution_count": 12,
   "id": "0aa06089",
   "metadata": {},
   "outputs": [],
   "source": [
    "# You have one chocolate bar that consists of some chunks. \n",
    "# Each chunk has its own sweetness given by the array sweetness.\n",
    "\n",
    "# You want to share the chocolate with your k friends so you start cutting the chocolate bar into k + 1 pieces\n",
    "# using k cuts, each piece consists of some consecutive chunks.\n",
    "\n",
    "# Being generous, you will eat the piece with the minimum total sweetness and give the other pieces \n",
    "# to your friends.\n",
    "\n",
    "# Find the maximum total sweetness of the piece you can get by cutting the chocolate bar optimally."
   ]
  },
  {
   "cell_type": "code",
   "execution_count": 17,
   "id": "e8ebf3b7",
   "metadata": {},
   "outputs": [],
   "source": [
    "#Think about logic to be used"
   ]
  },
  {
   "cell_type": "code",
   "execution_count": 14,
   "id": "2229b853",
   "metadata": {},
   "outputs": [],
   "source": [
    "# Example 1\n",
    "# Input: sweetness = [1,2,3,4,5,6,7,8,9], k = 5\n",
    "# Output: 6\n",
    "# Explanation: You can divide the chocolate to [1,2,3], [4,5], [6], [7], [8], [9]\n",
    "\n",
    "# Example 2:\n",
    "# Input: sweetness = [5,6,7,8,9,1,2,3,4], k = 8\n",
    "# Output: 1\n",
    "# Explanation: There is only one way to cut the bar into 9 pieces.\n",
    "    \n",
    "# Example 3:\n",
    "# Input: sweetness = [1,2,2,1,2,2,1,2,2], k = 2\n",
    "# Output: 5\n",
    "# Explanation: You can divide the chocolate to [1,2,2], [1,2,2], [1,2,2]\n"
   ]
  },
  {
   "cell_type": "code",
   "execution_count": 5,
   "id": "86bdbbe4",
   "metadata": {},
   "outputs": [],
   "source": [
    "sweetness = [1,2,3,4,5,6,7,8,9]\n",
    "k = 5"
   ]
  },
  {
   "cell_type": "code",
   "execution_count": 7,
   "id": "11823927",
   "metadata": {},
   "outputs": [],
   "source": [
    "class Solution:\n",
    "    def maximizeSweetness(self, sweetness, k) -> int:\n",
    "        # Initialize the left and right boundaries.\n",
    "        # left = 1 and right = (total sweetness) / (number of people).\n",
    "        number_of_people = k + 1\n",
    "        left = min(sweetness)\n",
    "        right = sum(sweetness) // number_of_people\n",
    "        \n",
    "        while left < right:\n",
    "            # Get the middle index between left and right boundary indexes.\n",
    "            # cur_sweetness stands for the total sweetness for the current person.\n",
    "            # people_with_chocolate stands for the number of people that have \n",
    "            # a piece of chocolate of sweetness greater than or equal to mid.  \n",
    "            mid = (left + right + 1) // 2\n",
    "            cur_sweetness = 0\n",
    "            people_with_chocolate = 0\n",
    "            \n",
    "            # Start assigning chunks to the current person.\n",
    "            for s in sweetness:\n",
    "                cur_sweetness += s\n",
    "                \n",
    "                # If the total sweetness is no less than mid, this means we can break off\n",
    "                # the current piece and move on to assigning chunks to the next person.\n",
    "                if cur_sweetness >= mid:\n",
    "                    people_with_chocolate += 1\n",
    "                    cur_sweetness = 0\n",
    "\n",
    "            if people_with_chocolate >= k + 1:\n",
    "                left = mid\n",
    "            else:\n",
    "                right = mid - 1\n",
    "                \n",
    "        return right"
   ]
  },
  {
   "cell_type": "code",
   "execution_count": 8,
   "id": "6d54835f",
   "metadata": {},
   "outputs": [
    {
     "data": {
      "text/plain": [
       "5"
      ]
     },
     "execution_count": 8,
     "metadata": {},
     "output_type": "execute_result"
    }
   ],
   "source": [
    "sweetness = [1,2,2,1,2,2,1,2,2]\n",
    "k = 2\n",
    "Solution().maximizeSweetness(sweetness, k)"
   ]
  },
  {
   "cell_type": "code",
   "execution_count": null,
   "id": "1a6b686f",
   "metadata": {},
   "outputs": [],
   "source": []
  },
  {
   "cell_type": "markdown",
   "id": "8842d6b9",
   "metadata": {},
   "source": [
    "### (Hard) Split Array Large Sum"
   ]
  },
  {
   "cell_type": "code",
   "execution_count": 15,
   "id": "47857b4b",
   "metadata": {},
   "outputs": [],
   "source": [
    "# Given an integer array nums and an integer k, split nums into k non-empty subarrays such that \n",
    "# the largest sum of any subarray is minimized.\n",
    "\n",
    "# Return the minimized largest sum of the split.\n",
    "\n",
    "# A subarray is a contiguous part of the array."
   ]
  },
  {
   "cell_type": "code",
   "execution_count": 16,
   "id": "0a4a852c",
   "metadata": {},
   "outputs": [],
   "source": [
    "# Example 1:\n",
    "\n",
    "# Input: nums = [7,2,5,10,8], k = 2\n",
    "# Output: 18\n",
    "# Explanation: There are four ways to split nums into two subarrays.\n",
    "# The best way is to split it into [7,2,5] and [10,8], where the largest sum among \n",
    "# the two subarrays is only 18.\n",
    "\n",
    "\n",
    "# Example 2:\n",
    "\n",
    "# Input: nums = [1,2,3,4,5], k = 2\n",
    "# Output: 9\n",
    "# Explanation: There are four ways to split nums into two subarrays.\n",
    "# The best way is to split it into [1,2,3] and [4,5], where the largest sum among \n",
    "# the two subarrays is only 9.\n",
    "\n"
   ]
  },
  {
   "cell_type": "code",
   "execution_count": null,
   "id": "338af971",
   "metadata": {},
   "outputs": [],
   "source": []
  },
  {
   "cell_type": "markdown",
   "id": "a5c4380e",
   "metadata": {},
   "source": [
    "### Practice"
   ]
  },
  {
   "cell_type": "code",
   "execution_count": null,
   "id": "2a90a0eb",
   "metadata": {},
   "outputs": [],
   "source": [
    "# You are given two positive integer arrays spells and potions, where spells[i] represents the \n",
    "# strength of the ith spell and potions[j] represents the strength of the jth potion. \n",
    "# You are also given an integer success.\n",
    "# A spell and potion pair is considered successful if \n",
    "# the product of their strengths is at least success. \n",
    "# For each spell, find how many potions it can pair with to be successful. \n",
    "# Return an integer array where the ith element is the answer for the ith spell."
   ]
  },
  {
   "cell_type": "code",
   "execution_count": null,
   "id": "78c04e80",
   "metadata": {},
   "outputs": [],
   "source": [
    "# Example 1:\n",
    "\n",
    "# Input: spells = [5,1,3], potions = [1,2,3,4,5], success = 7\n",
    "# Output: [4,0,3]\n",
    "# Explanation:\n",
    "# - 0th spell: 5 * [1,2,3,4,5] = [5,10,15,20,25]. 4 pairs are successful.\n",
    "# - 1st spell: 1 * [1,2,3,4,5] = [1,2,3,4,5]. 0 pairs are successful.\n",
    "# - 2nd spell: 3 * [1,2,3,4,5] = [3,6,9,12,15]. 3 pairs are successful.\n",
    "# Thus, [4,0,3] is returned."
   ]
  },
  {
   "cell_type": "code",
   "execution_count": null,
   "id": "0cf1bcef",
   "metadata": {},
   "outputs": [],
   "source": [
    "# You are given an integer array nums of length n, and an integer array queries of length m.\n",
    "# Return an array answer of length m where answer[i] is the maximum size of a subsequence \n",
    "# that you can take from nums such that the sum of its elements is less than or equal to queries[i].\n",
    "\n",
    "# A subsequence is an array that can be derived from another array by deleting some or no elements \n",
    "# without changing the order of the remaining elements."
   ]
  },
  {
   "cell_type": "code",
   "execution_count": null,
   "id": "8f433d67",
   "metadata": {},
   "outputs": [],
   "source": [
    "# Input: nums = [4,5,2,1], queries = [3,10,21]\n",
    "# Output: [2,3,4]\n",
    "# Explanation: We answer the queries as follows:\n",
    "# - The subsequence [2,1] has a sum less than or equal to 3. It can be proven that 2 is the maximum size of such a subsequence, so answer[0] = 2.\n",
    "# - The subsequence [4,5,1] has a sum less than or equal to 10. It can be proven that 3 is the maximum size of such a subsequence, so answer[1] = 3.\n",
    "# - The subsequence [4,5,2,1] has a sum less than or equal to 21. It can be proven that 4 is the maximum size of such a subsequence, so answer[2] = 4."
   ]
  },
  {
   "cell_type": "code",
   "execution_count": null,
   "id": "2c9c22d9",
   "metadata": {},
   "outputs": [],
   "source": [
    "# Koko loves to eat bananas. There are n piles of bananas, the ith pile has piles[i] bananas. \n",
    "# Koko can decide her bananas-per-hour eating speed of k. Each hour, she chooses a pile and eats k bananas \n",
    "# from that pile. If the pile has less than k bananas, she eats all of them and will not eat any more bananas \n",
    "# during the hour. Return the minimum integer k such that she can eat all the bananas within h hours."
   ]
  },
  {
   "cell_type": "code",
   "execution_count": null,
   "id": "77a5700e",
   "metadata": {},
   "outputs": [],
   "source": [
    "# piles = [3,6,7,11]\n",
    "# hours = 8\n",
    "\n",
    "#Can she do it with an eating speed of 3?\n",
    "# what if it is 4?\n",
    "# max cut off should be max pile size, anything above will have no incremental value\n",
    "# min cut off is 1\n",
    "# so possible range for k = list(range(1,12,1))"
   ]
  },
  {
   "cell_type": "code",
   "execution_count": null,
   "id": "ec15153b",
   "metadata": {},
   "outputs": [],
   "source": [
    "# Write an efficient algorithm that searches for a value target in an m x n integer matrix.\n",
    "# Integers in each row are sorted from left to right. \n",
    "# The first integer of each row is greater than the last integer of the previous row.\n",
    "# Given an integer target, return true if target is in matrix or false otherwise."
   ]
  },
  {
   "cell_type": "code",
   "execution_count": null,
   "id": "ae2e2822",
   "metadata": {},
   "outputs": [],
   "source": [
    "# You are given a float hour, representing the amount of time you have to reach the office. \n",
    "# To commute to the office, you must take n trains in sequential order. \n",
    "# You are also given an integer array dist, where dist[i] describes the distance of the ith train ride. \n",
    "# Each train can only depart at an integer hour, so you may need to wait in between each train ride.\n",
    "\n",
    "# For example, if the 1st train ride takes 1.5 hours, you must wait for an additional 0.5 hours before you can\n",
    "# depart on the 2nd train ride at the 2-hour mark. \n",
    "# Return the minimum positive integer speed that all the trains must travel at for you to reach the office on\n",
    "# time, or -1 if it is impossible to be on time. The answer will not exceed 10^7.\n",
    "\n",
    "\n",
    "\n",
    "# The minimum possible speed is 1, and the maximum is 10^7 as given in the problem description.\n",
    "# The fact that the problem is giving us this information is actually a hint towards using binary search,\n",
    "# but it brings up a good question - what do you do when you cannot ascertain a maximum possible answer \n",
    "# from what is given in the input? You can use an arbitrarily large number for right, like 10^10.\n",
    "# Logarithms are so fast that it will hardly make a difference.\n",
    "\n",
    "\n",
    "# Example 2:\n",
    "\n",
    "# Input: dist = [1,3,2], hour = 2.7\n",
    "# Output: 3\n",
    "# Explanation: At speed 3:\n",
    "# - The first train ride takes 1/3 = 0.33333 hours.\n",
    "# - Since we are not at an integer hour, we wait until the 1 hour mark to depart. The second train ride takes 3/3 = 1 hour.\n",
    "# - Since we are already at an integer hour, we depart immediately at the 2 hour mark. The third train takes 2/3 = 0.66667 hours.\n",
    "# - You will arrive at the 2.66667 hour mark."
   ]
  },
  {
   "cell_type": "code",
   "execution_count": 2,
   "id": "87522e6e",
   "metadata": {},
   "outputs": [],
   "source": [
    "# Example 1:\n",
    "# Input: nums = [1,2,5,9], threshold = 6\n",
    "# Output: 5\n",
    "# Explanation: We can get a sum to 17 (1+2+5+9) if the divisor is 1. \n",
    "# If the divisor is 4 we can get a sum of 7 (1+1+2+3) and if the divisor is 5 the sum will be 5 (1+1+1+2). "
   ]
  },
  {
   "cell_type": "code",
   "execution_count": 4,
   "id": "d61c88e7",
   "metadata": {},
   "outputs": [
    {
     "data": {
      "text/plain": [
       "5"
      ]
     },
     "execution_count": 4,
     "metadata": {},
     "output_type": "execute_result"
    }
   ],
   "source": [
    "from math import ceil\n",
    "\n",
    "def check(divisor, threshold, nums):\n",
    "    \n",
    "    sum_ = 0\n",
    "    for i in nums:\n",
    "        sum_ += ceil(i/divisor)\n",
    "    \n",
    "    \n",
    "    return sum_ <= threshold\n",
    "    \n",
    "nums = [1,2,5,9]\n",
    "threshold = 6\n",
    "\n",
    "left  = 1\n",
    "right = max(nums)\n",
    "\n",
    "#dont do this mistake of searching entire solution space , use binary search\n",
    "# for i in range(1,max(nums)):  #solution_space\n",
    "\n",
    "while left <= right:\n",
    "    mid = (left + right) // 2\n",
    "    \n",
    "\n",
    "    if check(mid,threshold, nums):\n",
    "        right = mid - 1        \n",
    "    else:\n",
    "        left = mid + 1\n",
    "\n",
    "left    "
   ]
  },
  {
   "cell_type": "code",
   "execution_count": null,
   "id": "08a64b86",
   "metadata": {},
   "outputs": [],
   "source": []
  }
 ],
 "metadata": {
  "kernelspec": {
   "display_name": "Python 3 (ipykernel)",
   "language": "python",
   "name": "python3"
  },
  "language_info": {
   "codemirror_mode": {
    "name": "ipython",
    "version": 3
   },
   "file_extension": ".py",
   "mimetype": "text/x-python",
   "name": "python",
   "nbconvert_exporter": "python",
   "pygments_lexer": "ipython3",
   "version": "3.9.12"
  },
  "toc": {
   "base_numbering": 1,
   "nav_menu": {},
   "number_sections": true,
   "sideBar": true,
   "skip_h1_title": false,
   "title_cell": "Table of Contents",
   "title_sidebar": "Contents",
   "toc_cell": false,
   "toc_position": {
    "height": "calc(100% - 180px)",
    "left": "10px",
    "top": "150px",
    "width": "256px"
   },
   "toc_section_display": true,
   "toc_window_display": true
  },
  "varInspector": {
   "cols": {
    "lenName": 16,
    "lenType": 16,
    "lenVar": 40
   },
   "kernels_config": {
    "python": {
     "delete_cmd_postfix": "",
     "delete_cmd_prefix": "del ",
     "library": "var_list.py",
     "varRefreshCmd": "print(var_dic_list())"
    },
    "r": {
     "delete_cmd_postfix": ") ",
     "delete_cmd_prefix": "rm(",
     "library": "var_list.r",
     "varRefreshCmd": "cat(var_dic_list()) "
    }
   },
   "types_to_exclude": [
    "module",
    "function",
    "builtin_function_or_method",
    "instance",
    "_Feature"
   ],
   "window_display": false
  }
 },
 "nbformat": 4,
 "nbformat_minor": 5
}
