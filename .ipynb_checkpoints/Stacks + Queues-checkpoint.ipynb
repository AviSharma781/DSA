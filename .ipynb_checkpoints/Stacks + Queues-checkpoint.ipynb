{
 "cells": [
  {
   "cell_type": "code",
   "execution_count": 1,
   "id": "fc55b294",
   "metadata": {},
   "outputs": [],
   "source": [
    "import pandas as pd\n",
    "import numpy as np"
   ]
  },
  {
   "cell_type": "markdown",
   "id": "c55501f1",
   "metadata": {},
   "source": [
    "#### 1"
   ]
  },
  {
   "cell_type": "markdown",
   "id": "b34a9789",
   "metadata": {},
   "source": [
    "#### 2"
   ]
  },
  {
   "cell_type": "markdown",
   "id": "0d2ec11d",
   "metadata": {},
   "source": [
    "#### 3"
   ]
  },
  {
   "cell_type": "markdown",
   "id": "3451f43d",
   "metadata": {},
   "source": [
    "#### 4"
   ]
  },
  {
   "cell_type": "markdown",
   "id": "c7420dd6",
   "metadata": {},
   "source": [
    "#### Intro Stack"
   ]
  },
  {
   "cell_type": "code",
   "execution_count": 2,
   "id": "8d5fb224",
   "metadata": {},
   "outputs": [
    {
     "data": {
      "text/plain": [
       "1"
      ]
     },
     "execution_count": 2,
     "metadata": {},
     "output_type": "execute_result"
    }
   ],
   "source": [
    "#Remeber LIFO\n",
    "# Declaration: we will just use a list\n",
    "stack = []\n",
    "\n",
    "# Pushing elements:\n",
    "stack.append(1)\n",
    "stack.append(2)\n",
    "stack.append(3)\n",
    "\n",
    "# Popping elements:\n",
    "stack.pop() # 3\n",
    "stack.pop() # 2\n",
    "\n",
    "# Check if empty\n",
    "not stack # False\n",
    "\n",
    "# Check element at top\n",
    "stack[-1] # 1\n",
    "\n",
    "# Get size\n",
    "len(stack) # 1"
   ]
  },
  {
   "cell_type": "markdown",
   "id": "f6a1e198",
   "metadata": {},
   "source": [
    "While a stack followed a LIFO pattern, a queue follows FIFO (first in first out). In a stack, elements are added and removed from the same side. In a queue, elements are added and removed from opposite sides. Like with a stack, there are multiple ways to implement a queue, but the important thing that defines it is the abstract interface of adding and removing from opposite sides.\n",
    "There is also a data structure called a deque, short for double-ended queue, and pronounced \"deck\". In a deque, you can add or delete elements from both ends. A normal queue designates adding to one end and deleting to another end."
   ]
  },
  {
   "cell_type": "markdown",
   "id": "07325651",
   "metadata": {},
   "source": [
    "#### Intro Queue"
   ]
  },
  {
   "cell_type": "code",
   "execution_count": 3,
   "id": "a7f1c9dd",
   "metadata": {},
   "outputs": [
    {
     "data": {
      "text/plain": [
       "3"
      ]
     },
     "execution_count": 3,
     "metadata": {},
     "output_type": "execute_result"
    }
   ],
   "source": [
    "# Declaration: we will use deque from the collections module\n",
    "import collections\n",
    "queue = collections.deque()\n",
    "\n",
    "# If you want to initialize it with some initial values:\n",
    "queue = collections.deque([1, 2, 3])\n",
    "\n",
    "# Enqueueing/adding elements:\n",
    "queue.append(4)\n",
    "queue.append(5)\n",
    "\n",
    "# Dequeuing/removing elements:\n",
    "queue.popleft() # 1\n",
    "queue.popleft() # 2\n",
    "\n",
    "# Check element at front of queue (next element to be removed)\n",
    "queue[0] # 3\n",
    "\n",
    "# Get size\n",
    "len(queue) # 3"
   ]
  },
  {
   "cell_type": "code",
   "execution_count": 5,
   "id": "5856d563",
   "metadata": {},
   "outputs": [
    {
     "name": "stdout",
     "output_type": "stream",
     "text": [
      "1\n",
      "2\n",
      "3\n",
      "Queue is empty!\n"
     ]
    }
   ],
   "source": [
    "from collections import deque\n",
    "\n",
    "queue = deque()\n",
    "\n",
    "queue.append(1)\n",
    "queue.append(2)\n",
    "queue.append(3)\n",
    "\n",
    "while queue:\n",
    "    print(queue.popleft())\n",
    "    \n",
    "if not queue:\n",
    "    print(\"Queue is empty!\")"
   ]
  },
  {
   "cell_type": "code",
   "execution_count": 14,
   "id": "8357d942",
   "metadata": {},
   "outputs": [
    {
     "data": {
      "text/plain": [
       "deque([1, 2, 3])"
      ]
     },
     "execution_count": 14,
     "metadata": {},
     "output_type": "execute_result"
    }
   ],
   "source": [
    "queue = deque()\n",
    "\n",
    "queue.append(1)\n",
    "queue.append(2)\n",
    "queue.append(3)\n",
    "queue"
   ]
  },
  {
   "cell_type": "code",
   "execution_count": 17,
   "id": "39fcdeae",
   "metadata": {},
   "outputs": [],
   "source": [
    "ans = 0\n",
    "for i in range(len(queue)):\n",
    "    ans += queue[i]"
   ]
  },
  {
   "cell_type": "code",
   "execution_count": 18,
   "id": "37e1caae",
   "metadata": {},
   "outputs": [
    {
     "data": {
      "text/plain": [
       "6"
      ]
     },
     "execution_count": 18,
     "metadata": {},
     "output_type": "execute_result"
    }
   ],
   "source": [
    "ans"
   ]
  },
  {
   "cell_type": "code",
   "execution_count": 12,
   "id": "734f0e05",
   "metadata": {},
   "outputs": [
    {
     "data": {
      "text/plain": [
       "deque([2, 3])"
      ]
     },
     "execution_count": 12,
     "metadata": {},
     "output_type": "execute_result"
    }
   ],
   "source": [
    "queue.popleft()\n",
    "queue"
   ]
  },
  {
   "cell_type": "code",
   "execution_count": 13,
   "id": "87ab1561",
   "metadata": {},
   "outputs": [
    {
     "data": {
      "text/plain": [
       "deque([2])"
      ]
     },
     "execution_count": 13,
     "metadata": {},
     "output_type": "execute_result"
    }
   ],
   "source": [
    "queue.pop()\n",
    "queue"
   ]
  },
  {
   "cell_type": "markdown",
   "id": "b7384909",
   "metadata": {},
   "source": [
    "#### Valid Parentheses"
   ]
  },
  {
   "cell_type": "code",
   "execution_count": null,
   "id": "6cb706dc",
   "metadata": {},
   "outputs": [],
   "source": [
    "# Given a string s containing just the characters '(', ')', '{', '}', '[' and ']', \n",
    "# determine if the input string is valid. \n",
    "# The string is valid if all open brackets are closed by the same type of closing bracket \n",
    "# in the correct order, and each closing bracket closes exactly one open bracket.\n",
    "\n",
    "# For example, s = \"({})\" and s = \"(){}[]\" are valid, but s = \"(]\" and s = \"({)}\" are not valid.\n"
   ]
  },
  {
   "cell_type": "markdown",
   "id": "852cdbb4",
   "metadata": {},
   "source": [
    "The order is last in, first out (LIFO) - the last opening bracket we saw is the first one we should close, which is perfect functionality for a stack to provide.\n",
    "\n",
    "As we iterate over the string, if we see an opening bracket, we should put it on the stack. If we see a closing bracket, we can check the most recent unclosed opening bracket by popping it from the top of the stack. If it matches, then continue, if it doesn't, or there is no opening bracket on the stack at all (this would occur in a case like \"{}]\"), then we know the string is invalid. In the end, there should be no unmatched open brackets (like in the case of \"(){\"), so the stack should be empty for the string to be valid.\n",
    "\n",
    "How can we associate the opening and closing brackets together? We can use a hash map to map each opening bracket to its closing bracket. Then, when we see a closing bracket, we can use the top of the stack as a key and check if the value is equal to the current character."
   ]
  },
  {
   "cell_type": "code",
   "execution_count": null,
   "id": "9553dc11",
   "metadata": {},
   "outputs": [],
   "source": [
    "def isValid(self, s: str) -> bool:\n",
    "        stack = []\n",
    "        #given an opening bracket what is corresponding closing bracket\n",
    "        matching = {\"(\": \")\", \"[\": \"]\", \"{\": \"}\"}\n",
    "        \n",
    "        for c in s:\n",
    "            if c in matching: # if c is an opening bracket\n",
    "                stack.append(c)\n",
    "            else:\n",
    "                if not stack:\n",
    "                    return False\n",
    "                \n",
    "                previous_opening = stack.pop()\n",
    "                if matching[previous_opening] != c:\n",
    "                    return False\n",
    "        \n",
    "        #if stack is not empty then there is some open brackets which are not closed , hence remain in stack\n",
    "        return not stack"
   ]
  },
  {
   "cell_type": "code",
   "execution_count": null,
   "id": "42ad10d7",
   "metadata": {},
   "outputs": [],
   "source": []
  },
  {
   "cell_type": "markdown",
   "id": "ee0df07e",
   "metadata": {},
   "source": [
    "#### Remove All Adjacent Duplicates In String"
   ]
  },
  {
   "cell_type": "code",
   "execution_count": 2,
   "id": "fc1a56a7",
   "metadata": {},
   "outputs": [],
   "source": [
    "# Example 2: 1047. Remove All Adjacent Duplicates In String\n",
    "\n",
    "# You are given a string s. Continuously remove duplicates (two of the same character beside each other)\n",
    "# until you can't anymore. Return the final string after this.\n",
    "\n",
    "# For example, given s = \"abbaca\", you can first remove the \"bb\" to get \"aaca\". \n",
    "# Next, you can remove the \"aa\" to get \"ca\". This is the final answer.\n"
   ]
  },
  {
   "cell_type": "code",
   "execution_count": 11,
   "id": "5aab516e",
   "metadata": {},
   "outputs": [
    {
     "data": {
      "text/plain": [
       "'ca'"
      ]
     },
     "execution_count": 11,
     "metadata": {},
     "output_type": "execute_result"
    }
   ],
   "source": [
    "#Identify LIFO hint here or pop-append theme:\n",
    "def removeDuplicates(s: str) -> str:\n",
    "        stack = []\n",
    "        \n",
    "        for c in s:\n",
    "            if not stack:\n",
    "                stack.append(c)\n",
    "            \n",
    "            else: \n",
    "                if c == stack[-1]:\n",
    "                    stack.pop()\n",
    "                else:\n",
    "                    stack.append(c)\n",
    "\n",
    "        return ''.join(stack)\n",
    "\n",
    "s = \"abbaca\"\n",
    "removeDuplicates(s)"
   ]
  },
  {
   "cell_type": "markdown",
   "id": "e268ecd2",
   "metadata": {},
   "source": [
    "#### Backspace String Compare"
   ]
  },
  {
   "cell_type": "code",
   "execution_count": 12,
   "id": "a76b912f",
   "metadata": {},
   "outputs": [],
   "source": [
    "# Example 3: 844. Backspace String Compare\n",
    "\n",
    "# Given two strings s and t, return true if they are equal when both are typed into empty text editors.\n",
    "# '#' means a backspace character.\n",
    "\n",
    "# For example, given s = \"ab#c\" and t = \"ad#c\", return true. \n",
    "# Because of the backspace, the strings are both equal to \"ac\".\n"
   ]
  },
  {
   "cell_type": "code",
   "execution_count": 40,
   "id": "c6456de1",
   "metadata": {},
   "outputs": [
    {
     "data": {
      "text/plain": [
       "False"
      ]
     },
     "execution_count": 40,
     "metadata": {},
     "output_type": "execute_result"
    }
   ],
   "source": [
    "#Identify LIFO hint here or pop-append theme:\n",
    "\n",
    "s , t = \"ab#c\" , \"ad#d\"\n",
    "\n",
    "stack_s, stack_t = [], []\n",
    "\n",
    "for c1, c2 in zip(s, t):\n",
    "    \n",
    "    \n",
    "        \n",
    "#     stack_s.append(c1)\n",
    "#     stack_t.append(c2)\n",
    "    \n",
    "    if (c1=='#'and c2!='#'):        \n",
    "        stack_s.pop()\n",
    "        stack_t.append(c2)\n",
    "        \n",
    "    \n",
    "    if (c1!='#'and c2=='#'):       \n",
    "        stack_t.pop()\n",
    "        stack_s.append(c1)\n",
    "    \n",
    "    if (c1=='#'and c2=='#'):\n",
    "        stack_s.pop()\n",
    "        stack_t.pop()\n",
    "    \n",
    "    else:\n",
    "        stack_s.append(c1)\n",
    "        stack_t.append(c2)\n",
    "    \n",
    "        \n",
    "''.join(stack_s) == ''.join(stack_t) \n"
   ]
  },
  {
   "cell_type": "code",
   "execution_count": 41,
   "id": "b118c174",
   "metadata": {},
   "outputs": [
    {
     "data": {
      "text/plain": [
       "('ac', 'ad')"
      ]
     },
     "execution_count": 41,
     "metadata": {},
     "output_type": "execute_result"
    }
   ],
   "source": [
    "''.join(stack_s), ''.join(stack_t) "
   ]
  },
  {
   "cell_type": "code",
   "execution_count": 25,
   "id": "deb7830f",
   "metadata": {},
   "outputs": [
    {
     "data": {
      "text/plain": [
       "[]"
      ]
     },
     "execution_count": 25,
     "metadata": {},
     "output_type": "execute_result"
    }
   ],
   "source": [
    "stack_s"
   ]
  },
  {
   "cell_type": "code",
   "execution_count": null,
   "id": "085ef90d",
   "metadata": {},
   "outputs": [],
   "source": [
    "def backspaceCompare(self, s: str, t: str) -> bool:\n",
    "        def build(s):\n",
    "            stack = []\n",
    "            for c in s:\n",
    "                if c != \"#\":\n",
    "                    stack.append(c)\n",
    "                elif stack:\n",
    "                    stack.pop()\n",
    "\n",
    "            return \"\".join(stack)\n",
    "\n",
    "        return build(s) == build(t)"
   ]
  },
  {
   "cell_type": "markdown",
   "id": "72cebd3a",
   "metadata": {},
   "source": [
    "#### Make The String Great"
   ]
  },
  {
   "cell_type": "code",
   "execution_count": 42,
   "id": "f48c649b",
   "metadata": {},
   "outputs": [],
   "source": [
    "# Given a string s of lower and upper case English letters.\n",
    "\n",
    "# A good string is a string which doesn't have two adjacent characters s[i] and s[i + 1] where:\n",
    "\n",
    "#     0 <= i <= s.length - 2\n",
    "#     s[i] is a lower-case letter and s[i + 1] is the same letter but in upper-case or vice-versa.\n",
    "\n",
    "# To make the string good, you can choose two adjacent characters that make the string bad \n",
    "# and remove them. You can keep doing this until the string becomes good.\n",
    "\n",
    "# Return the string after making it good. The answer is guaranteed to be unique under the given constraints.\n",
    "\n",
    "# Notice that an empty string is also good."
   ]
  },
  {
   "cell_type": "code",
   "execution_count": 44,
   "id": "cbfef5d9",
   "metadata": {},
   "outputs": [
    {
     "data": {
      "text/plain": [
       "'a'"
      ]
     },
     "execution_count": 44,
     "metadata": {},
     "output_type": "execute_result"
    }
   ],
   "source": [
    "'a'.lower()"
   ]
  },
  {
   "cell_type": "code",
   "execution_count": null,
   "id": "c6eacf7d",
   "metadata": {},
   "outputs": [],
   "source": [
    "# Input: s = \"leEeetcode\"\n",
    "# Output: \"leetcode\"\n",
    "# Explanation: In the first step, either you choose i = 1 or i = 2, \n",
    "# both will result \"leEeetcode\" to be reduced to \"leetcode\"."
   ]
  },
  {
   "cell_type": "code",
   "execution_count": 10,
   "id": "74527895",
   "metadata": {},
   "outputs": [
    {
     "data": {
      "text/plain": [
       "''"
      ]
     },
     "execution_count": 10,
     "metadata": {},
     "output_type": "execute_result"
    }
   ],
   "source": [
    "#see the pattern of append and pop/ LIFO\n",
    "s = \"leEeetcode\"\n",
    "s = \"abBAcC\"\n",
    "def makeGood(s) -> str:\n",
    "        stack = []\n",
    "\n",
    "        for c in s:\n",
    "\n",
    "            if not stack:\n",
    "                stack.append(c)\n",
    "\n",
    "\n",
    "            elif ((stack[-1].lower() == c)|(stack[-1].upper() == c))&(stack[-1] != c):\n",
    "                stack.pop()        \n",
    "\n",
    "            else:\n",
    "                stack.append(c)    \n",
    "\n",
    "        return ''.join(stack)\n",
    "\n",
    "makeGood(s)"
   ]
  },
  {
   "cell_type": "code",
   "execution_count": null,
   "id": "a2ec480a",
   "metadata": {},
   "outputs": [],
   "source": []
  },
  {
   "cell_type": "markdown",
   "id": "675b9399",
   "metadata": {},
   "source": [
    "#### Simplify Path"
   ]
  },
  {
   "cell_type": "code",
   "execution_count": 79,
   "id": "86be62b4",
   "metadata": {},
   "outputs": [],
   "source": [
    "# Given an absolute path for a Unix-style file system, which begins with a slash '/', \n",
    "# transform this path into its simplified canonical path.\n",
    "\n",
    "# In Unix-style file system context, a single period '.' \n",
    "# signifies the current directory, a double period \"..\" \n",
    "# denotes moving up one directory level, and multiple slashes such as \"//\" are interpreted \n",
    "# as a single slash. \n",
    "# In this problem, treat sequences of periods not covered by the previous rules \n",
    "# (like \"...\") as valid names for files or directories.\n",
    "\n",
    "# The simplified canonical path should adhere to the following rules:\n",
    "\n",
    "#     It must start with a single slash '/'.\n",
    "#     Directories within the path should be separated by only one slash '/'.\n",
    "#     It should not end with a slash '/', unless it's the root directory.\n",
    "#     It should exclude any single or double periods used to denote current or parent directories.\n",
    "\n",
    "# Return the new path."
   ]
  },
  {
   "cell_type": "code",
   "execution_count": null,
   "id": "f25d7bd1",
   "metadata": {},
   "outputs": [],
   "source": [
    "# Example 1:\n",
    "# Input: path = \"/home/\"\n",
    "# Output: \"/home\"\n",
    "\n",
    "# Explanation:The trailing slash should be removed.\n",
    "\n",
    "\n",
    "# Example 2:\n",
    "# Input: path = \"/home//foo/\"\n",
    "# Output: \"/home/foo\"\n",
    "\n",
    "# Explanation:Multiple consecutive slashes are replaced by a single one.\n",
    "\n",
    "\n",
    "# Example 3:\n",
    "# Input: path = \"/home/user/Documents/../Pictures\"\n",
    "# Output: \"/home/user/Pictures\"\n",
    "\n",
    "# Explanation: A double period \"..\" refers to the directory up a level.\n",
    "\n",
    "\n",
    "# Example 4:\n",
    "# Input: path = \"/../\"\n",
    "# Output: \"/\"\n",
    "\n",
    "# Explanation:Going one level up from the root directory is not possible.\n",
    "\n",
    "\n",
    "# Example 5:\n",
    "# Input: path = \"/.../a/../b/c/../d/./\"\n",
    "# Output: \"/.../b/d\"\n",
    "\n",
    "# Explanation: \"...\" is a valid name for a directory in this problem.\n",
    "\n"
   ]
  },
  {
   "cell_type": "code",
   "execution_count": null,
   "id": "d0530894",
   "metadata": {},
   "outputs": [],
   "source": [
    "#identify pop and append theme here: pop is based on .. or // or stack[-1] being /"
   ]
  },
  {
   "cell_type": "code",
   "execution_count": null,
   "id": "9f55de98",
   "metadata": {},
   "outputs": [],
   "source": [
    "def simplifyPath(self, path: str) -> str:\n",
    "\n",
    "        # Initialize a stack\n",
    "        stack = []\n",
    "\n",
    "        # Split the input string on \"/\" as the delimiter\n",
    "        # and process each portion one by one\n",
    "        for portion in path.split(\"/\"):\n",
    "\n",
    "            # If the current component is a \"..\", then\n",
    "            # we pop an entry from the stack if it's non-empty\n",
    "            if portion == \"..\":\n",
    "                if stack:\n",
    "                    stack.pop()\n",
    "            elif portion == \".\" or not portion:\n",
    "                # A no-op for a \".\" or an empty string\n",
    "                continue\n",
    "            else:\n",
    "                # Finally, a legitimate directory name, so we add it\n",
    "                # to our stack\n",
    "                stack.append(portion)\n",
    "\n",
    "        # Stich together all the directory names together\n",
    "        final_str = \"/\" + \"/\".join(stack)\n",
    "        return final_str"
   ]
  },
  {
   "cell_type": "markdown",
   "id": "1373e79a",
   "metadata": {},
   "source": [
    "#### Queue Examples"
   ]
  },
  {
   "cell_type": "markdown",
   "id": "4f1bdec4",
   "metadata": {},
   "source": [
    "##### Recent Calls"
   ]
  },
  {
   "cell_type": "code",
   "execution_count": 18,
   "id": "e32b3ce5",
   "metadata": {},
   "outputs": [],
   "source": [
    "# 933. Number of Recent Calls\n",
    "#Implement the RecentCounter class. It should support ping(int t), which records a call at time t, and then\n",
    "#returns an integer representing the number of calls that have happened in the range [t - 3000, t]. \n",
    "#Calls to ping will have increasing t.\n"
   ]
  },
  {
   "cell_type": "code",
   "execution_count": 20,
   "id": "7622f6b1",
   "metadata": {},
   "outputs": [],
   "source": [
    "# Example 1:\n",
    "\n",
    "# Input\n",
    "# [\"RecentCounter\", \"ping\", \"ping\", \"ping\", \"ping\"]\n",
    "# [[], [1], [100], [3001], [3002]]\n",
    "# Output\n",
    "# [null, 1, 2, 3, 3]\n",
    "\n",
    "# Explanation\n",
    "# RecentCounter recentCounter = new RecentCounter();\n",
    "# recentCounter.ping(1);     // requests = [1], range is [-2999,1], return 1\n",
    "# recentCounter.ping(100);   // requests = [1, 100], range is [-2900,100], return 2\n",
    "# recentCounter.ping(3001);  // requests = [1, 100, 3001], range is [1,3001], return 3\n",
    "# recentCounter.ping(3002);  // requests = [1, 100, 3001, 3002], range is [2,3002], return 3\n"
   ]
  },
  {
   "cell_type": "code",
   "execution_count": 17,
   "id": "14772627",
   "metadata": {},
   "outputs": [],
   "source": [
    "from collections import deque\n",
    "\n",
    "class RecentCounter:\n",
    "    def __init__(self):\n",
    "        self.queue = deque()\n",
    "\n",
    "    def ping(self, t: int) -> int:\n",
    "        while self.queue and self.queue[0] < t - 3000:\n",
    "            self.queue.popleft()\n",
    "        \n",
    "        self.queue.append(t)\n",
    "        return len(self.queue)"
   ]
  },
  {
   "cell_type": "markdown",
   "id": "f821f93f",
   "metadata": {},
   "source": [
    "##### Moving Average from Data Stream"
   ]
  },
  {
   "cell_type": "code",
   "execution_count": null,
   "id": "e9c4592f",
   "metadata": {},
   "outputs": [],
   "source": [
    "#Given a stream of integers and a window size, calculate the moving average of all integers in the sliding\n",
    "#window.\n",
    "\n",
    "#Implement the MovingAverage class:\n",
    "\n",
    "#MovingAverage(int size) Initializes the object with the size of the window size.\n",
    "#double next(int val) Returns the moving average of the last size values of the stream.\n"
   ]
  },
  {
   "cell_type": "code",
   "execution_count": null,
   "id": "0c527ab4",
   "metadata": {},
   "outputs": [],
   "source": [
    "# Example\n",
    "# Input\n",
    "# [\"MovingAverage\", \"next\", \"next\", \"next\", \"next\"]\n",
    "# [[3], [1], [10], [3], [5]]\n",
    "# Output\n",
    "# [null, 1.0, 5.5, 4.66667, 6.0]\n",
    "\n",
    "# Explanation\n",
    "# MovingAverage movingAverage = new MovingAverage(3);\n",
    "# movingAverage.next(1); // return 1.0 = 1 / 1\n",
    "# movingAverage.next(10); // return 5.5 = (1 + 10) / 2\n",
    "# movingAverage.next(3); // return 4.66667 = (1 + 10 + 3) / 3\n",
    "# movingAverage.next(5); // return 6.0 = (10 + 3 + 5) / 3"
   ]
  },
  {
   "cell_type": "code",
   "execution_count": null,
   "id": "4af67890",
   "metadata": {},
   "outputs": [],
   "source": [
    "from collections import deque\n",
    "class MovingAverage:\n",
    "\n",
    "    def __init__(self, size: int):\n",
    "        self.queue = deque([])\n",
    "        self.size = size\n",
    "\n",
    "    def next(self, val: int) -> float:\n",
    "        \n",
    "        self.queue.append(val)\n",
    "\n",
    "        while len(self.queue) > self.size:\n",
    "            self.queue.popleft()\n",
    "        \n",
    "        return sum(self.queue)/min(self.size, len(self.queue))"
   ]
  },
  {
   "cell_type": "markdown",
   "id": "98993f6e",
   "metadata": {},
   "source": [
    "#### Monotonic"
   ]
  },
  {
   "cell_type": "markdown",
   "id": "bdff8165",
   "metadata": {},
   "source": [
    "A monotonic stack or queue is one whose elements are always sorted. It can be sorted either ascending or descending, depending on the algorithm. Monotonic stacks and queues maintain their sorted property by removing elements that would violate the property before adding new elements. For example, let's say you had a monotonically increasing stack, currently stack = [1, 5, 8, 15, 23]. You want to push 14 onto the stack. To maintain the sorted property, we need to first pop the 15 and 23 before pushing the 14 - after the push operation, we have stack = [1, 5, 8, 14].\n",
    "\n",
    "Here's some pseudocode for maintaining a monotonic increasing stack over an input array:"
   ]
  },
  {
   "cell_type": "code",
   "execution_count": 3,
   "id": "6cce7304",
   "metadata": {},
   "outputs": [],
   "source": [
    "# Given an integer array nums\n",
    "\n",
    "# stack = []\n",
    "# for num in nums:\n",
    "#     while stack.length > 0 AND stack.top >= num:\n",
    "#         stack.pop()\n",
    "#     // Between the above and below lines, do some logic depending on the problem\n",
    "#     stack.push(num)"
   ]
  },
  {
   "cell_type": "markdown",
   "id": "3b7c2b4d",
   "metadata": {},
   "source": [
    "As you can see, before we push a num onto the stack, we first check if the monotonic property would be violated, and pop elements until it won't be."
   ]
  },
  {
   "cell_type": "markdown",
   "id": "fa9053f1",
   "metadata": {},
   "source": [
    "As we discussed earlier in the sliding window chapter, despite the nested loop, the time complexity is still O(n)O(n), where nn is the length of the array, because the inner while loop can only iterate over each element once across all for loop iterations, making the for loop iterations amortized O(1)O(1)."
   ]
  },
  {
   "cell_type": "code",
   "execution_count": null,
   "id": "b5f0a3b2",
   "metadata": {},
   "outputs": [],
   "source": [
    "# Monotonic stacks and queues are useful in problems that, for each element, involves finding the \"next\" \n",
    "# element based on some criteria, for example, the next greater element. \n",
    "# They're also good when you have a dynamic window of elements and you want to maintain knowledge \n",
    "# of the maximum or minimum element as the window changes. In more advanced problems, sometimes a \n",
    "# monotonic stack or queue is only one part of the algorithm. Let's look at some examples."
   ]
  },
  {
   "cell_type": "markdown",
   "id": "a1bc1ce7",
   "metadata": {},
   "source": [
    "##### Daily Temperatures"
   ]
  },
  {
   "cell_type": "markdown",
   "id": "c49030ca",
   "metadata": {},
   "source": [
    "\n",
    "<!-- \n",
    "Example 1: 739. Daily Temperatures\n",
    "\n",
    "    Given an array of integers temperatures that represents the daily temperatures, return an array answer such that answer[i] is the number of days you have to wait after the ithith day to get a warmer temperature. If there is no future day that is warmer, have answer[i] = 0 instead. -->\n"
   ]
  },
  {
   "cell_type": "code",
   "execution_count": null,
   "id": "4c1324d6",
   "metadata": {},
   "outputs": [],
   "source": [
    "#Example 1: 739. Daily Temperatures\n",
    "\n",
    "#Given an array of integers temperatures that represents the daily temperatures, \n",
    "#return an array answer such that answer[i] is the number of days you have to wait after the ith day to get\n",
    "#a warmer temperature. If there is no future day that is warmer, have answer[i] = 0 instead.\n"
   ]
  },
  {
   "cell_type": "code",
   "execution_count": 2,
   "id": "9b0491c3",
   "metadata": {},
   "outputs": [],
   "source": [
    "from typing import List\n",
    "class Solution:\n",
    "    def dailyTemperatures(self, temperatures: List[int]) -> List[int]:\n",
    "        stack = [] #this will be  storing indices in the form of a monotonic stack\n",
    "        \n",
    "        ans = [0]*len(temperatures)\n",
    "        \n",
    "        for i in range(len(temperatures)):\n",
    "            \n",
    "            while stack and  temperatures[stack[-1]] < temperatures[i]:\n",
    "                \n",
    "                j = stack.pop()\n",
    "                ans[j] = i - j\n",
    "            \n",
    "            stack.append(i)\n",
    "        \n",
    "        return ans "
   ]
  },
  {
   "cell_type": "code",
   "execution_count": null,
   "id": "889cee2f",
   "metadata": {},
   "outputs": [],
   "source": []
  },
  {
   "cell_type": "markdown",
   "id": "8c7dd739",
   "metadata": {},
   "source": [
    "##### Sliding Window Maximum"
   ]
  },
  {
   "cell_type": "code",
   "execution_count": 13,
   "id": "a121c829",
   "metadata": {},
   "outputs": [],
   "source": [
    "#Example 2: 239. Sliding Window Maximum\n",
    "\n",
    "#Given an integer array nums and an integer k, there is a sliding window of size k that moves \n",
    "#from the very left to the very right. For each window, find the maximum element in the window.\n",
    "\n",
    "#For example, given nums = [1, 3, -1, -3, 5, 3, 6, 7], k = 3, return [3, 3, 5, 5, 6, 7]. \n",
    "#The first window is [1, 3, -1, -3, 5, 3, 6, 7] and the last window is [1, 3, -1, -3, 5, 3, 6, 7]\n",
    "\n",
    "\n"
   ]
  },
  {
   "cell_type": "markdown",
   "id": "00e85069",
   "metadata": {},
   "source": [
    "It's easy to know what the maximum number is for a given window. You can just record it when you build it. The difficult part of this problem is, when the maximum number leaves the window, how do you know what is the second largest? When that number leaves, what's next?\n",
    "\n",
    "We are concerned about the largest elements. We want to store the elements in a way that when the maximum element is removed, we know the second maximum, and when that element is removed, we know the third maximum, and so forth. This should also be updated on new elements being added. Let's say that the window was [5, 3, 7, 1]. Then the order of maximum elements would be [7, 5, 3, 1]. What happens if we add a 6? We no longer care about the 5, 3, or 1. Because the 6 came after them, it won't be removed before them, and since it is larger, there is no chance that the 5, 3, or 1 will ever be a maximum.\n",
    "\n",
    "When we see a number, we no longer care about any numbers in the window smaller than it, because they have no chance of ever being the maximum. Thus, a monotonically decreasing data structure is what we should aim for (we remove elements smaller than new ones = the newest element is the smallest element). Should we use a stack or a queue? The problem describes a sliding window, which we know adds elements on the right and removes them from the left - this suggests a queue since operations are happening at opposite ends. However, the logic of removing elements smaller than the current number needs to happen from the right when we're talking about monotonic logic. Therefore, we will be adding and removing from the right, and removing from the left as the window tightens - this means we should use a double-ended queue (deque) for efficient O(1)O(1) operations."
   ]
  },
  {
   "cell_type": "code",
   "execution_count": 16,
   "id": "4b79206e",
   "metadata": {},
   "outputs": [],
   "source": [
    "#Because we need to keep the window of size k, we should store indices instead of the actual numbers in our\n",
    "#deque.This way, we know when the maximum element is beyond our window."
   ]
  },
  {
   "cell_type": "code",
   "execution_count": 15,
   "id": "a08acb91",
   "metadata": {},
   "outputs": [],
   "source": [
    "#See Video\n",
    "from collections import deque\n",
    "\n",
    "class Solution:\n",
    "    def maxSlidingWindow(self, nums: List[int], k: int) -> List[int]:\n",
    "        ans = []\n",
    "        queue = deque()\n",
    "        for i in range(len(nums)):\n",
    "            # maintain monotonic decreasing.\n",
    "            # all elements in the deque smaller than the current one\n",
    "            # have no chance of being the maximum, so get rid of them\n",
    "            while queue and nums[i] > nums[queue[-1]]:\n",
    "                queue.pop()\n",
    "\n",
    "            queue.append(i)\n",
    "\n",
    "            # queue[0] is the index of the maximum element.\n",
    "            # if queue[0] + k == i, then it is outside the window\n",
    "            if queue[0] + k == i:\n",
    "                queue.popleft()\n",
    "            \n",
    "            # only add to the answer once our window has reached size k\n",
    "            if i >= k - 1:\n",
    "                ans.append(nums[queue[0]])\n",
    "                \n",
    "        return ans"
   ]
  },
  {
   "cell_type": "markdown",
   "id": "f30b0f3e",
   "metadata": {},
   "source": [
    "##### Longest Continuous Subarray With Absolute Diff Less Than or Equal to Limit"
   ]
  },
  {
   "cell_type": "code",
   "execution_count": null,
   "id": "ebac80ad",
   "metadata": {},
   "outputs": [],
   "source": [
    "#Example 3: 1438. Longest Continuous Subarray With Absolute Diff Less Than or Equal to Limit\n",
    "\n",
    "#Given an array of integers nums and an integer limit, return the size of the longest subarray such that the\n",
    "#absolute difference between any two elements of this subarray is less than or equal to limit.\n"
   ]
  },
  {
   "cell_type": "code",
   "execution_count": null,
   "id": "9dd96d66",
   "metadata": {},
   "outputs": [],
   "source": []
  },
  {
   "cell_type": "code",
   "execution_count": null,
   "id": "1abc1685",
   "metadata": {},
   "outputs": [],
   "source": []
  },
  {
   "cell_type": "code",
   "execution_count": null,
   "id": "48aef6ab",
   "metadata": {},
   "outputs": [],
   "source": []
  },
  {
   "cell_type": "markdown",
   "id": "11b89415",
   "metadata": {},
   "source": [
    "##### Next Greater Element"
   ]
  },
  {
   "cell_type": "code",
   "execution_count": 21,
   "id": "afa4564c",
   "metadata": {},
   "outputs": [],
   "source": [
    "#The next greater element of some element x in an array is the first greater element that is to the right of\n",
    "#x in the same array.\n",
    "\n",
    "#You are given two distinct 0-indexed integer arrays nums1 and nums2, where nums1 is a subset of nums2.\n",
    "\n",
    "#For each 0 <= i < nums1.length, find the index j such that nums1[i] == nums2[j] and \n",
    "#determine the next greater element of nums2[j] in nums2. If there is no next greater element, \n",
    "#then the answer for this query is -1.\n",
    "\n",
    "#Return an array ans of length nums1.length such that ans[i] is the next greater element as described above."
   ]
  },
  {
   "cell_type": "code",
   "execution_count": 22,
   "id": "9e1b01c7",
   "metadata": {},
   "outputs": [],
   "source": [
    "# Input: nums1 = [4,1,2], nums2 = [1,3,4,2]\n",
    "# Output: [-1,3,-1]\n",
    "# Explanation: The next greater element for each value of nums1 is as follows:\n",
    "# - 4 is underlined in nums2 = [1,3,4,2]. There is no next greater element, so the answer is -1.\n",
    "# - 1 is underlined in nums2 = [1,3,4,2]. The next greater element is 3.\n",
    "# - 2 is underlined in nums2 = [1,3,4,2]. There is no next greater element, so the answer is -1."
   ]
  },
  {
   "cell_type": "code",
   "execution_count": null,
   "id": "407f3288",
   "metadata": {},
   "outputs": [],
   "source": [
    "class Solution:\n",
    "    def nextGreaterElement(self, nums1: List[int], nums2: List[int]) -> List[int]:\n",
    "        ans= []\n",
    "        for i in range(len(nums1)):\n",
    "            index2 = nums2.index(nums1[i])\n",
    "            found = 0\n",
    "            for j in range(index2,len(nums2)):\n",
    "                if nums2[j]>nums1[i]: \n",
    "                    found = 1\n",
    "                    ans.append(nums2[j])\n",
    "                    break\n",
    "            if found==0:\n",
    "                ans.append(-1)\n",
    "        return ans"
   ]
  },
  {
   "cell_type": "code",
   "execution_count": null,
   "id": "43e09908",
   "metadata": {},
   "outputs": [],
   "source": []
  },
  {
   "cell_type": "code",
   "execution_count": null,
   "id": "0b6f39b5",
   "metadata": {},
   "outputs": [],
   "source": []
  },
  {
   "cell_type": "markdown",
   "id": "811e8814",
   "metadata": {},
   "source": [
    "##### Online Stock Span"
   ]
  },
  {
   "cell_type": "markdown",
   "id": "887101ed",
   "metadata": {},
   "source": [
    "Design an algorithm that collects daily price quotes for some stock and returns the span of that stock's price for the current day.\n",
    "\n",
    "The span of the stock's price in one day is the maximum number of consecutive days (starting from that day and going backward) for which the stock price was less than or equal to the price of that day.\n",
    "\n",
    "    For example, if the prices of the stock in the last four days is [7,2,1,2] and the price of the stock today is 2, then the span of today is 4 because starting from today, the price of the stock was less than or equal 2 for 4 consecutive days.\n",
    "    Also, if the prices of the stock in the last four days is [7,34,1,2] and the price of the stock today is 8, then the span of today is 3 because starting from today, the price of the stock was less than or equal 8 for 3 consecutive days.\n",
    "\n",
    "Implement the StockSpanner class:\n",
    "\n",
    "    StockSpanner() Initializes the object of the class.\n",
    "    int next(int price) Returns the span of the stock's price given that today's price is price.\n"
   ]
  },
  {
   "cell_type": "code",
   "execution_count": 1,
   "id": "96fe6329",
   "metadata": {},
   "outputs": [],
   "source": [
    "#Example 1\n",
    "# Input\n",
    "# [\"StockSpanner\", \"next\", \"next\", \"next\", \"next\", \"next\", \"next\", \"next\"]\n",
    "# [[], [100], [80], [60], [70], [60], [75], [85]]\n",
    "# Output\n",
    "# [null, 1, 1, 1, 2, 1, 4, 6]\n",
    "\n",
    "# Explanation\n",
    "# StockSpanner stockSpanner = new StockSpanner();\n",
    "# stockSpanner.next(100); // return 1\n",
    "# stockSpanner.next(80);  // return 1\n",
    "# stockSpanner.next(60);  // return 1\n",
    "# stockSpanner.next(70);  // return 2\n",
    "# stockSpanner.next(60);  // return 1\n",
    "# stockSpanner.next(75);  // return 4, because the last 4 prices (including today's price of 75) were less than or equal to today's price.\n",
    "# stockSpanner.next(85);  // return 6"
   ]
  },
  {
   "cell_type": "code",
   "execution_count": 2,
   "id": "f1d4ffc9",
   "metadata": {},
   "outputs": [],
   "source": [
    "class StockSpanner:\n",
    "    def __init__(self):\n",
    "        self.stack = []\n",
    "\n",
    "    def next(self, price: int) -> int:\n",
    "        ans = 1\n",
    "        while self.stack and self.stack[-1][0] <= price:\n",
    "            ans += self.stack.pop()[1]\n",
    "        \n",
    "        self.stack.append([price, ans])\n",
    "        return ans\n"
   ]
  },
  {
   "cell_type": "code",
   "execution_count": null,
   "id": "cb3f7f05",
   "metadata": {},
   "outputs": [],
   "source": []
  }
 ],
 "metadata": {
  "kernelspec": {
   "display_name": "Python 3 (ipykernel)",
   "language": "python",
   "name": "python3"
  },
  "language_info": {
   "codemirror_mode": {
    "name": "ipython",
    "version": 3
   },
   "file_extension": ".py",
   "mimetype": "text/x-python",
   "name": "python",
   "nbconvert_exporter": "python",
   "pygments_lexer": "ipython3",
   "version": "3.9.12"
  },
  "toc": {
   "base_numbering": 1,
   "nav_menu": {},
   "number_sections": true,
   "sideBar": true,
   "skip_h1_title": false,
   "title_cell": "Table of Contents",
   "title_sidebar": "Contents",
   "toc_cell": false,
   "toc_position": {},
   "toc_section_display": true,
   "toc_window_display": true
  },
  "varInspector": {
   "cols": {
    "lenName": 16,
    "lenType": 16,
    "lenVar": 40
   },
   "kernels_config": {
    "python": {
     "delete_cmd_postfix": "",
     "delete_cmd_prefix": "del ",
     "library": "var_list.py",
     "varRefreshCmd": "print(var_dic_list())"
    },
    "r": {
     "delete_cmd_postfix": ") ",
     "delete_cmd_prefix": "rm(",
     "library": "var_list.r",
     "varRefreshCmd": "cat(var_dic_list()) "
    }
   },
   "types_to_exclude": [
    "module",
    "function",
    "builtin_function_or_method",
    "instance",
    "_Feature"
   ],
   "window_display": false
  }
 },
 "nbformat": 4,
 "nbformat_minor": 5
}
